{
 "cells": [
  {
   "cell_type": "markdown",
   "metadata": {},
   "source": [
    "# <a id='toc1_'></a>[Python Programlama Dili ve VS Code Kurulumu](#toc0_)"
   ]
  },
  {
   "cell_type": "markdown",
   "metadata": {},
   "source": [
    "Python, kolay anlaşılabilir sözdizimi ve geniş kullanım alanlarıyla tercih edilen bir dilken, Visual Studio Code, hafif ve gelişmiş özellikleriyle etkili bir kod editörüdür. Adım adım talimatlarla, Python ile kodlamaya hemen başlayabilir ve VS Code'un gücünden yararlanabilirsiniz. İyi çalışmalar!"
   ]
  },
  {
   "cell_type": "markdown",
   "metadata": {},
   "source": [
    "**İçindekiler**<a id='toc0_'></a>    \n",
    "- [Python Programlama Dili ve VS Code Kurulumu](#toc1_)    \n",
    "  - [Python ve VS Code](#toc1_1_)    \n",
    "    - [Python Nedir?](#toc1_1_1_)    \n",
    "    - [Neden Python ?](#toc1_1_2_)    \n",
    "    - [VS Code Nedir?](#toc1_1_3_)    \n",
    "  - [Python Kurulumu Adımları](#toc1_2_)    \n",
    "  - [VS Code Kurulumu Adımları](#toc1_3_)    \n",
    "  - [Python ve VS Code Entegrasyonu](#toc1_4_)    \n",
    "    - [a. Python Eklentisi Kurulumu](#toc1_4_1_)    \n",
    "    - [b. Python Projesi Oluşturma](#toc1_4_2_)    \n",
    "  - [Örnek Python Kodu](#toc1_5_)    \n",
    "  - [Kaynakça](#toc1_6_)    \n",
    "\n",
    "<!-- vscode-jupyter-toc-config\n",
    "\tnumbering=false\n",
    "\tanchor=true\n",
    "\tflat=false\n",
    "\tminLevel=1\n",
    "\tmaxLevel=6\n",
    "\t/vscode-jupyter-toc-config -->\n",
    "<!-- THIS CELL WILL BE REPLACED ON TOC UPDATE. DO NOT WRITE YOUR TEXT IN THIS CELL -->"
   ]
  },
  {
   "cell_type": "markdown",
   "metadata": {},
   "source": [
    "## <a id='toc1_1_'></a>[Python ve VS Code](#toc0_)"
   ]
  },
  {
   "cell_type": "markdown",
   "metadata": {},
   "source": [
    "### <a id='toc1_1_1_'></a>[Python Nedir?](#toc0_)\n",
    "\n",
    "Python, Guido van Rossum tarafından geliştirilen yüksek seviyeli, genel amaçlı, yorumlanabilir bir programlama dilidir. Basit ve okunabilir sözdizimi, zengin kütüphane desteği ve geniş topluluk tarafından desteklenmesi sayesinde popüler bir dildir. Python, çeşitli alanlarda kullanılır: web geliştirme, veri analizi, yapay zeka, otomasyon, oyun geliştirme gibi birçok alanda başarılı bir şekilde kullanılabilir."
   ]
  },
  {
   "cell_type": "markdown",
   "metadata": {},
   "source": [
    "### <a id='toc1_1_2_'></a>[Neden Python ?](#toc0_)\n",
    "\n",
    "- Basit ve okunabilir sözdizimi\n",
    "- Yüksek seviyeli, kolay öğrenilebilir\n",
    "- Dinamik tipli bir dil\n",
    "- Nesne yönelimli programlama (OOP) desteği\n",
    "- Geniş kütüphane desteği (Python Standard Kütüphaneleri)"
   ]
  },
  {
   "cell_type": "markdown",
   "metadata": {},
   "source": [
    "### <a id='toc1_1_3_'></a>[VS Code Nedir?](#toc0_)\n",
    "\n",
    "Visual Studio Code (VS Code), Microsoft tarafından geliştirilen ücretsiz ve açık kaynaklı bir metin düzenleyici ve entegre geliştirme ortamıdır. Python gibi birçok programlama dili için destek sağlar ve kullanıcı dostu arayüzü, eklenti ekosistemi ve güçlü özellikleri ile tercih edilen bir IDE'dir."
   ]
  },
  {
   "cell_type": "markdown",
   "metadata": {},
   "source": [
    "## <a id='toc1_2_'></a>[Python Kurulumu Adımları](#toc0_)\n",
    "\n",
    "1. [Python indirme sayfasına](https://www.python.org/downloads/) gidin.\n",
    "2. En son Python 3 sürümünü indirin ve işletim sisteminize uygun olanı seçin.\n",
    "3. İndirilen dosyayı çalıştırın ve Python kurulum sihirbazını takip edin.\n",
    "4. Kurulum sırasında \"Add Python x.x to PATH\" seçeneğini işaretleyerek Python'u sisteminize ekleyin.\n",
    "5. Kurulumu tamamladıktan sonra, terminal veya komut satırından `python --version` komutunu çalıştırarak kurulan Python sürümünü doğrulayın."
   ]
  },
  {
   "cell_type": "markdown",
   "metadata": {},
   "source": [
    "## <a id='toc1_3_'></a>[VS Code Kurulumu Adımları](#toc0_)\n",
    "\n",
    "1. [VS Code indirme sayfasına](https://code.visualstudio.com/download) gidin.\n",
    "2. İndirilen dosyayı çalıştırın ve kurulum sihirbazını takip edin.\n",
    "3. Kurulum tamamlandıktan sonra VS Code uygulamasını açın."
   ]
  },
  {
   "cell_type": "markdown",
   "metadata": {},
   "source": [
    "\n",
    "## <a id='toc1_4_'></a>[Python ve VS Code Entegrasyonu](#toc0_)\n",
    "\n",
    "VS Code, Python dilini desteklemek için Microsoft tarafından geliştirilen \"Python\" adlı resmi bir eklentiye sahiptir. Bu eklentiyi yükleyerek Python dosyalarını kolayca düzenleyebilir, çalıştırabilir ve hata ayıklayabilirsiniz.\n",
    "\n",
    "### <a id='toc1_4_1_'></a>[a. Python Eklentisi Kurulumu](#toc0_)\n",
    "\n",
    "1. VS Code'u açın.\n",
    "2. Sol taraftaki eklenti menüsü simgesine (dört kareli kare) tıklayın.\n",
    "3. \"Python\" kelimesini aratın ve resmi Python eklentisini seçin.\n",
    "4. \"Install\" düğmesine tıklayarak eklentiyi yükleyin.\n",
    "5. Eklenti yüklendikten sonra \"Reload\" düğmesine tıklayarak VS Code'u yeniden başlatın.\n",
    "\n",
    "### <a id='toc1_4_2_'></a>[b. Python Projesi Oluşturma](#toc0_)\n",
    "\n",
    "1. Yeni bir klasör oluşturun ve VS Code'u açın.\n",
    "2. VS Code menüsünden \"File\" > \"Open Folder\" seçeneğini seçin ve oluşturduğunuz klasörü açın.\n",
    "3. Sağ alt köşedeki dil seçiciyi tıklayın ve \"Python\" seçeneğini seçin. Bu, Python dosyaları için dil desteğini etkinleştirir."
   ]
  },
  {
   "cell_type": "markdown",
   "metadata": {},
   "source": [
    "## <a id='toc1_5_'></a>[Örnek Python Kodu](#toc0_)"
   ]
  },
  {
   "cell_type": "code",
   "execution_count": 1,
   "metadata": {},
   "outputs": [
    {
     "name": "stdout",
     "output_type": "stream",
     "text": [
      "Merhaba, Furkan!\n"
     ]
    }
   ],
   "source": [
    "def merhaba(name):\n",
    "    print(\"Merhaba, \" + name + \"!\")\n",
    "\n",
    "if __name__ == \"__main__\":\n",
    "    name = input(\"Adınızı girin: \")\n",
    "    merhaba(name)"
   ]
  },
  {
   "cell_type": "markdown",
   "metadata": {},
   "source": [
    "## <a id='toc1_6_'></a>[Kaynakça](#toc0_)\n",
    "---\n",
    "\n",
    "https://www.python.org/downloads/\n",
    "\n",
    "https://code.visualstudio.com/Download"
   ]
  }
 ],
 "metadata": {
  "kernelspec": {
   "display_name": "base",
   "language": "python",
   "name": "python3"
  },
  "language_info": {
   "codemirror_mode": {
    "name": "ipython",
    "version": 3
   },
   "file_extension": ".py",
   "mimetype": "text/x-python",
   "name": "python",
   "nbconvert_exporter": "python",
   "pygments_lexer": "ipython3",
   "version": "3.10.6"
  },
  "orig_nbformat": 4
 },
 "nbformat": 4,
 "nbformat_minor": 2
}
