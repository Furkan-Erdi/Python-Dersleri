{
 "cells": [
  {
   "cell_type": "markdown",
   "metadata": {},
   "source": [
    "# <a id='toc1_'></a>[Koşullu İfadeler](#toc0_)"
   ]
  },
  {
   "cell_type": "markdown",
   "metadata": {},
   "source": [
    "Koşullu ifadeler, belirli koşulların sağlanıp sağlanmadığını kontrol ederek, programın farklı yollarla çalışmasını sağlar."
   ]
  },
  {
   "cell_type": "markdown",
   "metadata": {},
   "source": [
    "**İçindekiler**<a id='toc0_'></a>    \n",
    "- [Koşullu İfadeler](#toc1_)    \n",
    "  - [if - elif - else](#toc1_1_)    \n",
    "  - [match - case](#toc1_2_)    \n",
    "  - [try-except](#toc1_3_)    \n",
    "  - [finally](#toc1_4_)    \n",
    "  - [Kaynakça](#toc1_5_)    \n",
    "\n",
    "<!-- vscode-jupyter-toc-config\n",
    "\tnumbering=false\n",
    "\tanchor=true\n",
    "\tflat=false\n",
    "\tminLevel=1\n",
    "\tmaxLevel=6\n",
    "\t/vscode-jupyter-toc-config -->\n",
    "<!-- THIS CELL WILL BE REPLACED ON TOC UPDATE. DO NOT WRITE YOUR TEXT IN THIS CELL -->"
   ]
  },
  {
   "cell_type": "markdown",
   "metadata": {},
   "source": [
    "## <a id='toc1_1_'></a>[if - elif - else](#toc0_)\n",
    "\n",
    "`if` ifadesi, belirtilen koşulun doğru olması durumunda içindeki kod bloğunu çalıştırır.\n",
    "\n",
    "`elif` ifadesi, bir önceki ifadenin koşulu yanlış olduğunda, kendisine verilen yeni bir koşulu kontrol eder. Birden fazla koşulun kontrol edilmesini sağlar.\n",
    "\n",
    "`else` ifadesi, bir önceki `if` veya `elif` ifadelerinin koşullarının hiçbiri sağlanmadığında çalışır. Zorunlu olmasa da kullanılabilir ve sadece bir kez kullanılabilir."
   ]
  },
  {
   "cell_type": "code",
   "execution_count": 4,
   "metadata": {},
   "outputs": [
    {
     "name": "stdout",
     "output_type": "stream",
     "text": [
      "x 1'den büyük bir sayıdır.\n"
     ]
    }
   ],
   "source": [
    "x = 10\n",
    "\n",
    "if x < 0:\n",
    "    print(\"x 0'dan küçük bir sayıdır.\") # x < 0 doğru ise buradaki kod çalışır\n",
    "elif x == 0:\n",
    "    print(\"x 0'a eşittir.\") # x < 0 yanlış ve x == 0 doğru ise buradaki kod çalışır\n",
    "elif x == 1:\n",
    "    print(\"x 1'e eşittir.\") # x < 0 ve x == 0 yanlış, x == 1 doğru ise buradaki kod çalışır\n",
    "else:\n",
    "    print(\"x 1'den büyük bir sayıdır.\") # Tüm koşullar yanlış ise buradaki kod çalışır (isteğe bağlı)"
   ]
  },
  {
   "cell_type": "markdown",
   "metadata": {},
   "source": [
    "## <a id='toc1_2_'></a>[match - case](#toc0_)\n",
    "\n",
    "Python 3.10 sürümünden itibaren, `match` ve `case` ifadeleri eklenmiştir. `match` ifadesi, bir değerin farklı durumlara göre eşleştirilmesini sağlar."
   ]
  },
  {
   "cell_type": "code",
   "execution_count": 3,
   "metadata": {},
   "outputs": [
    {
     "name": "stdout",
     "output_type": "stream",
     "text": [
      "x hiçbir değere eşit değil\n"
     ]
    }
   ],
   "source": [
    "x = 10\n",
    "match x:\n",
    "    case 1:\n",
    "        print(\"x 1'e eşit\")\n",
    "    case 2:\n",
    "        print(\"x 2'ye eşit\")\n",
    "    case 3:\n",
    "        print(\"x 3'e eşit\")\n",
    "    case _:\n",
    "        print(\"x hiçbir değere eşit değil\")"
   ]
  },
  {
   "cell_type": "markdown",
   "metadata": {},
   "source": [
    "## <a id='toc1_3_'></a>[try-except](#toc0_)\n",
    "\n",
    "Python'da exceptions'lar try-except blokları kullanılarak işlenir. Bir try bloğu içinde potansiyel olarak hata verebilecek kodlar yerleştirilir ve except bloğu içinde bu hataların nasıl ele alınacağı belirtilir."
   ]
  },
  {
   "cell_type": "code",
   "execution_count": null,
   "metadata": {},
   "outputs": [
    {
     "name": "stdout",
     "output_type": "stream",
     "text": [
      "Sıfıra bölme hatası!\n"
     ]
    }
   ],
   "source": [
    "try:\n",
    "    sayi = int(input(\"Bir sayı girin: \"))\n",
    "    sonuc = 10 / sayi\n",
    "    print(\"Sonuç:\", sonuc)\n",
    "except ZeroDivisionError:\n",
    "    print(\"Sıfıra bölme hatası!\")\n",
    "except ValueError:\n",
    "    print(\"Geçersiz sayı girişi!\")"
   ]
  },
  {
   "cell_type": "markdown",
   "metadata": {},
   "source": [
    "## <a id='toc1_4_'></a>[finally](#toc0_)\n",
    "\n",
    "`finally` bloğu, `try-except` bloklarının sonunda yer alır ve her durumda çalıştırılacak olan kodları içerir. Bu blok, exception olsun veya olmasın, işlemler tamamlandığında çalıştırılacaktır. Genellikle, dosya işlemleri, veritabanı bağlantıları veya kaynakların temizlenmesi gibi kritik işlemleri burada yapmak uygun olabilir."
   ]
  },
  {
   "cell_type": "code",
   "execution_count": null,
   "metadata": {},
   "outputs": [
    {
     "name": "stdout",
     "output_type": "stream",
     "text": [
      "Dosya bulunamadı!\n",
      "İşlem gerçekleştirildi.\n"
     ]
    }
   ],
   "source": [
    "try:\n",
    "    dosya = open(\"dosya.txt\", \"r\")\n",
    "    icerik = dosya.read()\n",
    "    print(icerik)\n",
    "    dosya.close()\n",
    "except FileNotFoundError:\n",
    "    print(\"Dosya bulunamadı!\")\n",
    "finally:\n",
    "    print(\"İşlem gerçekleştirildi.\")"
   ]
  },
  {
   "cell_type": "markdown",
   "metadata": {},
   "source": [
    "## <a id='toc1_5_'></a>[Kaynakça](#toc0_)\n",
    "---\n",
    "\n",
    "https://docs.python.org/3/reference/expressions.html\n",
    "\n",
    "https://docs.python.org/3/tutorial/controlflow.html#if-statements\n",
    "\n",
    "https://docs.python.org/3/tutorial/controlflow.html#match-statements\n",
    "\n",
    "https://docs.python.org/3/tutorial/errors.html"
   ]
  }
 ],
 "metadata": {
  "kernelspec": {
   "display_name": "base",
   "language": "python",
   "name": "python3"
  },
  "language_info": {
   "codemirror_mode": {
    "name": "ipython",
    "version": 3
   },
   "file_extension": ".py",
   "mimetype": "text/x-python",
   "name": "python",
   "nbconvert_exporter": "python",
   "pygments_lexer": "ipython3",
   "version": "3.10.6"
  },
  "orig_nbformat": 4
 },
 "nbformat": 4,
 "nbformat_minor": 2
}
