{
 "cells": [
  {
   "cell_type": "markdown",
   "metadata": {},
   "source": [
    "# <a id='toc1_'></a>[Seriler - list, tuple](#toc0_)"
   ]
  },
  {
   "cell_type": "markdown",
   "metadata": {},
   "source": [
    "**İçindekiler**<a id='toc0_'></a>    \n",
    "- [Seriler - list, tuple](#toc1_)    \n",
    "  - [Listeler](#toc1_1_)    \n",
    "    - [Listelerin Karakteristik Yapısı](#toc1_1_1_)    \n",
    "    - [Liste İndeksleme](#toc1_1_2_)    \n",
    "    - [Liste Metotları](#toc1_1_3_)    \n",
    "  - [Tuple'lar](#toc1_2_)    \n",
    "    - [Tuple'ların Karakteristik Yapısı](#toc1_2_1_)    \n",
    "      - [Tuple Unpacking](#toc1_2_1_1_)    \n",
    "      - [Tuple Concatenation](#toc1_2_1_2_)    \n",
    "    - [Tuple İndeksleme](#toc1_2_2_)    \n",
    "    - [Tuple Metotları](#toc1_2_3_)    \n",
    "  - [Listeler ile Tuple'ların Karşılaştırılması](#toc1_3_)    \n",
    "    - [Ortak Özellikler](#toc1_3_1_)    \n",
    "    - [Farklı Özellikler](#toc1_3_2_)    \n",
    "  - [Kaynakça](#toc1_4_)    \n",
    "\n",
    "<!-- vscode-jupyter-toc-config\n",
    "\tnumbering=false\n",
    "\tanchor=true\n",
    "\tflat=false\n",
    "\tminLevel=1\n",
    "\tmaxLevel=6\n",
    "\t/vscode-jupyter-toc-config -->\n",
    "<!-- THIS CELL WILL BE REPLACED ON TOC UPDATE. DO NOT WRITE YOUR TEXT IN THIS CELL -->"
   ]
  },
  {
   "cell_type": "markdown",
   "metadata": {},
   "source": [
    "## <a id='toc1_1_'></a>[Listeler](#toc0_)\n",
    "---"
   ]
  },
  {
   "cell_type": "markdown",
   "metadata": {},
   "source": [
    "Listeler, Python'da sıklıkla kullanılan veri tiplerinden biridir. Bir liste, birden çok değeri bir araya getiren ve değiştirilebilir (mutable) öğelerden oluşan bir veri yapısıdır. Listeler, farklı veri tiplerini içerebilir ve karmaşık veri yapıları oluşturmanızı sağlar.\n",
    "\n",
    "Listelerin kullanımı oldukça yaygındır. Listeler, verileri depolamanın yanı sıra, veriler üzerinde işlem yapmayı, sıralamayı, döngülerle gezinmeyi, öğeleri eklemeyi veya çıkarmayı ve daha birçok işlemi gerçekleştirmeyi sağlar. Örneğin, bir öğrenci listesi, bir alışveriş sepeti, bir müzik çalma listesi gibi birçok senaryoda listeler kullanılabilir.\n",
    "\n",
    "### <a id='toc1_1_1_'></a>[Listelerin Karakteristik Yapısı](#toc0_)\n",
    "\n",
    "- Listeler köşeli parantezler [] içinde tanımlanır.\n",
    "- Her bir öğe, virgülle ayrılarak listeye eklenir.\n",
    "- Liste içerisinde farklı veri tipleri (sayılar, metinler, bool değerler, vb.) bulunabilir.\n",
    "- Liste içerisindeki öğelere indeksleme (indexing) veya dilimleme (slicing) yöntemiyle erişilebilir.\n",
    "- Listeler değiştirilebilir (mutable) olduğu için öğeleri ekleyebilir, çıkarabilir veya değiştirebilirsiniz."
   ]
  },
  {
   "attachments": {},
   "cell_type": "markdown",
   "metadata": {},
   "source": [
    "Python'da farklı şekillerde listeler oluşturabilirsiniz.\n",
    "\n",
    "| Örnek                       | Açıklama                                     |\n",
    "|-----------------------------|----------------------------------------------|\n",
    "| `my_list = []`              | Boş bir liste oluşturma                      |\n",
    "| `my_list = [1, 2, 3]`       | Sayılardan oluşan bir liste                  |\n",
    "| `my_list = [\"a\", \"b\", \"c\"]` | Metinlerden oluşan bir liste                 |\n",
    "| `my_list = [1, \"a\", True]`  | Farklı veri tiplerini içeren bir liste       |\n",
    "| `my_list = list(range(5))`  | Belirli bir aralıktaki sayıları içeren liste |"
   ]
  },
  {
   "cell_type": "markdown",
   "metadata": {},
   "source": [
    "### <a id='toc1_1_2_'></a>[Liste İndeksleme](#toc0_)"
   ]
  },
  {
   "attachments": {},
   "cell_type": "markdown",
   "metadata": {},
   "source": [
    "Listelerde indeksleme (indexing), bir listenin belirli bir öğesine erişmek veya üzerinde işlem yapmak için kullanılan bir yöntemdir. Python'da indeksler, listenin öğelerini sıralı bir şekilde temsil eder ve 0'dan başlar. İndeksler, köşeli parantez [] içinde kullanılır.\n",
    "\n",
    "İndeksleme yöntemiyle, listenin belirli bir öğesine erişmek için liste_adı[indeks] şeklinde bir sözdizimi kullanılır. Örneğin, my_list[0] ifadesi listenin ilk öğesine (0'ıncı indeks) erişirken, my_list[2] ifadesi listenin üçüncü öğesine (2'nci indeks) erişir.\n",
    "\n",
    "Python'da negatif indeksleme de kullanılabilir. Negatif indeksler, listenin sonundan başlayarak öğelere erişmeyi sağlar. Örneğin, -1 son indeksi temsil ederken, -2 sondan bir önceki indeksi temsil eder. Bu şekilde, my_list[-1] ifadesi listenin son öğesine erişerken, my_list[-2] ifadesi sondan bir önceki öğeye erişir.\n",
    "\n",
    "Liste indeksleri ayrıca dilimleme (slicing) yöntemiyle de kullanılabilir. Dilimleme, bir listenin belirli bir aralığındaki öğeleri seçmek için kullanılır. Dilimleme işlemi [başlangıç_indeksi:bitiş_indeksi] şeklinde yapılır. Başlangıç indeksi dahil edilirken, bitiş indeksi dahil edilmez. Örneğin, my_list[1:4] ifadesi listenin 1'inci indeksten başlayarak 4'üncü indekse kadar olan öğeleri seçer.\n",
    "\n",
    "İndeksleme yöntemiyle ayrıca belirli adımlarla öğeleri atlama da yapabilirsiniz. Dilimleme işlemi sırasında bir adım (step) değeri belirleyerek belirli bir aralıktaki öğeleri atlama özelliğinden yararlanabilirsiniz. Örneğin, my_list[::2] ifadesi listenin tüm öğelerini 2'şer atlayarak seçer."
   ]
  },
  {
   "cell_type": "code",
   "execution_count": null,
   "metadata": {},
   "outputs": [],
   "source": [
    "my_list = [10, 20, 30, 40, 50]\n",
    "print(my_list[0])  # 10\n",
    "print(my_list[2])  # 30\n",
    "print(my_list[-1])  # 50\n",
    "print(my_list[-3])  # 30\n",
    "\n",
    "my_list = [\"elma\", \"armut\", \"muz\", \"çilek\", \"kiraz\"]\n",
    "print(my_list[1:4])  # ['armut', 'muz', 'çilek']\n",
    "print(my_list[:3])  # ['elma', 'armut', 'muz']\n",
    "print(my_list[::2])  # ['elma', 'muz', 'kiraz']"
   ]
  },
  {
   "cell_type": "markdown",
   "metadata": {},
   "source": [
    "### <a id='toc1_1_3_'></a>[Liste Metotları](#toc0_)"
   ]
  },
  {
   "attachments": {},
   "cell_type": "markdown",
   "metadata": {},
   "source": [
    "1. append(): append() metodu, bir listenin sonuna yeni bir öğe eklemek için kullanılır. Bu metot, listenin üzerine etki eder ve listenin sonuna belirtilen öğeyi ekler."
   ]
  },
  {
   "cell_type": "code",
   "execution_count": null,
   "metadata": {},
   "outputs": [],
   "source": [
    "my_list = [1, 2, 3]\n",
    "my_list.append(4)\n",
    "print(my_list)  # [1, 2, 3, 4]"
   ]
  },
  {
   "attachments": {},
   "cell_type": "markdown",
   "metadata": {},
   "source": [
    "2. remove(): remove() metodu, bir listeden belirli bir öğeyi çıkarmak için kullanılır. Bu metot, ilk bulduğu belirtilen öğeyi listeden çıkarır."
   ]
  },
  {
   "cell_type": "code",
   "execution_count": null,
   "metadata": {},
   "outputs": [],
   "source": [
    "my_list = [1, 2, 3, 2]\n",
    "my_list.remove(2)\n",
    "print(my_list)  # [1, 3, 2]"
   ]
  },
  {
   "attachments": {},
   "cell_type": "markdown",
   "metadata": {},
   "source": [
    "3. sort(): sort() metodu, bir listenin öğelerini sıralamak için kullanılır. Bu metot, listenin üzerinde etki eder ve öğeleri artan bir sıraya göre sıralar."
   ]
  },
  {
   "cell_type": "code",
   "execution_count": null,
   "metadata": {},
   "outputs": [],
   "source": [
    "my_list = [3, 1, 4, 2]\n",
    "my_list.sort()\n",
    "print(my_list)  # [1, 2, 3, 4]"
   ]
  },
  {
   "attachments": {},
   "cell_type": "markdown",
   "metadata": {},
   "source": [
    "4. reverse(): reverse() metodu, bir listenin öğelerini tersine çevirmek için kullanılır. Bu metot, listenin üzerinde etki eder ve öğelerin sırasını tersine çevirir."
   ]
  },
  {
   "cell_type": "code",
   "execution_count": null,
   "metadata": {},
   "outputs": [],
   "source": [
    "my_list = [1, 2, 3, 4]\n",
    "my_list.reverse()\n",
    "print(my_list)  # [4, 3, 2, 1]"
   ]
  },
  {
   "attachments": {},
   "cell_type": "markdown",
   "metadata": {},
   "source": [
    "5. count(): count() metodu, belirli bir öğenin listede kaç kez tekrarlandığını döndürür."
   ]
  },
  {
   "cell_type": "code",
   "execution_count": null,
   "metadata": {},
   "outputs": [],
   "source": [
    "my_list = [1, 2, 2, 3, 2]\n",
    "count = my_list.count(2)\n",
    "print(count)  # 3"
   ]
  },
  {
   "attachments": {},
   "cell_type": "markdown",
   "metadata": {},
   "source": [
    "6. index(): index() metodu, belirli bir öğenin listenin hangi indeksinde bulunduğunu döndürür. İlk bulduğu indeksi döndürür."
   ]
  },
  {
   "cell_type": "code",
   "execution_count": null,
   "metadata": {},
   "outputs": [],
   "source": [
    "my_list = [1, 2, 3, 2]\n",
    "index = my_list.index(2)\n",
    "print(index)  # 1"
   ]
  },
  {
   "attachments": {},
   "cell_type": "markdown",
   "metadata": {},
   "source": [
    "7. len(): len() fonksiyonu, bir listenin uzunluğunu (öğe sayısını) döndürür."
   ]
  },
  {
   "cell_type": "code",
   "execution_count": null,
   "metadata": {},
   "outputs": [],
   "source": [
    "my_list = [1, 2, 3]\n",
    "length = len(my_list)\n",
    "print(length)  # 3"
   ]
  },
  {
   "attachments": {},
   "cell_type": "markdown",
   "metadata": {},
   "source": [
    "| Fonksiyon               | Açıklama                                                       | Girdi        | Fonksiyon Kullanımı            | Çıktı                   |\n",
    "|-------------------------|----------------------------------------------------------------|--------------|--------------------------------|-------------------------|\n",
    "| `append(öğe)`             | Bir öğeyi listenin sonuna ekler                                | [1, 2, 3, 5] | `liste.append(4)`              | [1, 2, 3, 5, 4]         |\n",
    "| `extend(başka_bir_liste)` | Başka bir listenin öğelerini mevcut listenin sonuna ekler      | [1, 2, 3, 5] | `liste.extend([6, 7, 8])`      | [1, 2, 3, 5, 6, 7, 8]   |\n",
    "| `insert(indeks, öğe)`     | Belirtilen bir indekse bir öğe ekler                           | [1, 2, 3, 5] | `liste.insert(3, 4)`           | [1, 2, 3, 4, 5]         |\n",
    "| `remove(öğe)`             | Belirtilen bir öğeyi listeden çıkarır                          | [1, 2, 3, 5] | `liste.remove(5)`              | [1, 2, 3]               |\n",
    "| `pop(indeks)`             | Belirtilen bir indeksteki öğeyi çıkarır ve döndürür            | [1, 2, 3, 5] | `liste.pop(3)`                 | [1, 2, 3]               |\n",
    "| `index(öğe) `             | Belirtilen bir öğenin ilk bulunduğu indeksi döndürür           | [1, 2, 3, 5] | `liste.index(3)`               | 2                       |\n",
    "| `count(öğe) `             | Belirtilen bir öğenin listede kaç kez tekrarlandığını döndürür | [1, 2, 3, 5] | `liste.count(3)`               | 1                       |\n",
    "| `sort()`                  | Listenin öğelerini artan bir sıraya göre sıralar               | [5, 3, 1, 2] | `liste.sort()`                 | [1, 2, 3, 5]            |\n",
    "| `reverse()`               | Listenin öğelerini tersine çevirir                             | [1, 2, 3, 5] | `liste.reverse()`              | [5, 3, 2, 1]            |\n",
    "| `copy()`                  | Listenin bir kopyasını oluşturur                               | [1, 2, 3, 5] | `liste_kopyası = liste.copy()` | new_list = [1, 2, 3, 5] |\n",
    "| `clear()`                 | Listenin tüm öğelerini çıkarır                                 | [1, 2, 3, 5] | `liste.clear()`                | []                      |\n",
    "| `len(liste)`              | Listenin uzunluğunu (öğe sayısını) döndürür                    | [1, 2, 3, 5] | `len(liste)`                   | 4                       |"
   ]
  },
  {
   "cell_type": "markdown",
   "metadata": {},
   "source": [
    "## <a id='toc1_2_'></a>[Tuple'lar](#toc0_)\n",
    "---"
   ]
  },
  {
   "attachments": {},
   "cell_type": "markdown",
   "metadata": {},
   "source": [
    "Tuple, Python'da sıklıkla kullanılan veri tiplerinden biridir. Bir tuple, birden çok değeri bir araya getiren ve değiştirilemez (immutable) öğelerden oluşan bir veri yapısıdır. Tuple'lar, farklı veri tiplerini içerebilir ve karmaşık veri yapıları oluşturmanızı sağlar.\n",
    "\n",
    "Tuple'lar, genellikle verilerin değiştirilmesini istemediğiniz veya korunmasını istediğiniz durumlarda kullanılır. Örneğin, bir koordinat noktasını veya bir tarih ve saat değerini temsil edebilirsiniz. Tuple'lar ayrıca işlevlerden birden fazla değer döndürmek için de kullanılır."
   ]
  },
  {
   "cell_type": "markdown",
   "metadata": {},
   "source": [
    "### <a id='toc1_2_1_'></a>[Tuple'ların Karakteristik Yapısı](#toc0_)\n",
    "\n",
    "- Tuple'lar parantez () içinde tanımlanır.\n",
    "- Her bir öğe, virgülle ayrılarak tuple'a eklenir.\n",
    "- Tuple içerisinde farklı veri tipleri (sayılar, metinler, bool değerler, vb.) bulunabilir.\n",
    "- Tuple'lar değiştirilemez (immutable) olduğu için öğeleri ekleyemez, çıkaramaz veya değiştiremezsiniz.\n",
    "\n",
    "| Örnek                      | Açıklama                                         |\n",
    "|----------------------------|--------------------------------------------------|\n",
    "| `my_tuple = ()`              | Boş bir tuple oluşturma                          |\n",
    "| `my_tuple = (1, 2, 3)`       | Sayılardan oluşan bir tuple                      |\n",
    "| `my_tuple = (\"a\", \"b\", \"c\")` | Metinlerden oluşan bir tuple                     |\n",
    "| `my_tuple = (1, \"a\", True)`  | Farklı veri tiplerini içeren bir tuple           |\n",
    "| `my_tuple = tuple(range(5))` | Belirli bir aralıktaki sayıları içeren bir tuple |"
   ]
  },
  {
   "cell_type": "markdown",
   "metadata": {},
   "source": [
    "#### <a id='toc1_2_1_1_'></a>[Tuple Unpacking](#toc0_)\n",
    "\n",
    "Tuple'lar, farklı değişkenlere ayrıştırılabilir. Bu işlem, bir tuple'ı tek tek değişkenlere atama yaparak gerçekleştirilir. Örneğin:"
   ]
  },
  {
   "cell_type": "code",
   "execution_count": null,
   "metadata": {},
   "outputs": [],
   "source": [
    "my_tuple = (10, 20, 30)\n",
    "a, b, c = my_tuple\n",
    "print(a)  # 10\n",
    "print(b)  # 20\n",
    "print(c)  # 30"
   ]
  },
  {
   "cell_type": "markdown",
   "metadata": {},
   "source": [
    "#### <a id='toc1_2_1_2_'></a>[Tuple Concatenation](#toc0_)\n",
    "\n",
    "Tuple birleştirme, iki veya daha fazla tuple'ı bir araya getirerek yeni bir tuple oluşturma işlemidir. Bu işlem, iki veya daha fazla tuple'ı yan yana ekleyerek gerçekleştirilir.\n",
    "\n",
    "Python'da tuple birleştirmek için + operatörünü kullanabilirsiniz. İşte birkaç örnek:"
   ]
  },
  {
   "cell_type": "code",
   "execution_count": null,
   "metadata": {},
   "outputs": [],
   "source": [
    "tuple1 = (1, 2, 3)\n",
    "tuple2 = (\"a\", \"b\", \"c\")\n",
    "tuple3 = (\"x\", \"y\", \"z\")\n",
    "\n",
    "new_tuple = tuple1 + tuple2 + tuple3\n",
    "print(new_tuple)  # (1, 2, 3, \"a\", \"b\", \"c\", \"x\", \"y\", \"z\")"
   ]
  },
  {
   "cell_type": "markdown",
   "metadata": {},
   "source": [
    "### <a id='toc1_2_2_'></a>[Tuple İndeksleme](#toc0_)\n",
    "\n",
    "Tuple'ların indeksleme (indexing) yöntemi, bir tuple'ın belirli bir öğesine erişmek veya üzerinde işlem yapmak için kullanılır. Python'da indeksler, tuple'ın öğelerini sıralı bir şekilde temsil eder ve 0'dan başlar. İndeksler, köşeli parantez [] içinde kullanılır.\n",
    "\n",
    "İndeksleme yöntemiyle, tuple'ın belirli bir öğesine erişmek için tuple_adı[indeks] şeklinde bir sözdizimi kullanılır. Örneğin, my_tuple[0] ifadesi tuple'ın ilk öğesine (0'ıncı indeks) erişirken, my_tuple[2] ifadesi tuple'ın üçüncü öğesine (2'nci indeks) erişir.\n",
    "\n",
    "Python'da negatif indeksleme de kullanılabilir. Negatif indeksler, tuple'ın sonundan başlayarak öğelere erişmeyi sağlar. Örneğin, -1 son indeksi temsil ederken, -2 sondan bir önceki indeksi temsil eder. Bu şekilde, my_tuple[-1] ifadesi tuple'ın son öğesine erişerken, my_tuple[-2] ifadesi sondan bir önceki öğeye erişir."
   ]
  },
  {
   "cell_type": "code",
   "execution_count": null,
   "metadata": {},
   "outputs": [],
   "source": [
    "my_tuple = (10, 20, 30, 40, 50)\n",
    "print(my_tuple[0])  # 10\n",
    "print(my_tuple[2])  # 30\n",
    "print(my_tuple[-1])  # 50\n",
    "print(my_tuple[-3])  # 30\n",
    "\n",
    "my_tuple = (\"elma\", \"armut\", \"muz\", \"çilek\", \"kiraz\")\n",
    "print(my_tuple[1:4])  # ('armut', 'muz', 'çilek')\n",
    "print(my_tuple[:3])  # ('elma', 'armut', 'muz')\n",
    "print(my_tuple[::2])  # ('elma', 'muz', 'kiraz')"
   ]
  },
  {
   "cell_type": "markdown",
   "metadata": {},
   "source": [
    "### <a id='toc1_2_3_'></a>[Tuple Metotları](#toc0_)"
   ]
  },
  {
   "attachments": {},
   "cell_type": "markdown",
   "metadata": {},
   "source": [
    "Aşağıda tuple'lar ile çokça kullanılan fonksiyonları görebilirsiniz.\n",
    "\n",
    "| Fonksiyon       | Açıklama                                                            | Girdi                | Fonksiyon Kullanımı | Çıktı        |\n",
    "|-----------------|---------------------------------------------------------------------|----------------------|---------------------|--------------|\n",
    "| `count(öğe)`    | Belirtilen bir öğenin tuple içinde kaç kez tekrarlandığını döndürür | (1, 2, 2, 3, 2),     | `tuple.count(2)`    | 3            |\n",
    "| `index(öğe)`    | Belirtilen bir öğenin ilk bulunduğu indeksi döndürür                | (1, 2, 3, 4, 5),     | `tuple.index(3)`    | 2            |\n",
    "| `len(tuple)`    | Tuple'ın uzunluğunu (öğe sayısını) döndürür                         | (\"a\", \"b\", \"c\", \"d\") | `len(tuple)`        | 4            |\n",
    "| `sorted(tuple)` | Tuple'ın öğelerini sıralayarak yeni bir liste döndürür              | (3, 1, 4, 2)         | `sorted(tuple)`     | [1, 2, 3, 4] |\n",
    "| `max(tuple)`    | Tuple içindeki en büyük öğeyi döndürür                              | (5, 2, 7, 3)         | `max(tuple)`        | 7            |\n",
    "| `min(tuple)`    | Tuple içindeki en küçük öğeyi döndürür                              | (8, 4, 6, 2)         | `min(tuple)`        | 2            |\n",
    "| `sum(tuple)`    | Tuple içindeki sayısal öğelerin toplamını döndürür                  | (1, 2, 3, 4, 5)      | `sum(tuple)`        | 15           |\n",
    "| `any(tuple)`    | Tuple içinde en az bir True değeri varsa True döndürür              | (False, False, True) | `any(tuple)`        | True         |\n",
    "| `all(tuple)`    | Tuple içindeki tüm öğeler True ise True, aksi halde False döndürür  | (True, True, False)  | `all(tuple)`        | False        |"
   ]
  },
  {
   "cell_type": "markdown",
   "metadata": {},
   "source": [
    "## <a id='toc1_3_'></a>[Listeler ile Tuple'ların Karşılaştırılması](#toc0_)\n",
    "---"
   ]
  },
  {
   "cell_type": "markdown",
   "metadata": {},
   "source": [
    "### <a id='toc1_3_1_'></a>[Ortak Özellikler](#toc0_)\n",
    "\n",
    "1. Sıralı Veri Yapısı: Hem listeler hem de tuple'lar, verilerin sıralı bir şekilde saklandığı veri yapılarıdır. Bu nedenle, öğelerin belirli bir sırası vardır ve indeksleme yöntemiyle erişilebilirler.\n",
    "\n",
    "2. İndeksleme ve Dilimleme: Hem listeler hem de tuple'lar, öğelere indeksleme (indexing) veya dilimleme (slicing) yöntemiyle erişilebilir. İndeksler 0'dan başlar ve köşeli parantez [] içinde kullanılır.\n",
    "\n",
    "3. Heterojen Veri Tipi: Hem listeler hem de tuple'lar, farklı veri tiplerini içerebilir. Örneğin, sayılar, metinler, bool değerler gibi farklı veri tiplerini bir arada bulundurabilirler.\n",
    "\n",
    "4. Değiştirilebilirlik (Listeler): Listeler değiştirilebilir (mutable) veri yapılarıdır. Bu, bir listenin içeriğinin değiştirilebileceği ve yeni öğelerin eklenebileceği anlamına gelir. Listeleri güncellemek, yeni öğeler eklemek veya mevcut öğeleri çıkarmak mümkündür.\n",
    "\n",
    "### <a id='toc1_3_2_'></a>[Farklı Özellikler](#toc0_)\n",
    "\n",
    "1. Değiştirilemezlik (Tuple'lar): Tuple'lar değiştirilemez (immutable) veri yapılarıdır. Bu, bir tuple'ın içeriğinin değiştirilemez olduğu ve bir kez oluşturulduktan sonra değiştirilemediği anlamına gelir. Mevcut bir tuple'ı güncellemek veya öğeleri eklemek veya çıkarmak mümkün değildir.\n",
    "\n",
    "2. Parantezler: Listeler köşeli parantez [] ile tanımlanırken, tuple'lar normalde parantez () içinde tanımlanır. Ancak, tuple'lar parantez kullanılmadan da tanımlanabilir.\n",
    "\n",
    "3. Bellek Tüketimi: Tuple'lar, listelere göre daha hafif bir bellek tüketimine sahiptir. Bu nedenle, sadece verileri değiştirme ihtiyacınız olmadığında ve değiştirilemez bir veri yapısına ihtiyaç duyduğunuzda tuple'ları tercih etmek daha verimli olabilir."
   ]
  },
  {
   "cell_type": "code",
   "execution_count": null,
   "metadata": {},
   "outputs": [],
   "source": [
    "# Listeler\n",
    "my_list = [1, 2, 3, \"a\", \"b\", True]\n",
    "my_list[0] = 10\n",
    "my_list.append(\"c\")\n",
    "print(my_list)  # [10, 2, 3, \"a\", \"b\", True, \"c\"]\n",
    "\n",
    "# Tuple'lar\n",
    "my_tuple = (1, 2, 3, \"a\", \"b\", True)\n",
    "# my_tuple[0] = 10  # Hata! Tuple'lar değiştirilemez (immutable)\n",
    "# my_tuple.append(\"c\")  # Hata! Tuple'lar değiştirilemez (immutable)\n",
    "print(my_tuple)  # (1, 2, 3, \"a\", \"b\", True)"
   ]
  },
  {
   "attachments": {},
   "cell_type": "markdown",
   "metadata": {},
   "source": [
    "Bu örneklerde, önce bir liste (my_list) ve bir tuple (my_tuple) tanımlanmıştır. Listelerde, öğeleri değiştirmek veya yeni öğeler eklemek için kullanılan my_list[0] = 10 ve my_list.append(\"c\") gibi işlemler yapılabilmektedir. Ancak, tuple'lar değiştirilemez olduğu için, my_tuple[0] = 10 ve my_tuple.append(\"c\") gibi işlemler hata verecektir. Bu örnekler, listelerin değiştirilebilirken, tuple'ların değiştirilemez olduğunu göstermektedir."
   ]
  },
  {
   "cell_type": "code",
   "execution_count": 9,
   "metadata": {},
   "outputs": [
    {
     "name": "stdout",
     "output_type": "stream",
     "text": [
      "Listenin bellek tüketimi: 120\n",
      "Tuple'ın bellek tüketimi: 80\n"
     ]
    }
   ],
   "source": [
    "import sys\n",
    "\n",
    "my_list = [1, 2, 3, 4, 5]\n",
    "my_tuple = (1, 2, 3, 4, 5)\n",
    "\n",
    "print(\"Listenin bellek tüketimi: \" + str(sys.getsizeof(my_list)))   # Liste bellek tüketimi\n",
    "print(\"Tuple'ın bellek tüketimi: \" + str(sys.getsizeof(my_tuple)))  # Tuple bellek tüketimi"
   ]
  },
  {
   "attachments": {},
   "cell_type": "markdown",
   "metadata": {},
   "source": [
    "Bu örnekte, sys modülündeki getsizeof() fonksiyonunu kullanarak bir listenin ve bir tuple'ın bellek tüketimini ölçmekteyiz.\n",
    "\n",
    "Çıktı, listenin bellek tüketimini ve tuple'ın bellek tüketimini gösterir. Genellikle, aynı veri kümesini sakladıklarında tuple'ların liste'lere göre daha az bellek tükettiğini göreceksiniz. Bu, tuple'ların değiştirilemez olması ve optimize edilmiş bir veri yapısı olması nedeniyle gerçekleşir.\n",
    "\n",
    "Ancak, unutmayın ki bellek tüketimi, kullanılan veri boyutuna ve platforma bağlı olarak değişebilir. Bu örnek, genel bir fikir vermek için kullanılabilir, ancak tüm durumlarda kesin bir kural olarak kabul edilemez.\n",
    "\n",
    "Örneğin, yukarıdaki örnekteki liste ve tuple'lar sadece birkaç sayı içeriyor, bu nedenle bellek farkı küçük olabilir. Ancak, daha büyük veri kümesiyle çalıştığınızda veya farklı veri tiplerini içeren tuple'larla uğraştığınızda daha belirgin bir bellek tasarrufu elde edebilirsiniz.\n",
    "\n",
    "Sonuç olarak, tuple'lar genellikle liste'lere göre daha hafif bir bellek tüketimi sağlar. Ancak, bellek tüketimi ihtiyaçlarınıza ve uygulamanızın gereksinimlerine bağlı olarak değişebilir."
   ]
  },
  {
   "cell_type": "markdown",
   "metadata": {},
   "source": [
    "## <a id='toc1_4_'></a>[Kaynakça](#toc0_)\n",
    "---\n",
    "\n",
    "https://docs.python.org/3/tutorial/introduction.html#lists\n",
    "\n",
    "https://docs.python.org/3/tutorial/datastructures.html\n",
    "\n",
    "https://docs.python.org/3/library/stdtypes.html#sequence-types-list-tuple-range"
   ]
  }
 ],
 "metadata": {
  "kernelspec": {
   "display_name": "base",
   "language": "python",
   "name": "python3"
  },
  "language_info": {
   "codemirror_mode": {
    "name": "ipython",
    "version": 3
   },
   "file_extension": ".py",
   "mimetype": "text/x-python",
   "name": "python",
   "nbconvert_exporter": "python",
   "pygments_lexer": "ipython3",
   "version": "3.9.13"
  },
  "orig_nbformat": 4
 },
 "nbformat": 4,
 "nbformat_minor": 2
}
