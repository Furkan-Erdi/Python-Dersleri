{
 "cells": [
  {
   "cell_type": "markdown",
   "metadata": {},
   "source": [
    "# <a id='toc1_'></a>[RegEx (Regular Expression) Kullanımı](#toc0_)"
   ]
  },
  {
   "cell_type": "markdown",
   "metadata": {},
   "source": [
    "RegEx (Regular Expression), metin içindeki karakter desenlerini tanımlamak ve eşleşen metinleri bulmak için kullanılan güçlü bir araçtır. Python'da RegEx işlemleri için re (regular expression) modülü bulunmaktadır. Bu modül, metin içindeki belirli kalıpları tanımlayarak arama, eşleşme, değiştirme gibi işlemleri gerçekleştirmemizi sağlar.\n",
    "\n",
    "RegEx'i kullanmak için import re diyerek işlemlerimize başlayabiliriz."
   ]
  },
  {
   "cell_type": "code",
   "execution_count": 1,
   "metadata": {},
   "outputs": [],
   "source": [
    "import re"
   ]
  },
  {
   "cell_type": "markdown",
   "metadata": {},
   "source": [
    "**İçindekiler**<a id='toc0_'></a>    \n",
    "- [RegEx (Regular Expression) Kullanımı](#toc1_)    \n",
    "  - [RegEx Temel Metakarakterleri](#toc1_1_)    \n",
    "  - [RegEx Special Sequences (Özel Diziler)](#toc1_2_)    \n",
    "  - [RegEx Sets (Küme)](#toc1_3_)    \n",
    "  - [RegEx Fonksiyonları](#toc1_4_)    \n",
    "  - [Eşleşmeyi Bulma](#toc1_5_)    \n",
    "    - [Tüm Eşleşmeleri Bulma](#toc1_5_1_)    \n",
    "    - [Metni Bölmek](#toc1_5_2_)    \n",
    "    - [Metni Değiştirme](#toc1_5_3_)    \n",
    "  - [Detaylı Bir Örnek](#toc1_6_)    \n",
    "  - [Kaynakça](#toc1_7_)    \n",
    "\n",
    "<!-- vscode-jupyter-toc-config\n",
    "\tnumbering=false\n",
    "\tanchor=true\n",
    "\tflat=false\n",
    "\tminLevel=1\n",
    "\tmaxLevel=6\n",
    "\t/vscode-jupyter-toc-config -->\n",
    "<!-- THIS CELL WILL BE REPLACED ON TOC UPDATE. DO NOT WRITE YOUR TEXT IN THIS CELL -->"
   ]
  },
  {
   "cell_type": "markdown",
   "metadata": {},
   "source": [
    "## <a id='toc1_1_'></a>[RegEx Temel Metakarakterleri](#toc0_)\n",
    "\n",
    "Aşağıda, RegEx'de kullanılan temel metakarakterleri ve anlamlarını bulabilirsiniz:\n",
    "\n",
    "| Metakarakter | Açıklama                                                                                 |\n",
    "|--------------|------------------------------------------------------------------------------------------|\n",
    "| `.`          | Herhangi bir karakteri temsil eder (yeni satır karakteri hariç).                         |\n",
    "| `^`          | Metnin başlangıcını temsil eder.                                                         |\n",
    "| `$`          | Metnin sonunu temsil eder.                                                               |\n",
    "| `*`          | Önceki karakterin sıfır veya daha fazla tekrarını temsil eder.                           |\n",
    "| `+`          | Önceki karakterin bir veya daha fazla tekrarını temsil eder.                             |\n",
    "| `?`          | Önceki karakterin sıfır veya bir kere tekrarını temsil eder.                             |\n",
    "| `\\`         | Metakarakterleri kaçış karakteri olarak kullanır (örneğin `\\.` bir noktayı temsil eder).|\n",
    "| `[]`         | Karakter kümesini belirtir (örneğin `[abc]`, 'a', 'b' veya 'c' harflerine eşleşir).      |\n",
    "| `\|`         | Alternatifleri temsil eder (örneğin `a|b`, 'a' veya 'b' harfine eşleşir).                |\n",
    "| `()`         | Gruplamayı sağlar ve gruplar oluşturur.                                                  |\n",
    "| `{}`         | Önceki karakterin tekrar sayısını belirtir.                                              |\n",
    "| `()`         | Gruplamayı sağlar ve gruplar oluşturur.                                                  |\n",
    "| `[]`         | Karakter kümesini belirtir.                                                              |\n",
    "| `\|`         | Alternatifleri temsil eder.                                                              |\n",
    "| `?`          | Önceki karakterin sıfır veya bir kere tekrarını temsil eder.                             |\n",
    "| `\\`         | Kaçış karakteri olarak kullanılır.                                                       |"
   ]
  },
  {
   "cell_type": "markdown",
   "metadata": {},
   "source": [
    "## <a id='toc1_2_'></a>[RegEx Special Sequences (Özel Diziler)](#toc0_)\n",
    "\n",
    "RegEx'de özel diziler, belirli metin desenlerini temsil etmek için kullanılır. İşte bazı yaygın RegEx özel dizileri:\n",
    "\n",
    "| Special Sequence | Açıklama                                                                 |\n",
    "|------------------|--------------------------------------------------------------------------|\n",
    "| `\\A`             | Metnin başlangıcına eşleşir.                                             |\n",
    "| `\\b`             | Kelime sınırlarına (başlangıç veya bitiş) eşleşir.                       |\n",
    "| `\\B`             | Kelime sınırlarının dışındaki yerlere eşleşir.                           |\n",
    "| `\\d`             | Herhangi bir ondalık rakam ile eşleşir (0-9).                            |\n",
    "| `\\D`             | Herhangi bir ondalık olmayan karakter ile eşleşir.                       |\n",
    "| `\\s`             | Herhangi bir boşluk karakteri ile eşleşir (boşluk, tab, satır başı vb.). |\n",
    "| `\\S`             | Herhangi bir boşluk olmayan karakter ile eşleşir.                        |\n",
    "| `\\w`             | Herhangi bir alfanümerik karakter ile eşleşir (a-z, A-Z, 0-9, _).        |\n",
    "| `\\W`             | Herhangi bir alfanümerik olmayan karakter ile eşleşir.                   |\n",
    "| `\\Z`             | Metnin sonuna eşleşir.                                                   |"
   ]
  },
  {
   "cell_type": "markdown",
   "metadata": {},
   "source": [
    "## <a id='toc1_3_'></a>[RegEx Sets (Küme)](#toc0_)\n",
    "\n",
    "RegEx küme, belirli karakterlerin kümesini temsil etmek için kullanılır. İşte RegEx küme örnekleri:\n",
    "\n",
    "| Küme           | Açıklama                                                             |\n",
    "|----------------|----------------------------------------------------------------------|\n",
    "| `[abc]`        | 'a', 'b' veya 'c' harflerine eşleşir.                                |\n",
    "| `[a-z]`        | Küçük harflerin herhangi birine eşleşir.                             |\n",
    "| `[A-Z]`        | Büyük harflerin herhangi birine eşleşir.                             |\n",
    "| `[0-9]`        | Herhangi bir rakama eşleşir.                                         |\n",
    "| `[a-zA-Z0-9]`  | Herhangi bir alfanümerik karaktere eşleşir.                          |\n",
    "| `[^abc]`       | 'a', 'b' veya 'c' harfleri dışındaki herhangi bir karaktere eşleşir. |"
   ]
  },
  {
   "cell_type": "markdown",
   "metadata": {},
   "source": [
    "## <a id='toc1_4_'></a>[RegEx Fonksiyonları](#toc0_)\n",
    "\n",
    "`re` modülü, RegEx işlemleri için çeşitli fonksiyonlar sağlar:\n",
    "\n",
    "1. `re.search(pattern, string)`: Metindeki herhangi bir eşleşmeyi arar ve ilk eşleşmeyi döndürür.\n",
    "2. `re.match(pattern, string)`: Metnin başlangıcından itibaren eşleşmeyi arar ve ilk eşleşmeyi döndürür.\n",
    "3. `re.findall(pattern, string)`: Metindeki tüm eşleşmeleri bir liste olarak döndürür.\n",
    "4. `re.finditer(pattern, string)`: Metindeki tüm eşleşmeleri bir nesne olarak döndürür.\n",
    "5. `re.sub(pattern, repl, string)`: Metindeki eşleşen tüm desenleri başka bir metinle değiştirir.\n",
    "6. `re.split(pattern, string)`: Metindeki eşleşen desenlere göre metni böler ve bir liste olarak döndürür."
   ]
  },
  {
   "cell_type": "markdown",
   "metadata": {},
   "source": [
    "## <a id='toc1_5_'></a>[Eşleşmeyi Bulma](#toc0_)"
   ]
  },
  {
   "cell_type": "code",
   "execution_count": 2,
   "metadata": {},
   "outputs": [
    {
     "name": "stdout",
     "output_type": "stream",
     "text": [
      "Bulunan eşleşme: apple\n"
     ]
    }
   ],
   "source": [
    "# Metindeki \"apple\" kelimesini arayalım\n",
    "text = \"I have an apple and a banana. The apple is red.\"\n",
    "pattern = r\"apple\"\n",
    "result = re.search(pattern, text)\n",
    "if result:\n",
    "    print(\"Bulunan eşleşme:\", result.group())\n",
    "else:\n",
    "    print(\"Eşleşme bulunamadı.\")"
   ]
  },
  {
   "cell_type": "markdown",
   "metadata": {},
   "source": [
    "### <a id='toc1_5_1_'></a>[Tüm Eşleşmeleri Bulma](#toc0_)"
   ]
  },
  {
   "cell_type": "code",
   "execution_count": 3,
   "metadata": {},
   "outputs": [
    {
     "name": "stdout",
     "output_type": "stream",
     "text": [
      "Tüm eşleşmeler: ['apple', 'apple']\n"
     ]
    }
   ],
   "source": [
    "# Metindeki \"apple\" kelimelerinin tümünü bulalım\n",
    "text = \"I have an apple and a banana. The apple is red.\"\n",
    "pattern = r\"apple\"\n",
    "results = re.findall(pattern, text)\n",
    "print(\"Tüm eşleşmeler:\", results)"
   ]
  },
  {
   "cell_type": "markdown",
   "metadata": {},
   "source": [
    "### <a id='toc1_5_2_'></a>[Metni Bölmek](#toc0_)"
   ]
  },
  {
   "cell_type": "code",
   "execution_count": 5,
   "metadata": {},
   "outputs": [
    {
     "name": "stdout",
     "output_type": "stream",
     "text": [
      "Metinler: ['apple', 'banana', 'orange', 'kiwi']\n"
     ]
    }
   ],
   "source": [
    "# Metni virgüllere göre bölelim\n",
    "text = \"apple, banana, orange, kiwi\"\n",
    "pattern = r\",\\s*\"  # Virgül ve sonrasındaki boşlukları bulur\n",
    "result = re.split(pattern, text)\n",
    "print(\"Metinler:\", result)"
   ]
  },
  {
   "cell_type": "markdown",
   "metadata": {},
   "source": [
    "### <a id='toc1_5_3_'></a>[Metni Değiştirme](#toc0_)"
   ]
  },
  {
   "cell_type": "code",
   "execution_count": 7,
   "metadata": {},
   "outputs": [
    {
     "name": "stdout",
     "output_type": "stream",
     "text": [
      "Yeni Metin: I have an mango and a banana. The mango is red.\n"
     ]
    }
   ],
   "source": [
    "# Metindeki 'apple' kelimelerini 'mango' ile değiştirelim\n",
    "text = \"I have an apple and a banana. The apple is red.\"\n",
    "pattern = r\"apple\"\n",
    "replacement = \"mango\"\n",
    "result = re.sub(pattern, replacement, text)\n",
    "print(\"Yeni Metin:\", result)"
   ]
  },
  {
   "cell_type": "markdown",
   "metadata": {},
   "source": [
    "## <a id='toc1_6_'></a>[Örnek: Şirket Verisi Temizleme](#toc0_)"
   ]
  },
  {
   "cell_type": "code",
   "execution_count": 9,
   "metadata": {},
   "outputs": [
    {
     "name": "stdout",
     "output_type": "stream",
     "text": [
      "{\n",
      "  \"company\": \"ABC Electronics\",\n",
      "  \"products\": [\n",
      "    {\n",
      "      \"name\": \"ABC123Smartphone\",\n",
      "      \"price\": \"499.99\",\n",
      "      \"description\": \"The latest ABC smartphone model with advanced features.\"\n",
      "    },\n",
      "    {\n",
      "      \"name\": \"XYZTablet\",\n",
      "      \"price\": \"299.99\",\n",
      "      \"description\": \"High-performance tablet with a large display.\"\n",
      "    },\n",
      "    {\n",
      "      \"name\": \"ABC456Laptop\",\n",
      "      \"price\": \"899.99\",\n",
      "      \"description\": \"Powerful and lightweight laptop for work and entertainment.\"\n",
      "    },\n",
      "    {\n",
      "      \"name\": \"XYZ789Headphones\",\n",
      "      \"price\": \"99.99\",\n",
      "      \"description\": \"Noise-canceling headphones with premium sound quality.\"\n",
      "    }\n",
      "  ],\n",
      "  \"contact\": {\n",
      "    \"email\": \"info@abc-electronics.com\",\n",
      "    \"phone\": \"(123) 456-7890\"\n",
      "  }\n",
      "}\n"
     ]
    }
   ],
   "source": [
    "import re\n",
    "import json\n",
    "\n",
    "# Kurgusal bir şirket ürünleri JSON verisi\n",
    "json_data = '''\n",
    "{\n",
    "  \"company\": \"ABC Electronics\",\n",
    "  \"products\": [\n",
    "    {\n",
    "      \"name\": \"ABC-123 Smartphone\",\n",
    "      \"price\": \"$49 9.99\",\n",
    "      \"description\": \"The latest ABC smartphone model with advanced features.\"\n",
    "    },\n",
    "    {\n",
    "      \"name\": \"XYZ Tablet\",\n",
    "      \"price\": \"$299.9 9\",\n",
    "      \"description\": \"High-performance tablet with a large display.\"\n",
    "    },\n",
    "    {\n",
    "      \"name\": \"ABC-456 Laptop\",\n",
    "      \"price\": \"$899.99\",\n",
    "      \"description\": \"Powerful and lightweight laptop for work and entertainment.\"\n",
    "    },\n",
    "    {\n",
    "      \"name\": \"XYZ-789 Headphones\",\n",
    "      \"price\": \"$99.99\",\n",
    "      \"description\": \"Noise-canceling headphones with premium sound quality.\"\n",
    "    }\n",
    "  ],\n",
    "  \"contact\": {\n",
    "    \"email\": \"info@abc-electronics.com\",\n",
    "    \"phone\": \"(123) 456-7890\"\n",
    "  }\n",
    "}\n",
    "'''\n",
    "\n",
    "# JSON verisini Python sözlüğüne çevirelim\n",
    "data = json.loads(json_data)\n",
    "\n",
    "# Veriyi temizleme işlemi için bir fonksiyon oluşturalım\n",
    "def clean_data(text):\n",
    "    # Fiyattaki dolar işaretini ve boşlukları temizleyelim\n",
    "    text = re.sub(r'\\$|\\s', '', text)\n",
    "    \n",
    "    # Telefon numarasındaki parantez ve tireleri temizleyelim\n",
    "    text = re.sub(r'[\\(\\)-]', '', text)\n",
    "    \n",
    "    # Ürün adındaki model numaralarını temizleyelim (örn. \"ABC-123\")\n",
    "    text = re.sub(r'[A-Z]{3}-\\d{3}', '', text)\n",
    "    \n",
    "    return text\n",
    "\n",
    "# Ürün adlarını ve fiyatları temizleyelim\n",
    "for product in data['products']:\n",
    "    product['name'] = clean_data(product['name'])\n",
    "    product['price'] = clean_data(product['price'])\n",
    "\n",
    "# Temizlenmiş veriyi ekrana yazdıralım\n",
    "print(json.dumps(data, indent=2))"
   ]
  },
  {
   "cell_type": "markdown",
   "metadata": {},
   "source": [
    "## <a id='toc1_7_'></a>[Kaynakça](#toc0_)\n",
    "---\n",
    "\n",
    "https://docs.python.org/tr/3/howto/regex.html\n",
    "\n",
    "https://docs.python.org/tr/3/library/re.html?highlight=re#module-re"
   ]
  }
 ],
 "metadata": {
  "kernelspec": {
   "display_name": "Python 3",
   "language": "python",
   "name": "python3"
  },
  "language_info": {
   "codemirror_mode": {
    "name": "ipython",
    "version": 3
   },
   "file_extension": ".py",
   "mimetype": "text/x-python",
   "name": "python",
   "nbconvert_exporter": "python",
   "pygments_lexer": "ipython3",
   "version": "3.10.6"
  },
  "orig_nbformat": 4
 },
 "nbformat": 4,
 "nbformat_minor": 2
}
