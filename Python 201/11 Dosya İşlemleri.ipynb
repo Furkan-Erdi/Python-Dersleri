{
 "cells": [
  {
   "cell_type": "markdown",
   "metadata": {},
   "source": [
    "# <a id='toc1_'></a>[Dosya İşlemleri](#toc0_)"
   ]
  },
  {
   "cell_type": "markdown",
   "metadata": {},
   "source": [
    "Python'da dosya işlemleri, verilerin diske yazılmasını ve diskten okunmasını içeren önemli bir konudur. Dosya işlemleri, programlar arasında veri depolamanın ve paylaşmanın yaygın bir yoludur. Python, dosya işlemlerini kolayca yönetmek için `open()` fonksiyonunu ve dosya nesnesini sağlar."
   ]
  },
  {
   "cell_type": "markdown",
   "metadata": {},
   "source": [
    "**İçindekiler**<a id='toc0_'></a>    \n",
    "- [Dosya İşlemleri](#toc1_)    \n",
    "  - [Dosya Açma ve Kapatma](#toc1_1_)    \n",
    "  - [Dosya Modları](#toc1_2_)    \n",
    "  - [Dosya Okuma](#toc1_3_)    \n",
    "  - [Dosyayı Satır Satır Okuma](#toc1_4_)    \n",
    "  - [Dosyaya Yazma](#toc1_5_)    \n",
    "  - [Encoding](#toc1_6_)    \n",
    "  - [Kaynakça](#toc1_7_)    \n",
    "\n",
    "<!-- vscode-jupyter-toc-config\n",
    "\tnumbering=false\n",
    "\tanchor=true\n",
    "\tflat=false\n",
    "\tminLevel=1\n",
    "\tmaxLevel=6\n",
    "\t/vscode-jupyter-toc-config -->\n",
    "<!-- THIS CELL WILL BE REPLACED ON TOC UPDATE. DO NOT WRITE YOUR TEXT IN THIS CELL -->"
   ]
  },
  {
   "cell_type": "markdown",
   "metadata": {},
   "source": [
    "## <a id='toc1_1_'></a>[Dosya Açma ve Kapatma](#toc0_)\n",
    "\n",
    "Dosyaları açmak için `open()` fonksiyonunu kullanırız. Bu fonksiyon, iki argüman alır: dosya adı ve dosya modu. Dosya modları, dosyanın nasıl açılacağını belirler. Örneğin \"r\" (read), \"w\" (write), \"a\" (append) gibi. Dosyayı okuduktan veya yazdıktan sonra, dosya nesnesini kapatmalıyız. Dosyayı kapatmak için `close()` yöntemini kullanabiliriz."
   ]
  },
  {
   "cell_type": "code",
   "execution_count": null,
   "metadata": {},
   "outputs": [],
   "source": [
    "file = open(\"Materyaller/Dosyalar/example.txt\", \"r\")  # Dosyayı aç\n",
    "content = file.read()           # Dosyayı oku\n",
    "print(content)\n",
    "file.close()                    # Dosyayı kapat"
   ]
  },
  {
   "cell_type": "markdown",
   "metadata": {},
   "source": [
    "Fakat dosyayı kapatmayı unutursak, dosya kaynakları sıkışabilir ve program hatalara neden olabilir. Bu yüzden dosya işlemlerinde `with` bloğu kullanmak daha güvenlidir. `with` bloğu, dosya işlemlerinin sonunda dosyayı otomatik olarak kapatır."
   ]
  },
  {
   "cell_type": "code",
   "execution_count": null,
   "metadata": {},
   "outputs": [],
   "source": [
    "# Dosya açma ve kapatma with bloğu kullanarak\n",
    "with open(\"Materyaller/Dosyalar/example.txt\", \"r\") as file:\n",
    "    content = file.read()\n",
    "    print(content)\n",
    "# Dosya kapatıldı, artık dosya nesnesi kullanılamaz"
   ]
  },
  {
   "cell_type": "markdown",
   "metadata": {},
   "source": [
    "## <a id='toc1_2_'></a>[Dosya Modları](#toc0_)\n",
    "\n",
    "Dosya modları, dosyayı açarken ne tür işlemler yapacağımızı belirtir. En sık kullanılan modlar şunlardır:\n",
    "\n",
    "`\"r\"`: Okuma modu. Dosyayı okumak için kullanılır. Dosya yoksa hata verir.\n",
    "\n",
    "`\"w\"`: Yazma modu. Dosyayı oluşturur ve üzerine yazar. Dosya varsa içeriğini siler.\n",
    "\n",
    "`\"a\"`: Ekleme modu. Dosya yoksa oluşturur ve varsa dosyanın sonuna ekleme yapar.\n",
    "\n",
    "`\"x\"`: Oluşturma modu. Dosyayı oluşturur, ancak dosya varsa hata verir.\n",
    "\n",
    "`\"b\"`: İkili mod. İkili dosyaları işlemek için kullanılır.\n",
    "\n",
    "`\"t\"`: Metin modu. Metin dosyalarını işlemek için kullanılır. (Varsayılan)\n",
    "\n",
    "\n",
    "Ayrıca \"+\" işareti kullanarak bu modlara ek işlevler ekleyebiliriz:\n",
    "\n",
    "`\"r+\"`: Dosyayı hem okuma hem de yazma modunda açar. Dosya varsa içeriği korunur ve dosya imleci dosyanın başlangıcında olur. Dosya yoksa hata verir.\n",
    "\n",
    "`\"w+\"`: Dosyayı hem yazma hem de okuma modunda açar ve dosyayı sıfırdan oluşturur. Dosya varsa içeriği silinir ve dosya imleci dosyanın başlangıcında olur.\n",
    "\n",
    "`\"a+\"`: Dosyayı hem ekleme hem de okuma modunda açar. Dosya varsa dosya imleci dosyanın sonuna yerleştirilir. Dosya yoksa oluşturulur."
   ]
  },
  {
   "cell_type": "code",
   "execution_count": null,
   "metadata": {},
   "outputs": [],
   "source": [
    "# Yazma modunda dosya açma\n",
    "with open(\"Materyaller/Dosyalar/example.txt\", \"w\") as file:\n",
    "    file.write(\"Merhaba, dosyaya yazı yazıyorum.\\n\")\n",
    "    file.write(\"Bu, yeni bir satır.\\n\")"
   ]
  },
  {
   "cell_type": "markdown",
   "metadata": {},
   "source": [
    "## <a id='toc1_3_'></a>[Dosya Okuma](#toc0_)\n",
    "\n",
    "Dosyayı okumak için dosya nesnesi üzerinde `read()` yöntemini kullanabiliriz. Dosyadan okunan veriler bir string olarak döner."
   ]
  },
  {
   "cell_type": "code",
   "execution_count": null,
   "metadata": {},
   "outputs": [],
   "source": [
    "# Dosya okuma\n",
    "with open(\"Materyaller/Dosyalar/example.txt\", \"r\") as file:\n",
    "    content = file.read()\n",
    "    print(content)"
   ]
  },
  {
   "cell_type": "markdown",
   "metadata": {},
   "source": [
    "## <a id='toc1_4_'></a>[Dosyayı Satır Satır Okuma](#toc0_)\n",
    "\n",
    "Dosyayı satır satır okumak için dosya nesnesi üzerinde `readline()` yöntemini veya `for` döngüsünü kullanabiliriz."
   ]
  },
  {
   "cell_type": "code",
   "execution_count": null,
   "metadata": {},
   "outputs": [],
   "source": [
    "# Satır satır okuma - readline()\n",
    "with open(\"Materyaller/Dosyalar/example.txt\", \"r\") as file:\n",
    "    line = file.readline()\n",
    "    while line:\n",
    "        print(line.strip())  # strip() ile satır sonundaki '\\n' karakterini kaldırır\n",
    "        line = file.readline()\n",
    "\n",
    "# Satır satır okuma - for döngüsü\n",
    "with open(\"Materyaller/Dosyalar/example.txt\", \"r\") as file:\n",
    "    for line in file:\n",
    "        print(line.strip())"
   ]
  },
  {
   "cell_type": "markdown",
   "metadata": {},
   "source": [
    "## <a id='toc1_5_'></a>[Dosyaya Yazma](#toc0_)\n",
    "\n",
    "Dosyaya yazmak için dosya nesnesi üzerinde `write()` yöntemini kullanabiliriz. Yazdığımız veriler, dosyaya eklenecektir."
   ]
  },
  {
   "cell_type": "code",
   "execution_count": 1,
   "metadata": {},
   "outputs": [],
   "source": [
    "# Dosyaya yazma\n",
    "with open(\"Materyaller/Dosyalar/example.txt\", \"a\") as file:\n",
    "    file.write(\"Bu, dosyanın sonuna eklenecek.\\n\")"
   ]
  },
  {
   "cell_type": "markdown",
   "metadata": {},
   "source": [
    "## <a id='toc1_6_'></a>[Encoding](#toc0_)\n",
    "\n",
    "Dosya işlemlerinde encoding, metin dosyalarının karakterlerini temsil etmek için kullanılan karakter kümesini belirtir. Varsayılan olarak Python, dosyaları açarken \"UTF-8\" encoding'ini kullanır. Ancak, bazı durumlarda dosyanızın farklı bir encoding ile kaydedilmiş olabileceğini düşünebilirsiniz. Dosyayı doğru şekilde açmak için doğru encoding'i belirtmek önemlidir."
   ]
  },
  {
   "cell_type": "code",
   "execution_count": null,
   "metadata": {},
   "outputs": [],
   "source": [
    "with open(\"Materyaller/Dosyalar/example.txt\", \"r\", encoding=\"utf-16\") as file:\n",
    "    content = file.read()"
   ]
  },
  {
   "cell_type": "markdown",
   "metadata": {},
   "source": [
    "Aşağıda bazı temel tipleri ve Türkçe karakterleri destekleyen codec'leri bulabilirsiniz.\n",
    "\n",
    "| codec        | Takma Adlar            | Dil           |\n",
    "|--------------|------------------------|---------------|\n",
    "| utf_8        | U8, UTF, utf8          | all languages |\n",
    "| utf_16       | U16, utf16             | all languages |\n",
    "| cp857        | 857, IBM857            | Turkish       |\n",
    "| cp1026       | ibm1026                | Turkish       |\n",
    "| cp1254       | windows-1254           | Turkish       |\n",
    "| iso8859_9    | iso-8859-9, latin5, L5 | Turkish       |\n",
    "| mac_turkish  | macturkish             | Turkish       |\n",
    "| base64_codec | base64, base-64        | byte string   |"
   ]
  },
  {
   "cell_type": "markdown",
   "metadata": {},
   "source": [
    "## <a id='toc1_7_'></a>[Kaynakça](#toc0_)\n",
    "---\n",
    "\n",
    "https://docs.python.org/tr/3/library/stdtypes.html\n",
    "\n",
    "https://docs.python.org/tr/3/tutorial/inputoutput.html\n",
    "\n",
    "https://docs.python.org/tr/3/tutorial/inputoutput.html#reading-and-writing-files"
   ]
  }
 ],
 "metadata": {
  "kernelspec": {
   "display_name": "Python 3",
   "language": "python",
   "name": "python3"
  },
  "language_info": {
   "codemirror_mode": {
    "name": "ipython",
    "version": 3
   },
   "file_extension": ".py",
   "mimetype": "text/x-python",
   "name": "python",
   "nbconvert_exporter": "python",
   "pygments_lexer": "ipython3",
   "version": "3.10.6"
  },
  "orig_nbformat": 4
 },
 "nbformat": 4,
 "nbformat_minor": 2
}
