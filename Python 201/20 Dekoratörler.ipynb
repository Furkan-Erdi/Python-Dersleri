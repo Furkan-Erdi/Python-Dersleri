{
 "cells": [
  {
   "cell_type": "markdown",
   "metadata": {},
   "source": [
    "# <a id='toc1_'></a>[Dekoratörler](#toc0_)"
   ]
  },
  {
   "cell_type": "markdown",
   "metadata": {},
   "source": [
    "Python'da fonksiyonlar, belirli bir işlevi yerine getiren ve tekrar tekrar kullanılabilen bloklardır. Python, fonksiyonları birinci sınıf nesneler olarak ele alır, bu da fonksiyonların değişkenlere atanabileceği, diğer fonksiyonların içinde tanımlanabileceği ve başka fonksiyonlardan döndürülebileceği anlamına gelir. Bu esneklik, Python'da decorator adı verilen güçlü bir desenin uygulanmasına olanak tanır."
   ]
  },
  {
   "cell_type": "markdown",
   "metadata": {},
   "source": [
    "**İçindekiler**<a id='toc0_'></a>    \n",
    "- [Dekoratörler](#toc1_)    \n",
    "  - [Decorator Nedir?](#toc1_1_)    \n",
    "  - [Decorator Nasıl Kullanılır?](#toc1_2_)    \n",
    "  - [Decorator Oluşturma](#toc1_3_)    \n",
    "  - [Decorator Kullanma](#toc1_4_)    \n",
    "  - [Parametreli Decorator](#toc1_5_)    \n",
    "  - [@staticmethod ve @classmethod Decorator'leri](#toc1_6_)    \n",
    "    - [@staticmethod Decorator](#toc1_6_1_)    \n",
    "    - [@classmethod Decorator](#toc1_6_2_)    \n",
    "  - [Örnek: API Günlüğü](#toc1_7_)    \n",
    "  - [Kaynakça](#toc1_8_)    \n",
    "\n",
    "<!-- vscode-jupyter-toc-config\n",
    "\tnumbering=false\n",
    "\tanchor=true\n",
    "\tflat=false\n",
    "\tminLevel=1\n",
    "\tmaxLevel=6\n",
    "\t/vscode-jupyter-toc-config -->\n",
    "<!-- THIS CELL WILL BE REPLACED ON TOC UPDATE. DO NOT WRITE YOUR TEXT IN THIS CELL -->"
   ]
  },
  {
   "cell_type": "markdown",
   "metadata": {},
   "source": [
    "## <a id='toc1_1_'></a>[Decorator Nedir?](#toc0_)\n",
    "\n",
    "Decorator, Python'da bir fonksiyonu süsleyen (decorate eden) veya genişleten bir tasarım desenidir. Bir decorator, mevcut bir fonksiyonun işlevselliğini değiştirmeden, ona ek özellikler eklemeye veya bazı işlemleri gerçekleştirmeye izin verir.\n",
    "\n",
    "Decorator'ları kullanmanın temel avantajları şunlardır:\n",
    "\n",
    "1. **Modülerlik**: Decorator'lar, işlevselliğin farklı yönlerini farklı decorator'larla kolayca birleştirerek modüler bir yapı oluşturmanıza olanak tanır.\n",
    "2. **Tekrar Kullanılabilirlik**: Bir decorator'u farklı fonksiyonlarda kullanabilir ve kod tekrarını azaltabilirsiniz.\n",
    "3. **Kodun Düzgünleştirilmesi**: Birçok fonksiyonda tekrarlanan benzer kodları ortadan kaldırarak kodunuzu temizler ve daha düzenli hale getirir."
   ]
  },
  {
   "cell_type": "markdown",
   "metadata": {},
   "source": [
    "## <a id='toc1_2_'></a>[Decorator Nasıl Kullanılır?](#toc0_)\n",
    "\n",
    "Decorator'lar, Python'da \"@decorator_adı\" şeklinde ifade edilir ve fonksiyonun hemen üzerine yerleştirilir. Decorator, dekore edilmek istenen fonksiyonu alır, onunla belirli bir işlem yapar ve sonuç olarak değiştirilmiş bir fonksiyon döndürür. Decorator'lar aynı zamanda bir fonksiyonu değiştirmeden önce, sonra veya herhangi bir noktada sararak onun davranışını değiştirebilirler."
   ]
  },
  {
   "cell_type": "code",
   "execution_count": 7,
   "metadata": {},
   "outputs": [],
   "source": [
    "def decorator_name(func):\n",
    "    def wrapper(*args, **kwargs):\n",
    "        # Fonksiyon öncesi işlemler\n",
    "        result = func(*args, **kwargs)\n",
    "        # Fonksiyon sonrası işlemler\n",
    "        return result\n",
    "    return wrapper\n",
    "\n",
    "@decorator_name\n",
    "def my_function():\n",
    "    # Fonksiyon işlemleri\n",
    "    pass"
   ]
  },
  {
   "cell_type": "markdown",
   "metadata": {},
   "source": [
    "## <a id='toc1_3_'></a>[Decorator Oluşturma](#toc0_)\n",
    "\n",
    "Bir decorator oluşturmak için, fonksiyonlar ve iç içe fonksiyonlar kullanılır. Decorator fonksiyonu, dekore edilmek istenen fonksiyonu alır, onunla belirli bir işlem yapar ve sonuç olarak değiştirilmiş bir fonksiyon döndürür."
   ]
  },
  {
   "cell_type": "code",
   "execution_count": 8,
   "metadata": {},
   "outputs": [],
   "source": [
    "def my_decorator(func):\n",
    "    def wrapper(*args, **kwargs):\n",
    "        # Fonksiyon öncesi işlemler\n",
    "        result = func(*args, **kwargs)\n",
    "        # Fonksiyon sonrası işlemler\n",
    "        return result\n",
    "    return wrapper"
   ]
  },
  {
   "cell_type": "markdown",
   "metadata": {},
   "source": [
    "## <a id='toc1_4_'></a>[Decorator Kullanma](#toc0_)\n",
    "\n",
    "Daha önce oluşturulan decorator fonksiyonunu, \"@decorator_adı\" sözdizimiyle dekore edilmek istenen fonksiyonun hemen üzerine yerleştiriyoruz."
   ]
  },
  {
   "cell_type": "code",
   "execution_count": 9,
   "metadata": {},
   "outputs": [
    {
     "name": "stdout",
     "output_type": "stream",
     "text": [
      "Fonksiyon başlıyor.\n",
      "Merhaba!\n",
      "Fonksiyon bitiyor.\n"
     ]
    }
   ],
   "source": [
    "def my_decorator(func):\n",
    "    def wrapper(*args, **kwargs):\n",
    "        print(\"Fonksiyon başlıyor.\")\n",
    "        result = func(*args, **kwargs)\n",
    "        print(\"Fonksiyon bitiyor.\")\n",
    "        return result\n",
    "    return wrapper\n",
    "\n",
    "@my_decorator\n",
    "def say_hello():\n",
    "    print(\"Merhaba!\")\n",
    "\n",
    "say_hello()"
   ]
  },
  {
   "cell_type": "markdown",
   "metadata": {},
   "source": [
    "## <a id='toc1_5_'></a>[Parametreli Decorator](#toc0_)\n",
    "\n",
    "Decorator'lara ekstra parametreler eklemek için iç içe bir fonksiyon daha oluşturabiliriz."
   ]
  },
  {
   "cell_type": "code",
   "execution_count": 10,
   "metadata": {},
   "outputs": [
    {
     "name": "stdout",
     "output_type": "stream",
     "text": [
      "Fonksiyon başlıyor. Parametre: Hello\n",
      "Merhaba!\n",
      "Fonksiyon bitiyor.\n"
     ]
    }
   ],
   "source": [
    "def my_decorator(param):\n",
    "    def decorator(func):\n",
    "        def wrapper(*args, **kwargs):\n",
    "            print(f\"Fonksiyon başlıyor. Parametre: {param}\")\n",
    "            result = func(*args, **kwargs)\n",
    "            print(\"Fonksiyon bitiyor.\")\n",
    "            return result\n",
    "        return wrapper\n",
    "    return decorator\n",
    "\n",
    "@my_decorator(\"Hello\")\n",
    "def say_hello():\n",
    "    print(\"Merhaba!\")\n",
    "\n",
    "say_hello()"
   ]
  },
  {
   "cell_type": "markdown",
   "metadata": {},
   "source": [
    "## <a id='toc1_6_'></a>[@staticmethod ve @classmethod Decorator'leri](#toc0_)\n",
    "\n",
    "Python'da sınıflara ait özel türdeki metodları tanımlamak için `@staticmethod` ve `@classmethod` decorator'lerini kullanırız. Bu decorator'ler, bir metodu sınıfın örneği oluşturulmadan veya sınıfın bir örneği üzerinden çağırılmadan doğrudan sınıf düzeyinde çağırabilmemize olanak sağlar. Bu özellikler, sınıfın durumuna veya örneğine bağlı olmayan, bağımsız metotların tanımlanması için kullanışlıdır."
   ]
  },
  {
   "cell_type": "markdown",
   "metadata": {},
   "source": [
    "### <a id='toc1_6_1_'></a>[@staticmethod Decorator](#toc0_)\n",
    "\n",
    "`@staticmethod` decorator'ü, bir metodu statik bir metot olarak tanımlar. Statik metotlar, sınıfın bir örneği oluşturulmadan doğrudan sınıfın kendisi üzerinden çağrılır ve sınıfın durumuyla ilgili olmayan işlemler için kullanılır. Statik metotlar, `self` veya `cls` parametresi almazlar."
   ]
  },
  {
   "cell_type": "code",
   "execution_count": 11,
   "metadata": {},
   "outputs": [
    {
     "name": "stdout",
     "output_type": "stream",
     "text": [
      "Bu bir statik metottur.\n"
     ]
    }
   ],
   "source": [
    "class MyClass:\n",
    "    class_variable = 10\n",
    "    \n",
    "    def __init__(self, value):\n",
    "        self.instance_variable = value\n",
    "        \n",
    "    @staticmethod\n",
    "    def static_method():\n",
    "        print(\"Bu bir statik metottur.\")\n",
    "        \n",
    "    def instance_method(self):\n",
    "        print(\"Bu bir örnek metottur.\")\n",
    "\n",
    "# Sınıfın örneği oluşturulmadan doğrudan statik metodu çağırabiliriz.\n",
    "MyClass.static_method()"
   ]
  },
  {
   "cell_type": "markdown",
   "metadata": {},
   "source": [
    "### <a id='toc1_6_2_'></a>[@classmethod Decorator](#toc0_)\n",
    "\n",
    "`@classmethod` decorator'ü, bir metodu sınıf metodu (class method) olarak tanımlar. Sınıf metotları, sınıfın örneği oluşturulmadan doğrudan sınıf üzerinden çağrılır ve sınıfın durumuna erişebilirler. Sınıf metotları, `cls` parametresini alır ve genellikle sınıfın durumunu değiştirmek veya sınıfın farklı örneklerine ulaşmak için kullanılır."
   ]
  },
  {
   "cell_type": "code",
   "execution_count": 12,
   "metadata": {},
   "outputs": [
    {
     "name": "stdout",
     "output_type": "stream",
     "text": [
      "Bu bir sınıf metotudur.\n",
      "Sınıf değişkenine erişim: 10\n"
     ]
    }
   ],
   "source": [
    "class MyClass:\n",
    "    class_variable = 10\n",
    "    \n",
    "    def __init__(self, value):\n",
    "        self.instance_variable = value\n",
    "        \n",
    "    @classmethod\n",
    "    def class_method(cls):\n",
    "        print(\"Bu bir sınıf metotudur.\")\n",
    "        print(\"Sınıf değişkenine erişim:\", cls.class_variable)\n",
    "        \n",
    "    def instance_method(self):\n",
    "        print(\"Bu bir örnek metottur.\")\n",
    "\n",
    "# Sınıfın örneği oluşturmadan doğrudan sınıf metotunu çağırabiliriz.\n",
    "MyClass.class_method()"
   ]
  },
  {
   "cell_type": "code",
   "execution_count": 13,
   "metadata": {},
   "outputs": [
    {
     "name": "stdout",
     "output_type": "stream",
     "text": [
      "Toplama Sonucu: 15\n",
      "Çarpma Sonucu: 21\n",
      "Daire Alanı: 78.5398\n"
     ]
    }
   ],
   "source": [
    "class MathOperations:\n",
    "    pi = 3.141592\n",
    "    \n",
    "    def __init__(self, x, y):\n",
    "        self.x = x\n",
    "        self.y = y\n",
    "        \n",
    "    @staticmethod\n",
    "    def add(a, b):\n",
    "        return a + b\n",
    "    \n",
    "    @staticmethod\n",
    "    def multiply(a, b):\n",
    "        return a * b\n",
    "    \n",
    "    @classmethod\n",
    "    def circle_area(cls, radius):\n",
    "        return cls.pi * radius**2\n",
    "\n",
    "# Sınıf örneği oluşturmadan doğrudan statik ve sınıf metotlarını çağırabiliriz.\n",
    "result1 = MathOperations.add(5, 10)\n",
    "result2 = MathOperations.multiply(3, 7)\n",
    "result3 = MathOperations.circle_area(5)\n",
    "\n",
    "print(\"Toplama Sonucu:\", result1)\n",
    "print(\"Çarpma Sonucu:\", result2)\n",
    "print(\"Daire Alanı:\", result3)"
   ]
  },
  {
   "cell_type": "markdown",
   "metadata": {},
   "source": [
    "Bu örnek, `@staticmethod` ve `@classmethod` decorator'lerini kullanarak matematiksel işlemler için özel bir sınıf tanımlar. Statik metotlar `add` ve `multiply`, sınıfın örneği oluşturulmadan çağrılabilirken, sınıf metodu `circle_area`, sınıfın durumuna erişebilir ve sınıf değişkenini kullanabilir. Bu sayede, matematiksel işlemleri gerçekleştiren bir sınıf oluştururken örneğin kullanımını ve gereksiz tekrarı önlemiş oluruz."
   ]
  },
  {
   "cell_type": "markdown",
   "metadata": {},
   "source": [
    "## <a id='toc1_7_'></a>[Örnek: API Günlüğü](#toc0_)\n",
    "\n",
    "Decorator'lar, özellikle API günlükleri gibi günlük işlemlerinin uygulanması için kullanışlıdır. Bir API'nin giriş ve çıkışlarını izlemek için bir decorator oluşturalım."
   ]
  },
  {
   "cell_type": "code",
   "execution_count": 2,
   "metadata": {},
   "outputs": [
    {
     "name": "stdout",
     "output_type": "stream",
     "text": [
      "[LOG] API çağrısı - Fonksiyon Çağrıldı   - add_numbers - Argümanlar: (5, 10) - Anahtar Argümanlar: {}\n",
      "[LOG] API çağrısı - Fonksiyon Tamamlandı - add_numbers - Sonuç: 15\n",
      "[LOG] API çağrısı - Fonksiyon Çağrıldı   - multiply_numbers - Argümanlar: (3, 7) - Anahtar Argümanlar: {}\n",
      "[LOG] API çağrısı - Fonksiyon Tamamlandı - multiply_numbers - Sonuç: 21\n"
     ]
    }
   ],
   "source": [
    "def api_logger(func):\n",
    "    def wrapper(*args, **kwargs):\n",
    "        print(f\"[LOG] API çağrısı - Fonksiyon Çağrıldı   - {func.__name__} - Argümanlar: {args} - Anahtar Argümanlar: {kwargs}\")\n",
    "        result = func(*args, **kwargs)\n",
    "        print(f\"[LOG] API çağrısı - Fonksiyon Tamamlandı - {func.__name__} - Sonuç: {result}\")\n",
    "        return result\n",
    "    return wrapper\n",
    "\n",
    "@api_logger\n",
    "def add_numbers(a, b):\n",
    "    return a + b\n",
    "\n",
    "@api_logger\n",
    "def multiply_numbers(a, b):\n",
    "    return a * b\n",
    "\n",
    "result1 = add_numbers(5, 10)\n",
    "result2 = multiply_numbers(3, 7)"
   ]
  },
  {
   "cell_type": "markdown",
   "metadata": {},
   "source": [
    "Bu örnekte, `api_logger` decorator'ı, her iki işlevin çağrılması sırasında API günlükleri ekleyerek işlevselliği genişletir. Bu sayede, herhangi bir API çağrısının giriş ve çıkışları takip edilebilir ve günlük dosyalarına yazılabilir."
   ]
  },
  {
   "cell_type": "markdown",
   "metadata": {},
   "source": [
    "## <a id='toc1_8_'></a>[Kaynakça](#toc0_)\n",
    "---\n",
    "\n",
    "https://docs.python.org/tr/3/glossary.html#term-dekorator\n",
    "\n",
    "https://docs.python.org/tr/3/library/functions.html?highlight=staticmethod#staticmethod"
   ]
  }
 ],
 "metadata": {
  "kernelspec": {
   "display_name": "Python 3",
   "language": "python",
   "name": "python3"
  },
  "language_info": {
   "codemirror_mode": {
    "name": "ipython",
    "version": 3
   },
   "file_extension": ".py",
   "mimetype": "text/x-python",
   "name": "python",
   "nbconvert_exporter": "python",
   "pygments_lexer": "ipython3",
   "version": "3.10.6"
  },
  "orig_nbformat": 4
 },
 "nbformat": 4,
 "nbformat_minor": 2
}
