{
 "cells": [
  {
   "cell_type": "markdown",
   "metadata": {},
   "source": [
    "# <a id='toc1_'></a>[Opsiyonel Parametreler](#toc0_)"
   ]
  },
  {
   "cell_type": "markdown",
   "metadata": {},
   "source": [
    "Python'da opsiyonel parametreler, fonksiyonların çağrıldığında belirtilmeyen veya varsayılan değerleri olan parametrelerdir. Fonksiyon tanımlanırken parametrelere varsayılan değerler atanarak opsiyonel hale getirilebilir. Kullanıcılar, bu tür parametrelere isteğe bağlı olarak değer verebilir veya belirtilmezse varsayılan değerler kullanılır. Bu, fonksiyonların daha esnek ve kullanımı kolay olmasını sağlar ve fonksiyonların farklı senaryolara uyum sağlamasına imkan tanır."
   ]
  },
  {
   "cell_type": "markdown",
   "metadata": {},
   "source": [
    "**İçindekiler**<a id='toc0_'></a>    \n",
    "- [Opsiyonel Parametreler](#toc1_)    \n",
    "  - [Opsiyonel Parametreler ve Varsayılan Değerler](#toc1_1_)    \n",
    "  - [Type Hinting ve İşaretçiler (Annotations)](#toc1_2_)    \n",
    "    - [Typing](#toc1_2_1_)    \n",
    "  - [*args ve **kwargs](#toc1_3_)    \n",
    "    - [*args](#toc1_3_1_)    \n",
    "    - [**kwargs](#toc1_3_2_)    \n",
    "  - [Örnek: Müşteri Siparişleri](#toc1_4_)    \n",
    "  - [Kaynakça](#toc1_5_)    \n",
    "\n",
    "<!-- vscode-jupyter-toc-config\n",
    "\tnumbering=false\n",
    "\tanchor=true\n",
    "\tflat=false\n",
    "\tminLevel=1\n",
    "\tmaxLevel=6\n",
    "\t/vscode-jupyter-toc-config -->\n",
    "<!-- THIS CELL WILL BE REPLACED ON TOC UPDATE. DO NOT WRITE YOUR TEXT IN THIS CELL -->"
   ]
  },
  {
   "cell_type": "markdown",
   "metadata": {},
   "source": [
    "## <a id='toc1_1_'></a>[Opsiyonel Parametreler ve Varsayılan Değerler](#toc0_)\n",
    "\n",
    "Python'da fonksiyon tanımlarken, belirli parametreleri opsiyonel hale getirebilir ve varsayılan değerlerle tanımlayabiliriz. Böylece bu parametrelere argüman olarak değer verilmezse, fonksiyon varsayılan değerlerle çalışır. Bu opsiyonel parametreler, fonksiyonların daha esnek ve kullanıcı dostu olmasına olanak sağlar.\n",
    "\n",
    "Örneğin, bir matematik fonksiyonu tanımlayalım ve opsiyonel olarak `precision` adında bir parametre ekleyelim:"
   ]
  },
  {
   "cell_type": "code",
   "execution_count": 1,
   "metadata": {},
   "outputs": [
    {
     "name": "stdout",
     "output_type": "stream",
     "text": [
      "Sonuç 1: 5.0\n",
      "Sonuç 2: 5.0\n"
     ]
    }
   ],
   "source": [
    "def calculate_square_root(number, precision=2):\n",
    "    return round(number ** 0.5, precision)\n",
    "\n",
    "result1 = calculate_square_root(25)\n",
    "result2 = calculate_square_root(25, 4)\n",
    "\n",
    "print(\"Sonuç 1:\", result1)  # Sonuç 1: 5.0\n",
    "print(\"Sonuç 2:\", result2)  # Sonuç 2: 5.0"
   ]
  },
  {
   "cell_type": "markdown",
   "metadata": {},
   "source": [
    "Yukarıdaki örnekte `calculate_square_root` fonksiyonu, ikinci parametreyi opsiyonel hale getirerek, `precision` parametresini belirtmediğimiz durumda `2` değeriyle çalışır. `precision` parametresini belirttiğimiz durumda ise belirtilen değeri kullanır."
   ]
  },
  {
   "cell_type": "markdown",
   "metadata": {},
   "source": [
    "## <a id='toc1_2_'></a>[Type Hinting ve İşaretçiler (Annotations)](#toc0_)\n",
    "\n",
    "Python 3.5'ten itibaren, fonksiyonların parametrelerine ve dönüş değerlerine tip bilgisi eklemek için Type Hinting özelliği eklenmiştir. Type Hinting, kodun okunabilirliğini artırır ve statik analiz araçlarının kodu kontrol etmesine yardımcı olur. Ancak Python, hâlâ dinamik bir dil olduğu için tip belirlemesi zorunlu değildir ve yalnızca okunabilirliği artırmak amacıyla kullanılabilir.\n",
    "\n",
    "Type Hinting, parametrelerin ve dönüş değerinin türünü belirtmek için işaretçiler (annotations) kullanır. İşaretçiler, fonksiyon tanımlarken parametre ve dönüş değerlerinin yanına yazılır.\n",
    "\n",
    "Örneğin, yukarıdaki matematik fonksiyonunu Type Hinting kullanarak tanımlayalım:"
   ]
  },
  {
   "cell_type": "code",
   "execution_count": 2,
   "metadata": {},
   "outputs": [
    {
     "name": "stdout",
     "output_type": "stream",
     "text": [
      "Sonuç 1: 5.0\n",
      "Sonuç 2: 5.0\n"
     ]
    }
   ],
   "source": [
    "def calculate_square_root(number: float, precision: int = 2) -> float:\n",
    "    return round(number ** 0.5, precision)\n",
    "\n",
    "result1 = calculate_square_root(25)\n",
    "result2 = calculate_square_root(25, 4)\n",
    "\n",
    "print(\"Sonuç 1:\", result1)  # Sonuç 1: 5.0\n",
    "print(\"Sonuç 2:\", result2)  # Sonuç 2: 5.0"
   ]
  },
  {
   "cell_type": "markdown",
   "metadata": {},
   "source": [
    "Yukarıdaki örnekte, `calculate_square_root` fonksiyonunda `number` parametresi için `float` türü, `precision` parametresi için `int` türü, fonksiyonun dönüş değeri için de `float` türü belirtilmiştir."
   ]
  },
  {
   "cell_type": "markdown",
   "metadata": {},
   "source": [
    "### <a id='toc1_2_1_'></a>[Typing](#toc0_)\n",
    "\n",
    "`typing` kütüphanesi, türleri açıkça ifade ederek kodun okunabilirliğini artırmak ve statik analiz araçlarının doğru tür kontrolü yapmasını sağlamak için kullanılır. Bu, özellikle büyük projelerde ve işbirlikli yazılım geliştirmede önemlidir.\n",
    "\n",
    "Bazı yaygın kullanılan `typing` modülleri ve işaretçiler:\n",
    "\n",
    "- `List`: Bir liste (list) türünü belirtmek için kullanılır. Örneğin: `List[int]` bir tamsayıları içeren bir listeyi ifade eder.\n",
    "- `Dict`: Bir sözlük (dictionary) türünü belirtmek için kullanılır. Örneğin: `Dict[str, int]` anahtarları string, değerleri tamsayı olan bir sözlüğü ifade eder.\n",
    "- `Tuple`: Bir demet (tuple) türünü belirtmek için kullanılır. Örneğin: `Tuple[str, int]` bir string ve bir tamsayıdan oluşan bir demeti ifade eder.\n",
    "- `Set`: Bir küme (set) türünü belirtmek için kullanılır. Örneğin: `Set[int]` tamsayılardan oluşan bir küme ifade eder.\n",
    "- `Union`: Birden fazla türün kabul edildiği durumları belirtmek için kullanılır. Örneğin: `Union[int, float]` bir tamsayı ya da ondalık sayıyı ifade eder.\n",
    "- `Any`: Herhangi bir türü ifade eder. Kodun belirli bir tipe sahip olup olmadığını kontrol etmek istemediğimiz durumlarda kullanılabilir.\n",
    "\n",
    "Type Hinting ve `typing` kütüphanesi, kodun okunabilirliğini artırarak hata yapma olasılığını azaltır ve büyük ölçekli projelerde ekip üyeleri arasındaki iletişimi geliştirir. Ayrıca statik analiz araçlarının kullanımı sayesinde kodun hata ayıklaması ve bakımı kolaylaşır."
   ]
  },
  {
   "cell_type": "code",
   "execution_count": 1,
   "metadata": {},
   "outputs": [],
   "source": [
    "from typing import List, Dict, Union\n",
    "\n",
    "def calculate_order_total(products: List[str], **kwargs: Dict[str, Union[int, float]]) -> float:\n",
    "    # Fonksiyonun içeriği yukarıdaki örnekteki gibidir.\n",
    "    pass"
   ]
  },
  {
   "cell_type": "markdown",
   "metadata": {},
   "source": [
    "Yukarıdaki örnekte `List[str]` ifadesi, `products` parametresinin bir string listesi olduğunu belirtirken, `Dict[str, Union[int, float]]` ifadesi ise `kwargs` parametresinin anahtarları string, değerleri ise tamsayı veya ondalık sayı olan bir sözlük olduğunu belirtir. Böylece fonksiyonu çağıranların hangi parametreleri vermesi gerektiği açık bir şekilde ifade edilmiş olur."
   ]
  },
  {
   "cell_type": "markdown",
   "metadata": {},
   "source": [
    "## <a id='toc1_3_'></a>[*args ve **kwargs](#toc0_)\n",
    "\n",
    "Python'da `*args` ve `**kwargs` özel parametreleri, fonksiyonlara değişken sayıda argümanları (parametreleri) kabul etmelerini sağlar. Bu özel parametreler, fonksiyon tanımında yer alırlar ve farklı tiplerdeki argümanları alabilmek için kullanılırlar."
   ]
  },
  {
   "cell_type": "markdown",
   "metadata": {},
   "source": [
    "### <a id='toc1_3_1_'></a>[*args](#toc0_)\n",
    "\n",
    "`*args`, fonksiyona değişken sayıda pozisyonel argümanları bir demet (tuple) şeklinde toplar ve fonksiyon içinde bu demete ulaşmamızı sağlar. Demet içindeki argümanlar, fonksiyon içinde istediğimiz gibi kullanılabilir.\n",
    "\n",
    "Örnek olarak, `sum_numbers` fonksiyonunu tanımlayalım:"
   ]
  },
  {
   "cell_type": "code",
   "execution_count": 3,
   "metadata": {},
   "outputs": [
    {
     "name": "stdout",
     "output_type": "stream",
     "text": [
      "Sonuç 1: 6\n",
      "Sonuç 2: 100\n"
     ]
    }
   ],
   "source": [
    "def sum_numbers(*args):\n",
    "    total = 0\n",
    "    for num in args:\n",
    "        total += num\n",
    "    return total\n",
    "\n",
    "result1 = sum_numbers(1, 2, 3)\n",
    "result2 = sum_numbers(10, 20, 30, 40)\n",
    "\n",
    "print(\"Sonuç 1:\", result1)  # Sonuç 1: 6\n",
    "print(\"Sonuç 2:\", result2)  # Sonuç 2: 100"
   ]
  },
  {
   "cell_type": "markdown",
   "metadata": {},
   "source": [
    "### <a id='toc1_3_2_'></a>[**kwargs](#toc0_)\n",
    "`**kwargs`, fonksiyona değişken sayıda anahtar-değer çiftini bir sözlük (dictionary) şeklinde toplar ve fonksiyon içinde bu sözlüğe ulaşmamızı sağlar. Sözlük içindeki değerlere anahtarları kullanarak erişebiliriz.\n",
    "\n",
    "Örnek olarak, `print_info` fonksiyonunu tanımlayalım:"
   ]
  },
  {
   "cell_type": "code",
   "execution_count": 4,
   "metadata": {},
   "outputs": [
    {
     "name": "stdout",
     "output_type": "stream",
     "text": [
      "name: John\n",
      "age: 30\n",
      "occupation: Engineer\n"
     ]
    }
   ],
   "source": [
    "def print_info(**kwargs):\n",
    "    for key, value in kwargs.items():\n",
    "        print(f\"{key}: {value}\")\n",
    "\n",
    "print_info(name=\"John\", age=30, occupation=\"Engineer\")"
   ]
  },
  {
   "cell_type": "markdown",
   "metadata": {},
   "source": [
    "## <a id='toc1_4_'></a>[Örnek: Müşteri Siparişleri](#toc0_)"
   ]
  },
  {
   "cell_type": "code",
   "execution_count": 5,
   "metadata": {},
   "outputs": [
    {
     "name": "stdout",
     "output_type": "stream",
     "text": [
      "Sipariş Toplamı: 23.4\n"
     ]
    }
   ],
   "source": [
    "from typing import List, Dict, Union\n",
    "\n",
    "def calculate_order_total(products: List[str], **kwargs: Dict[str, Union[int, float]]) -> float:\n",
    "    total_price = 0\n",
    "\n",
    "    # Ürünlerin fiyatları bir sözlükte tanımlansın\n",
    "    prices = {\n",
    "        \"apple\": 2.5,\n",
    "        \"banana\": 1.75,\n",
    "        \"orange\": 3.0,\n",
    "        \"grapes\": 4.25,\n",
    "        \"watermelon\": 8.0\n",
    "    }\n",
    "\n",
    "    # Siparişteki her ürünün fiyatını hesaplayalım\n",
    "    for product in products:\n",
    "        quantity = kwargs.get(f\"{product}_quantity\", 0)\n",
    "        discount = kwargs.get(f\"{product}_discount\", 0)\n",
    "        price = prices.get(product, 0) * quantity * (1 - discount)\n",
    "        total_price += price\n",
    "\n",
    "    # Kargo ücreti varsa onu da ekleyelim\n",
    "    shipping_cost = kwargs.get(\"shipping_cost\", 0)\n",
    "    total_price += shipping_cost\n",
    "\n",
    "    # Vergiyi hesaplayalım ve toplam tutarı döndürelim\n",
    "    tax_rate = kwargs.get(\"tax_rate\", 0.18)\n",
    "    total_price *= (1 + tax_rate)\n",
    "    return round(total_price, 2)\n",
    "\n",
    "# Sipariş hesaplama örneği\n",
    "products_list = [\"apple\", \"banana\", \"grapes\"]\n",
    "order_total = calculate_order_total(\n",
    "    products=products_list,\n",
    "    apple_quantity=2,\n",
    "    banana_quantity=3,\n",
    "    grapes_quantity=1,\n",
    "    shipping_cost=5,\n",
    "    tax_rate=0.20\n",
    ")\n",
    "\n",
    "print(\"Sipariş Toplamı:\", order_total)  # Sipariş Toplamı: 33.12"
   ]
  },
  {
   "cell_type": "markdown",
   "metadata": {},
   "source": [
    "Yukarıdaki örnekte, `calculate_order_total` fonksiyonu müşteri siparişlerini hesaplamak için kullanılır. Fonksiyon, bir ürün listesi alır ve her ürün için miktar, indirim, kargo ücreti ve vergi oranı gibi opsiyonel parametrelerle birlikte çalışır. Bu sayede farklı müşteri siparişlerini esnek bir şekilde hesaplayabiliriz."
   ]
  },
  {
   "cell_type": "markdown",
   "metadata": {},
   "source": [
    "## <a id='toc1_5_'></a>[Kaynakça](#toc0_)\n",
    "---\n",
    "\n",
    "https://docs.python.org/tr/3/glossary.html#term-argument\n",
    "\n",
    "https://docs.python.org/tr/3/glossary.html#term-parameter\n",
    "\n",
    "https://docs.python.org/tr/3/library/typing.html?highlight=typing#module-typing"
   ]
  }
 ],
 "metadata": {
  "kernelspec": {
   "display_name": "Python 3",
   "language": "python",
   "name": "python3"
  },
  "language_info": {
   "codemirror_mode": {
    "name": "ipython",
    "version": 3
   },
   "file_extension": ".py",
   "mimetype": "text/x-python",
   "name": "python",
   "nbconvert_exporter": "python",
   "pygments_lexer": "ipython3",
   "version": "3.10.6"
  },
  "orig_nbformat": 4
 },
 "nbformat": 4,
 "nbformat_minor": 2
}
