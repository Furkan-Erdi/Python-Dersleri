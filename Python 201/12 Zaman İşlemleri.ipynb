{
 "cells": [
  {
   "cell_type": "markdown",
   "metadata": {},
   "source": [
    "# <a id='toc1_'></a>[Zaman İşlemleri](#toc0_)"
   ]
  },
  {
   "cell_type": "markdown",
   "metadata": {},
   "source": [
    "Python'da zaman işlemleri time ya da datetime built-in modülleri kullanılarak kolayca yapılabilir. Bu modüller ile kolayca zaman işlemlerini gerçekleştirebilir, gerektiğinde işlemci zamanına bile erişebilirsiniz."
   ]
  },
  {
   "cell_type": "markdown",
   "metadata": {},
   "source": [
    "**İçindekiler**<a id='toc0_'></a>    \n",
    "- [Zaman İşlemleri](#toc1_)    \n",
    "  - [time Modülü](#toc1_1_)    \n",
    "    - [time()](#toc1_1_1_)    \n",
    "    - [sleep()](#toc1_1_2_)    \n",
    "    - [ctime()](#toc1_1_3_)    \n",
    "    - [gmtime(saniye)](#toc1_1_4_)    \n",
    "    - [strftime(format, struct_time)](#toc1_1_5_)    \n",
    "    - [perf_counter()](#toc1_1_6_)    \n",
    "    - [process_time()](#toc1_1_7_)    \n",
    "  - [datetime modülü](#toc1_2_)    \n",
    "    - [datetime()](#toc1_2_1_)    \n",
    "    - [date](#toc1_2_2_)    \n",
    "    - [time](#toc1_2_3_)    \n",
    "    - [timedelta](#toc1_2_4_)    \n",
    "    - [strftime(time_string, format)](#toc1_2_5_)    \n",
    "  - [Kaynakça](#toc1_3_)    \n",
    "\n",
    "<!-- vscode-jupyter-toc-config\n",
    "\tnumbering=false\n",
    "\tanchor=true\n",
    "\tflat=false\n",
    "\tminLevel=1\n",
    "\tmaxLevel=6\n",
    "\t/vscode-jupyter-toc-config -->\n",
    "<!-- THIS CELL WILL BE REPLACED ON TOC UPDATE. DO NOT WRITE YOUR TEXT IN THIS CELL -->"
   ]
  },
  {
   "cell_type": "markdown",
   "metadata": {},
   "source": [
    "## <a id='toc1_1_'></a>[time Modülü](#toc0_)"
   ]
  },
  {
   "cell_type": "markdown",
   "metadata": {},
   "source": [
    "Python'daki `time` modülü, zamanla ilgili işlemler yapmak için kullanılan bir built-in modüldür. Bu modül, zamanı ölçmek, beklemek, zaman damgalarını işlemek ve zamanı çeşitli şekillerde biçimlendirmek için çeşitli fonksiyonlar ve özellikler sağlar.\n",
    "\n",
    "İlk önce time modülünü kullanmak için içeri aktaralım. Python'da built-in de olsa kütüphaneleri & modülleri kullanmak için dosyanın içerisine aktarmamız gerekir. İçe aktarma \"import\" anahtar sözcüğü ile yapılır."
   ]
  },
  {
   "cell_type": "code",
   "execution_count": 1,
   "metadata": {},
   "outputs": [],
   "source": [
    "import time"
   ]
  },
  {
   "cell_type": "markdown",
   "metadata": {},
   "source": [
    "### <a id='toc1_1_1_'></a>[time()](#toc0_)\n",
    "\n",
    "Bu fonksiyon, Unix epok zamanından (1970-01-01 00:00:00) geçen süreyi saniye cinsinden döndürür."
   ]
  },
  {
   "cell_type": "code",
   "execution_count": 2,
   "metadata": {},
   "outputs": [
    {
     "name": "stdout",
     "output_type": "stream",
     "text": [
      "1691226784.9437099\n"
     ]
    }
   ],
   "source": [
    "current_time = time.time()\n",
    "print(current_time)  # Örneğin: 1691226784.9437099"
   ]
  },
  {
   "cell_type": "markdown",
   "metadata": {},
   "source": [
    "### <a id='toc1_1_2_'></a>[sleep()](#toc0_)\n",
    "\n",
    "sleep(saniye), belirtilen süre kadar beklemek için kullanılır."
   ]
  },
  {
   "cell_type": "markdown",
   "metadata": {},
   "source": [
    "print(\"Beklemeye başladı...\")\n",
    "time.sleep(3)\n",
    "print(\"Bekleme tamamlandı!\")"
   ]
  },
  {
   "cell_type": "markdown",
   "metadata": {},
   "source": [
    "### <a id='toc1_1_3_'></a>[ctime()](#toc0_)\n",
    "\n",
    "Bu fonksiyon, saniye cinsinden bir zaman damgasını, insan tarafından okunabilir bir tarihe dönüştürür."
   ]
  },
  {
   "cell_type": "code",
   "execution_count": 3,
   "metadata": {},
   "outputs": [
    {
     "name": "stdout",
     "output_type": "stream",
     "text": [
      "Sat Aug  5 12:16:29 2023\n"
     ]
    }
   ],
   "source": [
    "timestamp = time.time()\n",
    "formatted_time = time.ctime(timestamp)\n",
    "print(formatted_time)  # Örneğin: Sat Aug  5 12:16:29 2023"
   ]
  },
  {
   "cell_type": "markdown",
   "metadata": {},
   "source": [
    "### <a id='toc1_1_4_'></a>[gmtime(saniye)](#toc0_)\n",
    "\n",
    "Bu fonksiyon, saniye cinsinden bir zaman damgasını, UTC (Koordinatlı Evrensel Zaman) zamanıyla ilişkilendiren bir `struct_time` nesnesi döndürür. Bu sayede istediğiniz bileşeni struct_time'dan alabilirsiniz."
   ]
  },
  {
   "cell_type": "code",
   "execution_count": 13,
   "metadata": {},
   "outputs": [
    {
     "name": "stdout",
     "output_type": "stream",
     "text": [
      "time.struct_time(tm_year=2023, tm_mon=8, tm_mday=5, tm_hour=9, tm_min=20, tm_sec=37, tm_wday=5, tm_yday=217, tm_isdst=0)\n",
      "Yıl: 2023\n",
      "Ay: 8\n",
      "Gün: 5\n",
      "\n",
      "Tarih: 5 / 8 / 2023\n"
     ]
    }
   ],
   "source": [
    "timestamp = time.time()\n",
    "utc_time = time.gmtime(timestamp)\n",
    "print(utc_time)  # Örneğin: time.struct_time(tm_year=2023, tm_mon=7, tm_mday=2, tm_hour=10, tm_min=17, tm_sec=25, tm_wday=6, tm_yday=183, tm_isdst=0)\n",
    "print(\"Yıl:\", utc_time.tm_year)\n",
    "print(\"Ay:\", utc_time.tm_mon)\n",
    "print(\"Gün:\", utc_time.tm_mday)\n",
    "\n",
    "print(\"\\nTarih:\", utc_time.tm_mday, \"/\", utc_time.tm_mon, \"/\", utc_time.tm_year)"
   ]
  },
  {
   "cell_type": "markdown",
   "metadata": {},
   "source": [
    "### <a id='toc1_1_5_'></a>[strftime(format, struct_time)](#toc0_)\n",
    "\n",
    "strftime, `struct_time` nesnesini belirtilen biçimle biçimlendirir ve formatlı bir tarih/saat dizesi döndürür."
   ]
  },
  {
   "cell_type": "code",
   "execution_count": 15,
   "metadata": {},
   "outputs": [
    {
     "name": "stdout",
     "output_type": "stream",
     "text": [
      "2023-08-05 12:22:51\n"
     ]
    }
   ],
   "source": [
    "timestamp = time.time()\n",
    "local_time = time.localtime(timestamp)\n",
    "formatted_time = time.strftime(\"%Y-%m-%d %H:%M:%S\", local_time)\n",
    "print(formatted_time)  # Örneğin: 2023-07-02 13:17:25"
   ]
  },
  {
   "cell_type": "markdown",
   "metadata": {},
   "source": [
    "| Yönerge | Anlamı                                                                                                                      |\n",
    "|---------|-----------------------------------------------------------------------------------------------------------------------------|\n",
    "| %a      | Yerel ayarın kısaltılmış hafta içi ismi.                                                                                    |\n",
    "| %A      | Yerel ayarın tam hafta içi ismi.                                                                                            |\n",
    "| %b      | Yerel ayarın kısaltılmış ay ismi.                                                                                           |\n",
    "| %B      | Yerel ayarın tam ay ismi.                                                                                                   |\n",
    "| %c      | Yerel ayarın uygun tarih ve zaman gösterimi.                                                                                |\n",
    "| %d      | Onluk sayı şeklinde ayın günü [01,31].                                                                                      |\n",
    "| %H      | Onluk sayı şeklinde saat (24-saatlik sistem) [00,23].                                                                       |\n",
    "| %I      | Onluk sayı şeklinde saat (12-saatlik sistem) [01,12].                                                                       |\n",
    "| %j      | Onluk sayı şeklinde yılın günü [001,366].                                                                                   |\n",
    "| %m      | Onluk sayı şeklinde ay [01,12].                                                                                             |\n",
    "| %M      | Onluk sayı şeklinde dakika [00,59].                                                                                         |\n",
    "| %p      | Yerel ayarın AM veya PM’e göre karşılığı.                                                                                   |\n",
    "| %S      | Onluk sayı şeklinde saniye [00,61].                                                                                         |\n",
    "| %U      | Onluk sayı şeklinde yılın (Pazar haftanın ilk günü olacak şekilde) hafta numarası [00,53].                                  |\n",
    "| %w      | Onluk sayı şeklinde hafta içi [0(Sunday),6].                                                                                |\n",
    "| %W      | Onluk sayı şeklinde yılın (Pazartesi haftanın ilk günü olacak şekilde) hafta numarası [00,53].                              |\n",
    "| %x      | Yerel ayarın uygun tarih gösterimi.                                                                                         |\n",
    "| %X      | Yerel ayarın uygun zaman gösterimi.                                                                                         |\n",
    "| %y      | Onluk sayı şeklinde yüzyıl olmadan yıl [00,99].                                                                             |\n",
    "| %Y      | Onluk sayı şeklinde yüzyıl ile birlikte yıl.                                                                                |\n",
    "| %z      | +HHMM veya -HHMM biçimindeki UTC/GMT’den pozitif veya negatif bir zaman farkını gösteren saat dilimi farkı [-23:59, +23:59] |\n",
    "| %Z      | Yerel zaman ismi (yerel zaman bulunmuyorsa karakter girmeyin). Kullanımdan kaldırıldı. 1                                    |\n",
    "| %%      | Gerçek bir '%' karakteri.                                                                                                   |"
   ]
  },
  {
   "cell_type": "markdown",
   "metadata": {},
   "source": [
    "### <a id='toc1_1_6_'></a>[perf_counter()](#toc0_)\n",
    "\n",
    "Bu fonksiyon, yüksek çözünürlüklü bir süre ölçümü için kullanılır. Geri dönüş değeri, işletim sistemi zamanlayıcısının çekirdeğinde bir sayaç tarafından ölçülen süredir."
   ]
  },
  {
   "cell_type": "code",
   "execution_count": 16,
   "metadata": {},
   "outputs": [
    {
     "name": "stdout",
     "output_type": "stream",
     "text": [
      "Geçen süre: 3.00 saniye\n"
     ]
    }
   ],
   "source": [
    "start_time = time.perf_counter()\n",
    "\n",
    "# Uzun süren bir işlem\n",
    "time.sleep(3)\n",
    "\n",
    "end_time = time.perf_counter()\n",
    "elapsed_time = end_time - start_time\n",
    "print(f\"Geçen süre: {elapsed_time:.2f} saniye\")"
   ]
  },
  {
   "cell_type": "markdown",
   "metadata": {},
   "source": [
    "### <a id='toc1_1_7_'></a>[process_time()](#toc0_)\n",
    "\n",
    "Bu fonksiyon, bir işlemin CPU süresini ölçmek için kullanılır. Geri dönüş değeri, işlemciye harcanan toplam süreyi temsil eder."
   ]
  },
  {
   "cell_type": "code",
   "execution_count": 17,
   "metadata": {},
   "outputs": [
    {
     "name": "stdout",
     "output_type": "stream",
     "text": [
      "Geçen süre: 0.02 saniye\n"
     ]
    }
   ],
   "source": [
    "start_time = time.process_time()\n",
    "\n",
    "# Uzun süren bir işlem\n",
    "for _ in range(1000000):\n",
    "    pass\n",
    "\n",
    "end_time = time.process_time()\n",
    "elapsed_time = end_time - start_time\n",
    "print(f\"Geçen süre: {elapsed_time:.2f} saniye\")"
   ]
  },
  {
   "cell_type": "markdown",
   "metadata": {},
   "source": [
    "## <a id='toc1_2_'></a>[datetime modülü](#toc0_)"
   ]
  },
  {
   "cell_type": "markdown",
   "metadata": {},
   "source": [
    "Python'daki `datetime` modülü, tarih ve saatle ilgili işlemleri yapmak için kullanılan bir built-in modüldür. Bu modül, tarihleri temsil etmek, tarihleri biçimlendirmek, tarih aralıkları ve zaman damgaları arasında işlemler yapmak ve daha fazlasını yapmak için çeşitli sınıflar ve fonksiyonlar sağlar.\n",
    "\n",
    "datetime modülü içerisinde birçok sınıf bulunmaktadır. Genellikle işlerimizi bu sınıflarla yaptığımızdan dolayı kelime tekrarı yapmamak için bu sınıfları içeriye aktarıp işlemlerimizi yapabiliriz."
   ]
  },
  {
   "cell_type": "markdown",
   "metadata": {},
   "source": [
    "### <a id='toc1_2_1_'></a>[datetime()](#toc0_)\n",
    "\n",
    "Bu sınıf, tarih ve saat bilgisini içeren bir nesne oluşturmak için kullanılır. `datetime` sınıfı, yıl, ay, gün, saat, dakika, saniye ve mikrosaniye gibi bileşenlerle çalışabilir."
   ]
  },
  {
   "cell_type": "code",
   "execution_count": 3,
   "metadata": {},
   "outputs": [
    {
     "name": "stdout",
     "output_type": "stream",
     "text": [
      "2023-08-05 12:38:35.522707\n",
      "2023-07-02 14:30:00\n",
      "2023\n",
      "7\n",
      "2\n",
      "14\n",
      "30\n",
      "0\n"
     ]
    }
   ],
   "source": [
    "from datetime import datetime\n",
    "\n",
    "# Geçerli tarih ve saat bilgisini alalım\n",
    "current_datetime = datetime.now()\n",
    "print(current_datetime)  # Örneğin: 2023-08-05 12:38:35.522707\n",
    "\n",
    "# Belirli bir tarih ve saat bilgisini oluşturmak\n",
    "custom_datetime = datetime(2023, 7, 2, 14, 30, 0)\n",
    "print(custom_datetime)  # Örneğin: 2023-07-02 14:30:00\n",
    "\n",
    "# Tarih ve saat bileşenlerine erişmek\n",
    "print(custom_datetime.year)  # 2023\n",
    "print(custom_datetime.month)  # 7\n",
    "print(custom_datetime.day)  # 2\n",
    "print(custom_datetime.hour)  # 14\n",
    "print(custom_datetime.minute)  # 30\n",
    "print(custom_datetime.second)  # 0"
   ]
  },
  {
   "cell_type": "markdown",
   "metadata": {},
   "source": [
    "### <a id='toc1_2_2_'></a>[date](#toc0_)\n",
    "\n",
    "date, sadece tarih bilgisini içeren bir nesne oluşturmak için kullanılır."
   ]
  },
  {
   "cell_type": "code",
   "execution_count": 4,
   "metadata": {},
   "outputs": [
    {
     "name": "stdout",
     "output_type": "stream",
     "text": [
      "2023-08-05\n",
      "2023-07-02\n",
      "2023\n",
      "7\n",
      "2\n"
     ]
    }
   ],
   "source": [
    "from datetime import date\n",
    "\n",
    "# Geçerli tarihi almak\n",
    "current_date = date.today()\n",
    "print(current_date)  # Örneğin: 2023-08-05\n",
    "\n",
    "# Belirli bir tarihi oluşturmak\n",
    "custom_date = date(2023, 7, 2)\n",
    "print(custom_date)  # Örneğin: 2023-07-02\n",
    "\n",
    "# Tarih bileşenlerine erişmek\n",
    "print(custom_date.year)  # 2023\n",
    "print(custom_date.month)  # 7\n",
    "print(custom_date.day)  # 2"
   ]
  },
  {
   "cell_type": "markdown",
   "metadata": {},
   "source": [
    "### <a id='toc1_2_3_'></a>[time](#toc0_)\n",
    "\n",
    "Bu sınıf, sadece saat bilgisini içeren bir nesne oluşturmak için kullanılır."
   ]
  },
  {
   "cell_type": "code",
   "execution_count": 5,
   "metadata": {},
   "outputs": [
    {
     "name": "stdout",
     "output_type": "stream",
     "text": [
      "14:30:00\n",
      "14\n",
      "30\n",
      "0\n"
     ]
    }
   ],
   "source": [
    "from datetime import time\n",
    "\n",
    "# Belirli bir saati oluşturmak\n",
    "custom_time = time(14, 30, 0)\n",
    "print(custom_time)  # Örneğin: 14:30:00\n",
    "\n",
    "# Saat bileşenlerine erişmek\n",
    "print(custom_time.hour)  # 14\n",
    "print(custom_time.minute)  # 30\n",
    "print(custom_time.second)  # 0"
   ]
  },
  {
   "cell_type": "markdown",
   "metadata": {},
   "source": [
    "### <a id='toc1_2_4_'></a>[timedelta](#toc0_)\n",
    "\n",
    "timedelta, iki tarih veya saat arasındaki farkı temsil etmek için kullanılır."
   ]
  },
  {
   "cell_type": "code",
   "execution_count": 6,
   "metadata": {},
   "outputs": [
    {
     "name": "stdout",
     "output_type": "stream",
     "text": [
      "Başlangıç zamanı: 2023-08-05 12:42:52.036738\n",
      "Bitiş zamanı: 2023-08-05 12:43:52.036738\n"
     ]
    }
   ],
   "source": [
    "from datetime import datetime, timedelta\n",
    "\n",
    "# Geçerli tarih ve saat bilgisini almak\n",
    "start_time = datetime.now()\n",
    "\n",
    "# Bir dakika beklemek\n",
    "delta = timedelta(minutes=1)\n",
    "end_time = start_time + delta\n",
    "\n",
    "print(\"Başlangıç zamanı:\", start_time)\n",
    "print(\"Bitiş zamanı:\", end_time)"
   ]
  },
  {
   "cell_type": "markdown",
   "metadata": {},
   "source": [
    "### <a id='toc1_2_5_'></a>[strftime(time_string, format)](#toc0_)\n",
    "\n",
    "Bu fonksiyon, bir `datetime` veya `date` nesnesini belirtilen biçimle biçimlendirir ve formatlı bir tarih/saat dizesi döndürür."
   ]
  },
  {
   "cell_type": "code",
   "execution_count": 7,
   "metadata": {},
   "outputs": [
    {
     "name": "stdout",
     "output_type": "stream",
     "text": [
      "2023-08-05 12:45:02\n",
      "2023-07-02 14:30:45\n"
     ]
    }
   ],
   "source": [
    "from datetime import datetime\n",
    "\n",
    "current_datetime = datetime.now()\n",
    "formatted_datetime = current_datetime.strftime(\"%Y-%m-%d %H:%M:%S\")\n",
    "print(formatted_datetime)  # Örneğin: 2023-07-02 14:30:45\n",
    "\n",
    "time_string = \"2023-07-02 14:30:45\"\n",
    "time_format = \"%Y-%m-%d %H:%M:%S\"\n",
    "parsed_datetime = datetime.strptime(time_string, time_format)\n",
    "print(parsed_datetime)  # Örneğin: 2023-07-02 14:30:45"
   ]
  },
  {
   "cell_type": "markdown",
   "metadata": {},
   "source": [
    "## <a id='toc1_3_'></a>[Kaynakça](#toc0_)\n",
    "---\n",
    "\n",
    "https://docs.python.org/tr/3/library/time.html\n",
    "\n",
    "https://docs.python.org/tr/3/library/datetime.html"
   ]
  }
 ],
 "metadata": {
  "kernelspec": {
   "display_name": "Python 3",
   "language": "python",
   "name": "python3"
  },
  "language_info": {
   "codemirror_mode": {
    "name": "ipython",
    "version": 3
   },
   "file_extension": ".py",
   "mimetype": "text/x-python",
   "name": "python",
   "nbconvert_exporter": "python",
   "pygments_lexer": "ipython3",
   "version": "3.10.6"
  },
  "orig_nbformat": 4
 },
 "nbformat": 4,
 "nbformat_minor": 2
}
