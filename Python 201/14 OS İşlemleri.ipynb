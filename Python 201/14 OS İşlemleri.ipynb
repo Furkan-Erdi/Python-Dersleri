{
 "cells": [
  {
   "cell_type": "markdown",
   "metadata": {},
   "source": [
    "# <a id='toc1_'></a>[OS İşlemleri](#toc0_)"
   ]
  },
  {
   "cell_type": "markdown",
   "metadata": {},
   "source": [
    "Python'daki `os` modülü, işletim sistemi işlemlerini gerçekleştirmek için kullanılır. Bu modül, Python uygulamalarının işletim sistemine bağımlı özellikleri ve işlevleri kullanmasına olanak sağlar. `os` modülü, dizin oluşturma, dosya silme, dosya taşıma, işletim sistemi ile iletişim kurma, dosya izinleri gibi bir dizi işlemi gerçekleştirebilir.\n",
    "\n",
    "`os` modülü, Python'un standart kütüphanesinin bir parçası olduğu için ek bir yükleme yapmanıza gerek yoktur. os modülünü içeri aktararak işlemlerimize başlayalım."
   ]
  },
  {
   "cell_type": "code",
   "execution_count": 1,
   "metadata": {},
   "outputs": [],
   "source": [
    "import os"
   ]
  },
  {
   "cell_type": "markdown",
   "metadata": {},
   "source": [
    "**İçindekiler**<a id='toc0_'></a>    \n",
    "- [OS İşlemleri](#toc1_)    \n",
    "    - [Çalışma Dizini Değiştirme](#toc1_1_1_)    \n",
    "    - [Dizin Oluşturma](#toc1_1_2_)    \n",
    "    - [Birden Çok Dizin Oluşturma](#toc1_1_3_)    \n",
    "    - [Dizin Silme](#toc1_1_4_)    \n",
    "    - [Dizin İçeriğini Listeleme](#toc1_1_5_)    \n",
    "    - [Dosya Silme](#toc1_1_6_)    \n",
    "    - [Dosya Taşıma ve Kopyalama](#toc1_1_7_)    \n",
    "  - [Dosya Yönetimi ve İzinleri](#toc1_2_)    \n",
    "    - [Dosya ve Dizin İzinleri](#toc1_2_1_)    \n",
    "    - [Dosya İzinlerini Getirme](#toc1_2_2_)    \n",
    "  - [Yürütülebilir Komutlar ve Çalışma](#toc1_3_)    \n",
    "    - [Sistem Komutları Yürütme](#toc1_3_1_)    \n",
    "  - [Yol İşlemleri](#toc1_4_)    \n",
    "    - [Yol Birleştirme](#toc1_4_1_)    \n",
    "    - [Yol Ayırma](#toc1_4_2_)    \n",
    "    - [Yolun Varlığını Kontrol Etme](#toc1_4_3_)    \n",
    "  - [Örnek: Dosya İçinde Arama](#toc1_5_)    \n",
    "  - [Kaynakça](#toc1_6_)    \n",
    "\n",
    "<!-- vscode-jupyter-toc-config\n",
    "\tnumbering=false\n",
    "\tanchor=true\n",
    "\tflat=false\n",
    "\tminLevel=1\n",
    "\tmaxLevel=6\n",
    "\t/vscode-jupyter-toc-config -->\n",
    "<!-- THIS CELL WILL BE REPLACED ON TOC UPDATE. DO NOT WRITE YOUR TEXT IN THIS CELL -->"
   ]
  },
  {
   "cell_type": "markdown",
   "metadata": {},
   "source": [
    "### <a id='toc1_1_1_'></a>[Çalışma Dizini Değiştirme](#toc0_)\n",
    "\n",
    "Python uygulamasının çalışma dizinini değiştirmek için `os.chdir()` işlevini kullanabiliriz."
   ]
  },
  {
   "cell_type": "code",
   "execution_count": 3,
   "metadata": {},
   "outputs": [
    {
     "name": "stdout",
     "output_type": "stream",
     "text": [
      "Şu anki çalışma dizini: d:\\YouTube\\Eğitimler\\Python-Dersleri\\ders_notları\n",
      "Yeni çalışma dizini: d:\\YouTube\\Eğitimler\\Python-Dersleri\n"
     ]
    }
   ],
   "source": [
    "# Şu anki çalışma dizinini al\n",
    "current_dir = os.getcwd()\n",
    "print(\"Şu anki çalışma dizini:\", current_dir)\n",
    "\n",
    "# Çalışma dizinini değiştir\n",
    "os.chdir(\"/YouTube/Eğitimler/Python-Dersleri\")\n",
    "\n",
    "# Yeni çalışma dizinini al\n",
    "new_dir = os.getcwd()\n",
    "print(\"Yeni çalışma dizini:\", new_dir)"
   ]
  },
  {
   "cell_type": "markdown",
   "metadata": {},
   "source": [
    "### <a id='toc1_1_2_'></a>[Dizin Oluşturma](#toc0_)\n",
    "\n",
    "Yeni bir dizin oluşturmak için `os.mkdir()` işlevini kullanabiliriz."
   ]
  },
  {
   "cell_type": "code",
   "execution_count": 4,
   "metadata": {},
   "outputs": [
    {
     "name": "stdout",
     "output_type": "stream",
     "text": [
      "Dizin başarıyla oluşturuldu.\n"
     ]
    }
   ],
   "source": [
    "# Yeni dizin adı\n",
    "new_dir_name = \"Yeni_Dizin\"\n",
    "\n",
    "# Dizin oluşturma\n",
    "os.mkdir(new_dir_name)\n",
    "\n",
    "# Oluşturulan dizini kontrol etme\n",
    "if os.path.exists(new_dir_name):\n",
    "    print(\"Dizin başarıyla oluşturuldu.\")\n",
    "else:\n",
    "    print(\"Dizin oluşturma başarısız.\")"
   ]
  },
  {
   "cell_type": "markdown",
   "metadata": {},
   "source": [
    "### <a id='toc1_1_3_'></a>[Birden Çok Dizin Oluşturma](#toc0_)\n",
    "\n",
    "Birden çok alt dizin oluşturmak için `os.makedirs()` işlevini kullanabiliriz."
   ]
  },
  {
   "cell_type": "code",
   "execution_count": 5,
   "metadata": {},
   "outputs": [
    {
     "name": "stdout",
     "output_type": "stream",
     "text": [
      "Dizinler başarıyla oluşturuldu.\n"
     ]
    }
   ],
   "source": [
    "# Birden çok alt dizin adı\n",
    "new_dirs = \"parent_dir/child_dir/grandchild_dir\"\n",
    "\n",
    "# Birden çok alt dizin oluşturma\n",
    "os.makedirs(new_dirs)\n",
    "\n",
    "# Oluşturulan dizinleri kontrol etme\n",
    "if os.path.exists(\"parent_dir/child_dir/grandchild_dir\"):\n",
    "    print(\"Dizinler başarıyla oluşturuldu.\")\n",
    "else:\n",
    "    print(\"Dizinler oluşturma başarısız.\")"
   ]
  },
  {
   "cell_type": "markdown",
   "metadata": {},
   "source": [
    "### <a id='toc1_1_4_'></a>[Dizin Silme](#toc0_)\n",
    "\n",
    "Bir dizini silmek için `os.rmdir()` işlevini kullanabiliriz."
   ]
  },
  {
   "cell_type": "code",
   "execution_count": 6,
   "metadata": {},
   "outputs": [
    {
     "name": "stdout",
     "output_type": "stream",
     "text": [
      "Dizin başarıyla silindi.\n"
     ]
    }
   ],
   "source": [
    "# Silinecek dizin adı\n",
    "dir_to_delete = \"my_directory_to_delete\"\n",
    "\n",
    "# Dizini sil\n",
    "os.rmdir(dir_to_delete)\n",
    "\n",
    "# Silinen dizini kontrol etme\n",
    "if not os.path.exists(dir_to_delete):\n",
    "    print(\"Dizin başarıyla silindi.\")\n",
    "else:\n",
    "    print(\"Dizin silme başarısız.\")"
   ]
  },
  {
   "cell_type": "markdown",
   "metadata": {},
   "source": [
    "### <a id='toc1_1_5_'></a>[Dizin İçeriğini Listeleme](#toc0_)\n",
    "\n",
    "Bir dizinin içeriğini listelemek için `os.listdir()` işlevini kullanabiliriz."
   ]
  },
  {
   "cell_type": "code",
   "execution_count": 11,
   "metadata": {},
   "outputs": [
    {
     "name": "stdout",
     "output_type": "stream",
     "text": [
      "Dizin içeriği:\n",
      "0 Kurulum.ipynb\n",
      "1 Değişkenler ve Veri Tipleri.ipynb\n",
      "10 Dahili Fonksiyonlar.ipynb\n",
      "11 Dosya İşlemleri.ipynb\n",
      "12 Zaman İşlemleri.ipynb\n",
      "13 Matematiksel İşlemler.ipynb\n",
      "14 OS İşlemleri.ipynb\n",
      "15 JSON.ipynb\n",
      "16 RegEx.ipynb\n",
      "17 Sınıflar.ipynb\n",
      "18 İstisnalar.ipynb\n",
      "19 Dekoratörler.ipynb\n",
      "2 String.ipynb\n",
      "20 Opsiyonel Parametreler.ipynb\n",
      "21 itertools.ipynb\n",
      "22 functools.ipynb\n",
      "23 collections.ipynb\n",
      "24 Lambda Fonksiyonu.ipynb\n",
      "25 Map Fonksiyonu.ipynb\n",
      "26 Filter.ipynb\n",
      "27 Heap Queue.ipynb\n",
      "28 Sanal Ortamlar - venv.ipynb\n",
      "29 Paralel Programlama ve Threading.ipynb\n",
      "3 Seriler - list, tuple.ipynb\n",
      "30 Multi Processing.ipynb\n",
      "4 Dict.ipynb\n",
      "5 Set.ipynb\n",
      "6 Karşılaştırma.ipynb\n",
      "7 Koşullu İfadeler.ipynb\n",
      "8 Döngüler.ipynb\n",
      "9 Fonksiyonlar.ipynb\n",
      "Materyaller\n",
      "_ Python Eğitimi.ipynb\n"
     ]
    }
   ],
   "source": [
    "# Listelenecek dizin adı\n",
    "directory = \"ders_notları\"\n",
    "\n",
    "# Dizin içeriğini listele\n",
    "contents = os.listdir(directory)\n",
    "\n",
    "print(\"Dizin içeriği:\")\n",
    "for item in contents:\n",
    "    print(item)"
   ]
  },
  {
   "cell_type": "markdown",
   "metadata": {},
   "source": [
    "### <a id='toc1_1_6_'></a>[Dosya Silme](#toc0_)\n",
    "\n",
    "Bir dosyayı silmek için `os.remove()` işlevini kullanabiliriz."
   ]
  },
  {
   "cell_type": "code",
   "execution_count": 12,
   "metadata": {},
   "outputs": [
    {
     "name": "stdout",
     "output_type": "stream",
     "text": [
      "Dosya başarıyla silindi.\n"
     ]
    }
   ],
   "source": [
    "# Silinecek dosyanın adı\n",
    "file_to_delete = \"my_file_to_delete.txt\"\n",
    "\n",
    "# Dosyayı sil\n",
    "os.remove(file_to_delete)\n",
    "\n",
    "# Silinen dosyayı kontrol etme\n",
    "if not os.path.exists(file_to_delete):\n",
    "    print(\"Dosya başarıyla silindi.\")\n",
    "else:\n",
    "    print(\"Dosya silme başarısız.\")"
   ]
  },
  {
   "cell_type": "markdown",
   "metadata": {},
   "source": [
    "### <a id='toc1_1_7_'></a>[Dosya Taşıma ve Kopyalama](#toc0_)\n",
    "\n",
    "Dosyaları taşımak veya kopyalamak için `os.rename()` veya `shutil.move()` işlevlerini kullanabiliriz."
   ]
  },
  {
   "cell_type": "code",
   "execution_count": null,
   "metadata": {},
   "outputs": [],
   "source": [
    "import os\n",
    "import shutil\n",
    "\n",
    "# Taşınacak veya kopyalanacak dosyanın adı ve yolu\n",
    "source_file = \"/path/to/source/file.txt\"\n",
    "destination_dir = \"/path/to/destination/directory/\"\n",
    "\n",
    "# Dosyayı taşı\n",
    "os.rename(source_file, os.path.join(destination_dir, os.path.basename(source_file)))\n",
    "\n",
    "# Dosyayı kopyala\n",
    "shutil.move(source_file, os.path.join(destination_dir, os.path.basename(source_file)))"
   ]
  },
  {
   "cell_type": "markdown",
   "metadata": {},
   "source": [
    "## <a id='toc1_2_'></a>[Dosya Yönetimi ve İzinleri](#toc0_)"
   ]
  },
  {
   "cell_type": "markdown",
   "metadata": {},
   "source": [
    "### <a id='toc1_2_1_'></a>[Dosya ve Dizin İzinleri](#toc0_)\n",
    "\n",
    "Dosya veya dizinin izinlerini değiştirmek için `os.chmod()` işlevini kullanabiliriz."
   ]
  },
  {
   "cell_type": "code",
   "execution_count": null,
   "metadata": {},
   "outputs": [],
   "source": [
    "# Dosya adı\n",
    "file_name = \"my_file.txt\"\n",
    "\n",
    "# Dosya izinlerini ayarla\n",
    "os.chmod(file_name, 0o777)  # Örnek olarak, 777 tüm izinleri açar (okuma, yazma ve çalıştırma)"
   ]
  },
  {
   "cell_type": "markdown",
   "metadata": {},
   "source": [
    "### <a id='toc1_2_2_'></a>[Dosya İzinlerini Getirme](#toc0_)\n",
    "\n",
    "Dosya veya dizinin izinlerini almak için `os.stat()` işlevini kullanabiliriz."
   ]
  },
  {
   "cell_type": "code",
   "execution_count": null,
   "metadata": {},
   "outputs": [],
   "source": [
    "# Dosya adı\n",
    "file_name = \"my_file.txt\"\n",
    "\n",
    "# Dosya izinlerini al\n",
    "file_stat = os.stat(file_name)\n",
    "\n",
    "# Dosya izinlerini görüntüle\n",
    "print(\"Dosya İzinleri:\", oct(file_stat.st_mode))"
   ]
  },
  {
   "cell_type": "markdown",
   "metadata": {},
   "source": [
    "## <a id='toc1_3_'></a>[Yürütülebilir Komutlar ve Çalışma](#toc0_)"
   ]
  },
  {
   "cell_type": "markdown",
   "metadata": {},
   "source": [
    "### <a id='toc1_3_1_'></a>[Sistem Komutları Yürütme](#toc0_)\n",
    "\n",
    "Python'da işletim sistemi komutlarını yürütmek için `os.system()` veya `subprocess.run()` işlevlerini kullanabiliriz."
   ]
  },
  {
   "cell_type": "code",
   "execution_count": null,
   "metadata": {},
   "outputs": [],
   "source": [
    "import os\n",
    "import subprocess\n",
    "\n",
    "# os.system() kullanarak\n",
    "os.system(\"ls -l\")\n",
    "\n",
    "# subprocess.run() kullanarak\n",
    "subprocess.run([\"ls\", \"-l\"])"
   ]
  },
  {
   "cell_type": "markdown",
   "metadata": {},
   "source": [
    "## <a id='toc1_4_'></a>[Yol İşlemleri](#toc0_)"
   ]
  },
  {
   "cell_type": "markdown",
   "metadata": {},
   "source": [
    "### <a id='toc1_4_1_'></a>[Yol Birleştirme](#toc0_)\n",
    "\n",
    "Dizin ve dosya yollarını birleştirmek için `os.path.join()` işlevini kullanabiliriz."
   ]
  },
  {
   "cell_type": "code",
   "execution_count": null,
   "metadata": {},
   "outputs": [],
   "source": [
    "# Dizin ve dosya adları\n",
    "directory = \"/path/to/directory\"\n",
    "file_name = \"my_file.txt\"\n",
    "\n",
    "# Yolu birleştir\n",
    "full_path = os.path.join(directory, file_name)\n",
    "print(\"Tam Yol:\", full_path)"
   ]
  },
  {
   "cell_type": "markdown",
   "metadata": {},
   "source": [
    "### <a id='toc1_4_2_'></a>[Yol Ayırma](#toc0_)\n",
    "\n",
    "Bir yolun dizin adını ve dosya adını ayırmak için `os.path.split()` işlevini kullanabiliriz."
   ]
  },
  {
   "cell_type": "code",
   "execution_count": null,
   "metadata": {},
   "outputs": [],
   "source": [
    "# Tam yol\n",
    "full_path = \"/path/to/directory/my_file.txt\"\n",
    "\n",
    "# Yolu ayır\n",
    "directory, file_name = os.path.split(full_path)\n",
    "print(\"Dizin:\", directory)\n",
    "print(\"Dosya Adı:\", file_name)"
   ]
  },
  {
   "cell_type": "markdown",
   "metadata": {},
   "source": [
    "### <a id='toc1_4_3_'></a>[Yolun Varlığını Kontrol Etme](#toc0_)\n",
    "\n",
    "Bir yolun var olup olmadığını kontrol etmek için `os.path.exists()` işlevini kullanabiliriz."
   ]
  },
  {
   "cell_type": "code",
   "execution_count": null,
   "metadata": {},
   "outputs": [],
   "source": [
    "# Yol\n",
    "path = \"/path/to/directory_or_file\"\n",
    "\n",
    "# Yolun var olup olmadığını kontrol et\n",
    "if os.path.exists(path):\n",
    "    print(\"Yol mevcut.\")\n",
    "else:\n",
    "    print(\"Yol mevcut değil.\")"
   ]
  },
  {
   "cell_type": "markdown",
   "metadata": {},
   "source": [
    "## <a id='toc1_5_'></a>[Örnek: Dosya İçinde Arama](#toc0_)"
   ]
  },
  {
   "cell_type": "markdown",
   "metadata": {},
   "source": [
    "Belirli bir metni dosya içinde aramak için aşağıdaki gibi bir fonksiyon oluşturabiliriz"
   ]
  },
  {
   "cell_type": "code",
   "execution_count": 19,
   "metadata": {},
   "outputs": [
    {
     "name": "stdout",
     "output_type": "stream",
     "text": [
      "Bulunan metin 'Python' - Satır: 4: Python\n"
     ]
    }
   ],
   "source": [
    "def search_text_in_file(file_path, search_text):\n",
    "    found = False\n",
    "    with open(file_path, 'r') as file:\n",
    "        for line_number, line in enumerate(file, 1):\n",
    "            if search_text in line:\n",
    "                print(f\"Bulunan metin '{search_text}' - Satır: {line_number}: {line.strip()}\")\n",
    "                found = True\n",
    "    if not found:\n",
    "        print(f\"Metin '{search_text}' dosyada bulunamadı.\")\n",
    "\n",
    "# Örnek kullanım\n",
    "file_path = \"my_text_file.txt\"\n",
    "search_text = \"Python\"\n",
    "search_text_in_file(file_path, search_text) # Belirtilen dosya içinde aranan metni bulacak ve eşleşmelerin bulunduğu satırları ekrana yazdıracaktır."
   ]
  },
  {
   "cell_type": "markdown",
   "metadata": {},
   "source": [
    "## <a id='toc1_6_'></a>[Kaynakça](#toc0_)\n",
    "---\n",
    "\n",
    "https://docs.python.org/tr/3/library/os.html?highlight=os#module-os\n",
    "\n",
    "https://docs.python.org/tr/3/library/os.html?highlight=os#os-file-dir\n",
    "\n",
    "https://docs.python.org/tr/3/library/os.path.html?highlight=os"
   ]
  }
 ],
 "metadata": {
  "kernelspec": {
   "display_name": "Python 3",
   "language": "python",
   "name": "python3"
  },
  "language_info": {
   "codemirror_mode": {
    "name": "ipython",
    "version": 3
   },
   "file_extension": ".py",
   "mimetype": "text/x-python",
   "name": "python",
   "nbconvert_exporter": "python",
   "pygments_lexer": "ipython3",
   "version": "3.10.6"
  },
  "orig_nbformat": 4
 },
 "nbformat": 4,
 "nbformat_minor": 2
}
