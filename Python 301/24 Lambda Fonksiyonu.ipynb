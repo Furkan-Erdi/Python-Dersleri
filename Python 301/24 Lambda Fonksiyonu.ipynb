{
 "cells": [
  {
   "cell_type": "markdown",
   "metadata": {},
   "source": [
    "# <a id='toc1_'></a>[Lambda Fonksiyonu](#toc0_)"
   ]
  },
  {
   "cell_type": "markdown",
   "metadata": {},
   "source": [
    "Lambda fonksiyonları, Python'da tek satırlık anonim (isimsiz) fonksiyonlardır. Diğer adıyla \"lambda expressions\" veya \"lambda forms\" olarak da bilinirler. Lambda fonksiyonları, normal fonksiyonlardan farklı olarak `def` anahtar kelimesiyle tanımlanmazlar ve isimsiz olarak kullanılırlar. Genellikle kısa işlemleri yapmak için kullanılırlar ve özellikle fonksiyonlara parametre olarak geçmek amacıyla kullanılır.\n",
    "\n",
    "Lambda fonksiyonları, genellikle `lambda` anahtar kelimesiyle başlar, takip eden parantez içinde parametreleri tanımlanır ve sonra iki nokta üst üste (`:`) ile fonksiyonun geri dönüş değeri belirtilir. Lambda fonksiyonu oluşturulduktan sonra, değişkenlere atanabilir veya doğrudan fonksiyon çağrıları içinde kullanılabilirler."
   ]
  },
  {
   "cell_type": "markdown",
   "metadata": {},
   "source": [
    "**İçindekiler**<a id='toc0_'></a>    \n",
    "- [Lambda Fonksiyonu](#toc1_)    \n",
    "  - [Lambda Fonksiyonu Oluşturma ve Kullanımı](#toc1_1_)    \n",
    "  - [Lambda Fonksiyonlarının Avantajları](#toc1_2_)    \n",
    "  - [Lambda Fonksiyonlarının Kısıtlamaları](#toc1_3_)    \n",
    "  - [Lambda Fonksiyonlarının Kullanım Alanları](#toc1_4_)    \n",
    "  - [Örnek](#toc1_5_)    \n",
    "\n",
    "<!-- vscode-jupyter-toc-config\n",
    "\tnumbering=false\n",
    "\tanchor=true\n",
    "\tflat=false\n",
    "\tminLevel=1\n",
    "\tmaxLevel=6\n",
    "\t/vscode-jupyter-toc-config -->\n",
    "<!-- THIS CELL WILL BE REPLACED ON TOC UPDATE. DO NOT WRITE YOUR TEXT IN THIS CELL -->"
   ]
  },
  {
   "cell_type": "markdown",
   "metadata": {},
   "source": [
    "## <a id='toc1_1_'></a>[Lambda Fonksiyonu Oluşturma ve Kullanımı](#toc0_)\n",
    "\n",
    "Lambda fonksiyonları, tek satırda ifade edilecek basit işlemler için kullanılır. Lambda fonksiyonlarını `lambda` anahtar kelimesiyle tanımlayabiliriz."
   ]
  },
  {
   "cell_type": "code",
   "execution_count": 1,
   "metadata": {},
   "outputs": [
    {
     "name": "stdout",
     "output_type": "stream",
     "text": [
      "25\n"
     ]
    }
   ],
   "source": [
    "# Lambda fonksiyonu oluşturma\n",
    "square = lambda x: x ** 2\n",
    "\n",
    "# Lambda fonksiyonunu çağırma\n",
    "result = square(5)\n",
    "print(result)  # Output: 25"
   ]
  },
  {
   "cell_type": "markdown",
   "metadata": {},
   "source": [
    "## <a id='toc1_2_'></a>[Lambda Fonksiyonlarının Avantajları](#toc0_)\n",
    "\n",
    "1. Tek Satırda İfade: Lambda fonksiyonları, işlevlerin kısa süreli kullanımlar için tek satırda ifade edilebilmesini sağlar.\n",
    "\n",
    "2. Anonim Kullanım: İsim vermeden lambda fonksiyonlarını doğrudan diğer fonksiyonlara veya yapıya geçebiliriz."
   ]
  },
  {
   "cell_type": "markdown",
   "metadata": {},
   "source": [
    "## <a id='toc1_3_'></a>[Lambda Fonksiyonlarının Kısıtlamaları](#toc0_)\n",
    "\n",
    "1. Tek Satır İşlemleri: Lambda fonksiyonları sadece tek bir ifadeye sığacak kadar basit işlemler için kullanılmalıdır. Birden çok ifade içeren işlemler için normal fonksiyonlar daha uygundur.\n",
    "\n",
    "2. Sadece İfade Döndürebilir: Lambda fonksiyonları yalnızca tek bir ifadeyi değer olarak döndürebilir. Birden fazla ifade gerektiren işlemler için normal fonksiyonlar daha uygundur."
   ]
  },
  {
   "cell_type": "markdown",
   "metadata": {},
   "source": [
    "## <a id='toc1_4_'></a>[Lambda Fonksiyonlarının Kullanım Alanları](#toc0_)\n",
    "\n",
    "Lambda fonksiyonları, özellikle `map()`, `filter()`, `reduce()` gibi fonksiyonlarla birlikte kullanılarak pratikte yaygın olarak kullanılır. Ayrıca, sort işlevlerindeki `key` parametresini belirlemek veya başka fonksiyonların parametrelerine geçici olarak bir fonksiyon olarak kullanmak için de kullanışlıdırlar."
   ]
  },
  {
   "cell_type": "markdown",
   "metadata": {},
   "source": [
    "## <a id='toc1_5_'></a>[Örnek](#toc0_)"
   ]
  },
  {
   "cell_type": "code",
   "execution_count": 2,
   "metadata": {},
   "outputs": [
    {
     "name": "stdout",
     "output_type": "stream",
     "text": [
      "Charlie, Age: 27, Grade: 95\n",
      "Alice, Age: 25, Grade: 85\n",
      "David, Age: 21, Grade: 80\n",
      "Bob, Age: 22, Grade: 70\n"
     ]
    }
   ],
   "source": [
    "# Öğrenci verilerini temsil eden bir liste\n",
    "students = [\n",
    "    {'name': 'Alice', 'age': 25, 'grade': 85},\n",
    "    {'name': 'Bob', 'age': 22, 'grade': 70},\n",
    "    {'name': 'Charlie', 'age': 27, 'grade': 95},\n",
    "    {'name': 'David', 'age': 21, 'grade': 80},\n",
    "]\n",
    "\n",
    "# Öğrencileri notlarına göre sıralamak için lambda fonksiyonu kullanalım\n",
    "sorted_students = sorted(students, key=lambda student: student['grade'], reverse=True)\n",
    "\n",
    "# Sıralanmış öğrencileri ekrana yazdıralım\n",
    "for student in sorted_students:\n",
    "    print(f\"{student['name']}, Age: {student['age']}, Grade: {student['grade']}\")"
   ]
  },
  {
   "cell_type": "markdown",
   "metadata": {},
   "source": [
    "## Kaynakça\n",
    "---\n",
    "\n",
    "https://docs.python.org/tr/3/tutorial/controlflow.html#lambda-expressions"
   ]
  }
 ],
 "metadata": {
  "kernelspec": {
   "display_name": "Python 3",
   "language": "python",
   "name": "python3"
  },
  "language_info": {
   "codemirror_mode": {
    "name": "ipython",
    "version": 3
   },
   "file_extension": ".py",
   "mimetype": "text/x-python",
   "name": "python",
   "nbconvert_exporter": "python",
   "pygments_lexer": "ipython3",
   "version": "3.10.6"
  },
  "orig_nbformat": 4
 },
 "nbformat": 4,
 "nbformat_minor": 2
}
