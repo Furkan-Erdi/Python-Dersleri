{
 "cells": [
  {
   "cell_type": "markdown",
   "metadata": {},
   "source": [
    "# <a id='toc1_'></a>[collections](#toc0_)"
   ]
  },
  {
   "cell_type": "markdown",
   "metadata": {},
   "source": [
    "`collections`, Python standart kütüphanesinin bir parçasıdır ve çeşitli veri tipleri ve konteynerler içeren bir modüldür. Bu modül, Python'ın dahili veri tiplerinin gelişmiş sürümlerini ve ek veri yapısını sağlayarak, veri koleksiyonları ile ilgili çeşitli problemleri çözmek için kullanışlıdır. `collections` modülü, özellikle daha hızlı, daha etkili ve kullanımı daha kolay alternatifler sunar."
   ]
  },
  {
   "cell_type": "markdown",
   "metadata": {},
   "source": [
    "**İçindekiler**<a id='toc0_'></a>    \n",
    "- [collections](#toc1_)    \n",
    "  - [Counter](#toc1_1_)    \n",
    "  - [defaultdict](#toc1_2_)    \n",
    "  - [namedtuple](#toc1_3_)    \n",
    "  - [deque](#toc1_4_)    \n",
    "  - [ChainMap](#toc1_5_)    \n",
    "  - [OrderedDict](#toc1_6_)    \n",
    "  - [Örnek](#toc1_7_)    \n",
    "\n",
    "<!-- vscode-jupyter-toc-config\n",
    "\tnumbering=false\n",
    "\tanchor=true\n",
    "\tflat=false\n",
    "\tminLevel=1\n",
    "\tmaxLevel=6\n",
    "\t/vscode-jupyter-toc-config -->\n",
    "<!-- THIS CELL WILL BE REPLACED ON TOC UPDATE. DO NOT WRITE YOUR TEXT IN THIS CELL -->"
   ]
  },
  {
   "cell_type": "markdown",
   "metadata": {},
   "source": [
    "## <a id='toc1_1_'></a>[Counter](#toc0_)\n",
    "\n",
    "`Counter`, veri koleksiyonları içindeki öğelerin sayısını saymak için kullanılan bir veri tipidir. Bu, bir liste, dize veya demet içindeki öğelerin tekrar sayısını hızlı ve etkili bir şekilde elde etmek için kullanışlıdır."
   ]
  },
  {
   "cell_type": "code",
   "execution_count": 1,
   "metadata": {},
   "outputs": [
    {
     "name": "stdout",
     "output_type": "stream",
     "text": [
      "Counter({'apple': 3, 'orange': 1, 'banana': 1, 'grape': 1})\n",
      "3\n"
     ]
    }
   ],
   "source": [
    "from collections import Counter\n",
    "\n",
    "fruit_list = ['apple', 'orange', 'banana', 'apple', 'grape', 'apple']\n",
    "\n",
    "fruit_counter = Counter(fruit_list)\n",
    "print(fruit_counter)   # Output: Counter({'apple': 3, 'orange': 1, 'banana': 1, 'grape': 1})\n",
    "print(fruit_counter['apple'])    # Output: 3"
   ]
  },
  {
   "cell_type": "markdown",
   "metadata": {},
   "source": [
    "## <a id='toc1_2_'></a>[defaultdict](#toc0_)\n",
    "\n",
    "`defaultdict`, bir sözlük (dictionary) oluştururken, bir anahtarın değeri yoksa varsayılan bir değer atamak için kullanılan bir veri tipidir. Bu, bir anahtarın değeri olup olmadığını kontrol etmeden, bir anahtarın değerini güvenli bir şekilde elde etmek için kullanışlıdır."
   ]
  },
  {
   "cell_type": "code",
   "execution_count": 2,
   "metadata": {},
   "outputs": [
    {
     "name": "stdout",
     "output_type": "stream",
     "text": [
      "5\n",
      "0\n"
     ]
    }
   ],
   "source": [
    "from collections import defaultdict\n",
    "\n",
    "fruit_dict = defaultdict(int)\n",
    "fruit_dict['apple'] = 5\n",
    "fruit_dict['banana'] = 2\n",
    "\n",
    "print(fruit_dict['apple'])     # Output: 5\n",
    "print(fruit_dict['orange'])    # Output: 0 (Varsayılan değer int() ile 0)"
   ]
  },
  {
   "cell_type": "markdown",
   "metadata": {},
   "source": [
    "## <a id='toc1_3_'></a>[namedtuple](#toc0_)\n",
    "\n",
    "`namedtuple`, adlandırılmış öğelerin bulunduğu, adlandırılmış bir tuple (demet) oluşturmak için kullanılan bir veri tipidir. Bu, indeks yerine öğeleri anahtarlarla erişebilmenizi sağlar ve okunabilirliği artırır."
   ]
  },
  {
   "cell_type": "code",
   "execution_count": 3,
   "metadata": {},
   "outputs": [
    {
     "name": "stdout",
     "output_type": "stream",
     "text": [
      "1\n",
      "2\n"
     ]
    }
   ],
   "source": [
    "from collections import namedtuple\n",
    "\n",
    "# Point adında namedtuple oluşturalım\n",
    "Point = namedtuple('Point', ['x', 'y'])\n",
    "\n",
    "# Point nesnesi oluşturalım\n",
    "p1 = Point(1, 2)\n",
    "\n",
    "print(p1.x)    # Output: 1\n",
    "print(p1.y)    # Output: 2"
   ]
  },
  {
   "cell_type": "markdown",
   "metadata": {},
   "source": [
    "## <a id='toc1_4_'></a>[deque](#toc0_)\n",
    "\n",
    "`deque`, çift yönlü bir kuyruk (queue) veri yapısıdır ve veri koleksiyonlarına elemanları ekleme ve çıkarma işlemleri için hızlıdır. Listenin başından veya sonundan hızlı bir şekilde eleman eklemek veya çıkarmak için kullanılabilir."
   ]
  },
  {
   "cell_type": "code",
   "execution_count": 4,
   "metadata": {},
   "outputs": [
    {
     "name": "stdout",
     "output_type": "stream",
     "text": [
      "deque([0, 1, 2, 3, 4])\n"
     ]
    }
   ],
   "source": [
    "from collections import deque\n",
    "\n",
    "# Deque oluşturalım ve elemanları ekleyelim\n",
    "queue = deque([1, 2, 3])\n",
    "queue.append(4)          # Listenin sonuna eleman ekleme\n",
    "queue.appendleft(0)      # Listenin başına eleman ekleme\n",
    "\n",
    "print(queue)    # Output: deque([0, 1, 2, 3, 4])"
   ]
  },
  {
   "cell_type": "markdown",
   "metadata": {},
   "source": [
    "## <a id='toc1_5_'></a>[ChainMap](#toc0_)\n",
    "\n",
    "`ChainMap`, birden fazla sözlüğü birleştirerek tek bir sözlük gibi davranmasını sağlar. Bu, birden fazla yapılandırma veya ayar dosyasını birleştirme gibi durumlarda kullanışlıdır."
   ]
  },
  {
   "cell_type": "code",
   "execution_count": 5,
   "metadata": {},
   "outputs": [
    {
     "name": "stdout",
     "output_type": "stream",
     "text": [
      "1\n",
      "3\n"
     ]
    }
   ],
   "source": [
    "from collections import ChainMap\n",
    "\n",
    "# İki sözlük oluşturalım\n",
    "dict1 = {'a': 1, 'b': 2}\n",
    "dict2 = {'c': 3, 'd': 4}\n",
    "\n",
    "# Sözlükleri ChainMap ile birleştirelim\n",
    "combined_dict = ChainMap(dict1, dict2)\n",
    "\n",
    "print(combined_dict['a'])   # Output: 1\n",
    "print(combined_dict['c'])   # Output: 3"
   ]
  },
  {
   "cell_type": "markdown",
   "metadata": {},
   "source": [
    "## <a id='toc1_6_'></a>[OrderedDict](#toc0_)\n",
    "\n",
    "`OrderedDict`, sözlüklerin sırasını muhafaza eden bir veri tipidir. Python 3.7'dan itibaren standart sözlükler de sırayı muhafaza eder, ancak Python 3.6 ve daha eski sürümlerde `OrderedDict` kullanmak sırayı garanti altına alır."
   ]
  },
  {
   "cell_type": "code",
   "execution_count": 6,
   "metadata": {},
   "outputs": [
    {
     "name": "stdout",
     "output_type": "stream",
     "text": [
      "OrderedDict([('a', 1), ('b', 2), ('c', 3)])\n"
     ]
    }
   ],
   "source": [
    "from collections import OrderedDict\n",
    "\n",
    "ordered_dict = OrderedDict()\n",
    "ordered_dict['a'] = 1\n",
    "ordered_dict['b'] = 2\n",
    "ordered_dict['c'] = 3\n",
    "\n",
    "print(ordered_dict)    # Output: OrderedDict([('a', 1), ('b', 2), ('c', 3)])"
   ]
  },
  {
   "cell_type": "markdown",
   "metadata": {},
   "source": [
    "## <a id='toc1_7_'></a>[Örnek](#toc0_)"
   ]
  },
  {
   "cell_type": "code",
   "execution_count": 7,
   "metadata": {},
   "outputs": [
    {
     "name": "stdout",
     "output_type": "stream",
     "text": [
      "Category: Electronics\n",
      " - Headphones, Price: 100\n",
      " - Laptop, Price: 2500\n",
      " - Smartphone, Price: 1000\n",
      "------------------------------\n",
      "Category: Fashion\n",
      " - Jeans, Price: 50\n",
      " - Shirt, Price: 30\n",
      " - Sneakers, Price: 80\n",
      "------------------------------\n"
     ]
    }
   ],
   "source": [
    "from collections import defaultdict, namedtuple, OrderedDict\n",
    "\n",
    "# Ürün verilerini örnek olarak bir liste içinde tanımlayalım.\n",
    "# Her ürün bir named tuple ile temsil edilebilir.\n",
    "Product = namedtuple('Product', ['id', 'name', 'price', 'category'])\n",
    "\n",
    "products_data = [\n",
    "    Product(1, 'Laptop', 2500, 'Electronics'),\n",
    "    Product(2, 'Smartphone', 1000, 'Electronics'),\n",
    "    Product(3, 'Shirt', 30, 'Fashion'),\n",
    "    Product(4, 'Jeans', 50, 'Fashion'),\n",
    "    Product(5, 'Headphones', 100, 'Electronics'),\n",
    "    Product(6, 'Sneakers', 80, 'Fashion'),\n",
    "]\n",
    "\n",
    "# Ürünleri kategorilere göre gruplamak için defaultdict kullanalım.\n",
    "# Varsayılan değer olarak boş bir liste atanacak.\n",
    "products_by_category = defaultdict(list)\n",
    "\n",
    "# Ürünleri kategorilere göre gruplayalım.\n",
    "for product in products_data:\n",
    "    products_by_category[product.category].append(product)\n",
    "\n",
    "# Kategorilere göre ürünleri isme göre sıralayalım.\n",
    "sorted_products_by_category = {category: sorted(products, key=lambda x: x.name) for category, products in products_by_category.items()}\n",
    "\n",
    "# OrderedDict kullanarak kategorilere göre ürünleri sıralı bir şekilde yazdıralım.\n",
    "ordered_products_by_category = OrderedDict(sorted(sorted_products_by_category.items(), key=lambda x: x[0]))\n",
    "\n",
    "# Oluşturulan OrderedDict, kategorilere göre sıralı bir şekilde ürünleri grupladı.\n",
    "# Şimdi, kategorilere göre sıralı ürünleri yazdıralım.\n",
    "\n",
    "for category, products in ordered_products_by_category.items():\n",
    "    print(f\"Category: {category}\")\n",
    "    for product in products:\n",
    "        print(f\" - {product.name}, Price: {product.price}\")\n",
    "    print(\"-\" * 30)"
   ]
  },
  {
   "cell_type": "markdown",
   "metadata": {},
   "source": [
    "## Kaynakça\n",
    "---\n",
    "\n",
    "https://docs.python.org/tr/3/library/collections.html?highlight=collections#module-collections"
   ]
  }
 ],
 "metadata": {
  "kernelspec": {
   "display_name": "Python 3",
   "language": "python",
   "name": "python3"
  },
  "language_info": {
   "codemirror_mode": {
    "name": "ipython",
    "version": 3
   },
   "file_extension": ".py",
   "mimetype": "text/x-python",
   "name": "python",
   "nbconvert_exporter": "python",
   "pygments_lexer": "ipython3",
   "version": "3.10.6"
  },
  "orig_nbformat": 4
 },
 "nbformat": 4,
 "nbformat_minor": 2
}
