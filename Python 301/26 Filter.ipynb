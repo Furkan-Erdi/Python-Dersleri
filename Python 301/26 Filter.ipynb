{
 "cells": [
  {
   "cell_type": "markdown",
   "metadata": {},
   "source": [
    "# <a id='toc1_'></a>[Filter Fonksiyonu](#toc0_)"
   ]
  },
  {
   "cell_type": "markdown",
   "metadata": {},
   "source": [
    "`filter()` fonksiyonu, Python'da bulunan yerleşik bir fonksiyondur ve bir filtreleme işlemi yapmak için kullanılır. Bu fonksiyon, bir dizi veya iterable üzerinde bir fonksiyonu uygulayarak, fonksiyonun True döndürdüğü öğeleri döndürür. Bu sayede, veri kümesinde belirli bir kriteri sağlayan öğeleri seçmek için kullanılabilir."
   ]
  },
  {
   "cell_type": "markdown",
   "metadata": {},
   "source": [
    "**İçindekiler**<a id='toc0_'></a>    \n",
    "- [Filter Fonksiyonu](#toc1_)    \n",
    "  - [`filter()` Fonksiyonunun Söz Dizimi](#toc1_1_)    \n",
    "  - [`filter()` Fonksiyonunun Çalışma Mantığı](#toc1_2_)    \n",
    "  - [Tek Sayıları Filtreleme](#toc1_3_)    \n",
    "  - [Pozitif Sayıları Filtreleme](#toc1_4_)    \n",
    "  - [Örnek: Ürün Kategorileme](#toc1_5_)    \n",
    "  - [Kaynakça](#toc1_6_)    \n",
    "\n",
    "<!-- vscode-jupyter-toc-config\n",
    "\tnumbering=false\n",
    "\tanchor=true\n",
    "\tflat=false\n",
    "\tminLevel=1\n",
    "\tmaxLevel=6\n",
    "\t/vscode-jupyter-toc-config -->\n",
    "<!-- THIS CELL WILL BE REPLACED ON TOC UPDATE. DO NOT WRITE YOUR TEXT IN THIS CELL -->"
   ]
  },
  {
   "cell_type": "markdown",
   "metadata": {},
   "source": [
    "## <a id='toc1_1_'></a>[`filter()` Fonksiyonunun Söz Dizimi](#toc0_)\n",
    "\n",
    "`filter()` fonksiyonunun söz dizimi\n",
    "\n",
    "```python\n",
    "filter(function, iterable)\n",
    "```\n",
    "\n",
    "şeklindedir.\n",
    "\n",
    "- `function`: Filtreleme işlemini yapacak olan fonksiyon. Bu, her öğe için çağrılacak ve True veya False döndürmelidir.\n",
    "- `iterable`: Filtreleme işleminin uygulanacağı dizi veya iterable (örn. liste, demet, küme) veri yapısı."
   ]
  },
  {
   "cell_type": "markdown",
   "metadata": {},
   "source": [
    "## <a id='toc1_2_'></a>[`filter()` Fonksiyonunun Çalışma Mantığı](#toc0_)\n",
    "\n",
    "`filter()` fonksiyonu, verilen iterable üzerinde gezinir ve her öğe için belirtilen fonksiyonu çağırır. Eğer fonksiyon, öğe için True döndürürse, o öğe sonuçlar arasına eklenir, aksi halde filtrelenir ve sonuçlara dahil edilmez. Sonuç olarak, sadece belirtilen kritere uyan öğeler yeni bir iterable olarak döndürülür."
   ]
  },
  {
   "cell_type": "markdown",
   "metadata": {},
   "source": [
    "## <a id='toc1_3_'></a>[Tek Sayıları Filtreleme](#toc0_)"
   ]
  },
  {
   "cell_type": "code",
   "execution_count": 1,
   "metadata": {},
   "outputs": [
    {
     "name": "stdout",
     "output_type": "stream",
     "text": [
      "[1, 3, 5, 7, 9]\n"
     ]
    }
   ],
   "source": [
    "def is_odd(number):\n",
    "    return number % 2 != 0\n",
    "\n",
    "numbers = [1, 2, 3, 4, 5, 6, 7, 8, 9, 10]\n",
    "\n",
    "odd_numbers = list(filter(is_odd, numbers))\n",
    "print(odd_numbers)  # Çıktı: [1, 3, 5, 7, 9]"
   ]
  },
  {
   "cell_type": "markdown",
   "metadata": {},
   "source": [
    "## <a id='toc1_4_'></a>[Pozitif Sayıları Filtreleme](#toc0_)"
   ]
  },
  {
   "cell_type": "code",
   "execution_count": 2,
   "metadata": {},
   "outputs": [
    {
     "name": "stdout",
     "output_type": "stream",
     "text": [
      "[1, 2, 3, 4, 5]\n"
     ]
    }
   ],
   "source": [
    "def is_positive(number):\n",
    "    return number > 0\n",
    "\n",
    "numbers = [-3, -2, -1, 0, 1, 2, 3, 4, 5]\n",
    "\n",
    "positive_numbers = list(filter(is_positive, numbers))\n",
    "print(positive_numbers)  # Çıktı: [1, 2, 3, 4, 5]"
   ]
  },
  {
   "cell_type": "markdown",
   "metadata": {},
   "source": [
    "## <a id='toc1_5_'></a>[Örnek: Ürün Kategorileme](#toc0_)\n",
    "\n",
    "`filter()` fonksiyonu, sektörde veri işleme ve filtreleme süreçlerinde sıkça kullanılır. Özellikle büyük veri kümelerinden belirli kriterlere uyan verileri seçmek veya filtrelemek için kullanışlıdır. Örneğin, bir e-ticaret uygulamasında kullanıcıların tercihlerine veya alışveriş geçmişlerine göre ürünleri filtrelemek, veritabanındaki kullanıcıları belirli özelliklere göre filtrelemek gibi durumlarda `filter()` fonksiyonu oldukça faydalı olabilir. Ayrıca, veri analizi veya veri temizleme süreçlerinde de kullanılabilir."
   ]
  },
  {
   "cell_type": "code",
   "execution_count": 3,
   "metadata": {},
   "outputs": [
    {
     "name": "stdout",
     "output_type": "stream",
     "text": [
      "Kullanıcının tercih ettiği kategorilere uygun ürünler:\n",
      "Laptop - Kategori: Electronics - Stok: 10\n",
      "Smartphone - Kategori: Electronics - Stok: 5\n",
      "Headphones - Kategori: Electronics - Stok: 15\n",
      "Shirt - Kategori: Clothing - Stok: 20\n",
      "Jeans - Kategori: Clothing - Stok: 12\n"
     ]
    }
   ],
   "source": [
    "# Ürünler listesi (örnek olarak ürünlerin kategorilerini ve stok durumunu içeren bir liste)\n",
    "products = [\n",
    "    {\"name\": \"Laptop\", \"category\": \"Electronics\", \"stock\": 10},\n",
    "    {\"name\": \"Smartphone\", \"category\": \"Electronics\", \"stock\": 5},\n",
    "    {\"name\": \"Headphones\", \"category\": \"Electronics\", \"stock\": 15},\n",
    "    {\"name\": \"Shirt\", \"category\": \"Clothing\", \"stock\": 20},\n",
    "    {\"name\": \"Jeans\", \"category\": \"Clothing\", \"stock\": 12},\n",
    "    {\"name\": \"Backpack\", \"category\": \"Accessories\", \"stock\": 8},\n",
    "]\n",
    "\n",
    "# Kullanıcının tercih ettiği kategoriler (örnek olarak \"Electronics\" ve \"Clothing\" kategorileri)\n",
    "user_preferred_categories = [\"Electronics\", \"Clothing\"]\n",
    "\n",
    "# Kullanıcının tercih ettiği kategorilere uygun ürünleri filtreleme fonksiyonu\n",
    "def filter_by_category(product):\n",
    "    return product[\"category\"] in user_preferred_categories\n",
    "\n",
    "# Filtreleme işlemi\n",
    "filtered_products = list(filter(filter_by_category, products))\n",
    "\n",
    "# Sonuçları görüntüleme\n",
    "print(\"Kullanıcının tercih ettiği kategorilere uygun ürünler:\")\n",
    "for product in filtered_products:\n",
    "    print(f\"{product['name']} - Kategori: {product['category']} - Stok: {product['stock']}\")"
   ]
  },
  {
   "cell_type": "markdown",
   "metadata": {},
   "source": [
    "## <a id='toc1_6_'></a>[Kaynakça](#toc0_)\n",
    "---\n",
    "\n",
    "https://docs.python.org/tr/3/library/functions.html?highlight=map#filter"
   ]
  }
 ],
 "metadata": {
  "kernelspec": {
   "display_name": "Python 3",
   "language": "python",
   "name": "python3"
  },
  "language_info": {
   "codemirror_mode": {
    "name": "ipython",
    "version": 3
   },
   "file_extension": ".py",
   "mimetype": "text/x-python",
   "name": "python",
   "nbconvert_exporter": "python",
   "pygments_lexer": "ipython3",
   "version": "3.10.6"
  },
  "orig_nbformat": 4
 },
 "nbformat": 4,
 "nbformat_minor": 2
}
