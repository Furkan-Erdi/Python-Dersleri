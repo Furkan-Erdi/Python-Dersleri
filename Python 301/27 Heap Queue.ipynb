{
 "cells": [
  {
   "cell_type": "markdown",
   "metadata": {},
   "source": [
    "# <a id='toc1_'></a>[Heap Queue (Heapq) Kütüphanesi](#toc0_)"
   ]
  },
  {
   "cell_type": "markdown",
   "metadata": {},
   "source": [
    "Python'da `heapq` kütüphanesi, öncelik kuyruklarını yönetmek için kullanılan bir modüldür. Bu modül, minimum veya maksimum önceliğe göre öğelerin düzenlendiği bir veri yapısı olan heap'leri uygulamak için işlevler ve algoritmalar sağlar. Öncelik kuyrukları, sık sık en düşük veya en yüksek önceliğe sahip öğeleri hızlıca almak için kullanışlıdır ve Python'ın `heapq` kütüphanesi bu işlemi optimize eder."
   ]
  },
  {
   "cell_type": "code",
   "execution_count": 3,
   "metadata": {},
   "outputs": [],
   "source": [
    "import heapq"
   ]
  },
  {
   "cell_type": "markdown",
   "metadata": {},
   "source": [
    "**İçindekiler**<a id='toc0_'></a>    \n",
    "- [Heap Queue (Heapq) Kütüphanesi](#toc1_)    \n",
    "  - [Temel Kavramlar](#toc1_1_)    \n",
    "    - [Heap](#toc1_1_1_)    \n",
    "    - [Kök Düğüm (Root Node)](#toc1_1_2_)    \n",
    "    - [Öncelik Kuyruğu (Priority Queue)](#toc1_1_3_)    \n",
    "  - [`heapq` Modülü Fonksiyonları](#toc1_2_)    \n",
    "    - [`heapify(iterable)`](#toc1_2_1_)    \n",
    "    - [`heappush(heap, item)`](#toc1_2_2_)    \n",
    "    - [`heappop(heap)`](#toc1_2_3_)    \n",
    "    - [`heapreplace(heap, item)`](#toc1_2_4_)    \n",
    "    - [`heappushpop(heap, item)`](#toc1_2_5_)    \n",
    "    - [`heapreplace(heap, item)`](#toc1_2_6_)    \n",
    "    - [`nlargest(n, iterable)`](#toc1_2_7_)    \n",
    "    - [`nsmallest(n, iterable)`](#toc1_2_8_)    \n",
    "  - [Örnek: E-Ticaret Siparişleri](#toc1_3_)    \n",
    "\n",
    "<!-- vscode-jupyter-toc-config\n",
    "\tnumbering=false\n",
    "\tanchor=true\n",
    "\tflat=false\n",
    "\tminLevel=1\n",
    "\tmaxLevel=6\n",
    "\t/vscode-jupyter-toc-config -->\n",
    "<!-- THIS CELL WILL BE REPLACED ON TOC UPDATE. DO NOT WRITE YOUR TEXT IN THIS CELL -->"
   ]
  },
  {
   "cell_type": "markdown",
   "metadata": {},
   "source": [
    "## <a id='toc1_1_'></a>[Temel Kavramlar](#toc0_)\n",
    "\n",
    "Heap, ağaç benzeri bir veri yapısıdır ve iki ana türü vardır: minimum heap ve maksimum heap. Minimum heap, herhangi bir düğümün, onun alt düğümlerinden daha küçük veya eşit olan bir değere sahip olduğu bir yapılardır. Maksimum heap ise tam tersine, herhangi bir düğümün alt düğümlerinden daha büyük veya eşit olan bir değere sahip olduğu yapılardır.\n",
    "\n",
    "Python'daki `heapq` modülü minimum heap veri yapısını uygulamak için kullanılır. Minimum heap'in temel özellikleri şunlardır:\n",
    "\n",
    "1. Kök düğüm her zaman en küçük değere sahiptir: Minimum heap'in en küçük elemanı (minimum eleman) her zaman kök düğümde yer alır.\n",
    "\n",
    "2. Herhangi bir düğüm, onun alt düğümlerinden daha küçük veya eşit bir değere sahiptir: Bu özellik, minimum heap'in tüm düğümlerinin minimum elemandan türetilmesini sağlar.\n",
    "\n",
    "3. Minimum heap, tamamen dengeli bir ağaçtır: Minimum heap, tamamen dengeli bir yapısı olduğundan, tüm düzeyler aynı dolulukta olur, en son düzey hariç diğer tüm düzeyler tamamen doldurulmuştur.\n",
    "\n",
    "Minimum heap, birçok algoritma ve veri yapısı için çok faydalıdır. Özellikle öncelik kuyruğu (priority queue) yapısını uygulamak için kullanılır. Öncelik kuyruğu, elemanları önceliklerine göre düzenleyen ve en yüksek önceliğe sahip elemanın öncelik kuyruğundan öncelikli olarak çıkarılmasına izin veren bir veri yapısıdır. Minimum heap, öncelik kuyruğunu uygulamanın en yaygın yöntemlerinden biridir ve `heapq` modülü bu tür işlemleri optimize etmek için kullanılır.\n",
    "\n",
    "Heap veri yapısının ve minimum heap algoritmasının temel teorisi, veri yapılarını ve algoritmalarını anlamak isteyenler için önemli bir konudur. Bu teori, veri bilimciler, yazılım mühendisleri ve algoritma tasarımcıları için önemli bir temel oluşturur ve daha karmaşık algoritmaların anlaşılmasına ve uygulanmasına katkı sağlar."
   ]
  },
  {
   "cell_type": "markdown",
   "metadata": {},
   "source": [
    "### <a id='toc1_1_1_'></a>[Heap](#toc0_)\n",
    "Heap, ağaç benzeri bir veri yapısıdır ve bir dizide veya liste içinde temsil edilebilir. Minimum heap'te her düğüm, onun alt düğümlerinden daha küçük veya eşit olan bir değere sahiptir. Maksimum heap'te ise her düğüm, onun alt düğümlerinden daha büyük veya eşit olan bir değere sahiptir. Python `heapq` kütüphanesi, minimum heap'i destekler."
   ]
  },
  {
   "cell_type": "markdown",
   "metadata": {},
   "source": [
    "### <a id='toc1_1_2_'></a>[Kök Düğüm (Root Node)](#toc0_)\n",
    "Heap'teki en üst düğüm kök düğüm olarak adlandırılır. Minimum heap'te, kök düğüm, heap içindeki en küçük değeri temsil eder."
   ]
  },
  {
   "cell_type": "markdown",
   "metadata": {},
   "source": [
    "### <a id='toc1_1_3_'></a>[Öncelik Kuyruğu (Priority Queue)](#toc0_)\n",
    "Öncelik kuyruğu, bir veri yapısıdır ve elemanlar önceliklerine göre sıralı bir şekilde depolanır. Minimum heap kullanılarak öncelik kuyruğu oluşturulabilir. En yüksek önceliğe sahip öğeler, kuyruğun başında bulunur."
   ]
  },
  {
   "cell_type": "markdown",
   "metadata": {},
   "source": [
    "## <a id='toc1_2_'></a>[`heapq` Modülü Fonksiyonları](#toc0_)\n",
    "\n",
    "Python `heapq` modülü, heap veri yapısının oluşturulması, düzenlenmesi ve kullanılmasını sağlayan bir dizi işlev sağlar."
   ]
  },
  {
   "cell_type": "markdown",
   "metadata": {},
   "source": [
    "### <a id='toc1_2_1_'></a>[`heapify(iterable)`](#toc0_)\n",
    "Verilen bir iterable'ı (liste gibi) minimum heap haline getirir. Listenin ilk elemanı kök düğüm olur ve minimum heap özelliği sağlanır."
   ]
  },
  {
   "cell_type": "code",
   "execution_count": 4,
   "metadata": {},
   "outputs": [
    {
     "name": "stdout",
     "output_type": "stream",
     "text": [
      "[3, 4, 11, 5, 7]\n"
     ]
    }
   ],
   "source": [
    "numbers = [7, 3, 11, 5, 4]\n",
    "heapq.heapify(numbers)\n",
    "print(numbers)  # Output: [3, 4, 11, 5, 7]"
   ]
  },
  {
   "cell_type": "markdown",
   "metadata": {},
   "source": [
    "### <a id='toc1_2_2_'></a>[`heappush(heap, item)`](#toc0_)\n",
    "\n",
    "Mevcut heap'e bir öğe eklemek için kullanılır ve minimum heap yapısını korur."
   ]
  },
  {
   "cell_type": "code",
   "execution_count": 5,
   "metadata": {},
   "outputs": [
    {
     "name": "stdout",
     "output_type": "stream",
     "text": [
      "[2, 4, 3, 5, 7, 11]\n"
     ]
    }
   ],
   "source": [
    "numbers = [3, 4, 11, 5, 7]\n",
    "heapq.heappush(numbers, 2)\n",
    "print(numbers)  # Output: [2, 3, 11, 5, 7, 4]"
   ]
  },
  {
   "cell_type": "markdown",
   "metadata": {},
   "source": [
    "### <a id='toc1_2_3_'></a>[`heappop(heap)`](#toc0_)\n",
    "\n",
    "Heap'in en küçük elemanını kaldırır ve döndürür. Minimum heap özelliğini korur."
   ]
  },
  {
   "cell_type": "code",
   "execution_count": 6,
   "metadata": {},
   "outputs": [
    {
     "name": "stdout",
     "output_type": "stream",
     "text": [
      "2\n",
      "[3, 4, 11, 5, 7]\n"
     ]
    }
   ],
   "source": [
    "numbers = [2, 3, 11, 5, 7, 4]\n",
    "smallest = heapq.heappop(numbers)\n",
    "print(smallest)  # Output: 2\n",
    "print(numbers)  # Output: [3, 4, 11, 5, 7]"
   ]
  },
  {
   "cell_type": "markdown",
   "metadata": {},
   "source": [
    "### <a id='toc1_2_4_'></a>[`heapreplace(heap, item)`](#toc0_)\n",
    "\n",
    "Heap'in en küçük elemanını kaldırır ve yerine yeni bir eleman ekler. Minimum heap özelliğini korur."
   ]
  },
  {
   "cell_type": "code",
   "execution_count": 7,
   "metadata": {},
   "outputs": [
    {
     "name": "stdout",
     "output_type": "stream",
     "text": [
      "2\n",
      "[1, 3, 11, 5, 7, 4]\n"
     ]
    }
   ],
   "source": [
    "numbers = [2, 3, 11, 5, 7, 4]\n",
    "smallest = heapq.heapreplace(numbers, 1)\n",
    "print(smallest)  # Output: 2\n",
    "print(numbers)  # Output: [1, 3, 11, 5, 7, 4]"
   ]
  },
  {
   "cell_type": "markdown",
   "metadata": {},
   "source": [
    "### <a id='toc1_2_5_'></a>[`heappushpop(heap, item)`](#toc0_)\n",
    "\n",
    "Öğeyi önce ekler ve sonra en küçük elemanı kaldırır. Minimum heap özelliğini korur."
   ]
  },
  {
   "cell_type": "code",
   "execution_count": 8,
   "metadata": {},
   "outputs": [
    {
     "name": "stdout",
     "output_type": "stream",
     "text": [
      "1\n",
      "[2, 3, 11, 5, 7, 4]\n"
     ]
    }
   ],
   "source": [
    "import heapq\n",
    "\n",
    "numbers = [2, 3, 11, 5, 7, 4]\n",
    "smallest = heapq.heappushpop(numbers, 1)\n",
    "print(smallest)  # Output: 1\n",
    "print(numbers)  # Output: [2, 3, 11, 5, 7, 4]"
   ]
  },
  {
   "cell_type": "markdown",
   "metadata": {},
   "source": [
    "### <a id='toc1_2_6_'></a>[`heapreplace(heap, item)`](#toc0_)\n",
    "\n",
    "Heap içindeki en küçük öğeyi değiştirmeden döndürür. Minimum heap özelliğini korur."
   ]
  },
  {
   "cell_type": "code",
   "execution_count": 9,
   "metadata": {},
   "outputs": [
    {
     "name": "stdout",
     "output_type": "stream",
     "text": [
      "[2]\n"
     ]
    }
   ],
   "source": [
    "import heapq\n",
    "\n",
    "numbers = [2, 3, 11, 5, 7, 4]\n",
    "smallest = heapq.nsmallest(1, numbers)\n",
    "print(smallest)  # Output: [2]"
   ]
  },
  {
   "cell_type": "markdown",
   "metadata": {},
   "source": [
    "### <a id='toc1_2_7_'></a>[`nlargest(n, iterable)`](#toc0_)\n",
    "\n",
    "En büyük n öğeyi döndürür."
   ]
  },
  {
   "cell_type": "code",
   "execution_count": 10,
   "metadata": {},
   "outputs": [
    {
     "name": "stdout",
     "output_type": "stream",
     "text": [
      "[11, 7, 5]\n"
     ]
    }
   ],
   "source": [
    "import heapq\n",
    "\n",
    "numbers = [2, 3, 11, 5, 7, 4]\n",
    "largest = heapq.nlargest(3, numbers)\n",
    "print(largest)  # Output: [11, 7, 5]"
   ]
  },
  {
   "cell_type": "markdown",
   "metadata": {},
   "source": [
    "### <a id='toc1_2_8_'></a>[`nsmallest(n, iterable)`](#toc0_)\n",
    "\n",
    "En küçük n öğeyi döndürür."
   ]
  },
  {
   "cell_type": "code",
   "execution_count": 11,
   "metadata": {},
   "outputs": [
    {
     "name": "stdout",
     "output_type": "stream",
     "text": [
      "[2, 3, 4]\n"
     ]
    }
   ],
   "source": [
    "numbers = [2, 3, 11, 5, 7, 4]\n",
    "smallest = heapq.nsmallest(3, numbers)\n",
    "print(smallest)  # Output: [2, 3, 4]"
   ]
  },
  {
   "cell_type": "markdown",
   "metadata": {},
   "source": [
    "## <a id='toc1_3_'></a>[Örnek: E-Ticaret Siparişleri](#toc0_)\n",
    "\n",
    "Aşağıda, e-ticaret siparişlerini öncelik kuyruğu (minimum heap) kullanarak ele alacağımız bir örnek var."
   ]
  },
  {
   "cell_type": "code",
   "execution_count": 12,
   "metadata": {},
   "outputs": [
    {
     "name": "stdout",
     "output_type": "stream",
     "text": [
      "En düşük miktardaki sipariş:\n",
      "Sipariş ID: 102\n",
      "Sipariş Tutarı: 150\n"
     ]
    }
   ],
   "source": [
    "import heapq\n",
    "\n",
    "class Order:\n",
    "    def __init__(self, order_id, amount):\n",
    "        self.order_id = order_id\n",
    "        self.amount = amount\n",
    "\n",
    "    def __lt__(self, other):\n",
    "        return self.amount < other.amount\n",
    "\n",
    "# Minimum heap için boş bir liste oluşturuyoruz\n",
    "orders_heap = []\n",
    "\n",
    "# Siparişleri oluşturuyoruz\n",
    "order1 = Order(101, 250)\n",
    "order2 = Order(102, 150)\n",
    "order3 = Order(103, 350)\n",
    "order4 = Order(104, 200)\n",
    "\n",
    "# Siparişleri heap'e ekliyoruz\n",
    "heapq.heappush(orders_heap, order1)\n",
    "heapq.heappush(orders_heap, order2)\n",
    "heapq.heappush(orders_heap, order3)\n",
    "heapq.heappush(orders_heap, order4)\n",
    "\n",
    "# En düşük miktara sahip olan siparişi alıyoruz (minimum heap özelliği sayesinde)\n",
    "min_order = heapq.heappop(orders_heap)\n",
    "\n",
    "print(\"En düşük miktardaki sipariş:\")\n",
    "print(\"Sipariş ID:\", min_order.order_id)\n",
    "print(\"Sipariş Tutarı:\", min_order.amount)"
   ]
  },
  {
   "cell_type": "markdown",
   "metadata": {},
   "source": [
    "Bu örnekte, `Order` sınıfı ile temsil edilen siparişleri minimum heap kullanarak yönetiyoruz. Minimum heap, siparişleri sipariş miktarına göre düzenleyerek en düşük tutara sahip olanı hızlıca almak için kullanılıyor. Bu tür bir yapı, e-ticaret uygulamalarında siparişleri yönetmek ve önceliklendirmek için yaygın olarak kullanılır."
   ]
  },
  {
   "cell_type": "markdown",
   "metadata": {},
   "source": [
    "## Kaynakça\n",
    "---\n",
    "\n",
    "https://docs.python.org/tr/3/library/heapq.html?highlight=heapq\n",
    "\n",
    "https://docs.python.org/tr/3/library/heapq.html?highlight=heapq#module-heapq"
   ]
  }
 ],
 "metadata": {
  "kernelspec": {
   "display_name": "Python 3",
   "language": "python",
   "name": "python3"
  },
  "language_info": {
   "codemirror_mode": {
    "name": "ipython",
    "version": 3
   },
   "file_extension": ".py",
   "mimetype": "text/x-python",
   "name": "python",
   "nbconvert_exporter": "python",
   "pygments_lexer": "ipython3",
   "version": "3.10.6"
  },
  "orig_nbformat": 4
 },
 "nbformat": 4,
 "nbformat_minor": 2
}
