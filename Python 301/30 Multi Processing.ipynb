{
 "cells": [
  {
   "cell_type": "markdown",
   "metadata": {},
   "source": [
    "# <a id='toc1_'></a>[Multi Processing (Çok İşlemli Programlama)](#toc0_)"
   ]
  },
  {
   "cell_type": "markdown",
   "metadata": {},
   "source": [
    "Multi processing, birden fazla işlemci çekirdeği veya farklı işlemciler üzerinde aynı anda birden çok işlemi yürütmek için kullanılan bir programlama tekniğidir. Python, multi processing desteğini sağlayan `multiprocessing` modülü ile bu tür işlemleri yönetmemizi sağlar. Multi processing, özellikle çoklu çekirdekli bilgisayar sistemlerinde ve ağır iş yükü gerektiren uygulamalarda performans artışı sağlamak için kullanılır."
   ]
  },
  {
   "cell_type": "code",
   "execution_count": 1,
   "metadata": {},
   "outputs": [],
   "source": [
    "import multiprocessing"
   ]
  },
  {
   "cell_type": "markdown",
   "metadata": {},
   "source": [
    "**İçindekiler**<a id='toc0_'></a>    \n",
    "- [Multi Processing (Çok İşlemli Programlama)](#toc1_)    \n",
    "  - [Threading ve Multi Processing Arasındaki Farklar](#toc1_1_)    \n",
    "  - [`multiprocessing` Modülü ve Sınıfları](#toc1_2_)    \n",
    "    - [Process Sınıfı](#toc1_2_1_)    \n",
    "    - [Pool Sınıfı](#toc1_2_2_)    \n",
    "    - [Queue Sınıfı](#toc1_2_3_)    \n",
    "  - [Multi Processing Kullanım Örnekleri](#toc1_3_)    \n",
    "    - [İşlemi Paralel Olarak Yürütme](#toc1_3_1_)    \n",
    "    - [Çoklu Veri İşleme](#toc1_3_2_)    \n",
    "  - [Sektörel Örnek: Veri İşleme Uygulaması](#toc1_4_)    \n",
    "\n",
    "<!-- vscode-jupyter-toc-config\n",
    "\tnumbering=false\n",
    "\tanchor=true\n",
    "\tflat=false\n",
    "\tminLevel=1\n",
    "\tmaxLevel=6\n",
    "\t/vscode-jupyter-toc-config -->\n",
    "<!-- THIS CELL WILL BE REPLACED ON TOC UPDATE. DO NOT WRITE YOUR TEXT IN THIS CELL -->"
   ]
  },
  {
   "cell_type": "markdown",
   "metadata": {},
   "source": [
    "## <a id='toc1_1_'></a>[Threading ve Multi Processing Arasındaki Farklar](#toc0_)\n",
    "\n",
    "- Threading, aynı işlem içinde birden çok iş parçacığı oluşturur ve paylaşılan belleği kullanır. Ancak Python GIL (Global Interpreter Lock) nedeniyle gerçek paralellik sağlayamaz. Bu nedenle, threading çoğunlukla I/O yoğun görevler için kullanılır.\n",
    "- Multi processing, ayrı işlemler oluşturur ve her işlem ayrı bir Python yorumlayıcısı (interpreter) çalıştırır. Bu nedenle farklı işlemciler veya çekirdekler üzerinde gerçek paralellik elde edilebilir. Multi processing, CPU yoğun işlemler için daha uygun olabilir."
   ]
  },
  {
   "cell_type": "markdown",
   "metadata": {},
   "source": [
    "## <a id='toc1_2_'></a>[`multiprocessing` Modülü ve Sınıfları](#toc0_)"
   ]
  },
  {
   "cell_type": "markdown",
   "metadata": {},
   "source": [
    "### <a id='toc1_2_1_'></a>[Process Sınıfı](#toc0_)\n",
    "\n",
    "`multiprocessing.Process`, yeni bir işlem oluşturmak için kullanılır. Her bir işlem, bağımsız bir Python yorumlayıcısı içinde çalışır."
   ]
  },
  {
   "cell_type": "markdown",
   "metadata": {},
   "source": [
    "### <a id='toc1_2_2_'></a>[Pool Sınıfı](#toc0_)\n",
    "\n",
    "`multiprocessing.Pool`, belirli bir işlevi birden çok işlemde paralel olarak yürütmek için kullanılır. İşlevi verilerle çağırabilir ve sonuçları toplayabilir. Özellikle, yinelenen görevlerin paralel olarak işlenmesi için yararlıdır."
   ]
  },
  {
   "cell_type": "markdown",
   "metadata": {},
   "source": [
    "### <a id='toc1_2_3_'></a>[Queue Sınıfı](#toc0_)\n",
    "\n",
    "`multiprocessing.Queue`, farklı işlemler arasında veri iletişimi sağlar. Bir işlem veri koyabilir ve diğer işlem de bu veriyi alabilir. Bu, işlemler arasında senkronizasyon ve veri paylaşımı için kullanılır."
   ]
  },
  {
   "cell_type": "markdown",
   "metadata": {},
   "source": [
    "## <a id='toc1_3_'></a>[Multi Processing Kullanım Örnekleri](#toc0_)"
   ]
  },
  {
   "cell_type": "markdown",
   "metadata": {},
   "source": [
    "### <a id='toc1_3_1_'></a>[İşlemi Paralel Olarak Yürütme](#toc0_)"
   ]
  },
  {
   "cell_type": "code",
   "execution_count": 2,
   "metadata": {},
   "outputs": [
    {
     "name": "stdout",
     "output_type": "stream",
     "text": [
      "\n",
      "1\n",
      "2\n",
      "3\n",
      "4\n",
      "5\n",
      "1\n",
      "2\n",
      "3\n",
      "4\n",
      "5\n",
      "\n"
     ]
    }
   ],
   "source": [
    "def print_numbers():\n",
    "    for i in range(1, 6):\n",
    "        print(i)\n",
    "\n",
    "if __name__ == \"__main__\":\n",
    "    process1 = multiprocessing.Process(target=print_numbers)\n",
    "    process2 = multiprocessing.Process(target=print_numbers)\n",
    "\n",
    "    process1.start()\n",
    "    process2.start()\n",
    "\n",
    "    process1.join()\n",
    "    process2.join()"
   ]
  },
  {
   "cell_type": "markdown",
   "metadata": {},
   "source": [
    "### <a id='toc1_3_2_'></a>[Çoklu Veri İşleme](#toc0_)"
   ]
  },
  {
   "cell_type": "code",
   "execution_count": 3,
   "metadata": {},
   "outputs": [
    {
     "name": "stdout",
     "output_type": "stream",
     "text": [
      "[1, 4, 9, 16, 25]\n"
     ]
    }
   ],
   "source": [
    "def square(number):\n",
    "    return number * number\n",
    "\n",
    "if __name__ == \"__main__\":\n",
    "    numbers = [1, 2, 3, 4, 5]\n",
    "\n",
    "    with multiprocessing.Pool(processes=2) as pool:\n",
    "        result = pool.map(square, numbers)\n",
    "    \n",
    "    print(result)"
   ]
  },
  {
   "cell_type": "markdown",
   "metadata": {},
   "source": [
    "## <a id='toc1_4_'></a>[Sektörel Örnek: Veri İşleme Uygulaması](#toc0_)"
   ]
  },
  {
   "cell_type": "code",
   "execution_count": 4,
   "metadata": {},
   "outputs": [
    {
     "name": "stdout",
     "output_type": "stream",
     "text": [
      "['APPLE', 'BANANA', 'CHERRY']\n"
     ]
    }
   ],
   "source": [
    "def process_data(data, result_queue):\n",
    "    # Verileri işleyen karmaşık bir işlev\n",
    "    result = data.upper()\n",
    "    result_queue.put(result)\n",
    "\n",
    "if __name__ == \"__main__\":\n",
    "    # Sektörel örnekte, büyük miktarda veriyi işleyen bir uygulama düşünelim\n",
    "    data = [\"apple\", \"banana\", \"cherry\", ...]  # Örnek olarak büyük bir veri listesi\n",
    "\n",
    "    # Verileri paralel olarak işlemek için işlemleri oluşturuyoruz\n",
    "    result_queue = multiprocessing.Queue()\n",
    "    processes = []\n",
    "\n",
    "    for item in data:\n",
    "        process = multiprocessing.Process(target=process_data, args=(item, result_queue))\n",
    "        processes.append(process)\n",
    "        process.start()\n",
    "\n",
    "    for process in processes:\n",
    "        process.join()\n",
    "\n",
    "    # İşlenmiş verileri kullanarak devam ediyoruz\n",
    "    results = []\n",
    "    while not result_queue.empty():\n",
    "        result = result_queue.get()\n",
    "        results.append(result)\n",
    "\n",
    "    print(results)"
   ]
  },
  {
   "cell_type": "markdown",
   "metadata": {},
   "source": [
    "## Kaynakça\n",
    "---\n",
    "\n",
    "https://docs.python.org/tr/3/library/multiprocessing.html?highlight=multiprocessing#module-multiprocessing"
   ]
  }
 ],
 "metadata": {
  "kernelspec": {
   "display_name": "Python 3",
   "language": "python",
   "name": "python3"
  },
  "language_info": {
   "codemirror_mode": {
    "name": "ipython",
    "version": 3
   },
   "file_extension": ".py",
   "mimetype": "text/x-python",
   "name": "python",
   "nbconvert_exporter": "python",
   "pygments_lexer": "ipython3",
   "version": "3.10.6"
  },
  "orig_nbformat": 4
 },
 "nbformat": 4,
 "nbformat_minor": 2
}
