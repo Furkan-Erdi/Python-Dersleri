{
 "cells": [
  {
   "cell_type": "markdown",
   "metadata": {},
   "source": [
    "# <a id='toc1_'></a>[functools](#toc0_)"
   ]
  },
  {
   "cell_type": "markdown",
   "metadata": {},
   "source": [
    "`functools`, Python standart kütüphanesinin bir parçasıdır ve fonksiyonlara yönelik çeşitli işlevleri içeren bir modüldür. Bu modül, özellikle fonksiyonları manipüle etmek, dekoratörleri oluşturmak ve yüksek düzeyde işlevsel programlama yapmak için kullanışlı işlevlere sahiptir. `functools` modülü, yüksek düzeyde işlevsel programlama tekniklerini uygulamak için güçlü araçlar sunar."
   ]
  },
  {
   "cell_type": "code",
   "execution_count": 2,
   "metadata": {},
   "outputs": [],
   "source": [
    "import functools"
   ]
  },
  {
   "cell_type": "markdown",
   "metadata": {},
   "source": [
    "**İçindekiler**<a id='toc0_'></a>    \n",
    "- [functools](#toc1_)    \n",
    "  - [Partial Functions (Kısmi Fonksiyonlar)](#toc1_1_)    \n",
    "  - [Decorators (Dekoratörler)](#toc1_2_)    \n",
    "  - [Caching (Önbelleğe Alma)](#toc1_3_)    \n",
    "  - [Örnek: Süre Hesaplama](#toc1_4_)    \n",
    "  - [Kaynakça](#toc1_5_)    \n",
    "\n",
    "<!-- vscode-jupyter-toc-config\n",
    "\tnumbering=false\n",
    "\tanchor=true\n",
    "\tflat=false\n",
    "\tminLevel=1\n",
    "\tmaxLevel=6\n",
    "\t/vscode-jupyter-toc-config -->\n",
    "<!-- THIS CELL WILL BE REPLACED ON TOC UPDATE. DO NOT WRITE YOUR TEXT IN THIS CELL -->"
   ]
  },
  {
   "cell_type": "markdown",
   "metadata": {},
   "source": [
    "## <a id='toc1_1_'></a>[Partial Functions (Kısmi Fonksiyonlar)](#toc0_)\n",
    "\n",
    "`functools.partial` fonksiyonu, bir fonksiyonun bazı argümanlarını önceden belirlemek için kullanılır. Bu, belirli bir işlemde bazı argümanları sürekli olarak sabit tutmak ve daha sonra geri kalan argümanları farklı değerlerle doldurmak için faydalıdır. Bu, özellikle çoklu argümanlı fonksiyonları tek argümanlı bir fonksiyon gibi kullanmanızı sağlar."
   ]
  },
  {
   "cell_type": "code",
   "execution_count": 3,
   "metadata": {},
   "outputs": [
    {
     "name": "stdout",
     "output_type": "stream",
     "text": [
      "25\n",
      "27\n"
     ]
    }
   ],
   "source": [
    "def power(base, exponent):\n",
    "    return base ** exponent\n",
    "\n",
    "# power fonksiyonunu tek argümanlı bir fonksiyon olarak kullanmak\n",
    "square = functools.partial(power, exponent=2)\n",
    "cube = functools.partial(power, exponent=3)\n",
    "\n",
    "print(square(5)) # 5^2 = 25\n",
    "print(cube(3))   # 3^3 = 27"
   ]
  },
  {
   "cell_type": "markdown",
   "metadata": {},
   "source": [
    "## <a id='toc1_2_'></a>[Decorators (Dekoratörler)](#toc0_)\n",
    "\n",
    "`functools.wraps` fonksiyonu, dekoratörlerle birlikte kullanıldığında, orijinal fonksiyonun metaverisini (metadata) korumaya yardımcı olur. Python'da dekoratörler, bir fonksiyonun davranışını değiştirmek veya genişletmek için kullanılır. Özellikle fonksiyonların önünde veya arkasında ek işlemler yapmak için kullanışlıdır."
   ]
  },
  {
   "cell_type": "code",
   "execution_count": 4,
   "metadata": {},
   "outputs": [
    {
     "name": "stdout",
     "output_type": "stream",
     "text": [
      "Before the function is called\n",
      "After the function is called\n",
      "Hello, Alice!\n",
      "greet\n",
      "Greet someone by name.\n"
     ]
    }
   ],
   "source": [
    "def my_decorator(func):\n",
    "    @functools.wraps(func)\n",
    "    def wrapper(*args, **kwargs):\n",
    "        print(\"Before the function is called\")\n",
    "        result = func(*args, **kwargs)\n",
    "        print(\"After the function is called\")\n",
    "        return result\n",
    "    return wrapper\n",
    "\n",
    "@my_decorator\n",
    "def greet(name):\n",
    "    \"\"\"Greet someone by name.\"\"\"\n",
    "    return f\"Hello, {name}!\"\n",
    "\n",
    "print(greet(\"Alice\"))\n",
    "print(greet.__name__)          # Output: greet\n",
    "print(greet.__doc__)           # Output: Greet someone by name."
   ]
  },
  {
   "cell_type": "markdown",
   "metadata": {},
   "source": [
    "## <a id='toc1_3_'></a>[Caching (Önbelleğe Alma)](#toc0_)\n",
    "\n",
    "`functools.lru_cache` fonksiyonu, fonksiyon çağrılarını önbelleğe almak ve tekrarlayan hesaplamaları önlemek için kullanılır. Bu, fonksiyonun aynı argümanlarla tekrar tekrar çağrılmasına gerek kalmadan daha hızlı sonuçlar elde etmek için kullanışlıdır."
   ]
  },
  {
   "cell_type": "code",
   "execution_count": 5,
   "metadata": {},
   "outputs": [
    {
     "name": "stdout",
     "output_type": "stream",
     "text": [
      "55\n"
     ]
    }
   ],
   "source": [
    "@functools.lru_cache(maxsize=10)\n",
    "def fibonacci(n):\n",
    "    if n <= 1:\n",
    "        return n\n",
    "    else:\n",
    "        return fibonacci(n-1) + fibonacci(n-2)\n",
    "\n",
    "print(fibonacci(10)) # Daha hızlı hesaplanır, sonuç önbellekte saklanır."
   ]
  },
  {
   "cell_type": "markdown",
   "metadata": {},
   "source": [
    "## <a id='toc1_4_'></a>[Örnek: Süre Hesaplama](#toc0_)\n",
    "\n",
    "`functools` modülünü kullanarak bir fonksiyonun çalışma süresini ölçmek için aşağıdaki örnek kullanılabilir."
   ]
  },
  {
   "cell_type": "code",
   "execution_count": 6,
   "metadata": {},
   "outputs": [
    {
     "name": "stdout",
     "output_type": "stream",
     "text": [
      "Function executed.\n",
      "slow_function took 2.01182 seconds to run.\n"
     ]
    }
   ],
   "source": [
    "import time\n",
    "from functools import wraps\n",
    "\n",
    "def calculate_time(func):\n",
    "    @wraps(func)\n",
    "    def wrapper(*args, **kwargs):\n",
    "        start_time = time.time()\n",
    "        result = func(*args, **kwargs)\n",
    "        end_time = time.time()\n",
    "        print(f\"{func.__name__} took {end_time - start_time:.5f} seconds to run.\")\n",
    "        return result\n",
    "    return wrapper\n",
    "\n",
    "@calculate_time\n",
    "def slow_function():\n",
    "    time.sleep(2)\n",
    "    print(\"Function executed.\")\n",
    "\n",
    "slow_function()"
   ]
  },
  {
   "cell_type": "markdown",
   "metadata": {},
   "source": [
    "## <a id='toc1_5_'></a>[Kaynakça](#toc0_)\n",
    "---\n",
    "\n",
    "https://docs.python.org/tr/3/library/functools.html?highlight=functools#module-functools\n",
    "\n",
    "https://docs.python.org/tr/3/library/functools.html?highlight=functools\n",
    "\n",
    "https://docs.python.org/tr/3/howto/functional.html?highlight=functools"
   ]
  }
 ],
 "metadata": {
  "kernelspec": {
   "display_name": "Python 3",
   "language": "python",
   "name": "python3"
  },
  "language_info": {
   "codemirror_mode": {
    "name": "ipython",
    "version": 3
   },
   "file_extension": ".py",
   "mimetype": "text/x-python",
   "name": "python",
   "nbconvert_exporter": "python",
   "pygments_lexer": "ipython3",
   "version": "3.10.6"
  },
  "orig_nbformat": 4
 },
 "nbformat": 4,
 "nbformat_minor": 2
}
