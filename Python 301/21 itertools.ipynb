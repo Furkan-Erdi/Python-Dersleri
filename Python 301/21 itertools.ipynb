{
 "cells": [
  {
   "cell_type": "markdown",
   "metadata": {},
   "source": [
    "# <a id='toc1_'></a>[itertools](#toc0_)"
   ]
  },
  {
   "cell_type": "markdown",
   "metadata": {},
   "source": [
    "Python'da `itertools` kütüphanesi, veri yapıları üzerinde çalışmayı kolaylaştıran, verimli ve kullanışlı bir araç seti sağlar. Bu kütüphane, yinelenen nesneler üzerinde döngü yapma, veri sıralama, kombinasyonlar oluşturma ve daha birçok işlemi gerçekleştirmek için çeşitli fonksiyonlar sunar. `itertools` modülü, Python standart kütüphanesinin bir parçasıdır ve `import itertools` ifadesiyle kullanılabilir."
   ]
  },
  {
   "cell_type": "markdown",
   "metadata": {},
   "source": [
    "**İçindekiler**<a id='toc0_'></a>    \n",
    "- [itertools](#toc1_)    \n",
    "  - [`itertools` Modülüne Giriş](#toc1_1_)    \n",
    "  - [`itertools` Temel Fonksiyonları](#toc1_2_)    \n",
    "    - [`count()`: Sonsuz Sayılar Oluşturma](#toc1_2_1_)    \n",
    "    - [`cycle()`: İteratörleri Sonsuz Döngüye Sokma](#toc1_2_2_)    \n",
    "    - [`repeat()`: Bir Elemanı Belirli Sayıda Tekrarlama](#toc1_2_3_)    \n",
    "    - [`chain()`: İteratörleri Birleştirme](#toc1_2_4_)    \n",
    "    - [`zip_longest()`: İteratörleri Eşleştirme](#toc1_2_5_)    \n",
    "  - [`itertools` Kombinasyon ve Permütasyon Fonksiyonları](#toc1_3_)    \n",
    "    - [`combinations()`: Elemanları Kombinasyonlar Oluşturma](#toc1_3_1_)    \n",
    "    - [`permutations()`: Elemanları Permütasyonlar Oluşturma](#toc1_3_2_)    \n",
    "    - [`product()`: Elemanlarla Çarpım Kümeleri Oluşturma](#toc1_3_3_)    \n",
    "    - [`combinations_with_replacement()`: Tekrarlı Elemanlarla Kombinasyonlar Oluşturma](#toc1_3_4_)    \n",
    "  - [`itertools` Gruplama ve Gruplama Öncelik Sıralaması](#toc1_4_)    \n",
    "    - [`groupby()`: Verileri Gruplama](#toc1_4_1_)    \n",
    "  - [`itertools` Diğer Fonksiyonlar](#toc1_5_)    \n",
    "    - [`islice()`: İteratörleri Dilimleme](#toc1_5_1_)    \n",
    "    - [`compress()`: Elemanları Filtreleme](#toc1_5_2_)    \n",
    "  - [Örnekler](#toc1_6_)    \n",
    "  - [Kaynakça](#toc1_7_)    \n",
    "\n",
    "<!-- vscode-jupyter-toc-config\n",
    "\tnumbering=false\n",
    "\tanchor=true\n",
    "\tflat=false\n",
    "\tminLevel=1\n",
    "\tmaxLevel=6\n",
    "\t/vscode-jupyter-toc-config -->\n",
    "<!-- THIS CELL WILL BE REPLACED ON TOC UPDATE. DO NOT WRITE YOUR TEXT IN THIS CELL -->"
   ]
  },
  {
   "cell_type": "code",
   "execution_count": 19,
   "metadata": {},
   "outputs": [],
   "source": [
    "import itertools"
   ]
  },
  {
   "cell_type": "markdown",
   "metadata": {},
   "source": [
    "## <a id='toc1_1_'></a>[`itertools` Modülüne Giriş](#toc0_)\n",
    "\n",
    "Python `itertools` modülü, veri yapıları üzerinde çalışmayı kolaylaştıran bir koleksiyon aracıdır. `itertools` fonksiyonları, genellikle verileri manipüle etmek, döngüleri optimize etmek ve verileri etkili bir şekilde gruplandırmak için kullanılır.\n",
    "\n",
    "`itertools` kütüphanesinin en önemli özelliklerinden biri, yinelenen nesneler üzerinde çalışırken \"lazy evaluation\" denilen tembel değerlendirme yöntemini kullanmasıdır. Bu, veri yapılarının elemanlarını asıl ihtiyaç duyulduğunda üretir, böylece bellek kullanımını ve işlem gücünü azaltır. Bu özelliği sayesinde büyük veri kümeleri üzerinde çalışırken performans iyileştirmeleri sağlar."
   ]
  },
  {
   "cell_type": "markdown",
   "metadata": {},
   "source": [
    "## <a id='toc1_2_'></a>[`itertools` Temel Fonksiyonları](#toc0_)"
   ]
  },
  {
   "cell_type": "markdown",
   "metadata": {},
   "source": [
    "### <a id='toc1_2_1_'></a>[`count()`: Sonsuz Sayılar Oluşturma](#toc0_)\n",
    "\n",
    "`count(start=0, step=1)` fonksiyonu, başlangıç değeri `start` ve artış miktarı `step` ile belirtilen sonsuz bir sayı dizisi oluşturur. Başlangıç değeri belirtilmezse, `start` varsayılan olarak 0'dır ve adım değeri de belirtilmezse, `step` varsayılan olarak 1'dir."
   ]
  },
  {
   "cell_type": "code",
   "execution_count": 20,
   "metadata": {},
   "outputs": [
    {
     "name": "stdout",
     "output_type": "stream",
     "text": [
      "1\n",
      "3\n",
      "5\n",
      "7\n",
      "9\n"
     ]
    }
   ],
   "source": [
    "# Sonsuz sayıları oluşturmak için count kullanımı\n",
    "for num in itertools.count(1, 2):\n",
    "    if num > 10:\n",
    "        break\n",
    "    print(num)"
   ]
  },
  {
   "cell_type": "markdown",
   "metadata": {},
   "source": [
    "### <a id='toc1_2_2_'></a>[`cycle()`: İteratörleri Sonsuz Döngüye Sokma](#toc0_)\n",
    "\n",
    "`cycle(iterable)` fonksiyonu, verilen bir iterable'ı sonsuz bir döngüde yineleyen bir iterator döndürür. Bu, verileri tekrar tekrar işlemeniz gerektiğinde kullanışlıdır."
   ]
  },
  {
   "cell_type": "code",
   "execution_count": 21,
   "metadata": {},
   "outputs": [
    {
     "name": "stdout",
     "output_type": "stream",
     "text": [
      "red\n",
      "green\n",
      "blue\n",
      "red\n",
      "green\n",
      "blue\n"
     ]
    }
   ],
   "source": [
    "# İteratörü sonsuz bir döngüde yinelemek için cycle kullanımı\n",
    "colors = ['red', 'green', 'blue']\n",
    "color_cycle = itertools.cycle(colors)\n",
    "\n",
    "for _ in range(6):\n",
    "    print(next(color_cycle))"
   ]
  },
  {
   "cell_type": "markdown",
   "metadata": {},
   "source": [
    "### <a id='toc1_2_3_'></a>[`repeat()`: Bir Elemanı Belirli Sayıda Tekrarlama](#toc0_)\n",
    "\n",
    "`repeat(elem, times)` fonksiyonu, belirli bir elemanı, belirtilen sayıda kez tekrarlayan bir iterator döndürür. `times` parametresi belirtilmezse, varsayılan olarak `None` kabul edilir ve elemanı sonsuz kez tekrarlayacak şekilde davranır."
   ]
  },
  {
   "cell_type": "code",
   "execution_count": 22,
   "metadata": {},
   "outputs": [
    {
     "name": "stdout",
     "output_type": "stream",
     "text": [
      "42\n",
      "42\n",
      "42\n"
     ]
    }
   ],
   "source": [
    "# Bir elemanı belirli sayıda tekrarlamak için repeat kullanımı\n",
    "element = 42\n",
    "repeated_element = itertools.repeat(element, 3)\n",
    "\n",
    "for num in repeated_element:\n",
    "    print(num)"
   ]
  },
  {
   "cell_type": "markdown",
   "metadata": {},
   "source": [
    "### <a id='toc1_2_4_'></a>[`chain()`: İteratörleri Birleştirme](#toc0_)\n",
    "\n",
    "`chain(iterable1, iterable2, ...)` fonksiyonu, birden fazla iterable'ı ardışık bir şekilde birleştirerek yeni bir iterator döndürür. Bu, birden fazla veri yapısını tek bir döngüde işlemek istediğinizde kullanışlıdır."
   ]
  },
  {
   "cell_type": "code",
   "execution_count": 23,
   "metadata": {},
   "outputs": [
    {
     "name": "stdout",
     "output_type": "stream",
     "text": [
      "1\n",
      "2\n",
      "3\n",
      "a\n",
      "b\n",
      "c\n"
     ]
    }
   ],
   "source": [
    "# İteratörleri birleştirmek için chain kullanımı\n",
    "numbers = [1, 2, 3]\n",
    "letters = ['a', 'b', 'c']\n",
    "combined_iterable = itertools.chain(numbers, letters)\n",
    "\n",
    "for item in combined_iterable:\n",
    "    print(item)"
   ]
  },
  {
   "cell_type": "markdown",
   "metadata": {},
   "source": [
    "### <a id='toc1_2_5_'></a>[`zip_longest()`: İteratörleri Eşleştirme](#toc0_)\n",
    "\n",
    "`zip_longest(iterable1, iterable2, ..., fillvalue=None)` fonksiyonu, farklı uzunluktaki iterable'ları eşleştirirken, eksik değerler için belirtilen `fillvalue` ile doldurarak yeni bir iterator döndürür. Eşleştirmenin tamamlanmasının ardından döngü sona erer."
   ]
  },
  {
   "cell_type": "code",
   "execution_count": 24,
   "metadata": {},
   "outputs": [
    {
     "name": "stdout",
     "output_type": "stream",
     "text": [
      "(1, 'a')\n",
      "(2, 'b')\n",
      "(3, 'N/A')\n"
     ]
    }
   ],
   "source": [
    "# İteratörleri eşleştirmek için zip_longest kullanımı\n",
    "numbers = [1, 2, 3]\n",
    "letters = ['a', 'b']\n",
    "zipped_iterable = itertools.zip_longest(numbers, letters, fillvalue='N/A')\n",
    "\n",
    "for item in zipped_iterable:\n",
    "    print(item)"
   ]
  },
  {
   "cell_type": "markdown",
   "metadata": {},
   "source": [
    "## <a id='toc1_3_'></a>[`itertools` Kombinasyon ve Permütasyon Fonksiyonları](#toc0_)"
   ]
  },
  {
   "cell_type": "markdown",
   "metadata": {},
   "source": [
    "### <a id='toc1_3_1_'></a>[`combinations()`: Elemanları Kombinasyonlar Oluşturma](#toc0_)\n",
    "\n",
    "`combinations(iterable, r)` fonksiyonu, verilen iterable'daki elemanların `r` uzunluğunda kombinasyonlarını üreten bir iterator döndürür. Kombinasyonlar, sırasız bir şekilde elemanları seçer ve aynı elemanın birden fazla kez seçilmesine izin vermez."
   ]
  },
  {
   "cell_type": "code",
   "execution_count": 25,
   "metadata": {},
   "outputs": [
    {
     "name": "stdout",
     "output_type": "stream",
     "text": [
      "('red', 'green')\n",
      "('red', 'blue')\n",
      "('green', 'blue')\n"
     ]
    }
   ],
   "source": [
    "# Elemanları kombinasyonlar oluşturmak için combinations kullanımı\n",
    "colors = ['red', 'green', 'blue']\n",
    "combinations_iter = itertools.combinations(colors, 2)\n",
    "\n",
    "for comb in combinations_iter:\n",
    "    print(comb)"
   ]
  },
  {
   "cell_type": "markdown",
   "metadata": {},
   "source": [
    "### <a id='toc1_3_2_'></a>[`permutations()`: Elemanları Permütasyonlar Oluşturma](#toc0_)\n",
    "\n",
    "`permutations(iterable, r=None)` fonksiyonu, verilen iterable'daki elemanların varsayılan olarak tüm uzunluklarındaki permütasyonlarını üreten bir iterator döndürür. Permütasyonlar, elemanların sırasının önemli olduğu durumlarda kullanılır."
   ]
  },
  {
   "cell_type": "code",
   "execution_count": 26,
   "metadata": {},
   "outputs": [
    {
     "name": "stdout",
     "output_type": "stream",
     "text": [
      "(1, 2, 3)\n",
      "(1, 3, 2)\n",
      "(2, 1, 3)\n",
      "(2, 3, 1)\n",
      "(3, 1, 2)\n",
      "(3, 2, 1)\n"
     ]
    }
   ],
   "source": [
    "# Elemanları permütasyonlar oluşturmak için permutations kullanımı\n",
    "numbers = [1, 2, 3]\n",
    "permutations_iter = itertools.permutations(numbers)\n",
    "\n",
    "for perm in permutations_iter:\n",
    "    print(perm)"
   ]
  },
  {
   "cell_type": "markdown",
   "metadata": {},
   "source": [
    "### <a id='toc1_3_3_'></a>[`product()`: Elemanlarla Çarpım Kümeleri Oluşturma](#toc0_)\n",
    "\n",
    "`product(iterable1, iterable2, ..., repeat=1)` fonksiyonu, verilen iterable'lar arasında çarpım kümeleri oluşturur ve elemanları tekrar kullanarak yeni bir iterator döndürür. `repeat` parametresi, çarpım kümelerinde tekrarlanacak eleman sayısını belirtir."
   ]
  },
  {
   "cell_type": "code",
   "execution_count": 27,
   "metadata": {},
   "outputs": [
    {
     "name": "stdout",
     "output_type": "stream",
     "text": [
      "(1, 'red')\n",
      "(1, 'blue')\n",
      "(2, 'red')\n",
      "(2, 'blue')\n"
     ]
    }
   ],
   "source": [
    "# Elemanlarla çarpım kümeleri oluşturmak için product kullanımı\n",
    "numbers = [1, 2]\n",
    "colors = ['red', 'blue']\n",
    "product_iter = itertools.product(numbers, colors)\n",
    "\n",
    "for item in product_iter:\n",
    "    print(item)"
   ]
  },
  {
   "cell_type": "markdown",
   "metadata": {},
   "source": [
    "### <a id='toc1_3_4_'></a>[`combinations_with_replacement()`: Tekrarlı Elemanlarla Kombinasyonlar Oluşturma](#toc0_)\n",
    "\n",
    "`combinations_with_replacement(iterable, r)` fonksiyonu, verilen iterable'daki elemanların tekrarlı kombinasyonlarını üreten bir iterator döndürür. Kombinasyonlar, elemanların tekrar kullanılmasına izin verir."
   ]
  },
  {
   "cell_type": "code",
   "execution_count": 28,
   "metadata": {},
   "outputs": [
    {
     "name": "stdout",
     "output_type": "stream",
     "text": [
      "('red', 'red')\n",
      "('red', 'green')\n",
      "('red', 'blue')\n",
      "('green', 'green')\n",
      "('green', 'blue')\n",
      "('blue', 'blue')\n"
     ]
    }
   ],
   "source": [
    "# Tekrarlı elemanlarla kombinasyonlar oluşturmak için combinations_with_replacement kullanımı\n",
    "colors = ['red', 'green', 'blue']\n",
    "combinations_with_replacement_iter = itertools.combinations_with_replacement(colors, 2)\n",
    "\n",
    "for comb in combinations_with_replacement_iter:\n",
    "    print(comb)"
   ]
  },
  {
   "cell_type": "markdown",
   "metadata": {},
   "source": [
    "## <a id='toc1_4_'></a>[`itertools` Gruplama ve Gruplama Öncelik Sıralaması](#toc0_)"
   ]
  },
  {
   "cell_type": "markdown",
   "metadata": {},
   "source": [
    "### <a id='toc1_4_1_'></a>[`groupby()`: Verileri Gruplama](#toc0_)\n",
    "\n",
    "`groupby(iterable, key=None)` fonksiyonu, bir iterable'ı belirli bir anahtar fonksiyona göre gruplar. Gruplama, bir anahtar fonksiyonu tarafından üretilen değere göre gerçekleştirilir."
   ]
  },
  {
   "cell_type": "code",
   "execution_count": 29,
   "metadata": {},
   "outputs": [
    {
     "name": "stdout",
     "output_type": "stream",
     "text": [
      "a ['apple']\n",
      "b ['banana']\n",
      "o ['orange']\n",
      "g ['grape']\n",
      "a ['apricot']\n",
      "b ['blueberry']\n"
     ]
    }
   ],
   "source": [
    "# Verileri gruplamak için groupby kullanımı\n",
    "data = ['apple', 'banana', 'orange', 'grape', 'apricot', 'blueberry']\n",
    "grouped_data = itertools.groupby(data, key=lambda x: x[0])\n",
    "\n",
    "for key, group in grouped_data:\n",
    "    print(key, list(group))"
   ]
  },
  {
   "cell_type": "markdown",
   "metadata": {},
   "source": [
    "## <a id='toc1_5_'></a>[`itertools` Diğer Fonksiyonlar](#toc0_)"
   ]
  },
  {
   "cell_type": "markdown",
   "metadata": {},
   "source": [
    "### <a id='toc1_5_1_'></a>[`islice()`: İteratörleri Dilimleme](#toc0_)\n",
    "\n",
    "`islice(iterable, start, stop, step=1)` fonksiyonu, bir iterable'ın belirli bir dilimini (slice) almak için kullanılır. `start`, `stop` ve `step` parametreleri ile dilimleme işlemi gerçekleştirilir."
   ]
  },
  {
   "cell_type": "code",
   "execution_count": 30,
   "metadata": {},
   "outputs": [
    {
     "name": "stdout",
     "output_type": "stream",
     "text": [
      "2\n",
      "4\n",
      "6\n"
     ]
    }
   ],
   "source": [
    "# İteratörleri dilimlemek için islice kullanımı\n",
    "numbers = [1, 2, 3, 4, 5, 6, 7, 8, 9]\n",
    "sliced_numbers = itertools.islice(numbers, 1, 7, 2)\n",
    "\n",
    "for num in sliced_numbers:\n",
    "    print(num)"
   ]
  },
  {
   "cell_type": "markdown",
   "metadata": {},
   "source": [
    "### <a id='toc1_5_2_'></a>[`compress()`: Elemanları Filtreleme](#toc0_)\n",
    "\n",
    "`compress(data, selectors)` fonksiyonu, verilen `data` iterable'ı ile `selectors\n",
    "\n",
    "` iterable'ındaki `True` değerlerine karşılık gelen elemanları döndürür. `selectors` iterable'ı, `data` iterable'ıyla aynı uzunlukta olmalıdır."
   ]
  },
  {
   "cell_type": "code",
   "execution_count": 31,
   "metadata": {},
   "outputs": [
    {
     "name": "stdout",
     "output_type": "stream",
     "text": [
      "apple\n",
      "orange\n"
     ]
    }
   ],
   "source": [
    "# Elemanları filtrelemek için compress kullanımı\n",
    "data = ['apple', 'banana', 'orange', 'grape']\n",
    "selectors = [True, False, True, False]\n",
    "filtered_data = itertools.compress(data, selectors)\n",
    "\n",
    "for item in filtered_data:\n",
    "    print(item)"
   ]
  },
  {
   "cell_type": "markdown",
   "metadata": {},
   "source": [
    "## <a id='toc1_6_'></a>[Örnekler](#toc0_)\n",
    "\n",
    "`itertools` kütüphanesi, Python'da güçlü bir araçtır ve çeşitli alanlarda kullanılır. Özellikle büyük veri işleme, veri analizi, kombinasyon ve permütasyon hesaplamaları gibi alanlarda yaygın olarak kullanılır. Ayrıca, web scraping, veri işleme ve düzenleme gibi alanlarda da pratik çözümler sunar.\n",
    "\n",
    "Örnek olarak, bir e-ticaret platformunda ürünlerin kombinasyonlarını hesaplayalım. Diyelim ki bir müşteri, kişiselleştirilmiş bir ürün seçmek istiyor ve ürünün farklı renk ve boyut seçenekleri var. Bu durumda, `itertools.product()` fonksiyonu, müşterinin seçtiği renk ve boyut seçeneklerini birleştirerek tüm kombinasyonları oluşturmamıza yardımcı olur."
   ]
  },
  {
   "cell_type": "code",
   "execution_count": 32,
   "metadata": {},
   "outputs": [
    {
     "name": "stdout",
     "output_type": "stream",
     "text": [
      "Order ID: 1, Product: T-shirt, Color: red, Size: M\n",
      "Order ID: 2, Product: T-shirt, Color: blue, Size: S\n",
      "Order ID: 3, Product: Pants, Color: black, Size: L\n",
      "Order ID: 4, Product: Pants, Color: blue, Size: M\n",
      "Order ID: 5, Product: Hat, Color: green, Size: M\n",
      "Product Combination: ('T-shirt', 'Pants')\n",
      "Product Combination: ('T-shirt', 'Hat')\n",
      "Product Combination: ('Pants', 'Hat')\n",
      "Product Permutation: ('T-shirt', 'Pants', 'Hat')\n",
      "Product Permutation: ('T-shirt', 'Hat', 'Pants')\n",
      "Product Permutation: ('Pants', 'T-shirt', 'Hat')\n",
      "Product Permutation: ('Pants', 'Hat', 'T-shirt')\n",
      "Product Permutation: ('Hat', 'T-shirt', 'Pants')\n",
      "Product Permutation: ('Hat', 'Pants', 'T-shirt')\n",
      "Product: Hat\n",
      "  Order ID: 5, Color: green, Size: M\n",
      "Product: Pants\n",
      "  Order ID: 3, Color: black, Size: L\n",
      "  Order ID: 4, Color: blue, Size: M\n",
      "Product: T-shirt\n",
      "  Order ID: 1, Color: red, Size: M\n",
      "  Order ID: 2, Color: blue, Size: S\n"
     ]
    }
   ],
   "source": [
    "import itertools\n",
    "\n",
    "# Sipariş verileri\n",
    "orders = [\n",
    "    {'order_id': 1, 'product': 'T-shirt', 'color': 'red', 'size': 'M'},\n",
    "    {'order_id': 2, 'product': 'T-shirt', 'color': 'blue', 'size': 'S'},\n",
    "    {'order_id': 3, 'product': 'Pants', 'color': 'black', 'size': 'L'},\n",
    "    {'order_id': 4, 'product': 'Pants', 'color': 'blue', 'size': 'M'},\n",
    "    {'order_id': 5, 'product': 'Hat', 'color': 'green', 'size': 'M'},\n",
    "]\n",
    "\n",
    "# 1. Siparişlerin İteratif İşlenmesi\n",
    "def process_orders(orders):\n",
    "    for order in orders:\n",
    "        order_id = order['order_id']\n",
    "        product = order['product']\n",
    "        color = order['color']\n",
    "        size = order['size']\n",
    "\n",
    "        print(f\"Order ID: {order_id}, Product: {product}, Color: {color}, Size: {size}\")\n",
    "\n",
    "process_orders(orders)\n",
    "\n",
    "# 2. Ürünlerin Kombinasyonları ve Permütasyonları\n",
    "products = ['T-shirt', 'Pants', 'Hat']\n",
    "colors = ['red', 'blue', 'black', 'green']\n",
    "sizes = ['S', 'M', 'L']\n",
    "\n",
    "# Ürünlerin kombinasyonları\n",
    "product_combinations = itertools.combinations(products, 2)\n",
    "for comb in product_combinations:\n",
    "    print(\"Product Combination:\", comb)\n",
    "\n",
    "# Ürünlerin permütasyonları\n",
    "product_permutations = itertools.permutations(products)\n",
    "for perm in product_permutations:\n",
    "    print(\"Product Permutation:\", perm)\n",
    "\n",
    "# 3. Siparişlerin Gruplara Ayrılması\n",
    "def group_orders_by_product(orders):\n",
    "    sorted_orders = sorted(orders, key=lambda x: x['product'])\n",
    "    grouped_data = itertools.groupby(sorted_orders, key=lambda x: x['product'])\n",
    "\n",
    "    for product, group in grouped_data:\n",
    "        print(f\"Product: {product}\")\n",
    "        for order in group:\n",
    "            order_id = order['order_id']\n",
    "            color = order['color']\n",
    "            size = order['size']\n",
    "            print(f\"  Order ID: {order_id}, Color: {color}, Size: {size}\")\n",
    "\n",
    "group_orders_by_product(orders)"
   ]
  },
  {
   "cell_type": "markdown",
   "metadata": {},
   "source": [
    "## <a id='toc1_7_'></a>[Kaynakça](#toc0_)\n",
    "---\n",
    "\n",
    "https://docs.python.org/tr/3/library/itertools.html?highlight=itertools#module-itertools\n",
    "\n",
    "https://docs.python.org/tr/3/library/2to3.html?highlight=itertools#to3fixer-itertools\n",
    "\n",
    "https://docs.python.org/tr/3/library/itertools.html?highlight=itertools"
   ]
  }
 ],
 "metadata": {
  "kernelspec": {
   "display_name": "Python 3",
   "language": "python",
   "name": "python3"
  },
  "language_info": {
   "codemirror_mode": {
    "name": "ipython",
    "version": 3
   },
   "file_extension": ".py",
   "mimetype": "text/x-python",
   "name": "python",
   "nbconvert_exporter": "python",
   "pygments_lexer": "ipython3",
   "version": "3.10.6"
  },
  "orig_nbformat": 4
 },
 "nbformat": 4,
 "nbformat_minor": 2
}
