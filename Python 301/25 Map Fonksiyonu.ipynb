{
 "cells": [
  {
   "cell_type": "markdown",
   "metadata": {},
   "source": [
    "# <a id='toc1_'></a>[Map Fonksiyonu](#toc0_)"
   ]
  },
  {
   "cell_type": "markdown",
   "metadata": {},
   "source": [
    "Python'daki map() fonksiyonu, bir veya birden çok veri koleksiyonundaki elemanlara belirli bir işlemi uygulayarak yeni bir koleksiyon oluşturan bir yüksek seviyeli bir fonksiyondur. Bu işlem genellikle bir fonksiyon veya lambda ifadesi aracılığıyla yapılır.\n",
    "\n",
    "map() fonksiyonu, orijinal koleksiyonun her elemanını işleyerek yeni bir koleksiyon döndürür. İşlem sonucunda elde edilen koleksiyonun uzunluğu, giriş koleksiyonu ile aynıdır."
   ]
  },
  {
   "cell_type": "markdown",
   "metadata": {},
   "source": [
    "**İçindekiler**<a id='toc0_'></a>    \n",
    "- [Map Fonksiyonu](#toc1_)    \n",
    "  - [Map Fonksiyonunun Söz Dizimi](#toc1_1_)    \n",
    "  - [Map Fonksiyonunun Çalışma Mekanizması](#toc1_2_)    \n",
    "  - [Map Fonksiyonunun Avantajları](#toc1_3_)    \n",
    "  - [Map Fonksiyonunun Kullanım Alanları](#toc1_4_)    \n",
    "  - [Örnek](#toc1_5_)    \n",
    "\n",
    "<!-- vscode-jupyter-toc-config\n",
    "\tnumbering=false\n",
    "\tanchor=true\n",
    "\tflat=false\n",
    "\tminLevel=1\n",
    "\tmaxLevel=6\n",
    "\t/vscode-jupyter-toc-config -->\n",
    "<!-- THIS CELL WILL BE REPLACED ON TOC UPDATE. DO NOT WRITE YOUR TEXT IN THIS CELL -->"
   ]
  },
  {
   "cell_type": "markdown",
   "metadata": {},
   "source": [
    "## <a id='toc1_1_'></a>[Map Fonksiyonunun Söz Dizimi](#toc0_)\n",
    "\n",
    "map() fonksiyonunun söz dizimi \n",
    "\n",
    "```python\n",
    "map(function, iterable1, iterable2, ...)\n",
    "```\n",
    "\n",
    "şeklindedir."
   ]
  },
  {
   "cell_type": "markdown",
   "metadata": {},
   "source": [
    "- **function:** Her bir elemana uygulanacak işlemi gerçekleştiren bir fonksiyon veya lambda ifadesidir. Bu fonksiyon, map() fonksiyonu tarafından her elemana uygulanacaktır.\n",
    "- **iterable1, iterable2, ...:** İşlem yapılacak veri koleksiyonlarıdır. Birden çok koleksiyon verilebilir, ancak bu koleksiyonların uzunlukları eşit olmalıdır."
   ]
  },
  {
   "cell_type": "markdown",
   "metadata": {},
   "source": [
    "## <a id='toc1_2_'></a>[Map Fonksiyonunun Çalışma Mekanizması](#toc0_)\n",
    "\n",
    "map() fonksiyonu, verilen her bir iterable'ın elemanlarını sırasıyla alır ve bu elemanları belirtilen fonksiyonun (veya lambda ifadesinin) parametreleri olarak kullanır. Daha sonra fonksiyonun dönüş değeri, yeni oluşturulan koleksiyonda ilgili eleman olarak yer alır. Bu işlem, tüm elemanlar üzerinde tamamlandığında yeni koleksiyon oluşturulmuş olur."
   ]
  },
  {
   "cell_type": "markdown",
   "metadata": {},
   "source": [
    "## <a id='toc1_3_'></a>[Map Fonksiyonunun Avantajları](#toc0_)\n",
    "\n",
    "1. Kısa ve Hızlı: map() fonksiyonu, kısa ve hızlı bir şekilde veri koleksiyonları üzerinde işlem yapmak için kullanılır.\n",
    "\n",
    "2. Okunabilirlik: map() fonksiyonu, işlemi belirten bir fonksiyonu veya lambda ifadesini kullanarak kodu daha okunabilir ve sade hale getirir.\n",
    "\n",
    "3. Verimli Bellek Kullanımı: map() fonksiyonu, orijinal veri koleksiyonunu değiştirmez ve yeni bir koleksiyon döndürür, bu nedenle bellek kullanımı verimlidir."
   ]
  },
  {
   "cell_type": "markdown",
   "metadata": {},
   "source": [
    "## <a id='toc1_4_'></a>[Map Fonksiyonunun Kullanım Alanları](#toc0_)\n",
    "\n",
    "map() fonksiyonu, genellikle örneğin listeler, demetler veya kümelere uygulanacak aynı işlemi yürütmek için kullanılır. Veri manipülasyonu, filtreleme ve dönüştürme işlemleri map() fonksiyonu ile kolayca gerçekleştirilebilir."
   ]
  },
  {
   "cell_type": "code",
   "execution_count": 2,
   "metadata": {},
   "outputs": [
    {
     "name": "stdout",
     "output_type": "stream",
     "text": [
      "[1, 4, 9, 16, 25]\n"
     ]
    }
   ],
   "source": [
    "# Bir liste içindeki sayıların karesini alalım\n",
    "numbers = [1, 2, 3, 4, 5]\n",
    "squared_numbers = map(lambda x: x**2, numbers)\n",
    "\n",
    "# Oluşturulan yeni koleksiyonu liste olarak döndürelim\n",
    "squared_numbers_list = list(squared_numbers)\n",
    "\n",
    "print(squared_numbers_list)  # Output: [1, 4, 9, 16, 25]"
   ]
  },
  {
   "cell_type": "markdown",
   "metadata": {},
   "source": [
    "Map fonksiyonu, özellikle büyük veri işleme uygulamalarında ve veri bilimi projelerinde yaygın olarak kullanılır. Örneğin, bir veri kümesindeki tüm öğeleri bir ölçeklendirme fonksiyonuyla dönüştürmek, kategorilere göre gruplama yapmak veya belirli bir dönüşüm işlemi uygulamak için map() fonksiyonu sıkça tercih edilir.\n",
    "\n",
    "Örneğin, bir e-ticaret şirketi, müşterilere öneriler sunmak için kullanıcıların önceki alışverişlerini ve tercihlerini analiz ederken, verileri işlemek için map() fonksiyonundan yararlanabilir. Kullanıcı tercihlerini analiz ederek, belirli kategorilerde benzer ürünleri gruplandırabilir ve kullanıcılara kişiselleştirilmiş öneriler sunabilirler. Map fonksiyonu, bu tür büyük veri işleme süreçlerinde hızlı ve verimli bir şekilde kullanılmaktadır."
   ]
  },
  {
   "cell_type": "markdown",
   "metadata": {},
   "source": [
    "## <a id='toc1_5_'></a>[Örnek](#toc0_)"
   ]
  },
  {
   "cell_type": "code",
   "execution_count": 4,
   "metadata": {},
   "outputs": [
    {
     "name": "stdout",
     "output_type": "stream",
     "text": [
      "Ali için ortalama not: 87.2\n",
      "Ayşe için ortalama not: 86.4\n",
      "Mehmet için ortalama not: 85.0\n",
      "Elif için ortalama not: 80.0\n",
      "Ahmet için ortalama not: 86.2\n"
     ]
    }
   ],
   "source": [
    "# Örnek öğrenci verisi (öğrenci_adı, [notlar])\n",
    "students = [\n",
    "    (\"Ali\", [85, 90, 78, 95, 88]),\n",
    "    (\"Ayşe\", [76, 82, 95, 88, 91]),\n",
    "    (\"Mehmet\", [90, 85, 92, 78, 80]),\n",
    "    (\"Elif\", [68, 75, 82, 90, 85]),\n",
    "    (\"Ahmet\", [92, 88, 76, 85, 90]),\n",
    "]\n",
    "\n",
    "# Notlar listesindeki her bir öğrencinin ortalamasını hesaplayan fonksiyon\n",
    "def calculate_average(grades):\n",
    "    return sum(grades) / len(grades)\n",
    "\n",
    "# Her öğrenci için hesaplanan not ortalamalarını hesaplayalım\n",
    "student_averages = map(lambda student: (student[0], calculate_average(student[1])), students)\n",
    "\n",
    "# Sonuçları yazdıralım\n",
    "for student_name, average_grade in student_averages:\n",
    "    print(f\"{student_name} için ortalama not: {average_grade}\")"
   ]
  },
  {
   "cell_type": "markdown",
   "metadata": {},
   "source": [
    "## Kaynakça\n",
    "---\n",
    "\n",
    "https://docs.python.org/tr/3/library/functions.html?highlight=map#map"
   ]
  }
 ],
 "metadata": {
  "kernelspec": {
   "display_name": "Python 3",
   "language": "python",
   "name": "python3"
  },
  "language_info": {
   "codemirror_mode": {
    "name": "ipython",
    "version": 3
   },
   "file_extension": ".py",
   "mimetype": "text/x-python",
   "name": "python",
   "nbconvert_exporter": "python",
   "pygments_lexer": "ipython3",
   "version": "3.10.6"
  },
  "orig_nbformat": 4
 },
 "nbformat": 4,
 "nbformat_minor": 2
}
