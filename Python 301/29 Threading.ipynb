{
 "cells": [
  {
   "cell_type": "markdown",
   "metadata": {},
   "source": [
    "# <a id='toc1_'></a>[Threading](#toc0_)"
   ]
  },
  {
   "cell_type": "markdown",
   "metadata": {},
   "source": [
    "Threading, Python'da aynı program içinde birden fazla iş parçacığı oluşturarak paralel işlem yapmamızı sağlayan bir modüldür. Her bir iş parçacığı, kendi işlem akışına sahip bağımsız çalışan küçük işlemlerdir. Threading, özellikle I/O yoğun işlemlerde, örneğin dosya okuma/yazma veya ağ işlemleri gibi durumlarda performansı artırmak için kullanılır."
   ]
  },
  {
   "cell_type": "code",
   "execution_count": 1,
   "metadata": {},
   "outputs": [],
   "source": [
    "import threading"
   ]
  },
  {
   "cell_type": "markdown",
   "metadata": {},
   "source": [
    "**İçindekiler**<a id='toc0_'></a>    \n",
    "- [Threading](#toc1_)    \n",
    "  - [Threading Modülü ve Kullanımı](#toc1_1_)    \n",
    "  - [Threading'de Dikkat Edilmesi Gerekenler](#toc1_2_)    \n",
    "  - [Threading Sektörel Kullanımı](#toc1_3_)    \n",
    "  - [Örnek: JSON Veritabanı](#toc1_4_)    \n",
    "\n",
    "<!-- vscode-jupyter-toc-config\n",
    "\tnumbering=false\n",
    "\tanchor=true\n",
    "\tflat=false\n",
    "\tminLevel=1\n",
    "\tmaxLevel=6\n",
    "\t/vscode-jupyter-toc-config -->\n",
    "<!-- THIS CELL WILL BE REPLACED ON TOC UPDATE. DO NOT WRITE YOUR TEXT IN THIS CELL -->"
   ]
  },
  {
   "cell_type": "markdown",
   "metadata": {},
   "source": [
    "## <a id='toc1_1_'></a>[Threading Modülü ve Kullanımı](#toc0_)\n",
    "\n",
    "Python'da threading için `threading` modülü kullanılır. Bu modülü kullanarak iş parçacıklarını oluşturabilir ve yönetebiliriz."
   ]
  },
  {
   "cell_type": "code",
   "execution_count": 2,
   "metadata": {},
   "outputs": [
    {
     "name": "stdout",
     "output_type": "stream",
     "text": [
      "1\n",
      "A\n",
      "2B\n",
      "\n",
      "C3\n",
      "\n",
      "D4\n",
      "\n",
      "E\n",
      "5\n",
      "Program sonlandı.\n"
     ]
    }
   ],
   "source": [
    "import time\n",
    "\n",
    "def print_numbers():\n",
    "    for i in range(1, 6):\n",
    "        print(i)\n",
    "        time.sleep(1)\n",
    "\n",
    "def print_letters():\n",
    "    for letter in 'ABCDE':\n",
    "        print(letter)\n",
    "        time.sleep(1)\n",
    "\n",
    "if __name__ == \"__main__\":\n",
    "    t1 = threading.Thread(target=print_numbers)\n",
    "    t2 = threading.Thread(target=print_letters)\n",
    "\n",
    "    t1.start()\n",
    "    t2.start()\n",
    "\n",
    "    t1.join()\n",
    "    t2.join()\n",
    "\n",
    "    print(\"Program sonlandı.\")"
   ]
  },
  {
   "cell_type": "markdown",
   "metadata": {},
   "source": [
    "Yukarıdaki örnekte, iki ayrı iş parçacığı oluşturduk. Birincisi `print_numbers` fonksiyonunu, diğeri ise `print_letters` fonksiyonunu işleyecektir. `start()` metoduyla her iki iş parçacığını da çalıştırdık. `join()` metodu ise her iş parçacığının tamamlanmasını beklememizi sağlar."
   ]
  },
  {
   "cell_type": "markdown",
   "metadata": {},
   "source": [
    "## <a id='toc1_2_'></a>[Threading'de Dikkat Edilmesi Gerekenler](#toc0_)\n",
    "\n",
    "Threading kullanırken, aynı değişken veya veri kaynağına birden fazla iş parçacığı tarafından erişilebileceğini unutmayın. Bu durumda uygun senkronizasyon mekanizmaları kullanarak veri bütünlüğünü korumak önemlidir.\n",
    "\n",
    "Threading, yalnızca I/O yoğun işlemler için uygun olabilir. Çünkü Python'da Global Interpreter Lock (GIL) mekanizması nedeniyle, CPU yoğun işlemlerde gerçek paralelizm elde etmek zor olabilir.\n",
    "\n",
    "Threading, her zaman performansı artırmaz. İşlemler arasındaki geçiş maliyeti, bazı durumlarda threading'in performansını olumsuz yönde etkileyebilir."
   ]
  },
  {
   "cell_type": "markdown",
   "metadata": {},
   "source": [
    "## <a id='toc1_3_'></a>[Threading Sektörel Kullanımı](#toc0_)\n",
    "\n",
    "Threading, Python'da genellikle I/O yoğun işlemler için kullanılır. Özellikle ağ işlemleri, dosya okuma/yazma işlemleri veya veritabanı işlemleri gibi durumlarda threading, uygulamanın tepkisini artırabilir ve zaman kazandırabilir.\n",
    "\n",
    "Aynı program içinde birden fazla iş parçacığı oluşturarak paralel işlem yapmamızı sağlar. Özellikle I/O yoğun işlemlerde performansı artırabilir. Ancak GIL mekanizması nedeniyle CPU yoğun işlemlerde gerçek paralelizm elde etmek zor olabilir. Genellikle web scraping, ağ işlemleri ve dosya okuma/yazma gibi durumlarda sıklıkla kullanılır. Uygun senkronizasyon ve veri bütünlüğü sağlama önemlidir."
   ]
  },
  {
   "cell_type": "markdown",
   "metadata": {},
   "source": [
    "## <a id='toc1_4_'></a>[Örnek: JSON Veritabanı](#toc0_)\n",
    "\n",
    "Bir müşteri veritabanı oluşturmak istiyoruz. Her müşterinin adını, e-posta adresini ve telefon numarasını kaydedeceğiz. Birden çok müşteri ekleme talebi eşzamanlı olarak gerçekleşebilir, bu nedenle threading kullanarak veritabanına ekleme işlemini paralel olarak yapacağız."
   ]
  },
  {
   "cell_type": "code",
   "execution_count": 5,
   "metadata": {},
   "outputs": [
    {
     "name": "stdout",
     "output_type": "stream",
     "text": [
      "Customer Database:\n",
      "Name: Customer 0, Email: customer0@example.com, Phone: 555-123-00000\n",
      "Name: Customer 1, Email: customer1@example.com, Phone: 555-123-00001\n",
      "Name: Customer 4, Email: customer4@example.com, Phone: 555-123-00004\n"
     ]
    }
   ],
   "source": [
    "import threading\n",
    "import json\n",
    "\n",
    "def add_customer(database, name, email, phone):\n",
    "    # Yeni müşteri verilerini sözlük olarak oluşturuyoruz\n",
    "    new_customer = {\n",
    "        'name': name,\n",
    "        'email': email,\n",
    "        'phone': phone\n",
    "    }\n",
    "\n",
    "    # Veritabanını güncellemek için threading kilidini kullanıyoruz\n",
    "    with threading.Lock():\n",
    "        # Önce mevcut verileri yüklüyoruz (eğer varsa)\n",
    "        try:\n",
    "            with open(database, 'r') as file:\n",
    "                data = json.load(file)\n",
    "        except FileNotFoundError:\n",
    "            data = []\n",
    "\n",
    "        # Yeni müşteriyi verilere ekliyoruz\n",
    "        data.append(new_customer)\n",
    "\n",
    "        # Verileri JSON dosyasına yazıyoruz\n",
    "        with open(database, 'w') as file:\n",
    "            json.dump(data, file)\n",
    "\n",
    "if __name__ == \"__main__\":\n",
    "    # Yeni müşteri eklemek için veritabanı dosyası\n",
    "    DATABASE_FILE = \"customers.json\"\n",
    "\n",
    "    # Eşzamanlı müşteri eklemek için iş parçacıkları oluşturuyoruz\n",
    "    threads = []\n",
    "    for i in range(5):  # Örneğin, 5 müşteri eklemek istiyoruz\n",
    "        name = f\"Customer {i}\"\n",
    "        email = f\"customer{i}@example.com\"\n",
    "        phone = f\"555-123-000{i:02}\"  # Telefon numarasını örnek olarak ayarlıyoruz\n",
    "\n",
    "        thread = threading.Thread(target=add_customer, args=(DATABASE_FILE, name, email, phone))\n",
    "        thread.start()\n",
    "        threads.append(thread)\n",
    "\n",
    "    # Tüm iş parçacıklarının tamamlanmasını bekliyoruz\n",
    "    for thread in threads:\n",
    "        thread.join()\n",
    "\n",
    "    # Son olarak, tüm müşteri verilerini yazdırıyoruz\n",
    "    with open(DATABASE_FILE, 'r') as file:\n",
    "        all_customers = json.load(file)\n",
    "        print(\"Customer Database:\")\n",
    "        for customer in all_customers:\n",
    "            print(f\"Name: {customer['name']}, Email: {customer['email']}, Phone: {customer['phone']}\")"
   ]
  },
  {
   "cell_type": "markdown",
   "metadata": {},
   "source": [
    "## Kaynakça\n",
    "---\n",
    "\n",
    "https://docs.python.org/tr/3/library/threading.html?highlight=threading#module-threading"
   ]
  }
 ],
 "metadata": {
  "kernelspec": {
   "display_name": "Python 3",
   "language": "python",
   "name": "python3"
  },
  "language_info": {
   "codemirror_mode": {
    "name": "ipython",
    "version": 3
   },
   "file_extension": ".py",
   "mimetype": "text/x-python",
   "name": "python",
   "nbconvert_exporter": "python",
   "pygments_lexer": "ipython3",
   "version": "3.10.6"
  },
  "orig_nbformat": 4
 },
 "nbformat": 4,
 "nbformat_minor": 2
}
