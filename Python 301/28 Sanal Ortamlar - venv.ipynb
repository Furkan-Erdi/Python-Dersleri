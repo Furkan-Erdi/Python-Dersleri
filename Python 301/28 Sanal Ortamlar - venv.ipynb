{
 "cells": [
  {
   "cell_type": "markdown",
   "metadata": {},
   "source": [
    "# <a id='toc1_'></a>[Sanal Ortamlar - venv](#toc0_)"
   ]
  },
  {
   "cell_type": "markdown",
   "metadata": {},
   "source": [
    "Python dilinde geliştirme yaparken, projelerin bağımlılıklarının düzgün bir şekilde yönetilmesi ve çakışmaların önlenmesi önemlidir. Sanal ortamlar, projelerin bağımlılıklarını izole ederek, projeler arasında çakışmaları engelleyen ve projelerin bağımlılıklarını ayrı ayrı yönetmenizi sağlayan araçlardır. Bu, projelerin daha temiz, düzenli ve sürdürülebilir bir şekilde geliştirilmesini sağlar."
   ]
  },
  {
   "cell_type": "markdown",
   "metadata": {},
   "source": [
    "**İçindekiler**<a id='toc0_'></a>    \n",
    "- [Sanal Ortamlar - venv](#toc1_)    \n",
    "  - [Sanal Ortam Oluşturma](#toc1_1_)    \n",
    "  - [Sanal Ortamı Etkinleştirme ve Devre Dışı Bırakma](#toc1_2_)    \n",
    "    - [Sanal Ortamı Etkinleştirme](#toc1_2_1_)    \n",
    "    - [Sanal Ortamı Devre Dışı Bırakma](#toc1_2_2_)    \n",
    "  - [Paket Yönetimi](#toc1_3_)    \n",
    "  - [requirements.txt Dosyası](#toc1_4_)    \n",
    "  - [Sanal Ortamların Sektörel Kullanımı](#toc1_5_)    \n",
    "  - [Kaynakça](#toc1_6_)    \n",
    "\n",
    "<!-- vscode-jupyter-toc-config\n",
    "\tnumbering=false\n",
    "\tanchor=true\n",
    "\tflat=false\n",
    "\tminLevel=1\n",
    "\tmaxLevel=6\n",
    "\t/vscode-jupyter-toc-config -->\n",
    "<!-- THIS CELL WILL BE REPLACED ON TOC UPDATE. DO NOT WRITE YOUR TEXT IN THIS CELL -->"
   ]
  },
  {
   "cell_type": "markdown",
   "metadata": {},
   "source": [
    "## <a id='toc1_1_'></a>[Sanal Ortam Oluşturma](#toc0_)"
   ]
  },
  {
   "cell_type": "markdown",
   "metadata": {},
   "source": [
    "Python 3.3 ve sonraki sürümlerinde, sanal ortamlar oluşturmak için Python'ın standart kütüphanesinde yer alan `venv` modülü kullanılır. Sanal ortam oluşturmak için terminal veya komut istemcisini açıp proje dizininde\n",
    "\n",
    "```bash\n",
    "python3 -m venv myenv\n",
    "```\n",
    "\n",
    "kodunu çalıştırmamız gerekir. Burada `myenv`, oluşturulan sanal ortamın adıdır. Dilerseniz bu ismi farklı bir isimle değiştirebilirsiniz."
   ]
  },
  {
   "cell_type": "markdown",
   "metadata": {},
   "source": [
    "## <a id='toc1_2_'></a>[Sanal Ortamı Etkinleştirme ve Devre Dışı Bırakma](#toc0_)"
   ]
  },
  {
   "cell_type": "markdown",
   "metadata": {},
   "source": [
    "### <a id='toc1_2_1_'></a>[Sanal Ortamı Etkinleştirme](#toc0_)\n",
    "\n",
    "Sanal ortamı oluşturduktan sonra, onu etkinleştirmeniz gerekir. Bu, proje için izole bir Python çalışma ortamı oluşturur. Sanal ortamı etkinleştirmek için:\n",
    "\n",
    "**Windows:**\n",
    "```bash\n",
    "myenv\\Scripts\\activate\n",
    "```\n",
    "\n",
    "**Unix veya MacOS:**\n",
    "```bash\n",
    "source myenv/bin/activate\n",
    "```\n",
    "\n",
    "Sanal ortam etkinleştirildikten sonra, Python yürütüldüğünde sanal ortama ait Python yorumlayıcısı kullanılacaktır. İlgili Python sürümü, sanal ortamı oluştururken kullandığınız Python sürümüdür."
   ]
  },
  {
   "cell_type": "markdown",
   "metadata": {},
   "source": [
    "### <a id='toc1_2_2_'></a>[Sanal Ortamı Devre Dışı Bırakma](#toc0_)\n",
    "\n",
    "Sanal ortamı devre dışı bırakmak için:\n",
    "\n",
    "```bash\n",
    "deactivate\n",
    "```"
   ]
  },
  {
   "cell_type": "markdown",
   "metadata": {},
   "source": [
    "## <a id='toc1_3_'></a>[Paket Yönetimi](#toc0_)\n",
    "\n",
    "Sanal ortamlar, projelerin bağımlılıklarını yönetmek için kullanılır. Bu nedenle, sanal ortamlar aracılığıyla paket yönetimi önemlidir. Genellikle `pip` adlı paket yöneticisi, sanal ortamlar içinde paket kurmak ve kaldırmak için kullanılır.\n",
    "\n",
    "```bash\n",
    "pip install paket_adı\n",
    "pip uninstall paket_adı\n",
    "```"
   ]
  },
  {
   "cell_type": "markdown",
   "metadata": {},
   "source": [
    "## <a id='toc1_4_'></a>[requirements.txt Dosyası](#toc0_)\n",
    "\n",
    "Projenizde kullanılan tüm bağımlılıkları listelemek için `requirements.txt` adlı bir dosya oluşturabilirsiniz. Bu dosya, projenizi başka bir sistemde çalıştırırken tüm kütüphaneleri kolayca yüklemenize olanak tanır.\n",
    "\n",
    "`requirements.txt` dosyasını oluşturmak için:\n",
    "\n",
    "```bash\n",
    "pip freeze > requirements.txt\n",
    "```\n",
    "\n",
    "`requirements.txt` dosyasındaki kütüphaneleri yüklemek için:\n",
    "\n",
    "```bash\n",
    "pip install -r requirements.txt\n",
    "```"
   ]
  },
  {
   "cell_type": "markdown",
   "metadata": {},
   "source": [
    "## <a id='toc1_5_'></a>[Sanal Ortamların Sektörel Kullanımı](#toc0_)\n",
    "\n",
    "Python geliştirme ekosisteminde, sanal ortamlar yaygın bir şekilde kullanılmaktadır. Sektördeki yazılım projeleri, çoğunlukla sanal ortamlar kullanarak bağımlılıkları yönetir ve izole eder. Özellikle büyük projeler ve mikro servis mimarileri, sanal ortamların kullanımını gerektirir. Sanal ortamlar, farklı proje gereksinimlerini karşılamak ve bağımlılıkları izole etmek için de yaygın bir şekilde tercih edilir.\n",
    "\n",
    "Örneğin, bir web uygulaması projesi, ana projenin çalışmasını etkilemeden bağımsız bir şekilde test edilmek veya geliştirilmek istendiğinde, bu proje için ayrı bir sanal ortam oluşturulabilir. Böylece, proje bağımsız olarak yönetilir ve geliştiriciler arasında çakışmalar önlenir.\n",
    "\n",
    "Sanal ortamlar, Python geliştiricileri arasında oldukça yaygın ve standart bir uygulamadır ve projelerin sağlıklı bir şekilde yönetilmesini sağlar. Özellikle büyük ve karmaşık projelerde, sanal ortamların kullanımı, projenin sürdürülebilirliği ve yönetilebilirliği açısından büyük önem taşır."
   ]
  },
  {
   "cell_type": "markdown",
   "metadata": {},
   "source": [
    "## <a id='toc1_6_'></a>[Kaynakça](#toc0_)\n",
    "---\n",
    "\n",
    "https://docs.python.org/tr/3/library/venv.html?highlight=venv\n",
    "\n",
    "https://packaging.python.org/en/latest/guides/installing-using-pip-and-virtual-environments/#creating-a-virtual-environment"
   ]
  }
 ],
 "metadata": {
  "language_info": {
   "name": "python"
  },
  "orig_nbformat": 4
 },
 "nbformat": 4,
 "nbformat_minor": 2
}
