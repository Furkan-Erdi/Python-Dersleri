{
 "cells": [
  {
   "cell_type": "markdown",
   "metadata": {},
   "source": [
    "# <a id='toc1_'></a>[5 - Set](#toc0_)"
   ]
  },
  {
   "cell_type": "markdown",
   "metadata": {},
   "source": [
    "Set, Python programlama dilinde kullanılan bir veri yapısıdır. Bir Set, benzersiz ve değiştirilebilir (mutable) elemanları içeren bir koleksiyondur. Set'lerde elemanlar arasında bir sıralama yoktur ve her eleman sadece bir kez bulunabilir.\n",
    "\n",
    "- Bir veri kümesinde yalnızca benzersiz elemanlara ihtiyaç duyulduğunda kullanılırlar. Set içerisinde aynı elemandan yalnızca bir tane bulunabilir. Bu, bir veri kümesinde tekrarlayan elemanların olmamasını sağlar.\n",
    "\n",
    "- Elemanları değiştirilebilir (mutable) oldukları için, elemanlar üzerinde ekleme, çıkarma ve güncelleme işlemleri yapılabilir. Bu, veri kümesinin dinamik olarak değişebilmesini sağlar.\n",
    "\n",
    "- Set'ler, matematiksel kümelerin temel özelliklerini modellemek için kullanılır. Örneğin, iki kümenin birleşimi, kesişimi veya farkı gibi işlemler set'lerle kolayca gerçekleştirilebilir."
   ]
  },
  {
   "cell_type": "markdown",
   "metadata": {},
   "source": [
    "**İçindekiler**<a id='toc0_'></a>    \n",
    "- [Python Dersleri #5 - Set](#toc1_)    \n",
    "  - [Set'ler](#toc1_1_)    \n",
    "    - [Set'lerin Karakteristik Yapısı](#toc1_1_1_)    \n",
    "    - [Set Elemanlarına Erişim](#toc1_1_2_)    \n",
    "    - [Set Elemanlarının Değiştirilmesi ve Erişimi](#toc1_1_3_)    \n",
    "    - [Set Operasyonları](#toc1_1_4_)    \n",
    "      - [Birleşim ( Union )](#toc1_1_4_1_)    \n",
    "      - [Kesişim (Intersection)](#toc1_1_4_2_)    \n",
    "      - [Fark (Difference)](#toc1_1_4_3_)    \n",
    "      - [Simetrik Fark (Symmetric Difference)](#toc1_1_4_4_)    \n",
    "      - [Kesişim Yok (Disjoint)](#toc1_1_4_5_)    \n",
    "      - [Alt Küme (Subset)](#toc1_1_4_6_)    \n",
    "      - [Üst Küme (Superset)](#toc1_1_4_7_)    \n",
    "      - [Güncelleme (Update)](#toc1_1_4_8_)    \n",
    "    - [Frozen Set'ler](#toc1_1_5_)    \n",
    "    - [Set Metotları ve Özet](#toc1_1_6_)    \n",
    "  - [Kaynakça](#toc1_2_)    \n",
    "\n",
    "<!-- vscode-jupyter-toc-config\n",
    "\tnumbering=false\n",
    "\tanchor=true\n",
    "\tflat=false\n",
    "\tminLevel=1\n",
    "\tmaxLevel=6\n",
    "\t/vscode-jupyter-toc-config -->\n",
    "<!-- THIS CELL WILL BE REPLACED ON TOC UPDATE. DO NOT WRITE YOUR TEXT IN THIS CELL -->"
   ]
  },
  {
   "cell_type": "markdown",
   "metadata": {},
   "source": [
    "## <a id='toc1_1_'></a>[Set'ler](#toc0_)\n",
    "---"
   ]
  },
  {
   "cell_type": "markdown",
   "metadata": {},
   "source": [
    "### <a id='toc1_1_1_'></a>[Set'lerin Karakteristik Yapısı](#toc0_)\n",
    "\n",
    "- Set'ler benzersiz ve değiştirilebilir (mutable) elemanları içeren bir koleksiyondur.\n",
    "- Elemanlar arasında bir sıralama yoktur ve her eleman sadece bir kez bulunabilir.\n",
    "- Küme teorisi kavramlarına benzer şekilde çalışırlar ve matematiksel küme işlemlerini gerçekleştirmek için kullanılabilirler.\n",
    "- Elemanları, karmaşık veri tipleri de dahil olmak üzere herhangi bir Python nesnesi olabilirler.\n",
    "- Elemanların sırası önemli değildir ve indeksleme yapılamaz.\n",
    "- {} veya set() fonksiyonu kullanılarak oluşturulabilirler.\n",
    "\n",
    "Set'lerin karakteristik yapısı, benzersiz elemanlardan oluşmaları ve elemanların sırasının önemli olmamasıdır. Bu yapı, set'lerin belirli bir sıralama gerektirmeyen ve elemanların tekrarlanmasını engelleyen veri kümelerini temsil etmesini sağlar.\n",
    "\n",
    "Aşağıda set oluşturma örneklerini bulabilirsiniz.\n",
    "\n",
    "| Oluşturma Yöntemi | Açıklama                                                         | Örnek          |\n",
    "|-------------------|------------------------------------------------------------------|----------------|\n",
    "| Süslü Parantezler | Süslü parantezler içinde elemanlar belirtilerek set oluşturulur. | {1, 2, 3}      |\n",
    "| set() Fonksiyonu  | set() fonksiyonu kullanılarak set oluşturulabilir.               | set([1, 2, 3]) |"
   ]
  },
  {
   "cell_type": "code",
   "execution_count": null,
   "metadata": {},
   "outputs": [],
   "source": [
    "my_set = {1, 2, 3}  # Süslü parantezlerle set oluşturma\n",
    "another_set = set([4, 5, 6])  # set() fonksiyonu ile set oluşturma"
   ]
  },
  {
   "cell_type": "markdown",
   "metadata": {},
   "source": [
    "### <a id='toc1_1_2_'></a>[Set Elemanlarına Erişim](#toc0_)\n",
    "\n",
    "Set'lerde elemanlara direkt olarak erişim sağlanamaz ve indeksleme yapılamaz. Set'ler, elemanların sırasını korumaz ve indeks numaraları atanmaz. Bunun nedeni, set'lerin elemanların benzersiz ve tekrar edilemez olduğunu garanti etmek için kullanılmasıdır.\n",
    "\n",
    "Ancak, elemanların varlığını kontrol etmek için in operatörü kullanılır. in operatörü, belirli bir elemanın set içinde bulunup bulunmadığını kontrol etmek için kullanılır. Operatörün sonucu True veya False olarak döner."
   ]
  },
  {
   "cell_type": "code",
   "execution_count": null,
   "metadata": {},
   "outputs": [],
   "source": [
    "my_set = {1, 2, 3}\n",
    "print(1 in my_set)  # True\n",
    "print(4 in my_set)  # False"
   ]
  },
  {
   "cell_type": "markdown",
   "metadata": {},
   "source": [
    "Bu örnekte, in operatörü kullanılarak set içindeki elemanlara erişim sağlanır. İlk örnekte, 1 elemanı set içinde bulunduğu için True değeri döner. İkinci örnekte ise 4 elemanı set içinde bulunmadığı için False değeri döner.\n",
    "\n",
    "Set'lerde indeksleme yapılamaması, elemanlara doğrudan erişim sağlayamamayı gerektirir. Elemanları kontrol etmek veya set'in içinde olup olmadığını kontrol etmek için in operatörünü kullanmak en yaygın yöntemdir."
   ]
  },
  {
   "cell_type": "markdown",
   "metadata": {},
   "source": [
    "### <a id='toc1_1_3_'></a>[Set Elemanlarının Değiştirilmesi ve Erişimi](#toc0_)\n",
    "\n",
    "Set'lerde elemanlar değiştirilemez (immutable) olduğu için, tek bir elemana erişilerek veya değiştirilerek güncellenemez. Bunun nedeni, set'lerin elemanların benzersiz ve tekrar edilemez olmasını sağlamasıdır.\n",
    "\n",
    "Ancak, set'lerde eleman eklemek veya çıkarmak için özel metotlar ve operatörler bulunur. Bu yöntemlerle set'e yeni elemanlar eklenebilir veya mevcut elemanlar çıkarılabilir.\n",
    "\n",
    "Tek bir eleman eklemek için `add()` metodu kullanılır. `my_set.add(4)`\n",
    "\n",
    "Birden fazla eleman eklemek için `update()` metodu veya | operatörü kullanılır. `my_set.update([4, 5, 6])` veya `my_set |= {4, 5, 6}`\n",
    "\n",
    "Tek bir elemanı çıkarmak için `remove()` metodu kullanılır. my_set.remove(3)\n",
    "\n",
    "Birden fazla elemanı çıkarmak için `discard()` metodu kullanılır. `my_set.discard(2, 4)`"
   ]
  },
  {
   "cell_type": "code",
   "execution_count": null,
   "metadata": {},
   "outputs": [],
   "source": [
    "my_set = {1, 2, 3}\n",
    "my_set.add(4)\n",
    "print(my_set)  # {1, 2, 3, 4}\n",
    "\n",
    "my_set.update([4, 5, 6])\n",
    "print(my_set)  # {1, 2, 3, 4, 5, 6}\n",
    "\n",
    "my_set.remove(3)\n",
    "print(my_set)  # {1, 2, 4, 5, 6}\n",
    "\n",
    "my_set.discard(2, 4)\n",
    "print(my_set)  # {1, 5, 6}"
   ]
  },
  {
   "cell_type": "markdown",
   "metadata": {},
   "source": [
    "### <a id='toc1_1_4_'></a>[Set Operasyonları](#toc0_)\n",
    "\n",
    "Set'lerde, matematiksel küme işlemlerini gerçekleştirmek için çeşitli operasyonlar bulunur. Bu operasyonlar, iki veya daha fazla set arasında birleşim, kesişim, fark, simetrik fark gibi işlemleri yapmayı sağlar. Ayrıca, set'lerin ilişkilerini kontrol etmek için de bazı operasyonlar mevcuttur."
   ]
  },
  {
   "cell_type": "markdown",
   "metadata": {},
   "source": [
    "#### <a id='toc1_1_4_1_'></a>[Birleşim ( Union )](#toc0_)\n",
    "\n",
    "İki veya daha fazla set'in birleşimini alır. Yani, her iki setteki tüm elemanları içeren yeni bir set oluşturur. Birleşim işlemi için `union()` metodu veya `|` operatörü kullanılır."
   ]
  },
  {
   "cell_type": "code",
   "execution_count": null,
   "metadata": {},
   "outputs": [],
   "source": [
    "# A ∪ B\n",
    "\n",
    "# set1.union(set2)\n",
    "# set1 | set2\n",
    "\n",
    "set1 = {1, 2, 3}\n",
    "set2 = {3, 4, 5}\n",
    "union_set = set1.union(set2)\n",
    "print(union_set)  # {1, 2, 3, 4, 5}"
   ]
  },
  {
   "cell_type": "markdown",
   "metadata": {},
   "source": [
    "#### <a id='toc1_1_4_2_'></a>[Kesişim (Intersection)](#toc0_)\n",
    "\n",
    "İki veya daha fazla set'in kesişimini alır. Yani, her iki sette de bulunan ortak elemanlardan oluşan yeni bir set oluşturur. Kesişim işlemi için `intersection()` metodu veya `&` operatörü kullanılır."
   ]
  },
  {
   "cell_type": "code",
   "execution_count": null,
   "metadata": {},
   "outputs": [],
   "source": [
    "# A ∩ B\n",
    "\n",
    "# set1.intersection(set2)\n",
    "# set1 & set2\n",
    "\n",
    "set1 = {1, 2, 3}\n",
    "set2 = {3, 4, 5}\n",
    "intersection_set = set1.intersection(set2)\n",
    "print(intersection_set)  # {3}"
   ]
  },
  {
   "cell_type": "markdown",
   "metadata": {},
   "source": [
    "#### <a id='toc1_1_4_3_'></a>[Fark (Difference)](#toc0_)\n",
    "\n",
    "Bir set'in diğer setten farkını alır. Yani, birinci sette bulunan ve ikinci sette bulunmayan elemanlardan oluşan yeni bir set oluşturur. Fark işlemi için `difference()` metodu veya `-` operatörü kullanılır."
   ]
  },
  {
   "cell_type": "code",
   "execution_count": null,
   "metadata": {},
   "outputs": [],
   "source": [
    "# A / B\n",
    "\n",
    "# set1.difference(set2)\n",
    "# set1 - set2\n",
    "\n",
    "set1 = {1, 2, 3}\n",
    "set2 = {3, 4, 5}\n",
    "difference_set = set1.difference(set2)\n",
    "print(difference_set)  # {1, 2}"
   ]
  },
  {
   "cell_type": "markdown",
   "metadata": {},
   "source": [
    "#### <a id='toc1_1_4_4_'></a>[Simetrik Fark (Symmetric Difference)](#toc0_)\n",
    "\n",
    "İki set arasındaki simetrik farkı alır. Yani, her iki sette bulunan fakat ortak olmayan elemanlardan oluşan yeni bir set oluşturur. Simetrik fark işlemi için `symmetric_difference()` metodu veya `^` operatörü kullanılır."
   ]
  },
  {
   "cell_type": "code",
   "execution_count": null,
   "metadata": {},
   "outputs": [],
   "source": [
    "# A Δ B\n",
    "\n",
    "# set1.symmetric_difference(set2)\n",
    "# set1 ^ set2\n",
    "\n",
    "set1 = {1, 2, 3}\n",
    "set2 = {3, 4, 5}\n",
    "symmetric_difference_set = set1.symmetric_difference(set2)\n",
    "print(symmetric_difference_set)  # {1, 2, 4, 5}"
   ]
  },
  {
   "cell_type": "markdown",
   "metadata": {},
   "source": [
    "#### <a id='toc1_1_4_5_'></a>[Kesişim Yok (Disjoint)](#toc0_)\n",
    "\n",
    "İki set'in kesişiminin olup olmadığını kontrol eder. Eğer set'lerin kesişimi boş ise True, değilse False döner. Kesişim yok kontrolü için `isdisjoint()` metodu kullanılır."
   ]
  },
  {
   "cell_type": "code",
   "execution_count": null,
   "metadata": {},
   "outputs": [],
   "source": [
    "# set1.isdisjoint(set2)\n",
    "\n",
    "set1 = {1, 2, 3}\n",
    "set2 = {4, 5, 6}\n",
    "is_disjoint = set1.isdisjoint(set2)\n",
    "print(is_disjoint)  # True"
   ]
  },
  {
   "cell_type": "markdown",
   "metadata": {},
   "source": [
    "#### <a id='toc1_1_4_6_'></a>[Alt Küme (Subset)](#toc0_)\n",
    "\n",
    "Bir set'in başka bir setin alt kümesi olup olmadığını kontrol eder. Eğer birinci set, ikinci setin alt kümesi ise True, değilse False döner. Alt küme kontrolü için `issubset()` metodu veya `<=` operatörü kullanılır."
   ]
  },
  {
   "cell_type": "code",
   "execution_count": null,
   "metadata": {},
   "outputs": [],
   "source": [
    "# A ⊂ B\n",
    "\n",
    "# set1.issubset(set2)\n",
    "# set1 <= set2\n",
    "\n",
    "set1 = {1, 2}\n",
    "set2 = {1, 2, 3, 4, 5}\n",
    "is_subset = set1.issubset(set2)\n",
    "print(is_subset)  # True"
   ]
  },
  {
   "cell_type": "markdown",
   "metadata": {},
   "source": [
    "#### <a id='toc1_1_4_7_'></a>[Üst Küme (Superset)](#toc0_)\n",
    "\n",
    "Bir set'in başka bir setin üst kümesi olup olmadığını kontrol eder. Eğer birinci set, ikinci setin üst kümesi ise True, değilse False döner. Üst küme kontrolü için `issuperset()` metodu veya `>=` operatörü kullanılır."
   ]
  },
  {
   "cell_type": "code",
   "execution_count": null,
   "metadata": {},
   "outputs": [],
   "source": [
    "# A ⊃ B\n",
    "\n",
    "# set1.issuperset(set2)\n",
    "# set1 >= set2\n",
    "\n",
    "set1 = {1, 2, 3, 4, 5}\n",
    "set2 = {1, 2}\n",
    "is_superset = set1.issuperset(set2)\n",
    "print(is_superset)  # True"
   ]
  },
  {
   "cell_type": "markdown",
   "metadata": {},
   "source": [
    "#### <a id='toc1_1_4_8_'></a>[Güncelleme (Update)](#toc0_)\n",
    "\n",
    "Bir set'i diğer bir set ile günceller. Yani, bir set'e diğer setin elemanlarını ekler. Güncelleme işlemi için `update()` metodu veya `|=` operatörü kullanılır."
   ]
  },
  {
   "cell_type": "code",
   "execution_count": null,
   "metadata": {},
   "outputs": [],
   "source": [
    "# set1.intersection(set2)\n",
    "# set1 |= set2\n",
    "\n",
    "set1 = {1, 2, 3}\n",
    "set2 = {3, 4, 5}\n",
    "set1.update(set2)\n",
    "print(set1)  # {1, 2, 3, 4, 5}"
   ]
  },
  {
   "cell_type": "markdown",
   "metadata": {},
   "source": [
    "### <a id='toc1_1_5_'></a>[Frozen Set'ler](#toc0_)\n",
    "\n",
    "Frozen set, set'e benzer bir veri yapısıdır, ancak donmuş (immutable) olduğu için değiştirilemez. Yani, bir kez oluşturulduktan sonra elemanları değiştirilemez veya yeni elemanlar eklenemez. Frozen set, frozenset() fonksiyonuyla oluşturulur.\n",
    "\n",
    "Frozen set'lerin kullanımı, set'lerle benzerdir. Bir set'in değiştirilemez bir versiyonunu kullanmak istediğiniz durumlarda veya bir set'i sözlük anahtarları olarak kullanmak istediğinizde frozen set'ler faydalı olabilir."
   ]
  },
  {
   "cell_type": "code",
   "execution_count": null,
   "metadata": {},
   "outputs": [],
   "source": [
    "my_set = frozenset([1, 2, 3, 4])\n",
    "print(my_set)  # frozenset({1, 2, 3, 4})"
   ]
  },
  {
   "cell_type": "markdown",
   "metadata": {},
   "source": [
    "Frozen set'ler, set'lerle benzer özelliklere sahiptir, ancak değişmezliği nedeniyle belirli senaryolarda tercih edilebilir."
   ]
  },
  {
   "cell_type": "markdown",
   "metadata": {},
   "source": [
    "### <a id='toc1_1_6_'></a>[Set Metotları ve Özet](#toc0_)\n",
    "\n",
    "| Fonksiyon              | Açıklama                                                                                         | Girdi             | Fonksiyon Kullanımı                  | Çıktı        |\n",
    "|------------------------|--------------------------------------------------------------------------------------------------|-------------------|--------------------------------------|--------------|\n",
    "| add()                  | Bir set'e yeni bir eleman ekler. Eğer eleman zaten set'te varsa, hiçbir değişiklik yapmaz.       | {1, 2, 3}, 4      | _set.add(4)                          | {1, 2, 3, 4} |\n",
    "| remove()               | Bir set'ten belirli bir elemanı kaldırır. Eğer eleman set'te bulunmazsa, KeyError hatası oluşur. | {1, 2, 3, 4}, 3   | _set.remove(3)                       | {1, 2, 4}    |\n",
    "| discard()              | Bir set'ten belirli bir elemanı kaldırır. Eğer eleman set'te bulunmazsa, hiçbir hata oluşmaz.    | {1, 2, 3, 4}, 3   | _set.discard(3)                      | {1, 2, 4}    |\n",
    "| pop()                  | Bir set'ten rastgele bir elemanı kaldırır ve bu elemanı döndürür.                                | {1, 2, 3, 4}      | _set.pop()                           | {2, 3, 4}    |\n",
    "| clear()                | Bir set'in tüm elemanlarını kaldırır, set'i boş hale getirir.                                    | {1, 2, 3, 4}      | _set.clear()                         | set()        |\n",
    "| union()                | İki veya daha fazla set'in birleşimini döndürür.                                                 | {1, 2}, {3, 4}    | _set.union(other_set)                | {1, 2, 3, 4} |\n",
    "| intersection()         | İki veya daha fazla set'in kesişimini döndürür.                                                  | {1, 2}, {2, 3}    | _set.intersection(other_set)         | {2}          |\n",
    "| difference()           | İki set arasındaki farkı döndürür (sol taraftaki setin, sağ taraftaki sette olmayan elemanları). | {1, 2, 3}, {2, 3} | _set.difference(other_set)           | {1}          |\n",
    "| symmetric_difference() | İki set arasındaki simetrik farkı döndürür (her iki sette de olmayan elemanları).                | {1, 2, 3}, {2, 3} | _set.symmetric_difference(other_set) | {1}          |\n",
    "| isdisjoint()           | İki set'in ortak elemana sahip olup olmadığını kontrol eder.                                     | {1, 2}, {3, 4}    | _set.isdisjoint(other_set)           | True         |\n",
    "| issubset()             | Bir set'in başka bir setin alt kümesi olup olmadığını kontrol eder.                              | {1, 2}, {1, 2, 3} | _set.issubset(other_set)             | True         |\n",
    "| issuperset()           | Bir set'in başka bir setin üst kümesi olup olmadığını kontrol eder.                              | {1, 2, 3}, {1, 2} | _set.issuperset(other_set)           | True         |\n",
    "| update()               | Bir set'i başka bir set ile günceller (birleştirir).                                             | {1, 2}, {3, 4}    | _set.update(other_set)               | {1, 2, 3, 4} |"
   ]
  },
  {
   "cell_type": "markdown",
   "metadata": {},
   "source": [
    "## <a id='toc1_2_'></a>[Kaynakça](#toc0_)\n",
    "---\n",
    "\n",
    "https://docs.python.org/tr/3/tutorial/datastructures.html#sets"
   ]
  }
 ],
 "metadata": {
  "kernelspec": {
   "display_name": "base",
   "language": "python",
   "name": "python3"
  },
  "language_info": {
   "codemirror_mode": {
    "name": "ipython",
    "version": 3
   },
   "file_extension": ".py",
   "mimetype": "text/x-python",
   "name": "python",
   "nbconvert_exporter": "python",
   "pygments_lexer": "ipython3",
   "version": "3.9.13"
  },
  "orig_nbformat": 4
 },
 "nbformat": 4,
 "nbformat_minor": 2
}
