{
 "cells": [
  {
   "cell_type": "markdown",
   "metadata": {},
   "source": [
    "# <a id='toc1_'></a>[Python Dersleri #6 Karşılaştırma - List vs Tuple vs Dict vs Set](#toc0_)"
   ]
  },
  {
   "cell_type": "markdown",
   "metadata": {},
   "source": [
    "List, Tuple, Dict ve Set, Python programlama dilinde sıklıkla kullanılan veri tipleridir. Her biri farklı amaçlara ve kullanım senaryolarına sahiptir."
   ]
  },
  {
   "cell_type": "markdown",
   "metadata": {},
   "source": [
    "**İçindekiler**<a id='toc0_'></a>    \n",
    "- [Python Dersleri #6 Karşılaştırma - List vs Tuple vs Dict vs Set](#toc1_)    \n",
    "  - [Genel Özellikler](#toc1_1_)    \n",
    "    - [List](#toc1_1_1_)    \n",
    "    - [Tuple](#toc1_1_2_)    \n",
    "    - [Dict](#toc1_1_3_)    \n",
    "    - [Set](#toc1_1_4_)    \n",
    "  - [Karşılaştırma Tablosu](#toc1_2_)    \n",
    "\n",
    "<!-- vscode-jupyter-toc-config\n",
    "\tnumbering=false\n",
    "\tanchor=true\n",
    "\tflat=false\n",
    "\tminLevel=1\n",
    "\tmaxLevel=6\n",
    "\t/vscode-jupyter-toc-config -->\n",
    "<!-- THIS CELL WILL BE REPLACED ON TOC UPDATE. DO NOT WRITE YOUR TEXT IN THIS CELL -->"
   ]
  },
  {
   "cell_type": "markdown",
   "metadata": {},
   "source": [
    "## <a id='toc1_1_'></a>[Genel Özellikler](#toc0_)\n",
    "\n",
    "### <a id='toc1_1_1_'></a>[List](#toc0_)\n",
    "\n",
    "Listeler, sıralı ve değiştirilebilir veri tipleridir. Birden çok değeri bir arada tutmak için kullanılırlar. Listenin elemanları arasında sıralama ve indeksleme yapılabilir. Listeler köşeli parantezler [] içerisinde tanımlanır.\n",
    "\n",
    "1. Listelerde elemanlar sıralıdır ve indeksleme ile erişilebilir.\n",
    "2. Listelerde elemanlar değiştirilebilir.\n",
    "3. Listelerde aynı eleman birden fazla kez bulunabilir.\n",
    "\n",
    "\n",
    "### <a id='toc1_1_2_'></a>[Tuple](#toc0_)\n",
    "\n",
    "Tuple'lar, sıralı ve değiştirilemez veri tipleridir. Bir defa tanımlandıktan sonra elemanları değiştirilemez. Tuple'lar parantez () veya virgülle ayrılan elemanlarla tanımlanabilir.\n",
    "\n",
    "1. Tuple'lar, değiştirilemez (immutable) veri tipleridir.\n",
    "2. Tuple'lar sıralıdır ve indeksleme ile erişilebilir.\n",
    "3. Tuple'lar içerisinde aynı eleman birden fazla kez bulunabilir.\n",
    "\n",
    "\n",
    "### <a id='toc1_1_3_'></a>[Dict](#toc0_)\n",
    "\n",
    "Dictionary (Sözlük), key-value (anahtar-değer) çiftleri şeklinde veri tutan bir veri yapısıdır. Elemanlara anahtarlar üzerinden erişim sağlanır. Anahtarlar benzersiz olmalıdır. Dictionary'ler süslü parantez {} içerisinde tanımlanır.\n",
    "\n",
    "1. Dictionary'lerde elemanlara anahtarlar üzerinden erişilir.\n",
    "2. Dictionary'lerde anahtar-değer ilişkisi vardır.\n",
    "3. Dictionary'lerde aynı anahtar birden fazla kez bulunamaz.\n",
    "\n",
    "### <a id='toc1_1_4_'></a>[Set](#toc0_)\n",
    "\n",
    "Set'ler, benzersiz ve sırasız veri tipleridir. Bir set içerisinde aynı değeri birden fazla kez bulundurmazlar. Set'ler matematiksel kümelerle benzerlik gösterir. Set'ler süslü parantez {} veya set() fonksiyonu ile tanımlanabilir.\n",
    "\n",
    "1. Set'lerde elemanlar benzersizdir (tekrarlanmaz).\n",
    "2. Set'lerde elemanlar sırasızdır ve indeksleme yapılamaz.\n",
    "3. Set'lerde eleman ekleme ve silme işlemleri hızlıdır."
   ]
  },
  {
   "cell_type": "markdown",
   "metadata": {},
   "source": [
    "## <a id='toc1_2_'></a>[Karşılaştırma Tablosu](#toc0_)\n",
    "\n",
    "| Özellik                | List                             | Tuple                      | Dict                       | Set                     |\n",
    "|------------------------|----------------------------------|----------------------------|----------------------------|-------------------------|\n",
    "| Sıralı                 | Evet                             | Evet                       | Hayır                      | Hayır                   |\n",
    "| Değiştirilebilir       | Evet                             | Hayır                      | Evet                       | Evet                    |\n",
    "| İndeksleme             | Evet                             | Evet                       | Evet                       | Hayır                   |\n",
    "| Dilimleme              | Evet                             | Evet                       | Hayır                      | Hayır                   |\n",
    "| Döngülerle Gezinme     | Evet                             | Evet                       | Anahtarlar veya değerlerle | Evet                    |\n",
    "| Tekrarlanan Değerler   | Evet                             | Evet                       | Hayır                      | Hayır                   |\n",
    "| Anahtar-Değer İlişkisi | Hayır                            | Hayır                      | Evet                       | Hayır                   |\n",
    "| Değiştirme İşlemi      | İndeksleme, Atama, Ekleme, Silme | İndeksleme, Ekleme, Silme  | Anahtar ile Ekleme, Silme  | Ekleme, Silme           |\n",
    "| Sıralama               | İstenilen sıralamaya göre        | İlk tanımlanan sıraya göre | Anahtar sırasına göre      | Sırasız                 |\n",
    "| Uzunluk                | Len() fonksiyonu ile             | Len() fonksiyonu ile       | Len() fonksiyonu ile       | Len() fonksiyonu ile    |\n",
    "| Eleman Kontrolü        | In anahtar kelimesi ile          | In anahtar kelimesi ile    | In anahtar kelimesi ile    | In anahtar kelimesi ile |"
   ]
  }
 ],
 "metadata": {
  "language_info": {
   "name": "python"
  },
  "orig_nbformat": 4
 },
 "nbformat": 4,
 "nbformat_minor": 2
}
