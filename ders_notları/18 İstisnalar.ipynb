{
 "cells": [
  {
   "cell_type": "markdown",
   "metadata": {},
   "source": [
    "# <a id='toc1_'></a>[Python Dersleri #12 - Exceptions](#toc0_)"
   ]
  },
  {
   "cell_type": "markdown",
   "metadata": {},
   "source": [
    "Python programlarında, kodun çalışması sırasında ortaya çıkabilen hatalar veya istisnai durumlar oluşabilir. Bu hatalar, programın düzgün bir şekilde çalışmasını engelleyebilir veya beklenmeyen sonuçlar verebilir. Python, bu tür durumlarla başa çıkmak için Exceptions (istisnalar) ve Özel Durumlar (custom exceptions) adı verilen mekanizmalar sağlar."
   ]
  },
  {
   "cell_type": "markdown",
   "metadata": {},
   "source": [
    "**İçindekiler**<a id='toc0_'></a>    \n",
    "- [Python Dersleri #12 - Exceptions](#toc1_)    \n",
    "  - [Exception Kavramı ve Hiyerarşisi](#toc1_1_)    \n",
    "  - [Exception Sınıfı ve Alt Sınıflarının Kullanımı](#toc1_2_)    \n",
    "  - [Özel Exception Sınıfları Oluşturma](#toc1_3_)    \n",
    "  - [Hiyerarşik Exception Yapısı](#toc1_4_)    \n",
    "  - [Kaynakça](#toc1_5_)    \n",
    "\n",
    "<!-- vscode-jupyter-toc-config\n",
    "\tnumbering=false\n",
    "\tanchor=true\n",
    "\tflat=false\n",
    "\tminLevel=1\n",
    "\tmaxLevel=6\n",
    "\t/vscode-jupyter-toc-config -->\n",
    "<!-- THIS CELL WILL BE REPLACED ON TOC UPDATE. DO NOT WRITE YOUR TEXT IN THIS CELL -->"
   ]
  },
  {
   "cell_type": "markdown",
   "metadata": {},
   "source": [
    "## <a id='toc1_1_'></a>[Exception Kavramı ve Hiyerarşisi](#toc0_)\n",
    "\n",
    "Exception'lar, Python'da bir hiyerarşiye sahip olan sınıflardır. En üstteki sınıf `BaseException` olup, bu sınıftan tüm diğer Exception sınıfları türetilir. `BaseException`, herhangi bir Python programında yakalanması gerekmeyen temel Exception sınıfıdır. Onun altında, `Exception` sınıfı bulunur ve genellikle kullanılan Exception sınıflarının çoğu bu sınıftan türetilir."
   ]
  },
  {
   "cell_type": "markdown",
   "metadata": {},
   "source": [
    "Exception'ları ele almak için Python'da `try`, `except`, `else`, `finally` blokları kullanılır."
   ]
  },
  {
   "cell_type": "code",
   "execution_count": 1,
   "metadata": {},
   "outputs": [],
   "source": [
    "try:\n",
    "    # Potansiyel olarak hata oluşturabilecek kodlar\n",
    "    # Bu blokta bir hata oluşursa except bloğuna geçilir\n",
    "    pass\n",
    "except ZeroDivisionError:\n",
    "    # ExceptionType1 türündeki hataları ele almak için bu blok çalıştırılır\n",
    "    pass\n",
    "except TypeError:\n",
    "    # ExceptionType2 türündeki hataları ele almak için bu blok çalıştırılır\n",
    "    pass\n",
    "else:\n",
    "    # Herhangi bir hata oluşmazsa bu blok çalıştırılır\n",
    "    pass\n",
    "finally:\n",
    "    # Her durumda bu blok çalıştırılır\n",
    "    pass"
   ]
  },
  {
   "cell_type": "markdown",
   "metadata": {},
   "source": [
    "## <a id='toc1_2_'></a>[Exception Sınıfı ve Alt Sınıflarının Kullanımı](#toc0_)\n",
    "\n",
    "Python'da pek çok yerleşik Exception sınıfı bulunur.\n",
    "\n",
    "- `ZeroDivisionError`: Sıfıra bölme hatası.\n",
    "- `TypeError`: Bir işlemin geçerli olmayan türdeki bir nesne üzerinde yapılması.\n",
    "- `ValueError`: Doğru türde, ancak geçerli olmayan bir değer kullanılması.\n",
    "- `IndexError`: Liste veya dizinin geçerli olmayan bir indisine erişilmeye çalışılması.\n",
    "- `KeyError`: Sözlükte bulunmayan bir anahtarın kullanılması.\n",
    "- `FileNotFoundError`: Belirtilen dosyanın bulunamaması.\n",
    "- `IOError`: Giriş/çıkış hatası.\n",
    "- `NameError`: Tanımlanmamış bir değişkenin kullanılması."
   ]
  },
  {
   "cell_type": "markdown",
   "metadata": {},
   "source": [
    "## <a id='toc1_3_'></a>[Özel Exception Sınıfları Oluşturma](#toc0_)\n",
    "\n",
    "Kendi özel Exception sınıflarınızı oluşturmak da mümkündür. Bu, özel hata türleri için daha anlamlı mesajlar ve işlemler sağlar."
   ]
  },
  {
   "cell_type": "code",
   "execution_count": 2,
   "metadata": {},
   "outputs": [
    {
     "name": "stdout",
     "output_type": "stream",
     "text": [
      "Hata Mesajı: x değeri 5'ten büyük olamaz.\n"
     ]
    }
   ],
   "source": [
    "class MyCustomException(Exception):\n",
    "    def __init__(self, message):\n",
    "        self.message = message\n",
    "\n",
    "try:\n",
    "    x = 10\n",
    "    if x > 5:\n",
    "        raise MyCustomException(\"x değeri 5'ten büyük olamaz.\")\n",
    "except MyCustomException as e:\n",
    "    print(\"Hata Mesajı:\", e.message)"
   ]
  },
  {
   "cell_type": "markdown",
   "metadata": {},
   "source": [
    "## <a id='toc1_4_'></a>[Hiyerarşik Exception Yapısı](#toc0_)\n",
    "\n",
    "Python'da Exception sınıflarının hiyerarşik bir yapıya sahip olması, hataların daha etkili bir şekilde ele alınmasını sağlar. Örneğin, bir Exception sınıfı, başka bir Exception sınıfından türetilebilir ve daha geniş bir hata kategorisi altında ele alınabilir."
   ]
  },
  {
   "cell_type": "code",
   "execution_count": 3,
   "metadata": {},
   "outputs": [
    {
     "name": "stdout",
     "output_type": "stream",
     "text": [
      "Hata Mesajı: x değeri 5'ten büyük olamaz.\n"
     ]
    }
   ],
   "source": [
    "class MyParentException(Exception):\n",
    "    pass\n",
    "\n",
    "class MyChildException(MyParentException):\n",
    "    pass\n",
    "\n",
    "try:\n",
    "    x = 10\n",
    "    if x > 5:\n",
    "        raise MyChildException(\"x değeri 5'ten büyük olamaz.\")\n",
    "except MyChildException as e:\n",
    "    print(\"Hata Mesajı:\", e)\n",
    "except MyParentException as e:\n",
    "    print(\"Üst sınıf exception:\", e)"
   ]
  },
  {
   "cell_type": "code",
   "execution_count": 4,
   "metadata": {},
   "outputs": [
    {
     "name": "stdout",
     "output_type": "stream",
     "text": [
      "Sonuç: 5.0\n",
      "Tüm işlemler gerçekleşti.\n"
     ]
    }
   ],
   "source": [
    "x = 10\n",
    "y = 2\n",
    "\n",
    "try:\n",
    "    result = x / y\n",
    "except ZeroDivisionError:\n",
    "    print(\"Sıfıra bölme hatası.\")\n",
    "else:\n",
    "    print(\"Sonuç:\", result)\n",
    "finally:\n",
    "    print(\"Tüm işlemler gerçekleşti.\")"
   ]
  },
  {
   "cell_type": "markdown",
   "metadata": {},
   "source": [
    "Python'da Exception'lar, programlarınızı daha güvenli ve hata toleranslı hale getirmenin önemli bir yoludur. Uygun Exception sınıfları ve yakalama yöntemleri kullanarak, programlarınızda oluşabilecek hataları ele alabilir ve uygun mesajlar verebilirsiniz. Bu sayede, kullanıcılarınıza daha iyi bir kullanıcı deneyimi sunabilir ve hataları daha kolay tespit edebilirsiniz."
   ]
  },
  {
   "cell_type": "code",
   "execution_count": null,
   "metadata": {},
   "outputs": [],
   "source": [
    "import json"
   ]
  },
  {
   "cell_type": "markdown",
   "metadata": {},
   "source": [
    "## <a id='toc1_5_'></a>[Kaynakça](#toc0_)\n",
    "---\n",
    "\n",
    "- https://docs.python.org/tr/3/"
   ]
  }
 ],
 "metadata": {
  "kernelspec": {
   "display_name": "base",
   "language": "python",
   "name": "python3"
  },
  "language_info": {
   "codemirror_mode": {
    "name": "ipython",
    "version": 3
   },
   "file_extension": ".py",
   "mimetype": "text/x-python",
   "name": "python",
   "nbconvert_exporter": "python",
   "pygments_lexer": "ipython3",
   "version": "3.10.6"
  },
  "orig_nbformat": 4
 },
 "nbformat": 4,
 "nbformat_minor": 2
}
