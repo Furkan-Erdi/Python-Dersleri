{
 "cells": [
  {
   "attachments": {},
   "cell_type": "markdown",
   "metadata": {},
   "source": [
    "# Python Dersleri #9 - Fonksiyonlar"
   ]
  },
  {
   "cell_type": "markdown",
   "metadata": {},
   "source": [
    "Python'da fonksiyonlar, belirli bir görevi gerçekleştirmek için kullanılan, kodu yeniden kullanılabilir ve modüler hale getiren yapı taşlarıdır. Fonksiyonlar, programları daha organize hale getirir ve kodun tekrar kullanılabilirliğini sağlar. Python'da bir fonksiyon tanımlamak için `def` anahtar kelimesi kullanılır. Bir fonksiyon, gerekirse parametreleri alabilir ve bir veya birden fazla değeri geri döndürebilir."
   ]
  },
  {
   "cell_type": "markdown",
   "metadata": {},
   "source": [
    "## Fonksiyon Tanımlama\n",
    "\n",
    "Python'da bir fonksiyonu tanımlamak için aşağıdaki gibi yapı kullanılır:\n",
    "\n",
    "```py\n",
    "def fonksiyon_adı(parametre1, parametre2, ...):\n",
    "    # Fonksiyon gövdesi (işlemler)\n",
    "    return değer\n",
    "```\n",
    "\n",
    "`def` : Fonksiyon tanımlamak için kullanılan anahtar kelime.\n",
    "\n",
    "`fonksiyon_adı` : Tanımlanan fonksiyonun ismi.\n",
    "\n",
    "`parametre1, parametre2, ...` : İsteğe bağlı olarak fonksiyonun alabileceği parametrelerdir. Fonksiyon içinde kullanılacak değerleri bu parametreler aracılığıyla alabiliriz.\n",
    "\n",
    "`:` : Fonksiyon tanımının sonunda kullanılır ve fonksiyon gövdesinin başlangıcını belirtir.\n",
    "\n",
    "`return` : Fonksiyonun sonucunu döndürmek için kullanılır. Fonksiyonun sonlandığını ve değer döndürdüğünü gösterir. Eğer fonksiyon sonucu döndürmek istenmiyorsa, return kullanılmasına gerek yoktur."
   ]
  },
  {
   "cell_type": "markdown",
   "metadata": {},
   "source": [
    "## Fonksiyon Çağırma\n",
    "\n",
    "Bir fonksiyonu çağırmak (kullanmak) için, fonksiyon adını ve parantezleri kullanırız. Eğer fonksiyon parametre alıyorsa, çağırma esnasında bu parametreleri vermemiz gerekir.\n",
    "\n",
    "```py\n",
    "# Basit bir toplama fonksiyonu tanımlama\n",
    "def topla(a, b):\n",
    "    return a + b\n",
    "\n",
    "# Fonksiyonu çağırma\n",
    "sonuc = topla(5, 3)\n",
    "print(sonuc)  # Output: 8\n",
    "```"
   ]
  },
  {
   "cell_type": "markdown",
   "metadata": {},
   "source": [
    "## Varsayılan Parametreler\n",
    "\n",
    "Fonksiyon tanımlarken, parametrelerin varsayılan değerlerini belirtebiliriz. Bu sayede fonksiyon çağırırken belirli parametreleri atlamak veya boş bırakmak mümkün olur.\n",
    "\n",
    "```py\n",
    "# Varsayılan parametreli bir fonksiyon tanımlama\n",
    "def selamla(isim=\"Dünya\"):\n",
    "    print(f\"Merhaba, {isim}!\")\n",
    "\n",
    "# Fonksiyonu çağırma\n",
    "selamla()          # Output: Merhaba, Dünya!\n",
    "selamla(\"Furkan\")   # Output: Merhaba, Furkan!\n",
    "```"
   ]
  },
  {
   "cell_type": "markdown",
   "metadata": {},
   "source": [
    "## Esnek Sayıda Parametreler\n",
    "\n",
    "Bir fonksiyona değişken sayıda parametre geçmek için *args ve **kwargs kullanılabilir.\n",
    "\n",
    "`*args` : Fonksiyona değişken sayıda pozisyonel argümanlar geçmek için kullanılır. args adı değiştirilebilir, ancak genellikle bu ad kullanılır.\n",
    "\n",
    "`**kwargs` : Fonksiyona değişken sayıda anahtar kelime argümanları geçmek için kullanılır. kwargs adı değiştirilebilir, ancak genellikle bu ad kullanılır.\n",
    "\n",
    "```py\n",
    "# *args ile değişken sayıda pozisyonel argümanlar almak\n",
    "def toplam(*args):\n",
    "    return sum(args)\n",
    "\n",
    "sonuc = toplam(1, 2, 3, 4, 5)\n",
    "print(sonuc)  # Output: 15\n",
    "\n",
    "# **kwargs ile değişken sayıda anahtar kelime argümanları almak\n",
    "def bilgi(**kwargs):\n",
    "    for key, value in kwargs.items():\n",
    "        print(f\"{key}: {value}\")\n",
    "\n",
    "bilgi(isim=\"Furkan\", yaş=22, şehir=\"İstanbul\")\n",
    "# Output:\n",
    "# isim: Furkan\n",
    "# yaş: 22\n",
    "# şehir: İstanbul\n",
    "```"
   ]
  },
  {
   "cell_type": "markdown",
   "metadata": {},
   "source": [
    "## İç İçe Fonksiyonlar (Nested Functions)\n",
    "\n",
    "Python'da bir fonksiyon, başka bir fonksiyon içinde tanımlanabilir. Bu tip fonksiyonlara \"iç içe fonksiyonlar\" denir.\n",
    "\n",
    "```py\n",
    "def dış_fonksiyon():\n",
    "    print(\"Dış fonksiyon çalışıyor.\")\n",
    "\n",
    "    def iç_fonksiyon():\n",
    "        print(\"İç fonksiyon çalışıyor.\")\n",
    "\n",
    "    # İç fonksiyonu dış fonksiyon içinde çağırma\n",
    "    iç_fonksiyon()\n",
    "\n",
    "dış_fonksiyon()\n",
    "# Output:\n",
    "# Dış fonksiyon çalışıyor.\n",
    "# İç fonksiyon çalışıyor.\n",
    "```\n",
    "\n",
    "### Özyinelemeli (Recursive) Fonksiyonlar\n",
    "\n",
    "Python'da bir fonksiyon, kendi kendini çağırarak özyinelemeli olabilir. Bu, bir problemin daha küçük parçalara ayrılıp çözülmesi gerektiği durumlarda kullanılır.\n",
    "\n",
    "```py\n",
    "# Faktöriyel hesaplamak için özyinelemeli fonksiyon\n",
    "def faktoriyel(n):\n",
    "    if n == 0 or n == 1:\n",
    "        return 1\n",
    "    else:\n",
    "        return n * faktoriyel(n-1)\n",
    "\n",
    "print(faktoriyel(5))  # Output: 120\n",
    "```"
   ]
  },
  {
   "cell_type": "markdown",
   "metadata": {},
   "source": [
    "## Lambda Fonksiyonları\n",
    "\n",
    "Lambda fonksiyonları, tek satırlık küçük anonim fonksiyonlardır. Lambda ifadesi kullanılarak kısa süreli ve adı olmayan fonksiyonlar oluşturulabilir.\n",
    "\n",
    "```py\n",
    "# Basit bir lambda fonksiyonu\n",
    "kare = lambda x: x ** 2\n",
    "\n",
    "print(kare(5))  # Output: 25\n",
    "```"
   ]
  }
 ],
 "metadata": {
  "kernelspec": {
   "display_name": "Python 3",
   "language": "python",
   "name": "python3"
  },
  "language_info": {
   "name": "python",
   "version": "3.10.6"
  },
  "orig_nbformat": 4
 },
 "nbformat": 4,
 "nbformat_minor": 2
}
