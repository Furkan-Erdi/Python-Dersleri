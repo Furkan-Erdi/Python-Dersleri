{
 "cells": [
  {
   "cell_type": "markdown",
   "metadata": {},
   "source": [
    "# <a id='toc1_'></a>[Python Dersleri #8 - Döngüler](#toc0_)"
   ]
  },
  {
   "cell_type": "markdown",
   "metadata": {},
   "source": [
    "**İçindekiler**<a id='toc0_'></a>    \n",
    "- [Python Dersleri #8 - Döngüler](#toc1_)    \n",
    "  - [For Döngüsü](#toc1_1_)    \n",
    "  - [While Döngüsü](#toc1_2_)    \n",
    "  - [For Döngüsü ile While Döngüsü Karşılaştırması](#toc1_3_)    \n",
    "  - [For ve While Geniş Kapsamlı Bir Örnek](#toc1_4_)    \n",
    "\n",
    "<!-- vscode-jupyter-toc-config\n",
    "\tnumbering=false\n",
    "\tanchor=true\n",
    "\tflat=false\n",
    "\tminLevel=1\n",
    "\tmaxLevel=6\n",
    "\t/vscode-jupyter-toc-config -->\n",
    "<!-- THIS CELL WILL BE REPLACED ON TOC UPDATE. DO NOT WRITE YOUR TEXT IN THIS CELL -->"
   ]
  },
  {
   "cell_type": "markdown",
   "metadata": {},
   "source": [
    "## <a id='toc1_1_'></a>[For Döngüsü](#toc0_)\n",
    "\n",
    "For döngüsü, bir dizi, liste, dize veya diğer yineleyebilir veri yapıları üzerinde yineleme yapmak için kullanılan bir döngü türüdür. Belirtilen yineleyebilir nesnedeki her öğe için döngü içerisindeki kodları çalıştırır. Her yineleme adımında, döngü değişkeni öğelerin değerini alır ve döngü içerisindeki kodları bu değeri kullanarak işlem yapar.\n",
    "\n",
    "Kullanım Alanları:\n",
    "\n",
    "- Liste, dizi, tuple gibi veri yapıları üzerinde dolaşmak\n",
    "\n",
    "- Bir dize içindeki karakterleri tek tek işlemek\n",
    "\n",
    "- Sayı dizileri veya aralıklarında yineleme yapmak\n",
    "\n",
    "- Dosya içeriği üzerinde satır satır dolaşmak\n",
    "\n",
    "- Veritabanı sorgularında sonuçları dolaşmak"
   ]
  },
  {
   "cell_type": "code",
   "execution_count": 1,
   "metadata": {},
   "outputs": [
    {
     "name": "stdout",
     "output_type": "stream",
     "text": [
      "M\n",
      "e\n",
      "r\n",
      "h\n",
      "a\n",
      "b\n",
      "a\n"
     ]
    }
   ],
   "source": [
    "# Bir dize tanımlayalım\n",
    "dize = \"Merhaba\"\n",
    "\n",
    "# Dize içindeki her karakteri ekrana yazdıralım\n",
    "for karakter in dize:\n",
    "    print(karakter)"
   ]
  },
  {
   "cell_type": "code",
   "execution_count": 2,
   "metadata": {},
   "outputs": [
    {
     "name": "stdout",
     "output_type": "stream",
     "text": [
      "1 ile 5 arasındaki sayıların toplamı: 15\n"
     ]
    }
   ],
   "source": [
    "# Bir başlangıç ve bitiş değeri belirleyelim\n",
    "baslangic = 1\n",
    "bitis = 5\n",
    "\n",
    "# Başlangıçtan başlayarak bitişe kadar olan sayılar arasında dolaşalım ve toplamı hesaplayalım\n",
    "toplam = 0\n",
    "for sayi in range(baslangic, bitis+1):\n",
    "    toplam += sayi\n",
    "\n",
    "# Sonucu ekrana yazdıralım\n",
    "print(f\"{baslangic} ile {bitis} arasındaki sayıların toplamı: {toplam}\")\n"
   ]
  },
  {
   "cell_type": "code",
   "execution_count": 3,
   "metadata": {},
   "outputs": [
    {
     "name": "stdout",
     "output_type": "stream",
     "text": [
      "random_username_123 16 karakterden daha fazla. Listeden çıkartıldı!\n",
      "Geçerli Kullanıcı Adları: ['furkan_erdi', 'username']\n"
     ]
    }
   ],
   "source": [
    "kullanici_adlari = ['furkan_erdi', 'random_username_123', 'username']\n",
    "for kullanici_adi in kullanici_adlari:\n",
    "    if len(kullanici_adi) > 16:\n",
    "        print(f\"{kullanici_adi} 16 karakterden daha fazla. Listeden çıkartıldı!\")\n",
    "        kullanici_adlari.remove(kullanici_adi)\n",
    "    \n",
    "print(f\"Geçerli Kullanıcı Adları: {kullanici_adlari}\")"
   ]
  },
  {
   "cell_type": "markdown",
   "metadata": {},
   "source": [
    "## <a id='toc1_2_'></a>[While Döngüsü](#toc0_)\n",
    "\n",
    "While döngüsü, belirli bir koşul doğru olduğu sürece tekrarlayan bir döngü türüdür. Koşul her döngü döngüsünde kontrol edilir ve koşul doğru olduğu sürece döngü devam eder. Koşul yanlış olduğunda döngü sona erer ve program diğer işlemlere devam eder. Bu, döngüde kaç kez yinelenmesi gerektiğini bilmediğimiz durumlarda kullanışlıdır.\n",
    "\n",
    "Kullanım Alanları:\n",
    "\n",
    "- Kullanıcıdan alınan girdilere göre döngüyü çalıştırmak\n",
    "- Belirli bir şart sağlandığında döngüyü sonlandırmak\n",
    "- Dosyadan veya ağdan veri okurken kullanmak\n",
    "- Oyun veya simülasyon gibi durumlar için kullanmak"
   ]
  },
  {
   "cell_type": "code",
   "execution_count": 4,
   "metadata": {},
   "outputs": [
    {
     "name": "stdout",
     "output_type": "stream",
     "text": [
      "1\n",
      "2\n",
      "3\n",
      "4\n",
      "5\n"
     ]
    }
   ],
   "source": [
    "# Kullanıcıdan bir sayı alalım\n",
    "n = int(input(\"Bir sayı girin: \"))\n",
    "\n",
    "# 1'den n'e kadar olan sayıları yazdıralım\n",
    "i = 1\n",
    "while i <= n:\n",
    "    print(i)\n",
    "    i += 1"
   ]
  },
  {
   "cell_type": "code",
   "execution_count": 5,
   "metadata": {},
   "outputs": [
    {
     "name": "stdout",
     "output_type": "stream",
     "text": [
      "5! = 120\n"
     ]
    }
   ],
   "source": [
    "# Kullanıcıdan bir sayı alalım\n",
    "n = int(input(\"Bir sayı girin: \"))\n",
    "\n",
    "# Faktöriyeli hesaplamak için değişkenleri tanımlayalım\n",
    "faktoriyel = 1\n",
    "sayac = 1\n",
    "\n",
    "# Faktöriyeli hesaplayalım\n",
    "while sayac <= n:\n",
    "    faktoriyel *= sayac\n",
    "    sayac += 1\n",
    "\n",
    "# Sonucu ekrana yazdıralım\n",
    "print(f\"{n}! = {faktoriyel}\")"
   ]
  },
  {
   "cell_type": "markdown",
   "metadata": {},
   "source": [
    "## <a id='toc1_3_'></a>[For Döngüsü ile While Döngüsü Karşılaştırması](#toc0_)\n",
    "\n",
    "**Kullanım Alanları:**\n",
    "\n",
    "- For döngüsü, bir dizi, liste, dize veya diğer yineleyebilir veri yapıları üzerinde yineleme yapmak için kullanılırken, while döngüsü belirli bir koşul doğru olduğu sürece yinelemeye devam eder.\n",
    "\n",
    "**Yineleme Yapıları:**\n",
    "\n",
    "- For döngüsü, veri yapılarındaki elemanlar veya nesneler üzerinde belirli bir sırayla yineleme yapar. For döngüsü için yineleme adımları zaten belirlenmiştir ve veri yapısındaki elemanlar sırayla ziyaret edilir.\n",
    "\n",
    "- While döngüsü, belirli bir koşulun doğru olduğu sürece yinelemeye devam eder. While döngüsü için yineleme adımları doğrudan veri yapısından bağımsızdır ve yineleme durumu koşula bağlı olarak değişebilir.\n",
    "\n",
    "**Koşul:**\n",
    "\n",
    "- For döngüsünde, yineleme adımları genellikle bir dizi veya liste gibi yineleyebilir veri yapılarının elemanları üzerinden sırayla gerçekleşir.\n",
    "While döngüsünde, yineleme koşulu, döngünün kaç kere çalışacağını belirler. While döngüsü, koşulun sağlandığı sürece çalışmaya devam eder ve koşul yanlış olduğunda döngü sona erer.\n",
    "\n",
    "**Döngü Değişkeni:**\n",
    "\n",
    "- For döngüsünde, bir döngü değişkeni, her yineleme adımında veri yapısının elemanlarından birini temsil eder ve döngü gövdesinde kullanılır.\n",
    "While döngüsünde, bir döngü değişkeni genellikle döngü gövdesinde başlangıç değeri atanarak tanımlanır ve döngü içinde güncellenir.\n",
    "\n",
    "**Yineleme Sayısı:**\n",
    "\n",
    "- For döngüsü, veri yapısındaki elemanların sayısı kadar yineleme yapar. Döngü başlangıcından itibaren kaç kez yinelemeyi gerçekleştireceği önceden bilinir.\n",
    "While döngüsü, yineleme sayısı belirli bir koşula bağlıdır ve başlangıçta kaç kez yineleme yapacağı belirlenmez. Koşul yanlış olduğunda döngü sona erer.\n",
    "\n",
    "Şimdi de hem for döngüsü hem de while döngüsünün kullanıldığı bir örnek yapalım."
   ]
  },
  {
   "cell_type": "markdown",
   "metadata": {},
   "source": [
    "## <a id='toc1_4_'></a>[For ve While Geniş Kapsamlı Bir Örnek](#toc0_)"
   ]
  },
  {
   "cell_type": "code",
   "execution_count": 6,
   "metadata": {},
   "outputs": [
    {
     "name": "stdout",
     "output_type": "stream",
     "text": [
      "ÜRÜN VERİTABANI\n",
      "\n",
      "ürün kodu, ürün adı, ürün fiyatı, stok adeti, ürün garantisi\n",
      "1001, Laptop, 15000 TL, 10, VAR\n",
      "1006, Mouse, 500 TL, 15, VAR\n",
      "1007, Şarj Aleti, 250 TL, 20, YOK\n",
      "1008, Şarj Kablosu, 100 TL, 5, YOK\n",
      "1002, Telefon, 13000 TL, 15, VAR\n"
     ]
    }
   ],
   "source": [
    "# Bir ürün veritabanı oluşturalım\n",
    "urunler = {\n",
    "    \"1001\": {\"ad\": \"Laptop\", \"fiyat\": 15000, \"stok\": 10,\"garanti\": True},\n",
    "    \"1002\": {\"ad\": \"Telefon\", \"fiyat\": 13000, \"stok\": 15,\"garanti\": True},\n",
    "    \"1003\": {\"ad\": \"Tablet\", \"fiyat\": 8000, \"stok\": 5,\"garanti\": False},\n",
    "    \"1004\": {\"ad\": \"Monitör\", \"fiyat\": 6000, \"stok\": 8,\"garanti\": True},\n",
    "    \"1005\": {\"ad\": \"Klavye\", \"fiyat\": 1000, \"stok\": 18,\"garanti\": False},\n",
    "    \"1006\": {\"ad\": \"Mouse\", \"fiyat\": 500, \"stok\": 15,\"garanti\": True},\n",
    "    \"1007\": {\"ad\": \"Şarj Aleti\", \"fiyat\": 250, \"stok\": 20,\"garanti\": False},\n",
    "    \"1008\": {\"ad\": \"Şarj Kablosu\", \"fiyat\": 100, \"stok\": 5,\"garanti\": False}\n",
    "}\n",
    "\n",
    "# Kullanıcıya ürün numarasını soralım ve doğru giriş yapana kadar tekrar soralım\n",
    "urun_sayisi = int(input(\"Lütfen kaç adet ürün hakkında bilgi almak istediğinizi giriniz: \"))\n",
    "\n",
    "while urun_sayisi > 8:\n",
    "    urun_sayisi = int(input(\"Dikkat! 8 üründen daha fazla ürün sayısı girmeyiniz!\\nLütfen kaç adet ürün hakkında bilgi almak istediğinizi giriniz: \"))\n",
    "\n",
    "istenen_urunler = {}\n",
    "\n",
    "text = \"Lütfen ürün kodunu girin: \"\n",
    "\n",
    "while urun_sayisi > 0:\n",
    "    urun_kodu = input(text)\n",
    "    if (urun_kodu in urunler) and (urun_kodu not in istenen_urunler):\n",
    "        istenen_urunler[urun_kodu] = urunler[urun_kodu]\n",
    "        text = \"Lütfen ürün kodunu girin: \"\n",
    "        urun_sayisi -= 1\n",
    "    else:\n",
    "        text = \"Böyle bir ürün yok veya daha önce bu ürün eklenmiş, lütfen farklı bir ürün giriniz: \"\n",
    "\n",
    "print(\"ÜRÜN VERİTABANI\\n\\nürün kodu, ürün adı, ürün fiyatı, stok adeti, ürün garantisi\")\n",
    "# Veritabanında böyle bir ürün varsa, ürün bilgilerini döngü ile alalım\n",
    "for urun_kodu, urun in istenen_urunler.items():\n",
    "    ad = urun[\"ad\"]\n",
    "    fiyat = urun[\"fiyat\"]\n",
    "    stok = urun[\"stok\"]\n",
    "\n",
    "    if urun[\"garanti\"]:\n",
    "        garanti = \"VAR\"\n",
    "    else:\n",
    "        garanti = \"YOK\"\n",
    "\n",
    "    print(f\"{urun_kodu}, {ad}, {fiyat} TL, {stok}, {garanti}\")\n"
   ]
  },
  {
   "cell_type": "markdown",
   "metadata": {},
   "source": [
    "## <a id='toc1_4_'></a>[Kaynakça](#toc0_)\n",
    "---\n",
    "\n",
    "- https://docs.python.org/tr/3/"
   ]
  }
 ],
 "metadata": {
  "kernelspec": {
   "display_name": "Python 3",
   "language": "python",
   "name": "python3"
  },
  "language_info": {
   "codemirror_mode": {
    "name": "ipython",
    "version": 3
   },
   "file_extension": ".py",
   "mimetype": "text/x-python",
   "name": "python",
   "nbconvert_exporter": "python",
   "pygments_lexer": "ipython3",
   "version": "3.10.6"
  },
  "orig_nbformat": 4
 },
 "nbformat": 4,
 "nbformat_minor": 2
}
