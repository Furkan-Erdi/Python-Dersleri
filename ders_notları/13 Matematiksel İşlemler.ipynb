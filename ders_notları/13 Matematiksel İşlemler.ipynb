{
 "cells": [
  {
   "cell_type": "markdown",
   "metadata": {},
   "source": [
    "# <a id='toc1_'></a>[Matematiksel İşlemler](#toc0_)"
   ]
  },
  {
   "cell_type": "markdown",
   "metadata": {},
   "source": [
    "Python'da, matematiksel işlemleri gerçekleştirmek için `math` adlı bir built-in modül bulunmaktadır. Bu modül, matematiksel sabitler ve fonksiyonlar sağlayarak birçok matematiksel işlemi kolaylıkla yapmanıza olanak tanır. math modülünü içeri aktararak işlemlerimize başlayalım."
   ]
  },
  {
   "cell_type": "code",
   "execution_count": 8,
   "metadata": {},
   "outputs": [],
   "source": [
    "import math"
   ]
  },
  {
   "cell_type": "markdown",
   "metadata": {},
   "source": [
    "**İçindekiler**<a id='toc0_'></a>    \n",
    "- [Matematiksel İşlemler](#toc1_)    \n",
    "  - [Matematiksel Sabitler](#toc1_1_)    \n",
    "  - [Temel Matematiksel İşlemler](#toc1_2_)    \n",
    "  - [Trigonometrik Fonksiyonlar](#toc1_3_)    \n",
    "  - [Hiperbolik Fonksiyonlar](#toc1_4_)    \n",
    "  - [Diğer Matematiksel İşlemler](#toc1_5_)    \n",
    "  - [Basit Faiz Örneği](#toc1_6_)    \n",
    "  - [Kaynakça](#toc1_7_)    \n",
    "\n",
    "<!-- vscode-jupyter-toc-config\n",
    "\tnumbering=false\n",
    "\tanchor=true\n",
    "\tflat=false\n",
    "\tminLevel=1\n",
    "\tmaxLevel=6\n",
    "\t/vscode-jupyter-toc-config -->\n",
    "<!-- THIS CELL WILL BE REPLACED ON TOC UPDATE. DO NOT WRITE YOUR TEXT IN THIS CELL -->"
   ]
  },
  {
   "cell_type": "markdown",
   "metadata": {},
   "source": [
    "## <a id='toc1_1_'></a>[Matematiksel Sabitler](#toc0_)\n",
    "\n",
    "Matematiksel sabitler, matematiksel işlemlerde sık sık kullanılan belirli değerlerdir. Python `math` modülü, iki yaygın matematiksel sabiti sağlar:"
   ]
  },
  {
   "cell_type": "code",
   "execution_count": 10,
   "metadata": {},
   "outputs": [
    {
     "name": "stdout",
     "output_type": "stream",
     "text": [
      "pi sabiti (π): 3.141592653589793\n",
      "euler sabiti (e): 2.718281828459045\n"
     ]
    }
   ],
   "source": [
    "pi = math.pi\n",
    "euler = math.e\n",
    "\n",
    "print(\"pi sabiti (π):\", pi)\n",
    "print(\"euler sabiti (e):\", euler)"
   ]
  },
  {
   "cell_type": "markdown",
   "metadata": {},
   "source": [
    "## <a id='toc1_2_'></a>[Temel Matematiksel İşlemler](#toc0_)\n",
    "\n",
    "`math` modülü, temel matematiksel işlemleri gerçekleştirmek için bir dizi fonksiyon sağlar. Bazı örnekler:"
   ]
  },
  {
   "cell_type": "code",
   "execution_count": 11,
   "metadata": {},
   "outputs": [
    {
     "name": "stdout",
     "output_type": "stream",
     "text": [
      "16 sayısının karekökü: 4.0\n",
      "16^2 (16 üzeri 2): 256.0\n",
      "e^16 (e üzeri 16): 8886110.520507872\n",
      "16 sayısının doğal logaritması: 2.772588722239781\n",
      "16 sayısının ondalık logaritması (taban 10): 1.2041199826559248\n"
     ]
    }
   ],
   "source": [
    "x = 16\n",
    "y = 2\n",
    "\n",
    "square_root = math.sqrt(x)\n",
    "power = math.pow(x, y)\n",
    "exponential = math.exp(x)\n",
    "natural_log = math.log(x)\n",
    "log_base_10 = math.log10(x)\n",
    "\n",
    "print(\"16 sayısının karekökü:\", square_root)\n",
    "print(\"16^2 (16 üzeri 2):\", power)\n",
    "print(\"e^16 (e üzeri 16):\", exponential)\n",
    "print(\"16 sayısının doğal logaritması:\", natural_log)\n",
    "print(\"16 sayısının ondalık logaritması (taban 10):\", log_base_10)"
   ]
  },
  {
   "cell_type": "markdown",
   "metadata": {},
   "source": [
    "## <a id='toc1_3_'></a>[Trigonometrik Fonksiyonlar](#toc0_)\n",
    "\n",
    "`math` modülü, trigonometrik fonksiyonları hesaplamak için bir dizi fonksiyon sağlar. Açılar genellikle radyan cinsinden ifade edilir, bu nedenle önce `math.radians()` fonksiyonu kullanarak dereceden radyana dönüşüm yapılmalıdır. Bazı örnekler:"
   ]
  },
  {
   "cell_type": "code",
   "execution_count": 17,
   "metadata": {},
   "outputs": [
    {
     "name": "stdout",
     "output_type": "stream",
     "text": [
      "45 derecenin sinüsü: 0.7071067811865476\n",
      "45 derecenin kosinüsü: 0.7071067811865476\n",
      "45 derecenin tanjantı: 0.9999999999999999\n"
     ]
    }
   ],
   "source": [
    "angle_deg = 45\n",
    "angle_rad = math.radians(angle_deg)\n",
    "\n",
    "sin_45 = math.sin(angle_rad)\n",
    "cos_45 = math.cos(angle_rad)\n",
    "tan_45 = math.tan(angle_rad)\n",
    "\n",
    "print(\"45 derecenin sinüsü:\", sin_45) # 1 / √2\n",
    "print(\"45 derecenin kosinüsü:\", cos_45) # 1 / √2\n",
    "print(\"45 derecenin tanjantı:\", tan_45) # 1"
   ]
  },
  {
   "cell_type": "markdown",
   "metadata": {},
   "source": [
    "## <a id='toc1_4_'></a>[Hiperbolik Fonksiyonlar](#toc0_)\n",
    "\n",
    "`math` modülü ayrıca hiperbolik fonksiyonları hesaplamak için de fonksiyonlar sağlar. Bazı örnekler:"
   ]
  },
  {
   "cell_type": "code",
   "execution_count": 18,
   "metadata": {},
   "outputs": [
    {
     "name": "stdout",
     "output_type": "stream",
     "text": [
      "30 derecenin hiperbolik sinüsü: 0.5478534738880397\n",
      "30 derecenin hiperbolik kosinüsü: 1.1402383210764286\n",
      "30 derecenin hiperbolik tanjantı: 0.48047277815645156\n"
     ]
    }
   ],
   "source": [
    "angle_deg = 30\n",
    "angle_rad = math.radians(angle_deg)\n",
    "\n",
    "sinh_30 = math.sinh(angle_rad)\n",
    "cosh_30 = math.cosh(angle_rad)\n",
    "tanh_30 = math.tanh(angle_rad)\n",
    "\n",
    "print(\"30 derecenin hiperbolik sinüsü:\", sinh_30)\n",
    "print(\"30 derecenin hiperbolik kosinüsü:\", cosh_30)\n",
    "print(\"30 derecenin hiperbolik tanjantı:\", tanh_30)"
   ]
  },
  {
   "cell_type": "markdown",
   "metadata": {},
   "source": [
    "## <a id='toc1_5_'></a>[Diğer Matematiksel İşlemler](#toc0_)\n",
    "\n",
    "`math` modülü ayrıca diğer matematiksel işlemleri gerçekleştirmek için de fonksiyonlar sağlar. Bazı örnekler:"
   ]
  },
  {
   "cell_type": "code",
   "execution_count": 19,
   "metadata": {},
   "outputs": [
    {
     "name": "stdout",
     "output_type": "stream",
     "text": [
      "13.5 sayısının üst tam sayıya yuvarlanması: 14\n",
      "13.5 sayısının alt tam sayıya yuvarlanması: 13\n",
      "13.5 sayısının tamsayı kısmı: 13\n",
      "7 sayısının faktöriyeli: 5040\n",
      "24 ve 36 sayılarının en büyük ortak böleni: 12\n"
     ]
    }
   ],
   "source": [
    "num1 = 13.5\n",
    "num2 = 7\n",
    "\n",
    "ceil_value = math.ceil(num1)\n",
    "floor_value = math.floor(num1)\n",
    "trunc_value = math.trunc(num1)\n",
    "factorial_value = math.factorial(num2)\n",
    "gcd_value = math.gcd(24, 36)\n",
    "\n",
    "print(\"13.5 sayısının üst tam sayıya yuvarlanması:\", ceil_value)\n",
    "print(\"13.5 sayısının alt tam sayıya yuvarlanması:\", floor_value)\n",
    "print(\"13.5 sayısının tamsayı kısmı:\", trunc_value)\n",
    "print(\"7 sayısının faktöriyeli:\", factorial_value)\n",
    "print(\"24 ve 36 sayılarının en büyük ortak böleni:\", gcd_value)"
   ]
  },
  {
   "cell_type": "markdown",
   "metadata": {},
   "source": [
    "## <a id='toc1_6_'></a>[Basit Faiz Örneği](#toc0_)"
   ]
  },
  {
   "cell_type": "code",
   "execution_count": 25,
   "metadata": {},
   "outputs": [
    {
     "name": "stdout",
     "output_type": "stream",
     "text": [
      "Başlangıç Yatırım Miktarı: $1000\n",
      "Yıllık Faiz Oranı: %5.0\n",
      "Yatırım Süresi: 3 yıl\n",
      "Basit Faiz Miktarı: $150.0\n",
      "Bileşik Faiz Miktarı: $161.47\n",
      "Bileşik Faiz (Yukarı Yuvarlanmış): $162\n",
      "Bileşik Faiz (Aşağı Yuvarlanmış): $161\n"
     ]
    }
   ],
   "source": [
    "def simple_interest(principal, rate, time):\n",
    "    interest = principal * rate * time\n",
    "    return interest\n",
    "\n",
    "def compound_interest(principal, rate, time, periods_per_year):\n",
    "    amount = principal * math.pow(1 + rate/periods_per_year, periods_per_year*time)\n",
    "    interest = amount - principal\n",
    "    return interest\n",
    "\n",
    "def round_interest(interest, decimal_places=2):\n",
    "    return round(interest, decimal_places)\n",
    "\n",
    "def ceil_interest(interest):\n",
    "    return math.ceil(interest)\n",
    "\n",
    "def floor_interest(interest):\n",
    "    return math.floor(interest)\n",
    "\n",
    "principal_amount = 1000\n",
    "annual_interest_rate = 0.05\n",
    "investment_period = 3\n",
    "compounding_periods = 12\n",
    "\n",
    "simple_interest_amount = simple_interest(principal_amount, annual_interest_rate, investment_period)\n",
    "compound_interest_amount = compound_interest(principal_amount, annual_interest_rate, investment_period, compounding_periods)\n",
    "\n",
    "rounded_simple_interest = round_interest(simple_interest_amount)\n",
    "rounded_compound_interest = round_interest(compound_interest_amount)\n",
    "\n",
    "ceiled_compound_interest = ceil_interest(compound_interest_amount)\n",
    "floored_compound_interest = floor_interest(compound_interest_amount)\n",
    "\n",
    "print(f\"Başlangıç Yatırım Miktarı: ${principal_amount}\")\n",
    "print(f\"Yıllık Faiz Oranı: %{annual_interest_rate*100}\")\n",
    "print(f\"Yatırım Süresi: {investment_period} yıl\")\n",
    "print(f\"Basit Faiz Miktarı: ${rounded_simple_interest}\")\n",
    "print(f\"Bileşik Faiz Miktarı: ${rounded_compound_interest}\")\n",
    "print(f\"Bileşik Faiz (Yukarı Yuvarlanmış): ${ceiled_compound_interest}\")\n",
    "print(f\"Bileşik Faiz (Aşağı Yuvarlanmış): ${floored_compound_interest}\")"
   ]
  },
  {
   "cell_type": "markdown",
   "metadata": {},
   "source": [
    "## <a id='toc1_7_'></a>[Kaynakça](#toc0_)\n",
    "---\n",
    "\n",
    "- https://docs.python.org/tr/3/"
   ]
  }
 ],
 "metadata": {
  "kernelspec": {
   "display_name": "Python 3",
   "language": "python",
   "name": "python3"
  },
  "language_info": {
   "codemirror_mode": {
    "name": "ipython",
    "version": 3
   },
   "file_extension": ".py",
   "mimetype": "text/x-python",
   "name": "python",
   "nbconvert_exporter": "python",
   "pygments_lexer": "ipython3",
   "version": "3.10.6"
  },
  "orig_nbformat": 4
 },
 "nbformat": 4,
 "nbformat_minor": 2
}
