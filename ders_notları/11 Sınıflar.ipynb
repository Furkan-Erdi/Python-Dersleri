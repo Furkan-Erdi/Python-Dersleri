{
 "cells": [
  {
   "cell_type": "markdown",
   "metadata": {},
   "source": [
    "# <a id='toc1_'></a>[Python Dersleri #11 - Sınıflar ve Nesne Yönelimli Programlama (Class - Object-Oriented Programming[OOP])](#toc0_)  [&#8593;](#toc0_)"
   ]
  },
  {
   "cell_type": "markdown",
   "metadata": {},
   "source": [
    "Python, nesne yönelimli programlama (OOP) paradigmalarını destekleyen bir programlama dilidir. OOP, programlama mantığını gerçek dünya nesnelerine ve davranışlarına dayandıran bir yaklaşımdır. Python'da classlar, nesneleri ve onların özelliklerini tanımlamak ve işlemek için kullanılır."
   ]
  },
  {
   "cell_type": "markdown",
   "metadata": {},
   "source": [
    "**İçindekiler**<a id='toc0_'></a>    \n",
    "- [Python Dersleri #11 - Sınıflar ve Nesne Yönelimli Programlama (Class - Object-Oriented Programming[OOP]) ](#toc1_)    \n",
    "  - [Class Nedir?](#toc1_1_)    \n",
    "  - [Nesne (Object) Nedir?](#toc1_2_)    \n",
    "  - [Class Nasıl Tanımlanır?](#toc1_3_)    \n",
    "  - [Class Özellikleri (Attributes)](#toc1_4_)    \n",
    "  - [Class Metodları (Methods)](#toc1_5_)    \n",
    "  - [Nesne Oluşturma](#toc1_6_)    \n",
    "  - [Nesne Özelliklerine Erişim](#toc1_7_)    \n",
    "  - [Nesne Metodlarını Çağırma](#toc1_8_)    \n",
    "  - [Özel Metodlar (Special Methods)](#toc1_9_)    \n",
    "  - [Encapsulation, Inheritance, Polymorphism ve Abstraction](#toc1_10_)    \n",
    "    - [Encapsulation (Kapsülleme)](#toc1_10_1_)    \n",
    "    - [Inheritance (Kalıtım):](#toc1_10_2_)    \n",
    "    - [Polymorphism (Çok Biçimlilik)](#toc1_10_3_)    \n",
    "    - [Abstraction (Soyutlama)](#toc1_10_4_)    \n",
    "  - [Kaynakça](#toc1_11_)    \n",
    "\n",
    "<!-- vscode-jupyter-toc-config\n",
    "\tnumbering=false\n",
    "\tanchor=true\n",
    "\tflat=false\n",
    "\tminLevel=1\n",
    "\tmaxLevel=6\n",
    "\t/vscode-jupyter-toc-config -->\n",
    "<!-- THIS CELL WILL BE REPLACED ON TOC UPDATE. DO NOT WRITE YOUR TEXT IN THIS CELL -->"
   ]
  },
  {
   "cell_type": "markdown",
   "metadata": {},
   "source": [
    "## <a id='toc1_1_'></a>[Class Nedir?](#toc0_)\n",
    "\n",
    "Bir class, bir nesnenin (object) temel taslağıdır. Classlar, nesnenin özelliklerini (attributes) ve davranışlarını (methods) tanımlar. Örneğin, bir \"Araba\" classı, bir arabayı tanımlayan özellikleri (renk, marka, model) ve davranışları (çalıştırma, durdurma, hızlanma) içerebilir.\n",
    "\n",
    "Classlar, programlarımızı daha düzenli, modüler ve anlaşılır hale getirmemizi sağlar. OOP, aynı özelliklere sahip farklı nesneleri tek bir class altında gruplama ve yönetme yeteneği sağlar."
   ]
  },
  {
   "cell_type": "markdown",
   "metadata": {},
   "source": [
    "## <a id='toc1_2_'></a>[Nesne (Object) Nedir?](#toc0_)\n",
    "\n",
    "Bir nesne (object), bir classın bir örneğidir. Classlar temel taslaklardır ve bu taslaklardan türetilen nesneler, belirli değerlerle dolu özelliklere sahip olabilir. Nesneler, classın özelliklerine ve davranışlarına sahiptir.\n",
    "\n",
    "Örneğin, \"Araba\" classından türetilen bir nesne, belirli bir renkte, markada ve modelde olabilir. Aynı class'tan başka bir nesne de farklı bir renk, marka ve modelde olabilir."
   ]
  },
  {
   "cell_type": "markdown",
   "metadata": {},
   "source": [
    "## <a id='toc1_3_'></a>[Class Nasıl Tanımlanır?](#toc0_)\n",
    "\n",
    "Python'da class tanımlamak için `class` anahtar kelimesi kullanılır. Class adı genellikle büyük harfle başlar ve kelime aralarında boşluk olmadan yazılır."
   ]
  },
  {
   "cell_type": "code",
   "execution_count": 1,
   "metadata": {},
   "outputs": [],
   "source": [
    "class Araba:\n",
    "    pass"
   ]
  },
  {
   "cell_type": "markdown",
   "metadata": {},
   "source": [
    "Yukarıdaki örnekte \"Araba\" adında bir class tanımladık. Şu anda içi boş, yani herhangi bir özellik veya davranış tanımlamadık."
   ]
  },
  {
   "cell_type": "markdown",
   "metadata": {},
   "source": [
    "## <a id='toc1_4_'></a>[Class Özellikleri (Attributes)](#toc0_)\n",
    "\n",
    "Bir classın özellikleri, nesnenin niteliklerini ve durumunu tanımlayan veri elemanlarıdır. Örneğin, \"Araba\" classının özellikleri renk, marka ve model olabilir. Classın özellikleri, `__init__` metodu içinde tanımlanır."
   ]
  },
  {
   "cell_type": "code",
   "execution_count": 2,
   "metadata": {},
   "outputs": [],
   "source": [
    "class Araba:\n",
    "    def __init__(self, renk, marka, model):\n",
    "        self.renk = renk\n",
    "        self.marka = marka\n",
    "        self.model = model"
   ]
  },
  {
   "cell_type": "markdown",
   "metadata": {},
   "source": [
    "Yukarıdaki örnekte, `__init__` metodu içinde `self` parametresi ile nesne özellikleri (`renk`, `marka`, `model`) tanımladık. `self`, nesneyi temsil eden bir referanstır ve class içindeki diğer metodlarda da kullanılmalıdır."
   ]
  },
  {
   "cell_type": "markdown",
   "metadata": {},
   "source": [
    "## <a id='toc1_5_'></a>[Class Metodları (Methods)](#toc0_)\n",
    "\n",
    "Class metodları, bir nesnenin davranışlarını tanımlayan fonksiyonlardır. Örneğin, \"Araba\" classının çalıştırma, durdurma, hızlanma gibi davranışları olabilir. Class metodları, class içinde normal fonksiyonlar gibi tanımlanır."
   ]
  },
  {
   "cell_type": "code",
   "execution_count": 3,
   "metadata": {},
   "outputs": [],
   "source": [
    "class Araba:\n",
    "    def __init__(self, renk, marka, model):\n",
    "        self.renk = renk\n",
    "        self.marka = marka\n",
    "        self.model = model\n",
    "    \n",
    "    def calistir(self):\n",
    "        print(\"Araba çalıştırıldı.\")\n",
    "    \n",
    "    def durdur(self):\n",
    "        print(\"Araba durduruldu.\")\n",
    "    \n",
    "    def hizlan(self):\n",
    "        print(\"Araba hızlandı.\")"
   ]
  },
  {
   "cell_type": "markdown",
   "metadata": {},
   "source": [
    "## <a id='toc1_6_'></a>[Nesne Oluşturma](#toc0_)\n",
    "\n",
    "Class tanımlandıktan sonra, bu class'ın bir nesnesini oluşturabiliriz. Bir nesne oluşturmak için class adını kullanarak bir değişken tanımlamalı ve classın `__init__` metodu içindeki parametreleri geçmelisiniz."
   ]
  },
  {
   "cell_type": "code",
   "execution_count": 4,
   "metadata": {},
   "outputs": [],
   "source": [
    "araba1 = Araba(\"Kırmızı\", \"Toyota\", \"Corolla\")\n",
    "araba2 = Araba(\"Mavi\", \"Ford\", \"Focus\")"
   ]
  },
  {
   "cell_type": "markdown",
   "metadata": {},
   "source": [
    "## <a id='toc1_7_'></a>[Nesne Özelliklerine Erişim](#toc0_)\n",
    "\n",
    "Oluşturulan nesnelerin özelliklerine `nesne_adı.özellik_adı` şeklinde erişebilirsiniz."
   ]
  },
  {
   "cell_type": "code",
   "execution_count": 5,
   "metadata": {},
   "outputs": [
    {
     "name": "stdout",
     "output_type": "stream",
     "text": [
      "Kırmızı\n",
      "Ford\n"
     ]
    }
   ],
   "source": [
    "print(araba1.renk)  # Output: Kırmızı\n",
    "print(araba2.marka)  # Output: Ford"
   ]
  },
  {
   "cell_type": "markdown",
   "metadata": {},
   "source": [
    "## <a id='toc1_8_'></a>[Nesne Metodlarını Çağırma](#toc0_)\n",
    "\n",
    "Oluşturulan nesnelerin metodlarını `nesne_adı.metod_adı()` şeklinde çağırabiliriz."
   ]
  },
  {
   "cell_type": "code",
   "execution_count": 6,
   "metadata": {},
   "outputs": [
    {
     "name": "stdout",
     "output_type": "stream",
     "text": [
      "Araba çalıştırıldı.\n",
      "Araba hızlandı.\n"
     ]
    }
   ],
   "source": [
    "araba1.calistir()  # Output: Araba çalıştırıldı.\n",
    "araba2.hizlan()  # Output: Araba hızlandı."
   ]
  },
  {
   "cell_type": "markdown",
   "metadata": {},
   "source": [
    "## <a id='toc1_9_'></a>[Özel Metodlar (Special Methods)](#toc0_)\n",
    "\n",
    "Python'da class'lara özel metotlar, dunder (double underscore) olarak da bilinen özel adlarla tanımlanan ve özel amaçlar için kullanılan metotlardır. Bu metotlar, class içinde tanımlanır ve Python tarafından otomatik olarak çağrılırlar. Classlara özel metotlar, classların davranışlarını ve özelliklerini özelleştirmek için kullanılırlar."
   ]
  },
  {
   "cell_type": "markdown",
   "metadata": {},
   "source": [
    "1. `__init__(self, ...)`: Bu, classın constructor'ıdır ve bir obje oluşturulduğunda otomatik olarak çağrılır. Bu metot, objeyi başlatmak ve özelliklerine başlangıç değerleri atamak için kullanılır."
   ]
  },
  {
   "cell_type": "code",
   "execution_count": 7,
   "metadata": {},
   "outputs": [],
   "source": [
    "class Ogrenci:\n",
    "    def __init__(self, ad, soyad, numara):\n",
    "        self.ad = ad\n",
    "        self.soyad = soyad\n",
    "        self.numara = numara\n",
    "\n",
    "ogrenci1 = Ogrenci(\"Ahmet\", \"Yılmaz\", 12345)"
   ]
  },
  {
   "cell_type": "markdown",
   "metadata": {},
   "source": [
    "2. `__str__(self)`: Bu, bir objenin string temsilini döndüren metottur. `str()` fonksiyonu veya `print()` fonksiyonu ile bir obje bastırılmak istendiğinde çağrılır."
   ]
  },
  {
   "cell_type": "code",
   "execution_count": 8,
   "metadata": {},
   "outputs": [
    {
     "name": "stdout",
     "output_type": "stream",
     "text": [
      "Furkan Erdi (12345)\n"
     ]
    }
   ],
   "source": [
    "class Ogrenci:\n",
    "    def __init__(self, ad, soyad, numara):\n",
    "        self.ad = ad\n",
    "        self.soyad = soyad\n",
    "        self.numara = numara\n",
    "\n",
    "    def __str__(self):\n",
    "        return f\"{self.ad} {self.soyad} ({self.numara})\"\n",
    "    \n",
    "ogrenci1 = Ogrenci(\"Furkan\", \"Erdi\", 12345)\n",
    "print(ogrenci1)  # Furkan Erdi (12345)"
   ]
  },
  {
   "cell_type": "markdown",
   "metadata": {},
   "source": [
    "3. `__len__(self)`: Bu, bir objenin uzunluğunu döndüren metottur. `len()` fonksiyonu ile bir objenin uzunluğu hesaplanmak istendiğinde çağrılır."
   ]
  },
  {
   "cell_type": "code",
   "execution_count": 9,
   "metadata": {},
   "outputs": [
    {
     "name": "stdout",
     "output_type": "stream",
     "text": [
      "300\n"
     ]
    }
   ],
   "source": [
    "class Kitap:\n",
    "    def __init__(self, baslik, yazar, sayfa_sayisi):\n",
    "        self.baslik = baslik\n",
    "        self.yazar = yazar\n",
    "        self.sayfa_sayisi = sayfa_sayisi\n",
    "\n",
    "    def __len__(self):\n",
    "        return self.sayfa_sayisi\n",
    "    \n",
    "kitap1 = Kitap(\"Python ile Programlama\", \"Furkan Erdi\", 300)\n",
    "print(len(kitap1))  # 300"
   ]
  },
  {
   "cell_type": "markdown",
   "metadata": {},
   "source": [
    "4. `__eq__(self, other)`: Bu, iki objenin eşit olup olmadığını kontrol eden metottur. `==` operatörü ile iki objenin eşitliği kontrol edilmek istendiğinde çağrılır."
   ]
  },
  {
   "cell_type": "code",
   "execution_count": 10,
   "metadata": {},
   "outputs": [
    {
     "name": "stdout",
     "output_type": "stream",
     "text": [
      "True\n"
     ]
    }
   ],
   "source": [
    "class Nokta:\n",
    "    def __init__(self, x, y):\n",
    "        self.x = x\n",
    "        self.y = y\n",
    "\n",
    "    def __eq__(self, other):\n",
    "        return self.x == other.x and self.y == other.y\n",
    "\n",
    "nokta1 = Nokta(1, 2)\n",
    "nokta2 = Nokta(1, 2)\n",
    "print(nokta1 == nokta2)  # True"
   ]
  },
  {
   "cell_type": "markdown",
   "metadata": {},
   "source": [
    "5. `__add__(self, other)`: Bu, iki objeyi toplayan metottur. `+` operatörü ile iki objenin toplanması istendiğinde çağrılır."
   ]
  },
  {
   "cell_type": "code",
   "execution_count": 11,
   "metadata": {},
   "outputs": [
    {
     "name": "stdout",
     "output_type": "stream",
     "text": [
      "4 6\n"
     ]
    }
   ],
   "source": [
    "class Nokta:\n",
    "    def __init__(self, x, y):\n",
    "        self.x = x\n",
    "        self.y = y\n",
    "\n",
    "    def __add__(self, other):\n",
    "        return Nokta(self.x + other.x, self.y + other.y)\n",
    "\n",
    "nokta1 = Nokta(1, 2)\n",
    "nokta2 = Nokta(3, 4)\n",
    "toplam_nokta = nokta1 + nokta2\n",
    "print(toplam_nokta.x, toplam_nokta.y)  # 4 6"
   ]
  },
  {
   "cell_type": "code",
   "execution_count": 12,
   "metadata": {},
   "outputs": [],
   "source": [
    "class Kare:\n",
    "    def __init__(self, kenar):\n",
    "        self.kenar = kenar\n",
    "    \n",
    "    def __str__(self):\n",
    "        return f\"Kare: Kenar Uzunluğu = {self.kenar}\"\n",
    "    \n",
    "    def __add__(self, other):\n",
    "        return Kare(self.kenar + other.kenar)"
   ]
  },
  {
   "cell_type": "markdown",
   "metadata": {},
   "source": [
    "Yukarıdaki örnekte, `__str__` metodu, `print()` fonksiyonu ile bir nesne yazdırıldığında nasıl görüneceğini tanımlar. `__add__` metodu ile de iki nesnenin nasıl toplanacağını tanımlar."
   ]
  },
  {
   "cell_type": "markdown",
   "metadata": {},
   "source": [
    "## <a id='toc1_10_'></a>[Encapsulation, Inheritance, Polymorphism ve Abstraction](#toc0_)\n",
    "\n",
    "OOP'nin dört temel prensibi şunlardır:\n",
    "\n",
    "- Encapsulation (Kapsülleme): Verilerin ve metodların bir class içinde düzenlenmesi ve dışarıdan erişimin kısıtlanmasıdır.\n",
    "- Inheritance (Kalıtım): Bir classın başka bir classın özelliklerini ve davranışlarını miras almasıdır.\n",
    "- Polymorphism (Çok Biçimlilik): Farklı classların aynı adlı metodları farklı şekillerde uygulamasıdır.\n",
    "- Abstraction (Soyutlama): Nesnelerin sadece gerekli özellik ve davranışları içermesi ve gereksiz detaylardan arındırılmasıdır.\n",
    "\n",
    "OOP, programlama dünyasında büyük bir öneme sahiptir ve daha düzenli, esnek ve anlaşılır programlar yazmak için kullanılır."
   ]
  },
  {
   "cell_type": "markdown",
   "metadata": {},
   "source": [
    "### <a id='toc1_10_1_'></a>[Encapsulation (Kapsülleme)](#toc0_)\n",
    "\n",
    "Encapsulation, bir classın veri alanlarını (özelliklerini) ve metodlarını bir arada tutarak, dışarıdan erişimin kısıtlanması prensibidir. Classın içindeki verilere ve metodlara sadece classın kendisi tarafından erişilebilir ve dışarıdan gelen kodlar verilere doğrudan müdahale edemez. Böylece, veri bütünlüğü ve güvenliği sağlanır."
   ]
  },
  {
   "cell_type": "code",
   "execution_count": 13,
   "metadata": {},
   "outputs": [],
   "source": [
    "class BankaHesabi:\n",
    "    def __init__(self, hesap_no, bakiye):\n",
    "        self.__hesap_no = hesap_no\n",
    "        self.__bakiye = bakiye\n",
    "\n",
    "    def para_yatir(self, miktar):\n",
    "        self.__bakiye += miktar\n",
    "\n",
    "    def para_cek(self, miktar):\n",
    "        if miktar <= self.__bakiye:\n",
    "            self.__bakiye -= miktar\n",
    "        else:\n",
    "            print(\"Yetersiz bakiye!\")\n",
    "\n",
    "    def bakiye_sorgula(self):\n",
    "        return self.__bakiye"
   ]
  },
  {
   "cell_type": "markdown",
   "metadata": {},
   "source": [
    "Yukarıdaki örnekte, `BankaHesabi` classı, `__hesap_no` ve `__bakiye` adlı özellikleri ile kapsüllenmiştir. Dışarıdan doğrudan bu özelliklere erişim yapılamaz. Sadece `para_yatir`, `para_cek` ve `bakiye_sorgula` adlı metodlar aracılığıyla bu özelliklerin değerleri değiştirilebilir ve sorgulanabilir."
   ]
  },
  {
   "cell_type": "markdown",
   "metadata": {},
   "source": [
    "### <a id='toc1_10_2_'></a>[Inheritance (Kalıtım):](#toc0_)\n",
    "Inheritance, bir classın başka bir classın özelliklerini ve davranışlarını miras alması prensibidir. Miras alınan class, base class olarak adlandırılırken, miras alan class ise derived class olarak adlandırılır. Derived class, base classın özelliklerini ve metodlarını kullanabilir ve aynı zamanda yeni özellikler ve metodlar ekleyebilir."
   ]
  },
  {
   "cell_type": "code",
   "execution_count": 14,
   "metadata": {},
   "outputs": [],
   "source": [
    "class Arac:\n",
    "    def __init__(self, marka, model):\n",
    "        self.marka = marka\n",
    "        self.model = model\n",
    "\n",
    "    def calistir(self):\n",
    "        print(\"Araç çalıştırıldı.\")\n",
    "\n",
    "class Otomobil(Arac):\n",
    "    def __init__(self, marka, model, yakit_turu):\n",
    "        super().__init__(marka, model)\n",
    "        self.yakit_turu = yakit_turu\n",
    "\n",
    "    def hizlan(self):\n",
    "        print(\"Otomobil hızlandı.\")\n",
    "\n",
    "class Kamyon(Arac):\n",
    "    def __init__(self, marka, model, yuk_kapasitesi):\n",
    "        super().__init__(marka, model)\n",
    "        self.yuk_kapasitesi = yuk_kapasitesi\n",
    "\n",
    "    def yuk_tasi(self):\n",
    "        print(\"Kamyon yük taşıyor.\")"
   ]
  },
  {
   "cell_type": "markdown",
   "metadata": {},
   "source": [
    "Yukarıdaki örnekte, `Arac` classı, `marka` ve `model` adlı özellikler ve `calistir` adlı bir metod içerir. `Otomobil` ve `Kamyon` classları ise `Arac` classını miras alarak, bu özellikleri ve metodu kullanabilir ve aynı zamanda kendi özellik ve metodlarını ekleyebilir."
   ]
  },
  {
   "cell_type": "markdown",
   "metadata": {},
   "source": [
    "### <a id='toc1_10_3_'></a>[Polymorphism (Çok Biçimlilik)](#toc0_)\n",
    "Polymorphism, aynı isme sahip fakat farklı parametrelerle çalışabilen metodu ifade eder. Farklı classlarda aynı isimdeki metotlar, farklı davranışlar sergileyebilir."
   ]
  },
  {
   "cell_type": "code",
   "execution_count": 15,
   "metadata": {},
   "outputs": [],
   "source": [
    "class Dortgen:\n",
    "    def __init__(self, kenar1, kenar2):\n",
    "        self.kenar1 = kenar1\n",
    "        self.kenar2 = kenar2\n",
    "\n",
    "    def alan_hesapla(self):\n",
    "        return self.kenar1 * self.kenar2\n",
    "\n",
    "class Ucgen:\n",
    "    def __init__(self, taban, yukseklik):\n",
    "        self.taban = taban\n",
    "        self.yukseklik = yukseklik\n",
    "\n",
    "    def alan_hesapla(self):\n",
    "        return (self.taban * self.yukseklik) / 2"
   ]
  },
  {
   "cell_type": "markdown",
   "metadata": {},
   "source": [
    "Yukarıdaki örnekte, `Dortgen` ve `Ucgen` classları, `alan_hesapla` adlı metodu farklı şekilde uygular. `Dortgen` classında dikdörtgenin alanını, `Ucgen` classında ise üçgenin alanını hesaplar."
   ]
  },
  {
   "cell_type": "markdown",
   "metadata": {},
   "source": [
    "### <a id='toc1_10_4_'></a>[Abstraction (Soyutlama)](#toc0_)\n",
    "Abstraction, bir classın kullanıcıya sadece gerekli bilgileri sunması ve detayları gizlemesi prensibidir. Kullanıcı, bir classın nasıl çalıştığını bilmek zorunda değildir, sadece kullanımı için gerekli olan arayüze odaklanır."
   ]
  },
  {
   "cell_type": "code",
   "execution_count": 16,
   "metadata": {},
   "outputs": [],
   "source": [
    "from abc import ABC, abstractmethod\n",
    "\n",
    "class Sekil(ABC):\n",
    "    @abstractmethod\n",
    "    def alan_hesapla(self):\n",
    "        pass\n",
    "\n",
    "class Dortgen(Sekil):\n",
    "    def __init__(self, kenar1, kenar2):\n",
    "        self.kenar1 = kenar1\n",
    "        self.kenar2 = kenar2\n",
    "\n",
    "    def alan_hesapla(self):\n",
    "        return self.kenar1 * self.kenar2"
   ]
  },
  {
   "cell_type": "markdown",
   "metadata": {},
   "source": [
    "Yukarıdaki örnekte, `Sekil` classı abstract olarak tanımlanmıştır ve `alan_hesapla` adlı metot soyutlanmıştır. `Dortgen` classı, `Sekil` classını miras alarak `alan_hesapla` metodu için kendi implementasyonunu yapmıştır. Bu sayede `alan_hesapla` metodu soyutlanmış ve farklı sekil classları tarafından farklı şekilde uygulanabilir hale gelmiştir."
   ]
  },
  {
   "cell_type": "markdown",
   "metadata": {},
   "source": [
    "## <a id='toc1_11_'></a>[Kaynakça](#toc0_)\n",
    "---\n",
    "\n",
    "- https://docs.python.org/tr/3/"
   ]
  }
 ],
 "metadata": {
  "kernelspec": {
   "display_name": "base",
   "language": "python",
   "name": "python3"
  },
  "language_info": {
   "codemirror_mode": {
    "name": "ipython",
    "version": 3
   },
   "file_extension": ".py",
   "mimetype": "text/x-python",
   "name": "python",
   "nbconvert_exporter": "python",
   "pygments_lexer": "ipython3",
   "version": "3.10.6"
  },
  "orig_nbformat": 4
 },
 "nbformat": 4,
 "nbformat_minor": 2
}
