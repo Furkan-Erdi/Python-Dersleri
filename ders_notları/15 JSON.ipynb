{
 "cells": [
  {
   "cell_type": "markdown",
   "metadata": {},
   "source": [
    "# <a id='toc1_'></a>[15 - JSON ( JavaScript Object Notation )](#toc0_)"
   ]
  },
  {
   "cell_type": "markdown",
   "metadata": {},
   "source": [
    "JSON (JavaScript Object Notation), verilerin kolayca değiştirilebilir ve okunabilir bir formatta temsil edilmesini sağlayan bir veri alışverişi biçimidir. Python'da JSON işlemek için `json` modülü bulunmaktadır. Bu modül, Python veri tiplerini JSON formatına dönüştürme ve JSON verilerini Python veri tiplerine dönüştürme işlemlerini sağlar.\n",
    "\n",
    "JSON, anahtar-değer çiftleriyle ve listelerle yapılandırılmış metin tabanlı bir formattır. JSON, dil bağımsızdır ve çoğu modern programlama dilinde desteklenir. Genellikle web servisleri, API'lar ve veri depolama amacıyla kullanılır.\n",
    "\n",
    "json modülünü içeri aktararak işlemlerimize başlayalım."
   ]
  },
  {
   "cell_type": "code",
   "execution_count": 1,
   "metadata": {},
   "outputs": [],
   "source": [
    "import json"
   ]
  },
  {
   "cell_type": "markdown",
   "metadata": {},
   "source": [
    "**İçindekiler**<a id='toc0_'></a>    \n",
    "- [JSON ( JavaScript Object Notation )](#toc1_)    \n",
    "  - [JSON ve Python Veri Türleri Arasında Dönüşüm](#toc1_1_)    \n",
    "    - [JSON Verisini Python Veri Türlerine Dönüştürme](#toc1_1_1_)    \n",
    "    - [Python Veri Türlerini JSON Formatına Dönüştürme](#toc1_1_2_)    \n",
    "  - [JSON İşlemleri](#toc1_2_)    \n",
    "    - [JSON Dosyasını Okuma](#toc1_2_1_)    \n",
    "    - [JSON Dosyasına Yazma](#toc1_2_2_)    \n",
    "  - [Kaynakça](#toc1_3_)    \n",
    "\n",
    "<!-- vscode-jupyter-toc-config\n",
    "\tnumbering=false\n",
    "\tanchor=true\n",
    "\tflat=false\n",
    "\tminLevel=1\n",
    "\tmaxLevel=6\n",
    "\t/vscode-jupyter-toc-config -->\n",
    "<!-- THIS CELL WILL BE REPLACED ON TOC UPDATE. DO NOT WRITE YOUR TEXT IN THIS CELL -->"
   ]
  },
  {
   "cell_type": "markdown",
   "metadata": {},
   "source": [
    "## <a id='toc1_1_'></a>[JSON ve Python Veri Türleri Arasında Dönüşüm](#toc0_)\n",
    "\n",
    "Python'da, `json` modülü ile JSON verilerini Python veri türlerine dönüştürebiliriz ve aynı şekilde Python veri türlerini JSON formatına dönüştürebiliriz."
   ]
  },
  {
   "cell_type": "markdown",
   "metadata": {},
   "source": [
    "### <a id='toc1_1_1_'></a>[JSON Verisini Python Veri Türlerine Dönüştürme](#toc0_)\n",
    "\n",
    "JSON verisini Python veri türlerine dönüştürmek için `json.loads()` fonksiyonunu kullanırız. Bu fonksiyon, JSON formatındaki metni Python veri türlerine çevirir."
   ]
  },
  {
   "cell_type": "code",
   "execution_count": 2,
   "metadata": {},
   "outputs": [
    {
     "name": "stdout",
     "output_type": "stream",
     "text": [
      "<class 'dict'>\n",
      "{'ad': 'Furkan', 'yaş': 22, 'şehir': 'İstanbul'}\n"
     ]
    }
   ],
   "source": [
    "# JSON verisi\n",
    "json_data = '{\"ad\": \"Furkan\", \"yaş\": 22, \"şehir\": \"İstanbul\"}'\n",
    "\n",
    "# JSON verisini Python veri türlerine dönüştürme\n",
    "python_data = json.loads(json_data)\n",
    "\n",
    "print(type(python_data))  # <class 'dict'>\n",
    "print(python_data)  # {'ad': 'Furkan', 'yaş': 22, 'şehir': 'İstanbul'}"
   ]
  },
  {
   "cell_type": "markdown",
   "metadata": {},
   "source": [
    "### <a id='toc1_1_2_'></a>[Python Veri Türlerini JSON Formatına Dönüştürme](#toc0_)\n",
    "\n",
    "Python veri türlerini JSON formatına dönüştürmek için `json.dumps()` fonksiyonunu kullanırız. Bu fonksiyon, Python veri türlerini JSON formatındaki metne çevirir."
   ]
  },
  {
   "cell_type": "code",
   "execution_count": 3,
   "metadata": {},
   "outputs": [
    {
     "name": "stdout",
     "output_type": "stream",
     "text": [
      "<class 'str'>\n",
      "{\"ad\": \"Furkan\", \"ya\\u015f\": 22, \"\\u015fehir\": \"\\u0130stanbul\"}\n"
     ]
    }
   ],
   "source": [
    "# Python veri türü\n",
    "python_data = {\n",
    "    \"ad\": \"Furkan\",\n",
    "    \"yaş\": 22,\n",
    "    \"şehir\": \"İstanbul\"\n",
    "}\n",
    "\n",
    "# Python veri türünü JSON formatına dönüştürme\n",
    "json_data = json.dumps(python_data)\n",
    "\n",
    "print(type(json_data))  # <class 'str'>\n",
    "print(json_data)  # '{\"ad\": \"Furkan\", \"yaş\": 22, \"şehir\": \"İstanbul\"}'"
   ]
  },
  {
   "cell_type": "markdown",
   "metadata": {},
   "source": [
    "## <a id='toc1_2_'></a>[JSON İşlemleri](#toc0_)"
   ]
  },
  {
   "cell_type": "markdown",
   "metadata": {},
   "source": [
    "### <a id='toc1_2_1_'></a>[JSON Dosyasını Okuma](#toc0_)\n",
    "\n",
    "JSON verisini bir dosyadan okuyup Python veri türlerine dönüştürmek için `json.load()` fonksiyonunu kullanırız.\n",
    "\n",
    "Öncelikle, aşağıdaki şekilde `data.json` adında bir JSON dosyası oluşturalım:\n",
    "\n",
    "```json\n",
    "{\n",
    "    \"ad\": \"Furkan\",\n",
    "    \"yaş\": 22,\n",
    "    \"şehir\": \"İstanbul\"\n",
    "}\n",
    "```"
   ]
  },
  {
   "cell_type": "code",
   "execution_count": null,
   "metadata": {},
   "outputs": [],
   "source": [
    "import json\n",
    "\n",
    "# JSON dosyasını açma ve veriyi yükleme\n",
    "with open('data.json', 'r') as file:\n",
    "    data = json.load(file)\n",
    "\n",
    "print(type(data))  # <class 'dict'>\n",
    "print(data)  # {'ad': 'Furkan', 'yaş': 22, 'şehir': 'İstanbul'}"
   ]
  },
  {
   "cell_type": "markdown",
   "metadata": {},
   "source": [
    "### <a id='toc1_2_2_'></a>[JSON Dosyasına Yazma](#toc0_)\n",
    "\n",
    "Python veri türlerini JSON formatında bir dosyaya yazmak için `json.dump()` fonksiyonunu kullanırız.\n",
    "\n",
    "Örnek olarak, aşağıdaki Python veri türünü JSON formatında `output.json` adlı bir dosyaya yazalım:"
   ]
  },
  {
   "cell_type": "code",
   "execution_count": 4,
   "metadata": {},
   "outputs": [],
   "source": [
    "# Python veri türü\n",
    "data = {\n",
    "    \"ad\": \"Furkan\",\n",
    "    \"yaş\": 22,\n",
    "    \"şehir\": \"İstanbul\"\n",
    "}\n",
    "\n",
    "# JSON dosyasına yazma\n",
    "with open('output.json', 'w') as file:\n",
    "    json.dump(data, file)"
   ]
  },
  {
   "cell_type": "markdown",
   "metadata": {},
   "source": [
    "## <a id='toc1_3_'></a>[Kaynakça](#toc0_)\n",
    "---\n",
    "\n",
    "- https://docs.python.org/tr/3/"
   ]
  }
 ],
 "metadata": {
  "kernelspec": {
   "display_name": "Python 3",
   "language": "python",
   "name": "python3"
  },
  "language_info": {
   "codemirror_mode": {
    "name": "ipython",
    "version": 3
   },
   "file_extension": ".py",
   "mimetype": "text/x-python",
   "name": "python",
   "nbconvert_exporter": "python",
   "pygments_lexer": "ipython3",
   "version": "3.10.6"
  },
  "orig_nbformat": 4
 },
 "nbformat": 4,
 "nbformat_minor": 2
}
