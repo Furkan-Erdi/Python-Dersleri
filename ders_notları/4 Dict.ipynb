{
 "cells": [
  {
   "cell_type": "markdown",
   "metadata": {},
   "source": [
    "# <a id='toc1_'></a>[Python Dersleri #4 - Dict](#toc0_)"
   ]
  },
  {
   "cell_type": "markdown",
   "metadata": {},
   "source": [
    "Dict'ler (Dictionary), Python'da key-value (anahtar-değer) çiftleri şeklinde veri saklamak için kullanılan bir veri yapısıdır. Anahtarlar benzersiz olmalıdır ve değerler herhangi bir veri tipi olabilir. Dict'ler, hızlı bir şekilde anahtarlar arasında arama yapmak için kullanılır ve verilere kolay erişim sağlar."
   ]
  },
  {
   "cell_type": "markdown",
   "metadata": {},
   "source": [
    "**İçindekiler**<a id='toc0_'></a>    \n",
    "- [Python Dersleri #4 - Dict](#toc1_)    \n",
    "  - [Dict'ler](#toc1_1_)    \n",
    "    - [Dict'lerin Karakteristik Yapısı](#toc1_1_1_)    \n",
    "    - [Dict Elemanına Erişim](#toc1_1_2_)    \n",
    "    - [Dict Elemanlarını Değiştirmek](#toc1_1_3_)    \n",
    "    - [Nested Dict'ler](#toc1_1_4_)    \n",
    "    - [Dict Metotları](#toc1_1_5_)    \n",
    "  - [Kaynakça](#toc1_2_)    \n",
    "\n",
    "<!-- vscode-jupyter-toc-config\n",
    "\tnumbering=false\n",
    "\tanchor=true\n",
    "\tflat=false\n",
    "\tminLevel=1\n",
    "\tmaxLevel=6\n",
    "\t/vscode-jupyter-toc-config -->\n",
    "<!-- THIS CELL WILL BE REPLACED ON TOC UPDATE. DO NOT WRITE YOUR TEXT IN THIS CELL -->"
   ]
  },
  {
   "cell_type": "markdown",
   "metadata": {},
   "source": [
    "## <a id='toc1_1_'></a>[Dict'ler](#toc0_)\n",
    "---"
   ]
  },
  {
   "cell_type": "markdown",
   "metadata": {},
   "source": [
    "### <a id='toc1_1_1_'></a>[Dict'lerin Karakteristik Yapısı](#toc0_)"
   ]
  },
  {
   "cell_type": "markdown",
   "metadata": {},
   "source": [
    "- Dict'ler, öğelerin eklendiği sırayı korumaz ve içerikleri sıralı bir şekilde tutmaz. Bu nedenle, dict içindeki öğelerin sırası önemli değildir.\n",
    "- Dict'ler değiştirilebilir (mutable) veri yapılarıdır, yani öğeleri güncellenebilir, ekleyebilir veya silebilirsiniz.\n",
    "- Dict'lerde anahtarlar benzersiz olmalıdır. Bir anahtar birden fazla kez kullanılamaz, aksi takdirde son değer geçerli olacaktır.\n",
    "- Anahtarlar ve değerler arasında key-value çiftlerinden oluşurlar.\n",
    "- Anahtarlar benzersiz olmalıdır ve genellikle string veya sayı gibi veri tipleri kullanılır.\n",
    "- Değerler herhangi bir veri tipi olabilir: sayılar, metinler, listeler, tuple'lar, diğer dict'ler vb.\n",
    "\n",
    "Aşağıda birkaç dict oluşturma örneğini bulabilirsiniz."
   ]
  },
  {
   "cell_type": "code",
   "execution_count": 5,
   "metadata": {},
   "outputs": [
    {
     "name": "stdout",
     "output_type": "stream",
     "text": [
      "Dict literal (Doğrudan tanımlama)    :   {'ad': 'Furkan', 'yaş': 22, 'şehir': 'İstanbul'}\n",
      "dict() fonksiyonu ile oluşturma      :   {'ad': 'Furkan', 'yaş': 22, 'şehir': 'İstanbul'}\n",
      "Liste ve tuple'den dict oluşturma    :   {'ad': 'Furkan', 'yaş': 22, 'şehir': 'İstanbul'}\n"
     ]
    }
   ],
   "source": [
    "# Dict literal (Doğrudan tanımlama)\n",
    "my_dict = {\"ad\": \"Furkan\", \"yaş\": 22, \"şehir\": \"İstanbul\"}\n",
    "\n",
    "print(\"Dict literal (Doğrudan tanımlama)    :   \" + str(my_dict))\n",
    "\n",
    "# dict() fonksiyonu ile oluşturma\n",
    "my_dict = dict(ad=\"Furkan\", yaş=22, şehir=\"İstanbul\")\n",
    "\n",
    "print(\"dict() fonksiyonu ile oluşturma      :   \" + str(my_dict))\n",
    "\n",
    "# Liste ve tuple'den dict oluşturma\n",
    "keys = [\"ad\", \"yaş\", \"şehir\"]\n",
    "values = [\"Furkan\", 22, \"İstanbul\"]\n",
    "my_dict = dict(zip(keys, values))\n",
    "\n",
    "print(\"Liste ve tuple'den dict oluşturma    :   \" + str(my_dict))"
   ]
  },
  {
   "cell_type": "markdown",
   "metadata": {},
   "source": [
    "### <a id='toc1_1_2_'></a>[Dict Elemanına Erişim](#toc0_)"
   ]
  },
  {
   "cell_type": "markdown",
   "metadata": {},
   "source": [
    "Dict'lerde anahtar çağırılarak değerine erişebilir. Veya get komutu kullanarak anahtarın değeri çağrılabilir. Bunun dışında dict'in tüm anahtarlarını veya değerlerini de çağırmamız mümkündür. "
   ]
  },
  {
   "cell_type": "code",
   "execution_count": 11,
   "metadata": {},
   "outputs": [
    {
     "name": "stdout",
     "output_type": "stream",
     "text": [
      "dict_keys(['ad', 'yaş', 'şehir']) -> ['ad', 'yaş', 'şehir']\n",
      "dict_values(['Furkan', 22, 'İstanbul']) -> ['Furkan', 22, 'İstanbul']\n",
      "dict_items([('ad', 'Furkan'), ('yaş', 22), ('şehir', 'İstanbul')]) -> [('ad', 'Furkan'), ('yaş', 22), ('şehir', 'İstanbul')]\n"
     ]
    }
   ],
   "source": [
    "my_dict = {\"ad\": \"Furkan\", \"yaş\": 22, \"şehir\": \"İstanbul\"}\n",
    "\n",
    "# Anahtara göre değere erişme\n",
    "ad = my_dict[\"ad\"]\n",
    "yaş = my_dict[\"yaş\"]\n",
    "şehir = my_dict[\"şehir\"]\n",
    "\n",
    "# get() metodu kullanarak anahtar kontrolü yapma\n",
    "ad = my_dict.get(\"ad\")\n",
    "yaş = my_dict.get(\"yaş\")\n",
    "şehir = my_dict.get(\"şehir\")\n",
    "\n",
    "# Tüm değerlere erişim\n",
    "\n",
    "# Anahtarlar\n",
    "keys = my_dict.keys()\n",
    "\n",
    "# Değerler\n",
    "values = my_dict.values()\n",
    "\n",
    "# Öğeler\n",
    "items = my_dict.items()\n",
    "\n",
    "print(str(keys) + \" -> \" + str(list(keys)))\n",
    "print(str(values) + \" -> \" + str(list(values)))\n",
    "print(str(items) + \" -> \" + str(list(items)))"
   ]
  },
  {
   "cell_type": "markdown",
   "metadata": {},
   "source": [
    "### <a id='toc1_1_3_'></a>[Dict Elemanlarını Değiştirmek](#toc0_)"
   ]
  },
  {
   "cell_type": "markdown",
   "metadata": {},
   "source": [
    "Dict elemanlarını değiştirmek için anahtar üzerinden erişip yeni bir değer atarız."
   ]
  },
  {
   "cell_type": "code",
   "execution_count": null,
   "metadata": {},
   "outputs": [],
   "source": [
    "my_dict = {\"ad\": \"Ahmet\", \"yaş\": 25, \"şehir\": \"Ankara\"}\n",
    "my_dict[\"yaş\"] = 30\n",
    "print(my_dict)  # {\"ad\": \"Ahmet\", \"yaş\": 30, \"şehir\": \"Ankara\"}"
   ]
  },
  {
   "cell_type": "markdown",
   "metadata": {},
   "source": [
    "Bir veya birden çok elemana erişmek ve değiştirmek için update() metodu kullanılabilir."
   ]
  },
  {
   "cell_type": "code",
   "execution_count": null,
   "metadata": {},
   "outputs": [],
   "source": [
    "my_dict = {\"ad\": \"Ahmet\", \"yaş\": 25, \"şehir\": \"Ankara\"}\n",
    "my_dict.update({\"yaş\": 30, \"şehir\": \"İstanbul\"})\n",
    "print(my_dict)  # {\"ad\": \"Ahmet\", \"yaş\": 30, \"şehir\": \"İstanbul\"}"
   ]
  },
  {
   "cell_type": "markdown",
   "metadata": {},
   "source": [
    "### <a id='toc1_1_4_'></a>[Nested Dict'ler](#toc0_)"
   ]
  },
  {
   "cell_type": "markdown",
   "metadata": {},
   "source": [
    "Nested dict'ler, dict'lerin içinde başka dict'lerin bulunması durumudur. Bu, daha karmaşık veri yapıları oluşturmamızı sağlar."
   ]
  },
  {
   "cell_type": "code",
   "execution_count": null,
   "metadata": {},
   "outputs": [],
   "source": [
    "my_dict = {\n",
    "    \"kişi_1\": {\"ad\": \"Ahmet\", \"yaş\": 25},\n",
    "    \"kişi_2\": {\"ad\": \"Mehmet\", \"yaş\": 30}\n",
    "}\n",
    "\n",
    "# İç içe geçmiş dict'lere erişim\n",
    "kisi_1_ad = my_dict[\"kişi_1\"][\"ad\"]\n",
    "kisi_2_yas = my_dict[\"kişi_2\"][\"yaş\"]"
   ]
  },
  {
   "cell_type": "markdown",
   "metadata": {},
   "source": [
    "### <a id='toc1_1_5_'></a>[Dict Metotları](#toc0_)"
   ]
  },
  {
   "cell_type": "markdown",
   "metadata": {},
   "source": [
    "| Fonksiyon    | Açıklama                                                      | Girdi                               | Fonksiyon Kullanımı         | Çıktı                                       |\n",
    "|--------------|---------------------------------------------------------------|-------------------------------------|-----------------------------|---------------------------------------------|\n",
    "| len()        | Dict'in öğe sayısını döndürür                                 | {\"ad\": \"Furkan\", \"yaş\": 22}         | len(my_dict)                | 2                                           |\n",
    "| pop()        | Belirtilen anahtara sahip öğeyi çıkarır ve döndürür           | {\"ad\": \"Furkan\", \"yaş\": 22}, \"yaş\"  | my_dict.pop(\"yaş\")          | 22                                          |\n",
    "| update()     | Başka bir dict veya key-value çiftleri ile dict'i günceller   | {\"ad\": \"Furkan\"}, {\"yaş\": 22}       | my_dict.update({\"yaş\": 23}) | {\"ad\": \"Furkan\", \"yaş\": 23}                 |\n",
    "| clear()      | Dict'in tüm öğelerini temizler                                | {\"ad\": \"Furkan\", \"yaş\": 22}         | my_dict.clear()             | {}                                          |\n",
    "| keys()       | Dict'in anahtarlarını döndürür                                | {\"ad\": \"Furkan\", \"yaş\": 22}         | my_dict.keys()              | dict_keys([\"ad\", \"yaş\"])                    |\n",
    "| values()     | Dict'in değerlerini döndürür                                  | {\"ad\": \"Furkan\", \"yaş\": 22}         | my_dict.values()            | dict_values([\"Furkan\", 22])                 |\n",
    "| items()      | Dict'in key-value çiftlerini döndürür                         | {\"ad\": \"Furkan\", \"yaş\": 22}         | my_dict.items()             | dict_items([(\"ad\", \"Furkan\"), (\"yaş\", 22)]) |\n",
    "| get()        | Belirtilen anahtara sahip öğenin değerini döndürür            | {\"ad\": \"Furkan\", \"yaş\": 22}, \"ad\"   | my_dict.get(\"yaş\")          | \"Furkan\"                                    |\n",
    "| in operatoru | Belirtilen anahtarın dict içinde olup olmadığını kontrol eder | {\"ad\": \"Furkan\", \"yaş\": 22}, \"ad\"   | \"yaş\" in my_dict            | True                                        |\n",
    "| del keywordu | Belirtilen anahtara sahip öğeyi çıkarır                       | {\"ad\": \"Furkan\", \"yaş\": 22}, \"yaş\"  | del my_dict[\"yaş\"]          | {\"ad\": \"Furkan\"}                            |"
   ]
  },
  {
   "cell_type": "markdown",
   "metadata": {},
   "source": [
    "## <a id='toc1_2_'></a>[Kaynakça](#toc0_)\n",
    "---\n",
    "\n",
    "https://docs.python.org/tr/3/tutorial/datastructures.html#dictionaries"
   ]
  }
 ],
 "metadata": {
  "kernelspec": {
   "display_name": "base",
   "language": "python",
   "name": "python3"
  },
  "language_info": {
   "codemirror_mode": {
    "name": "ipython",
    "version": 3
   },
   "file_extension": ".py",
   "mimetype": "text/x-python",
   "name": "python",
   "nbconvert_exporter": "python",
   "pygments_lexer": "ipython3",
   "version": "3.9.13"
  },
  "orig_nbformat": 4
 },
 "nbformat": 4,
 "nbformat_minor": 2
}
