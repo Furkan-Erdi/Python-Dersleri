{
 "cells": [
  {
   "attachments": {},
   "cell_type": "markdown",
   "metadata": {},
   "source": [
    "## Python Eğitimi #1 - Temeller"
   ]
  },
  {
   "attachments": {},
   "cell_type": "markdown",
   "metadata": {},
   "source": [
    "- [Değişkenler](#değişkenler)\n",
    "- [Veri Tipleri](#veri-tipleri)\n",
    "    - [Metinler](#metinler--text----str)\n",
    "    - [Numerikler](#numerikler--numeric----int-float)\n",
    "    - [Seriler](#seriler--sequence----list-tuple)\n",
    "    - [Eşleme Tipi](#eşleme-tipi--mapping----dict)\n",
    "    - [Kümeler](#kümeler--set----set)\n",
    "    - [Mantıksal Değerler](#mantıksal-değerler--boolean----bool)\n",
    "    - [Hiçlik Tipi](#hiçlik-tipi-nonetype---none)"
   ]
  },
  {
   "attachments": {},
   "cell_type": "markdown",
   "metadata": {},
   "source": [
    "### Değişkenler\n",
    "---\n",
    "\n",
    "Değişkenler, programlamada veri saklamak için kullanılan adlandırılmış alanlardır. Bir değişkenin bir adı (isim) ve bir değeri vardır. Değer, değişkenin içinde saklanan veridir.\n",
    "\n",
    "- Programlamada veri saklamak için kullanılırlar.\n",
    "- Her bir değişken, bir ad (isim) ve bir değer içerir.\n",
    "- Programın farklı yerlerinde kullanılmak üzere = işareti ile değer atanarak oluşturulurlar.\n",
    "- Değişkenler, farklı veri tiplerini temsil edebilir. Örneğin, tam sayılar için `int`, ondalık sayılar için `float`, metinler için `str` gibi veri tipleri kullanılır.\n",
    "- Değişkenlerin değeri programın herhangi bir yerinde değiştirilebilir. Yani, bir değişkenin değeri atandıktan sonra başka bir değerle güncellenebilir."
   ]
  },
  {
   "cell_type": "code",
   "execution_count": null,
   "metadata": {},
   "outputs": [],
   "source": [
    "x = 0"
   ]
  },
  {
   "cell_type": "code",
   "execution_count": 5,
   "metadata": {},
   "outputs": [
    {
     "name": "stdout",
     "output_type": "stream",
     "text": [
      "Merhaba Furkan\n"
     ]
    }
   ],
   "source": [
    "kullanici_ismi = input(\"Adınızı giriniz: \")\n",
    "\n",
    "print(\"Merhaba \" + kullanici_ismi)"
   ]
  },
  {
   "attachments": {},
   "cell_type": "markdown",
   "metadata": {},
   "source": [
    "### Veri Tipleri\n",
    "---\n",
    "\n",
    "Veri tipleri, programlamada farklı türdeki verileri temsil etmek için kullanılır. Her veri tipi belirli bir veri kategorisini veya değer tipini ifade eder."
   ]
  },
  {
   "attachments": {},
   "cell_type": "markdown",
   "metadata": {},
   "source": [
    "#### Metinler ( Text ) - `str`\n",
    "\n",
    "- `str` metinleri temsil etmek için kullanılır. Metinler çift veya tek tırnak içinde yazılır"
   ]
  },
  {
   "cell_type": "code",
   "execution_count": null,
   "metadata": {},
   "outputs": [],
   "source": [
    "metin = \"Merhaba Dünya\"\n",
    "metin = 'Merhaba Dünya'\n",
    "metin = \"\"\"Merhaba Dünya\"\"\""
   ]
  },
  {
   "attachments": {},
   "cell_type": "markdown",
   "metadata": {},
   "source": [
    "#### Numerikler ( Numeric ) - `int`, `float`\n",
    "\n",
    "- int, tam sayıları temsil eder. Örneğin: 5, 10, -100\n",
    "- float, ondalıklı sayıları temsil eder. Örneğin: 3.14, -0.5, 2.0"
   ]
  },
  {
   "cell_type": "code",
   "execution_count": null,
   "metadata": {},
   "outputs": [],
   "source": [
    "# Integer - Tam Sayılar\n",
    "a = 5\n",
    "b = 10\n",
    "\n",
    "# Float - Ondalıklı Sayılar\n",
    "c = 3.14\n",
    "d = -0.5"
   ]
  },
  {
   "attachments": {},
   "cell_type": "markdown",
   "metadata": {},
   "source": [
    "#### Seriler ( Sequence ) - `list`, `tuple`\n",
    "\n",
    "- `list`, değiştirilebilir (mutable) ve sıralı veri koleksiyonunu temsil eder. Örneğin: [1, 2, 3]\n",
    "- `tuple`, değiştirilemez (immutable) ve sıralı veri koleksiyonunu temsil eder. Örneğin: (4, 5, 6)"
   ]
  },
  {
   "cell_type": "code",
   "execution_count": null,
   "metadata": {},
   "outputs": [],
   "source": [
    "liste = [1, 2, 3]\n",
    "\n",
    "tuple = (4, 5, 6)"
   ]
  },
  {
   "attachments": {},
   "cell_type": "markdown",
   "metadata": {},
   "source": [
    "#### Eşleme Tipi ( Mapping ) - `dict`\n",
    "\n",
    "- Anahtar-değer çiftlerini temsil eder.\n",
    "- Anahtarlar, benzersiz olmalıdır ve değerlere erişmek için kullanılır. Örneğin: {\"ad\": \"Furkan\", \"yaş\": 22}"
   ]
  },
  {
   "cell_type": "code",
   "execution_count": null,
   "metadata": {},
   "outputs": [],
   "source": [
    "dize = {\"ad\": \"Furkan\", \"yaş\": 22}"
   ]
  },
  {
   "attachments": {},
   "cell_type": "markdown",
   "metadata": {},
   "source": [
    "#### Kümeler ( Set ) - `set`\n",
    "\n",
    "Benzersiz ve sırasız elemanlardan oluşan bir koleksiyonu temsil eder. Örneğin: {1, 2, 3}"
   ]
  },
  {
   "cell_type": "code",
   "execution_count": null,
   "metadata": {},
   "outputs": [],
   "source": [
    "kume = {1, 2, 3}"
   ]
  },
  {
   "attachments": {},
   "cell_type": "markdown",
   "metadata": {},
   "source": [
    "#### Mantıksal Değerler ( Boolean ) - `bool`\n",
    "\n",
    "Sadece iki değere sahip olan veri tipidir: True (doğru) veya False (yanlış)"
   ]
  },
  {
   "cell_type": "code",
   "execution_count": null,
   "metadata": {},
   "outputs": [],
   "source": [
    "mantiksal_ifade = True\n",
    "mantiksal_ifade_2 = False"
   ]
  },
  {
   "attachments": {},
   "cell_type": "markdown",
   "metadata": {},
   "source": [
    "#### Hiçlik Tipi (NoneType) - `None`\n",
    "\n",
    "Bir değerin olmadığını ifade eder. Genellikle bir değişkene başlangıç değeri verilmediğinde kullanılır."
   ]
  },
  {
   "cell_type": "code",
   "execution_count": null,
   "metadata": {},
   "outputs": [],
   "source": [
    "degisken = None"
   ]
  },
  {
   "attachments": {},
   "cell_type": "markdown",
   "metadata": {},
   "source": [
    "Bu veri tipleri, Python'da genel olarak kullanılan veri tiplerini kapsamaktadır. Bunlar dışında Python; `complex`, `range`, `frozenset`, `bytes`, `bytearray`, `memoryview` gibi birçok veri tiplerini de dahili olarak barındırmaktadır.\n",
    "\n",
    "Daha detaylı bilgi için Python'ın kendi dokümantasyon sayfasına https://docs.python.org/tr/3/library/stdtypes.html bağlantı adresi ile ulaşabilirsiniz."
   ]
  }
 ],
 "metadata": {
  "kernelspec": {
   "display_name": "base",
   "language": "python",
   "name": "python3"
  },
  "language_info": {
   "codemirror_mode": {
    "name": "ipython",
    "version": 3
   },
   "file_extension": ".py",
   "mimetype": "text/x-python",
   "name": "python",
   "nbconvert_exporter": "python",
   "pygments_lexer": "ipython3",
   "version": "3.9.13"
  },
  "orig_nbformat": 4
 },
 "nbformat": 4,
 "nbformat_minor": 2
}
