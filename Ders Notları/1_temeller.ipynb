{
 "cells": [
  {
   "attachments": {},
   "cell_type": "markdown",
   "metadata": {},
   "source": [
    "## Python Eğitimi #1 - Temeller"
   ]
  },
  {
   "attachments": {},
   "cell_type": "markdown",
   "metadata": {},
   "source": [
    "- [Değişkenler](#değişkenler)\n",
    "- [Veri Tipleri](#veri-tipleri)\n",
    "    - [Metinler](#metinler--text----str)\n",
    "    - [Numerikler](#numerikler--numeric----int-float)\n",
    "    - [Seriler](#seriler--sequence----list-tuple)\n",
    "    - [Eşleme Tipi](#eşleme-tipi--mapping----dict)\n",
    "    - [Kümeler](#kümeler--set----set)\n",
    "    - [Mantıksal Değerler](#mantıksal-değerler--boolean----bool)\n",
    "    - [Hiçlik Tipi](#hiçlik-tipi-nonetype---none)"
   ]
  },
  {
   "attachments": {},
   "cell_type": "markdown",
   "metadata": {},
   "source": [
    "### Değişkenler\n",
    "---\n",
    "\n",
    "Değişkenler, programlamada veri saklamak için kullanılan adlandırılmış alanlardır. Bir değişkenin bir adı (isim) ve bir değeri vardır. Değer, değişkenin içinde saklanan veridir.\n",
    "\n",
    "- Programlamada veri saklamak için kullanılırlar.\n",
    "- Her bir değişken, bir ad (isim) ve bir değer içerir.\n",
    "- Programın farklı yerlerinde kullanılmak üzere = işareti ile değer atanarak oluşturulurlar.\n",
    "- Değişkenler, farklı veri tiplerini temsil edebilir. Örneğin, tam sayılar için `int`, ondalık sayılar için `float`, metinler için `str` gibi veri tipleri kullanılır.\n",
    "- Değişkenlerin değeri programın herhangi bir yerinde değiştirilebilir. Yani, bir değişkenin değeri atandıktan sonra başka bir değerle güncellenebilir."
   ]
  },
  {
   "cell_type": "code",
   "execution_count": null,
   "metadata": {},
   "outputs": [],
   "source": [
    "x = 0"
   ]
  },
  {
   "cell_type": "code",
   "execution_count": null,
   "metadata": {},
   "outputs": [],
   "source": [
    "kullanici_ismi = input(\"Adınızı giriniz: \")"
   ]
  },
  {
   "attachments": {},
   "cell_type": "markdown",
   "metadata": {},
   "source": [
    "### Veri Tipleri\n",
    "---\n",
    "\n",
    "Veri tipleri, programlamada farklı türdeki verileri temsil etmek için kullanılır. Her veri tipi belirli bir veri kategorisini veya değer tipini ifade eder."
   ]
  },
  {
   "attachments": {},
   "cell_type": "markdown",
   "metadata": {},
   "source": [
    "#### Metinler ( Text ) - `str`\n",
    "\n",
    "- `str` metinleri temsil etmek için kullanılır. Metinler çift veya tek tırnak içinde yazılır"
   ]
  },
  {
   "cell_type": "code",
   "execution_count": null,
   "metadata": {},
   "outputs": [],
   "source": [
    "metin = \"Merhaba Dünya\"\n",
    "metin = 'Merhaba Dünya'\n",
    "metin = \"\"\"Merhaba Dünya\"\"\""
   ]
  },
  {
   "attachments": {},
   "cell_type": "markdown",
   "metadata": {},
   "source": [
    "#### Numerikler ( Numeric ) - `int`, `float`\n",
    "\n",
    "- int, tam sayıları temsil eder. Örneğin: 5, 10, -100\n",
    "- float, ondalıklı sayıları temsil eder. Örneğin: 3.14, -0.5, 2.0"
   ]
  },
  {
   "cell_type": "code",
   "execution_count": null,
   "metadata": {},
   "outputs": [],
   "source": [
    "# Integer - Tam Sayılar\n",
    "a = 5\n",
    "b = 10\n",
    "\n",
    "# Float - Ondalıklı Sayılar\n",
    "c = 3.14\n",
    "d = -0.5"
   ]
  },
  {
   "attachments": {},
   "cell_type": "markdown",
   "metadata": {},
   "source": [
    "#### Seriler ( Sequence ) - `list`, `tuple`\n",
    "\n",
    "- `list`, değiştirilebilir (mutable) ve sıralı veri koleksiyonunu temsil eder. Örneğin: [1, 2, 3]\n",
    "- `tuple`, değiştirilemez (immutable) ve sıralı veri koleksiyonunu temsil eder. Örneğin: (4, 5, 6)"
   ]
  },
  {
   "cell_type": "code",
   "execution_count": null,
   "metadata": {},
   "outputs": [],
   "source": [
    "liste = [1, 2, 3]\n",
    "\n",
    "tuple = (4, 5, 6)"
   ]
  },
  {
   "attachments": {},
   "cell_type": "markdown",
   "metadata": {},
   "source": [
    "#### Eşleme Tipi ( Mapping ) - `dict`\n",
    "\n",
    "- Anahtar-değer çiftlerini temsil eder.\n",
    "- Anahtarlar, benzersiz olmalıdır ve değerlere erişmek için kullanılır. Örneğin: {\"ad\": \"Furkan\", \"yaş\": 22}"
   ]
  },
  {
   "cell_type": "code",
   "execution_count": null,
   "metadata": {},
   "outputs": [],
   "source": [
    "dize = {\"ad\": \"Furkan\", \"yaş\": 22}"
   ]
  },
  {
   "attachments": {},
   "cell_type": "markdown",
   "metadata": {},
   "source": [
    "#### Kümeler ( Set ) - `set`\n",
    "\n",
    "Benzersiz ve sırasız elemanlardan oluşan bir koleksiyonu temsil eder. Örneğin: {1, 2, 3}"
   ]
  },
  {
   "cell_type": "code",
   "execution_count": null,
   "metadata": {},
   "outputs": [],
   "source": [
    "kume = {1, 2, 3}"
   ]
  },
  {
   "attachments": {},
   "cell_type": "markdown",
   "metadata": {},
   "source": [
    "#### Mantıksal Değerler ( Boolean ) - `bool`\n",
    "\n",
    "Sadece iki değere sahip olan veri tipidir: True (doğru) veya False (yanlış)"
   ]
  },
  {
   "cell_type": "code",
   "execution_count": null,
   "metadata": {},
   "outputs": [],
   "source": [
    "mantiksal_ifade = True\n",
    "mantiksal_ifade_2 = False"
   ]
  },
  {
   "attachments": {},
   "cell_type": "markdown",
   "metadata": {},
   "source": [
    "#### Hiçlik Tipi (NoneType) - `None`\n",
    "\n",
    "Bir değerin olmadığını ifade eder. Genellikle bir değişkene başlangıç değeri verilmediğinde kullanılır."
   ]
  },
  {
   "cell_type": "code",
   "execution_count": null,
   "metadata": {},
   "outputs": [],
   "source": [
    "degisken = None"
   ]
  },
  {
   "attachments": {},
   "cell_type": "markdown",
   "metadata": {},
   "source": [
    "Bu veri tipleri, Python'da genel olarak kullanılan veri tiplerini kapsamaktadır. Bunlar dışında Python; `complex`, `range`, `frozenset`, `bytes`, `bytearray`, `memoryview` gibi birçok veri tiplerini de dahili olarak barındırmaktadır.\n",
    "\n",
    "Daha detaylı bilgi için Python'ın kendi dokümantasyon sayfasına https://docs.python.org/tr/3/library/stdtypes.html bağlantı adresi ile ulaşabilirsiniz."
   ]
  },
  {
   "attachments": {},
   "cell_type": "markdown",
   "metadata": {},
   "source": [
    "### Operatörler\n",
    "---\n",
    "\n",
    "Python'da operatörler, matematiksel işlemler yapmak, değerleri karşılaştırmak, mantıksal ilişkiler değerlendirmek ve değerleri atamak için kullanılır. Operatörler, programlama dilinde temel yapı taşlarından biridir ve Python'da farklı operatör türleri aritmetik, karşılaştırma, mantıksal ve atama olarak gruplandırılır."
   ]
  },
  {
   "attachments": {},
   "cell_type": "markdown",
   "metadata": {},
   "source": [
    "#### Aritmetik Operatörler\n",
    "\n",
    " Matematiksel işlemleri gerçekleştirmek için kullanılan operatörlerdir. Bu operatörler sayısal değerler üzerinde toplama, çıkarma, çarpma, bölme gibi işlemleri yapar.\n",
    "\n",
    "| Operatör \t| Açıklama                                                      \t|\n",
    "|:-----------:|---------------------------------------------------------------|\n",
    "| x + y     |İki değeri toplar.                                             |\n",
    "| x - y     |İki değeri çıkarır.                                            |\n",
    "| x * y     |İki değeri çarpar.                                             |\n",
    "| x / y     |Bir değeri diğerine böler.                                     |\n",
    "| x ** y    |Bir değeri diğerinin üssü olarak hesaplar.                     |\n",
    "| x // y    |Bir değeri diğerine böler ve sonucu tam sayı olarak döndürür.  |\n",
    "| x % y     |Bir değerin diğer değere bölümünden kalanı hesaplar. ( mod )   |"
   ]
  },
  {
   "attachments": {},
   "cell_type": "markdown",
   "metadata": {},
   "source": [
    "#### Karşılaştırma Operatörleri\n",
    "\n",
    "İki değeri karşılaştırmak için kullanılan operatörlerdir. Bu operatörler, eşitlik, büyüklük-küçüklük, eşitlik dışı gibi ilişkileri değerlendirir ve sonuç olarak doğru (True) veya yanlış (False) değerini döndürür.\n",
    "\n",
    "| Operatör \t| Açıklama                                                           \t|\n",
    "|:----------:|--------------------------------------------------------------------\t|\n",
    "| x == y   \t | İki değerin eşit olup olmadığını kontrol eder.                     \t|\n",
    "| x != y   \t | İki değerin eşit olmadığını kontrol eder.                          \t|\n",
    "| x > y    \t | Bir değerin diğerinden büyük olup olmadığını kontrol eder.         \t|\n",
    "| x < y    \t | Bir değerin diğerinden küçük olup olmadığını kontrol eder.         \t|\n",
    "| x >= y   \t | Bir değerin diğerine büyük veya eşit olup olmadığını kontrol eder. \t|\n",
    "| x <= y   \t | Bir değerin diğerine büyük veya eşit olup olmadığını kontrol eder. \t|"
   ]
  },
  {
   "attachments": {},
   "cell_type": "markdown",
   "metadata": {},
   "source": [
    "#### Mantıksal Operatörler\n",
    "\n",
    "Mantıksal ifadeleri değerlendirmek için kullanılan operatörlerdir. Bu operatörler, birden fazla mantıksal değeri birleştirir ve sonuç olarak doğru (True) veya yanlış (False) değerini döndürür.\n",
    "\n",
    "| Operatör \t| Açıklama                                                        \t|\n",
    "|:----------:| -----------------------------------------------------------------\t|\n",
    "| and      \t |İki mantıksal ifadenin her ikisi de doğru ise sonuç doğru olur. \t|\n",
    "| or       \t |İki mantıksal ifadeden en az biri doğru ise sonuç doğru olur.   \t|\n",
    "| not      \t |Bir mantıksal ifadenin tersini alır.                            \t|"
   ]
  },
  {
   "attachments": {},
   "cell_type": "markdown",
   "metadata": {},
   "source": [
    "#### Atama Operatörleri\n",
    "\n",
    "Değerleri değişkenlere atamak veya değişkenlerin değerini güncellemek için kullanılan operatörlerdir. Bu operatörler, sağ taraftaki değeri sol taraftaki değişkene atar veya mevcut değeri ile birlikte belirli bir işlem yaparak günceller.\n",
    "\n",
    "| Operatör \t    | Açıklama                                                                                         \t                                    |\n",
    ":--------------:|---------------------------------------------------------------------------------------------------------------------------------------|\n",
    " x = y    \t    | Değeri sağ taraftaki ifadeye atar.                                                               \t                                    |\n",
    " x += y   \t    | Değişkenin mevcut değeri ile sağ taraftaki ifadeyi toplar ve sonucu değişkene atar.              \t                                    |\n",
    " x -= y   \t    | Değişkenin mevcut değerinden sağ taraftaki ifadeyi çıkarır ve sonucu değişkene atar.             \t                                    |\n",
    " x *= y   \t    | Değişkenin mevcut değeri ile sağ taraftaki ifadeyi çarpar ve sonucu değişkene atar.              \t                                    |\n",
    " x /= y   \t    | Değişkenin mevcut değerini sağ taraftaki ifadeye böler ve sonucu değişkene atar.                 \t                                    |\n",
    " x //= y  \t    | Değişkenin mevcut değerini sağ taraftaki ifadeye böler ve sonucu tam sayı olarak değişkene atar. \t                                    |\n",
    " x %= y   \t    | Değişkenin mevcut değerini sağ taraftaki ifadeye böler ve kalanı değişkene atar.                 \t                                    |\n",
    "| x &= y        | Değişkenin mevcut değeri ile sağ taraftaki ifadenin bit düzeyindeki \"ve\" işlemini gerçekleştirir ve sonucu değişkene atar.           \t|\n",
    "| x &#124;= y   | Değişkenin mevcut değeri ile sağ taraftaki ifadenin bit düzeyindeki \"veya\" işlemini gerçekleştirir ve sonucu değişkene atar.         \t|\n",
    "| x ^= y        | Değişkenin mevcut değeri ile sağ taraftaki ifadenin bit düzeyindeki \"özel veya\" işlemini gerçekleştirir ve sonucu değişkene atar.    \t|\n",
    "| x >>= y       | Değişkenin mevcut değerini sağa doğru kaydırma işlemiyle sağ taraftaki ifadeyle belirtilen sayıda kaydırır ve sonucu değişkene atar. \t|\n",
    "| x <<= y       | Değişkenin mevcut değerini sola doğru kaydırma işlemiyle sağ taraftaki ifadeyle belirtilen sayıda kaydırır ve sonucu değişkene atar. \t|"
   ]
  }
 ],
 "metadata": {
  "kernelspec": {
   "display_name": "base",
   "language": "python",
   "name": "python3"
  },
  "language_info": {
   "codemirror_mode": {
    "name": "ipython",
    "version": 3
   },
   "file_extension": ".py",
   "mimetype": "text/x-python",
   "name": "python",
   "nbconvert_exporter": "python",
   "pygments_lexer": "ipython3",
   "version": "3.9.13"
  },
  "orig_nbformat": 4
 },
 "nbformat": 4,
 "nbformat_minor": 2
}
