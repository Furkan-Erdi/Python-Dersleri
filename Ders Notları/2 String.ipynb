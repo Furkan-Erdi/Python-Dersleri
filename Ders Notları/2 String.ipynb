{
 "cells": [
  {
   "attachments": {},
   "cell_type": "markdown",
   "metadata": {},
   "source": [
    "## Python Dersleri #2 - String"
   ]
  },
  {
   "attachments": {},
   "cell_type": "markdown",
   "metadata": {},
   "source": [
    "String'ler, Python'da metin tabanlı verileri temsil etmek için kullanılan önemli bir veri tipidir. String'lerin işlevi, metinleri saklamak, manipüle etmek ve metin tabanlı işlemler yapmaktır. Bir kelime, cümle veya daha uzun metin parçalarını içerebilirler. Genellikle kullanıcı girişi, dosya okuma/yazma, metin analizi gibi birçok programlama görevinde kullanılırlar.\n",
    "\n",
    "- Bir String, bir karakter dizisini ifade eder ve her karakterin bir sıra numarası (indeks) vardır. Örneğin, \"Merhaba\" String'inde 'M' karakteri indeks 0'da, 'e' karakteri indeks 1'de, 'r' karakteri indeks 2'de bulunur.\n",
    "- String'ler üzerinde çeşitli işlemler yapabilirsiniz. Örneğin, String birleştirme işlemi ile iki veya daha fazla String'i birleştirebilirsiniz. Bu, metinleri yan yana eklemek veya birleştirmek için kullanılır. Örneğin, \"Merhaba\" + \"Dünya\" ifadesi \"MerhabaDünya\" String'ini oluşturur.\n",
    "- String dilimleme (slicing) ise bir String'den belirli bir alt diziye erişmek için kullanılır. Dilimleme işlemi, bir başlangıç indeksi ve bir bitiş indeksi kullanılarak gerçekleştirilir. Örneğin, \"Merhaba\"[1:4] ifadesi 'erb' alt dizisini döndürür. Burada başlangıç indeksi dahil edilirken, bitiş indeksi dahil edilmez.\n",
    "- Python String'lerin, String metotları adı verilen özel işlevlere sahip olduğunu belirtmek de önemlidir. Bu metotlar, String üzerinde çeşitli manipülasyonlar yapmanızı sağlar. Örneğin, .lower() metodu bir String'i küçük harflere dönüştürür, .upper() metodu bir String'i büyük harflere dönüştürür.\n",
    "- String'lerin önemli bir özelliği, immutability (değiştirilemezlik) özelliğidir. Yani, bir kez oluşturulduktan sonra String'in içeriği değiştirilemez. Ancak, String üzerinde yapılan işlemler yeni bir String döndürür. Bu nedenle, bir String'i değiştirmek isterseniz, sonucu yeni bir değişkene atamanız gerekir."
   ]
  },
  {
   "attachments": {},
   "cell_type": "markdown",
   "metadata": {},
   "source": [
    "### String Metotları\n",
    "---"
   ]
  },
  {
   "attachments": {},
   "cell_type": "markdown",
   "metadata": {},
   "source": [
    "Python String metotları, String veri tipinin üzerinde çeşitli işlemler gerçekleştirmenizi sağlar. Bu metotlar, String'in içeriğini değiştirmeden, manipüle etmenize, kontrol etmenize ve çeşitli metin tabanlı işlemleri gerçekleştirmenize olanak sağlar.\n",
    "\n",
    "| Metot        \t| Açıklama                                                                                         \t| Girdi               \t| Metot Kullanımı                \t| Çıktı                 \t|\n",
    "|--------------\t|--------------------------------------------------------------------------------------------------\t|----------------------\t|--------------------------------\t|-------------------------\t|\n",
    "| lower()      \t| String'in tüm karakterlerini küçük harfe dönüştürür.                                             \t| \"Merhaba\"            \t| \"Merhaba\".lower()              \t| \"merhaba\"               \t|\n",
    "| upper()      \t| String'in tüm karakterlerini büyük harfe dönüştürür.                                             \t| \"Merhaba\"            \t| \"Merhaba\".upper()              \t| \"MERHABA\"               \t|\n",
    "| title()      \t| String'deki tüm kelimelerin baş harflerini büyük harfe dönüştürür.                            \t| \"merhaba dünya\"    \t| \"merhaba dünya\".upper()       \t| \"Merhaba Dünya\"         \t|\n",
    "| strip()      \t| Dizenin baştaki ve sondaki karakterleri çıkarılmış bir kopyasını döndürür.                       \t| \" Merhaba \"          \t| \" Merhaba \".strip()            \t| \"Merhaba\"               \t|\n",
    "| split()      \t| String'i belirli bir ayraç karakterine göre böler ve alt dizilere ayırır.                        \t| \"Merhaba Dünya\"      \t| \"Merhaba Dünya\".split()        \t| [\"Merhaba\", \"Dünya\"]    \t|\n",
    "| join()       \t| String listesini belirli bir ayraç karakteriyle birleştirir.                                     \t| [\"Merhaba\", \"Dünya\"] \t| \" \".join([\"Merhaba\", \"Dünya\"]) \t| \"Merhaba Dünya\"         \t|\n",
    "| replace()    \t| String içinde belirli bir alt dizi veya karakteri başka bir alt dizi veya karakterle değiştirir. \t| \"Merhaba\"            \t| \"Merhaba\".replace(\"a\", \"e\")    \t| \"Merhebe\"              \t|\n",
    "| find()       \t| Belirli bir alt dizi veya karakterin String içindeki ilk indeksini bulur.                        \t| \"Merhaba\"            \t| \"Merhaba\".find(\"r\")           \t| 3                       \t|\n",
    "| count()      \t| Belirli bir alt dizi veya karakterin String içinde kaç kez geçtiğini sayar.                      \t| \"Merhaba\"            \t| \"Merhaba\".count(\"a\")           \t| 2                       \t|\n",
    "| startswith() \t| String'in belirli bir alt dizi veya karakterle başlayıp başlamadığını kontrol eder.              \t| \"Merhaba\"            \t| \"Merhaba\".startswith(\"Mer\")    \t| True                    \t|\n",
    "| endswith()   \t| String'in belirli bir alt dizi veya karakterle bittiğini kontrol eder.                           \t| \"Merhaba\"            \t| \"Merhaba\".endswith(\"aba\")      \t| True                    \t|\n",
    "| isnumeric()  \t| String'in yalnızca sayısal karakterler içerip içermediğini kontrol eder.                         \t| \"123\"                \t| \"123\".isnumeric()              \t| True                    \t|\n",
    "\n",
    "Bu tablo, sık kullanılan Python String metotlarının nasıl kullanılacaklarını göstermektedir. Daha fazla String metodu ve detaylı açıklamaları https://docs.python.org/tr/3/library/stdtypes.html#text-sequence-type-str bağlantı adresindeki Python resmi dokümantasyonunda bulabilirsiniz."
   ]
  },
  {
   "attachments": {},
   "cell_type": "markdown",
   "metadata": {},
   "source": []
  },
  {
   "attachments": {},
   "cell_type": "markdown",
   "metadata": {},
   "source": []
  },
  {
   "cell_type": "code",
   "execution_count": null,
   "metadata": {},
   "outputs": [],
   "source": []
  }
 ],
 "metadata": {
  "language_info": {
   "name": "python"
  },
  "orig_nbformat": 4
 },
 "nbformat": 4,
 "nbformat_minor": 2
}
