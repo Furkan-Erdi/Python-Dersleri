{
 "cells": [
  {
   "attachments": {},
   "cell_type": "markdown",
   "metadata": {},
   "source": [
    "# <a id='toc1_'></a>[Python Dersleri #2 - String](#toc0_)"
   ]
  },
  {
   "attachments": {},
   "cell_type": "markdown",
   "metadata": {},
   "source": [
    "String'ler, Python'da metin tabanlı verileri temsil etmek için kullanılan önemli bir veri tipidir. String'lerin işlevi, metinleri saklamak, manipüle etmek ve metin tabanlı işlemler yapmaktır. Bir kelime, cümle veya daha uzun metin parçalarını içerebilirler. Genellikle kullanıcı girişi, dosya okuma/yazma, metin analizi gibi birçok programlama görevinde kullanılırlar."
   ]
  },
  {
   "attachments": {},
   "cell_type": "markdown",
   "metadata": {},
   "source": [
    "**İçindekiler**<a id='toc0_'></a>    \n",
    "- [Python Dersleri #2 - String](#toc1_)    \n",
    "  - [String'ler](#toc1_1_)    \n",
    "    - [String'lerin Özellikleri](#toc1_1_1_)    \n",
    "    - [String Metotları](#toc1_1_2_)    \n",
    "  - [Substring'ler](#toc1_2_)    \n",
    "    - [Substring'lerin Özellikleri](#toc1_2_1_)    \n",
    "  - [Kaynakça](#toc1_3_)    \n",
    "\n",
    "<!-- vscode-jupyter-toc-config\n",
    "\tnumbering=false\n",
    "\tanchor=true\n",
    "\tflat=false\n",
    "\tminLevel=1\n",
    "\tmaxLevel=6\n",
    "\t/vscode-jupyter-toc-config -->\n",
    "<!-- THIS CELL WILL BE REPLACED ON TOC UPDATE. DO NOT WRITE YOUR TEXT IN THIS CELL -->"
   ]
  },
  {
   "attachments": {},
   "cell_type": "markdown",
   "metadata": {},
   "source": [
    "## <a id='toc1_1_'></a>[String'ler](#toc0_)\n",
    "---"
   ]
  },
  {
   "attachments": {},
   "cell_type": "markdown",
   "metadata": {},
   "source": [
    "### <a id='toc1_1_1_'></a>[String'lerin Özellikleri](#toc0_)\n",
    "\n",
    "- Bir String, bir karakter dizisini ifade eder ve her karakterin bir sıra numarası (indeks) vardır. Örneğin, \"Merhaba\" String'inde 'M' karakteri indeks 0'da, 'e' karakteri indeks 1'de, 'r' karakteri indeks 2'de bulunur.\n",
    "- String'ler üzerinde çeşitli işlemler yapabilirsiniz. Örneğin, String birleştirme işlemi ile iki veya daha fazla String'i birleştirebilirsiniz. Bu, metinleri yan yana eklemek veya birleştirmek için kullanılır. Örneğin, \"Merhaba\" + \"Dünya\" ifadesi \"MerhabaDünya\" String'ini oluşturur.\n",
    "- String dilimleme (slicing) ise bir String'den belirli bir alt diziye erişmek için kullanılır. Dilimleme işlemi, bir başlangıç indeksi ve bir bitiş indeksi kullanılarak gerçekleştirilir. Örneğin, \"Merhaba\"[1:4] ifadesi 'erb' alt dizisini döndürür. Burada başlangıç indeksi dahil edilirken, bitiş indeksi dahil edilmez.\n",
    "- Python String'lerin, String metotları adı verilen özel işlevlere sahip olduğunu belirtmek de önemlidir. Bu metotlar, String üzerinde çeşitli manipülasyonlar yapmanızı sağlar. Örneğin, .lower() metodu bir String'i küçük harflere dönüştürür, .upper() metodu bir String'i büyük harflere dönüştürür.\n",
    "- String'lerin önemli bir özelliği, immutability (değiştirilemezlik) özelliğidir. Yani, bir kez oluşturulduktan sonra String'in içeriği değiştirilemez. Ancak, String üzerinde yapılan işlemler yeni bir String döndürür. Bu nedenle, bir String'i değiştirmek isterseniz, sonucu yeni bir değişkene atamanız gerekir."
   ]
  },
  {
   "attachments": {},
   "cell_type": "markdown",
   "metadata": {},
   "source": [
    "### <a id='toc1_1_2_'></a>[String Metotları](#toc0_)\n",
    "---"
   ]
  },
  {
   "attachments": {},
   "cell_type": "markdown",
   "metadata": {},
   "source": [
    "Python String metotları, String veri tipinin üzerinde çeşitli işlemler gerçekleştirmenizi sağlar. Bu metotlar, String'in içeriğini değiştirmeden, manipüle etmenize, kontrol etmenize ve çeşitli metin tabanlı işlemleri gerçekleştirmenize olanak sağlar."
   ]
  },
  {
   "cell_type": "code",
   "execution_count": 14,
   "metadata": {},
   "outputs": [
    {
     "name": "stdout",
     "output_type": "stream",
     "text": [
      "metin.lover(): merhaba dünyalı dostum\n",
      "metin.upper(): MERHABA DÜNYALI DOSTUM\n",
      "metin.title(): Merhaba Dünyalı Dostum\n",
      "\n",
      "metin.split(): ['Merhaba', 'Dünyalı', 'dostum']\n"
     ]
    }
   ],
   "source": [
    "metin = \"Merhaba Dünyalı dostum\"\n",
    "\n",
    "print(\"metin.lover(): \" + metin.lower())\n",
    "print(\"metin.upper(): \" + metin.upper())\n",
    "print(\"metin.title(): \" + metin.title(), end=\"\\n\\n\")\n",
    "\n",
    "print(\"metin.split(): \" + str(metin.split()))"
   ]
  },
  {
   "attachments": {},
   "cell_type": "markdown",
   "metadata": {},
   "source": [
    "\n",
    "\n",
    "| Metot        | Açıklama                                                                                           | Girdi                 | Metot Kullanımı                | Çıktı \t|\n",
    "|:------------:| -------------------------------------------------------------------------------------------------- | ---------------------\t| ------------------------------ | -------------------- |\n",
    "| lower()\t   | String'in tüm karakterlerini küçük harfe dönüştürür. \t                                            | \"Merhaba\"\t            | \"Merhaba\".lower()\t             | \"merhaba\" \t        |\n",
    "| upper()\t   | String'in tüm karakterlerini büyük harfe dönüştürür. \t                                            | \"Merhaba\"\t            | \"Merhaba\".upper()\t             | \"MERHABA\" \t        |\n",
    "| title()\t   | String'deki tüm kelimelerin baş harflerini büyük harfe dönüştürür.\t                                | \"merhaba dünya\"\t    | \"merhaba dünya\".upper()        | \"Merhaba Dünya\" \t    |\n",
    "| strip()\t   | Dizenin baştaki ve sondaki karakterleri çıkarılmış bir kopyasını döndürür. \t                    | \" Merhaba \"\t        | \" Merhaba \".strip()\t         | \"Merhaba\" \t        |\n",
    "| split()\t   | String'i belirli bir ayraç karakterine göre böler ve alt dizilere ayırır.\t                        | \"Merhaba Dünya\"\t    | \"Merhaba Dünya\".split()        | [\"Merhaba\", \"Dünya\"]\t|\n",
    "| join() \t   | String listesini belirli bir ayraç karakteriyle birleştirir. \t                                    | [\"Merhaba\", \"Dünya\"] \t| \" \".join([\"Merhaba\", \"Dünya\"]) | \"Merhaba Dünya\" \t    |\n",
    "| replace()\t   | String içinde belirli bir alt dizi veya karakteri başka bir alt dizi veya karakterle değiştirir. \t| \"Merhaba\"\t            | \"Merhaba\".replace(\"a\", \"e\")\t | \"Merhebe\"\t        |\n",
    "| find() \t   | Belirli bir alt dizi veya karakterin String içindeki ilk indeksini bulur.\t                        | \"Merhaba\"\t            | \"Merhaba\".find(\"r\") \t         | 3 \t                |\n",
    "| count()\t   | Belirli bir alt dizi veya karakterin String içinde kaç kez geçtiğini sayar.\t                    | \"Merhaba\"\t            | \"Merhaba\".count(\"a\") \t         | 2 \t                |\n",
    "| startswith() | String'in belirli bir alt dizi veya karakterle başlayıp başlamadığını kontrol eder.\t            | \"Merhaba\"\t            | \"Merhaba\".startswith(\"Mer\")\t | True\t                |\n",
    "| endswith()   | String'in belirli bir alt dizi veya karakterle bittiğini kontrol eder. \t                        | \"Merhaba\"\t            | \"Merhaba\".endswith(\"aba\")\t     | True\t                |\n",
    "| isnumeric()  | String'in yalnızca sayısal karakterler içerip içermediğini kontrol eder. \t                        | \"123\"\t                | \"123\".isnumeric()\t             | True\t                |\n",
    "\n",
    "Bu tablo, sık kullanılan Python String metotlarının nasıl kullanılacaklarını göstermektedir. Daha fazla String metodu ve detaylı açıklamaları https://docs.python.org/tr/3/library/stdtypes.html#text-sequence-type-str bağlantı adresindeki Python resmi dokümantasyonunda bulabilirsiniz."
   ]
  },
  {
   "attachments": {},
   "cell_type": "markdown",
   "metadata": {},
   "source": [
    "## <a id='toc1_2_'></a>[Substring'ler](#toc0_)\n",
    "---"
   ]
  },
  {
   "attachments": {},
   "cell_type": "markdown",
   "metadata": {},
   "source": [
    "\n",
    "Substring'ler, bir String içerisinden belirli bir alt dizi veya alt String'i almayı sağlayan işlemlerdir. Bu işlemler, metin tabanlı manipülasyonlar ve metin içindeki öğeleri ayıklama gibi birçok senaryoda kullanışlıdır. Substring'lerin amacı, bir String içinde belirli bir parçaya odaklanmak veya belirli bir deseni aramak veya manipüle etmektir.\n",
    "\n",
    "Örneğin, bir metindeki belli bir kelimeyi bulmak, bir e-posta adresinden kullanıcı adını ayıklamak veya bir dosya yolundan dosya adını elde etmek gibi işlemler substring'lerle kolaylıkla gerçekleştirilebilir."
   ]
  },
  {
   "cell_type": "code",
   "execution_count": 15,
   "metadata": {},
   "outputs": [
    {
     "data": {
      "text/plain": [
       "'test'"
      ]
     },
     "execution_count": 15,
     "metadata": {},
     "output_type": "execute_result"
    }
   ],
   "source": [
    "string = \"test@gmail.com\"\n",
    "substring = string[:string.find(\"@\")]\n",
    "\n",
    "substring"
   ]
  },
  {
   "attachments": {},
   "cell_type": "markdown",
   "metadata": {},
   "source": [
    "Python'da substring'ler, dilimleme (slicing) yöntemiyle elde edilir. Dilimleme işlemi, bir String'in belirli bir aralığındaki karakterleri seçmenizi sağlar. Başlangıç indeksi ve bitiş indeksi kullanarak dilimleme yapabilirsiniz. Başlangıç indeksi dahil edilirken, bitiş indeksi dahil edilmez. Ayrıca, dilimleme işlemi ile başlangıç veya bitiş indeksi belirtilmezse, String'in belirli bir noktasından başlayarak veya belirli bir noktasına kadar olan karakterleri seçmeniz mümkündür.\n",
    "\n",
    "```python3\n",
    "string[ başlangıç : bitiş : adım sayısı ]\n",
    "```\n",
    "\n",
    "Substring'lerin kullanımı, metin işleme ve manipülasyonunda büyük kolaylık sağlar. Metindeki belirli bir parçayı alarak, bu parçayı kullanarak işlemler yapabilir veya metni daha küçük parçalara bölebilirsiniz. Bu, metin analizi, veri ayıklama, dize manipülasyonu ve benzeri birçok senaryoda yaygın olarak kullanılan bir tekniktir."
   ]
  },
  {
   "cell_type": "code",
   "execution_count": 16,
   "metadata": {},
   "outputs": [],
   "source": [
    "string = \"Merhaba\""
   ]
  },
  {
   "attachments": {},
   "cell_type": "markdown",
   "metadata": {},
   "source": [
    "### <a id='toc1_2_1_'></a>[Substring'lerin Özellikleri](#toc0_)"
   ]
  },
  {
   "attachments": {},
   "cell_type": "markdown",
   "metadata": {},
   "source": [
    "1. Negatif İndeksleme: Python'da negatif indeksleme kullanarak String'in sonundan başlayarak karakterlere erişebilirsiniz. Örneğin, \"Merhaba\"[-1] ifadesi son karakter olan 'a'yı döndürür."
   ]
  },
  {
   "cell_type": "code",
   "execution_count": 17,
   "metadata": {},
   "outputs": [
    {
     "data": {
      "text/plain": [
       "'a'"
      ]
     },
     "execution_count": 17,
     "metadata": {},
     "output_type": "execute_result"
    }
   ],
   "source": [
    "string[-1]"
   ]
  },
  {
   "attachments": {},
   "cell_type": "markdown",
   "metadata": {},
   "source": [
    "2. Dilimleme Adımı (Step): Dilimleme işlemi sırasında adım (step) değeri belirleyerek belirli bir aralıktaki karakterleri atlama özelliğinden yararlanabilirsiniz. Örneğin, \"Merhaba\"[::2] ifadesi String'deki tüm karakterleri 2'şer atlayarak döndürür."
   ]
  },
  {
   "cell_type": "code",
   "execution_count": 18,
   "metadata": {},
   "outputs": [
    {
     "data": {
      "text/plain": [
       "'Mraa'"
      ]
     },
     "execution_count": 18,
     "metadata": {},
     "output_type": "execute_result"
    }
   ],
   "source": [
    "string[::2]"
   ]
  },
  {
   "attachments": {},
   "cell_type": "markdown",
   "metadata": {},
   "source": [
    "3. Başlangıç veya Bitiş İndeksi Belirtmemek: Dilimleme işlemi sırasında başlangıç veya bitiş indeksi belirtmezseniz, başlangıç veya bitiş noktasına kadar veya başlangıç noktasından itibaren String'in geri kalanını alırsınız. Örneğin, \"Merhaba\"[3:] ifadesi 3. indeksten başlayarak String'in geri kalanını döndürür."
   ]
  },
  {
   "cell_type": "code",
   "execution_count": 19,
   "metadata": {},
   "outputs": [
    {
     "data": {
      "text/plain": [
       "'haba'"
      ]
     },
     "execution_count": 19,
     "metadata": {},
     "output_type": "execute_result"
    }
   ],
   "source": [
    "string[3:]"
   ]
  },
  {
   "attachments": {},
   "cell_type": "markdown",
   "metadata": {},
   "source": [
    "4. Ters İndeksleme: Stringlere sondan başlayarak dilimleyebilirsiniz. Örneğin \"Merhaba\"[:-1] ifadesi metni sondan birinci sıraya kadar dilimler."
   ]
  },
  {
   "cell_type": "code",
   "execution_count": 20,
   "metadata": {},
   "outputs": [
    {
     "data": {
      "text/plain": [
       "'Merhab'"
      ]
     },
     "execution_count": 20,
     "metadata": {},
     "output_type": "execute_result"
    }
   ],
   "source": [
    "string[:-1]"
   ]
  },
  {
   "attachments": {},
   "cell_type": "markdown",
   "metadata": {},
   "source": [
    "## <a id='toc1_3_'></a>[Kaynakça](#toc0_)\n",
    "---\n",
    "\n",
    "- https://docs.python.org/tr/3/\n",
    "- https://cs50.harvard.edu/python/2022/"
   ]
  }
 ],
 "metadata": {
  "kernelspec": {
   "display_name": "base",
   "language": "python",
   "name": "python3"
  },
  "language_info": {
   "codemirror_mode": {
    "name": "ipython",
    "version": 3
   },
   "file_extension": ".py",
   "mimetype": "text/x-python",
   "name": "python",
   "nbconvert_exporter": "python",
   "pygments_lexer": "ipython3",
   "version": "3.9.13"
  },
  "orig_nbformat": 4
 },
 "nbformat": 4,
 "nbformat_minor": 2
}
