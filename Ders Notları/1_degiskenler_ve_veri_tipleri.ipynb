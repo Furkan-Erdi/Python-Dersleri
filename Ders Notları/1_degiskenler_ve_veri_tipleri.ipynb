{
 "cells": [
  {
   "attachments": {},
   "cell_type": "markdown",
   "metadata": {},
   "source": [
    "# Python Eğitimi #1 - Değişkenler ve Veri Tipleri"
   ]
  },
  {
   "attachments": {},
   "cell_type": "markdown",
   "metadata": {},
   "source": [
    "Python'da değişkenler, programlama dilinde veri saklamak ve işlemek için kullanılan adlandırılmış alanlardır. Her bir değişken, bir isim (ad) ve bir değer içerir. Bu değer, değişkenin içinde saklanan veridir. Değişkenler, programda farklı yerlerde kullanılmak üzere değer atayarak oluşturulurlar.\n",
    "\n",
    "Veri tipleri ise farklı türdeki verileri temsil etmek ve belirli işlemleri gerçekleştirmek için kullanılır. Örneğin, metinleri temsil etmek için `str`, tam sayılar için `int`, ondalık sayılar için `float`, listeler için `list`, sözlükler için `dict` veri tipi gibi veri tipleri bulunur.\n",
    "\n",
    "Her bir veri tipi, kendine özgü özellikler ve işlemler sunar. Örneğin, str veri tipi üzerinde metin birleştirme, int veri tipi üzerinde matematiksel işlemler, list veri tipi üzerinde eleman ekleme veya çıkarma gibi işlemler yapılabilir."
   ]
  },
  {
   "attachments": {},
   "cell_type": "markdown",
   "metadata": {},
   "source": [
    "- [Değişkenler](#degişkenler)\n",
    "- [Veri Tipleri](#veri-tipleri)\n",
    "    - [Metinler](#metinler)\n",
    "    - [Numerikler](#numerikler)\n",
    "    - [Seriler](#seriler)\n",
    "    - [Eşleme Tipi](#esleme-tipi)\n",
    "    - [Kümeler](#kumeler)\n",
    "    - [Mantıksal Değerler](#mantiksal-degerler)\n",
    "    - [Hiçlik Tipi](#hiclik-tipi)\n",
    "- [Operatörler](#operatorler)\n",
    "    - [Aritmetik Operatörler](#aritmetik-operatorler)\n",
    "    - [Mantıksal Operatörler](#mantiksal-operatorler)\n",
    "    - [Karşılaştırma Operatörleri](#karsilastirma-operatorleri)\n",
    "    - [Atama Operatörleri](#atama-operatorleri)\n",
    "- [Kaynakça](#kaynakca)"
   ]
  },
  {
   "attachments": {},
   "cell_type": "markdown",
   "metadata": {},
   "source": [
    "## <p name=\"degiskenler\">Değişkenler</p>\n",
    "---\n",
    "\n",
    "Değişkenler, programlamada veri saklamak için kullanılan adlandırılmış alanlardır. Bir değişkenin bir adı (isim) ve bir değeri vardır. Değer, değişkenin içinde saklanan veridir.\n",
    "\n",
    "- Programlamada veri saklamak için kullanılırlar.\n",
    "- Her bir değişken, bir ad (isim) ve bir değer içerir.\n",
    "- Programın farklı yerlerinde kullanılmak üzere = işareti ile değer atanarak oluşturulurlar.\n",
    "- Değişkenler, farklı veri tiplerini temsil edebilir. Örneğin, tam sayılar için `int`, ondalık sayılar için `float`, metinler için `str` gibi veri tipleri kullanılır.\n",
    "- Değişkenlerin değeri programın herhangi bir yerinde değiştirilebilir. Yani, bir değişkenin değeri atandıktan sonra başka bir değerle güncellenebilir."
   ]
  },
  {
   "cell_type": "code",
   "execution_count": null,
   "metadata": {},
   "outputs": [],
   "source": [
    "x = 0"
   ]
  },
  {
   "cell_type": "code",
   "execution_count": null,
   "metadata": {},
   "outputs": [],
   "source": [
    "kullanici_ismi = input(\"Adınızı giriniz: \")"
   ]
  },
  {
   "attachments": {},
   "cell_type": "markdown",
   "metadata": {},
   "source": [
    "## <p name=\"veri-tipleri\">Veri Tipleri</p>\n",
    "---\n",
    "\n",
    "Veri tipleri, programlamada farklı türdeki verileri temsil etmek için kullanılır. Her veri tipi belirli bir veri kategorisini veya değer tipini ifade eder."
   ]
  },
  {
   "attachments": {},
   "cell_type": "markdown",
   "metadata": {},
   "source": [
    "### <p name=\"metinler\">Metinler ( Text ) - `str`</p>\n",
    "\n",
    "- `str` metinleri temsil etmek için kullanılır. Metinler çift veya tek tırnak içinde yazılır"
   ]
  },
  {
   "cell_type": "code",
   "execution_count": null,
   "metadata": {},
   "outputs": [],
   "source": [
    "metin = \"Merhaba Dünya\"\n",
    "metin = 'Merhaba Dünya'\n",
    "metin = \"\"\"Merhaba Dünya\"\"\""
   ]
  },
  {
   "attachments": {},
   "cell_type": "markdown",
   "metadata": {},
   "source": [
    "### <p name=\"numerikler\">Numerikler ( Numeric ) - `int`, `float`</p>\n",
    "\n",
    "- `int`, tam sayıları temsil eder. Örneğin: 5, 10, -100\n",
    "- `float`, ondalıklı sayıları temsil eder. Örneğin: 3.14, -0.5, 2.0"
   ]
  },
  {
   "cell_type": "code",
   "execution_count": null,
   "metadata": {},
   "outputs": [],
   "source": [
    "# Integer - Tam Sayılar\n",
    "a = 5\n",
    "b = 10\n",
    "\n",
    "# Float - Ondalıklı Sayılar\n",
    "c = 3.14\n",
    "d = -0.5"
   ]
  },
  {
   "attachments": {},
   "cell_type": "markdown",
   "metadata": {},
   "source": [
    "### <p name=\"seriler\">Seriler ( Sequence ) - `list`, `tuple`</p>\n",
    "\n",
    "- `list`, değiştirilebilir (mutable) ve sıralı veri koleksiyonunu temsil eder. Örneğin: [1, 2, 3]\n",
    "- `tuple`, değiştirilemez (immutable) ve sıralı veri koleksiyonunu temsil eder. Örneğin: (4, 5, 6)"
   ]
  },
  {
   "cell_type": "code",
   "execution_count": null,
   "metadata": {},
   "outputs": [],
   "source": [
    "liste = [1, 2, 3]\n",
    "\n",
    "tuple = (4, 5, 6)"
   ]
  },
  {
   "attachments": {},
   "cell_type": "markdown",
   "metadata": {},
   "source": [
    "### <p name=\"esleme-tipi\">Eşleme Tipi ( Mapping ) - `dict`</p>\n",
    "\n",
    "- Anahtar-değer çiftlerini temsil eder.\n",
    "- Anahtarlar, benzersiz olmalıdır ve değerlere erişmek için kullanılır. Örneğin: {\"ad\": \"Furkan\", \"yaş\": 22}"
   ]
  },
  {
   "cell_type": "code",
   "execution_count": null,
   "metadata": {},
   "outputs": [],
   "source": [
    "dize = {\"ad\": \"Furkan\", \"yaş\": 22}"
   ]
  },
  {
   "attachments": {},
   "cell_type": "markdown",
   "metadata": {},
   "source": [
    "### <p name=\"kumeler\">Kümeler ( Set ) - `set`</p>\n",
    "\n",
    "Benzersiz ve sırasız elemanlardan oluşan bir koleksiyonu temsil eder. Örneğin: {1, 2, 3}"
   ]
  },
  {
   "cell_type": "code",
   "execution_count": null,
   "metadata": {},
   "outputs": [],
   "source": [
    "kume = {1, 2, 3}"
   ]
  },
  {
   "attachments": {},
   "cell_type": "markdown",
   "metadata": {},
   "source": [
    "### <p name=\"mantiksal-degerler\">Mantıksal Değerler ( Boolean ) - `bool`</p>\n",
    "\n",
    "Sadece iki değere sahip olan veri tipidir: True (doğru) veya False (yanlış)"
   ]
  },
  {
   "cell_type": "code",
   "execution_count": null,
   "metadata": {},
   "outputs": [],
   "source": [
    "mantiksal_ifade = True\n",
    "mantiksal_ifade_2 = False"
   ]
  },
  {
   "attachments": {},
   "cell_type": "markdown",
   "metadata": {},
   "source": [
    "### <p name=\"hiclik-tipi\">Hiçlik Tipi (NoneType) - `None`</p>\n",
    "\n",
    "Bir değerin olmadığını ifade eder. Genellikle bir değişkene başlangıç değeri verilmediğinde kullanılır."
   ]
  },
  {
   "cell_type": "code",
   "execution_count": null,
   "metadata": {},
   "outputs": [],
   "source": [
    "degisken = None"
   ]
  },
  {
   "attachments": {},
   "cell_type": "markdown",
   "metadata": {},
   "source": [
    "Bu veri tipleri, Python'da genel olarak kullanılan veri tiplerini kapsamaktadır. Bunlar dışında Python; `complex`, `range`, `frozenset`, `bytes`, `bytearray`, `memoryview` gibi birçok veri tiplerini de dahili olarak barındırmaktadır.\n",
    "\n",
    "Daha detaylı bilgi için Python'ın kendi dokümantasyon sayfasına https://docs.python.org/tr/3/library/stdtypes.html bağlantı adresi ile ulaşabilirsiniz."
   ]
  },
  {
   "attachments": {},
   "cell_type": "markdown",
   "metadata": {},
   "source": [
    "## <p name=\"operatorler\">Operatörler</p>\n",
    "---\n",
    "\n",
    "Python'da operatörler, matematiksel işlemler yapmak, değerleri karşılaştırmak, mantıksal ilişkiler değerlendirmek ve değerleri atamak için kullanılır. Operatörler, programlama dilinde temel yapı taşlarından biridir ve Python'da farklı operatör türleri aritmetik, karşılaştırma, mantıksal ve atama olarak gruplandırılır."
   ]
  },
  {
   "attachments": {},
   "cell_type": "markdown",
   "metadata": {},
   "source": [
    "### <p name=\"aritmetik-operatorler\">Aritmetik Operatörler</p>\n",
    "\n",
    " Matematiksel işlemleri gerçekleştirmek için kullanılan operatörlerdir. Bu operatörler sayısal değerler üzerinde toplama, çıkarma, çarpma, bölme gibi işlemleri yapar.\n",
    "\n",
    "| Operatör \t| Açıklama                                                      \t|\n",
    "|:-----------:|---------------------------------------------------------------|\n",
    "| x + y     |İki değeri toplar.                                             |\n",
    "| x - y     |İki değeri çıkarır.                                            |\n",
    "| x * y     |İki değeri çarpar.                                             |\n",
    "| x / y     |Bir değeri diğerine böler.                                     |\n",
    "| x ** y    |Bir değeri diğerinin üssü olarak hesaplar.                     |\n",
    "| x // y    |Bir değeri diğerine böler ve sonucu tam sayı olarak döndürür.  |\n",
    "| x % y     |Bir değerin diğer değere bölümünden kalanı hesaplar. ( mod )   |"
   ]
  },
  {
   "attachments": {},
   "cell_type": "markdown",
   "metadata": {},
   "source": [
    "### <p name=\"karsilastirma-operatorleri\">Karşılaştırma Operatörleri</p>\n",
    "\n",
    "İki değeri karşılaştırmak için kullanılan operatörlerdir. Bu operatörler, eşitlik, büyüklük-küçüklük, eşitlik dışı gibi ilişkileri değerlendirir ve sonuç olarak doğru (True) veya yanlış (False) değerini döndürür.\n",
    "\n",
    "| Operatör \t | Açıklama                                                           \t|\n",
    "|:----------:|----------------------------------------------------------------------|\n",
    "| x == y   \t | İki değerin eşit olup olmadığını kontrol eder.                     \t|\n",
    "| x != y   \t | İki değerin eşit olmadığını kontrol eder.                          \t|\n",
    "| x > y    \t | Bir değerin diğerinden büyük olup olmadığını kontrol eder.         \t|\n",
    "| x < y    \t | Bir değerin diğerinden küçük olup olmadığını kontrol eder.         \t|\n",
    "| x >= y   \t | Bir değerin diğerine büyük veya eşit olup olmadığını kontrol eder. \t|\n",
    "| x <= y   \t | Bir değerin diğerine büyük veya eşit olup olmadığını kontrol eder. \t|"
   ]
  },
  {
   "attachments": {},
   "cell_type": "markdown",
   "metadata": {},
   "source": [
    "### <p name=\"mantiksal-operatorler\">Mantıksal Operatörler</p>\n",
    "\n",
    "Mantıksal ifadeleri değerlendirmek için kullanılan operatörlerdir. Bu operatörler, birden fazla mantıksal değeri birleştirir ve sonuç olarak doğru (True) veya yanlış (False) değerini döndürür.\n",
    "\n",
    "| Operatör \t | Açıklama                                                        \t|\n",
    "|:----------:|------------------------------------------------------------------|\n",
    "| and      \t |İki mantıksal ifadenin her ikisi de doğru ise sonuç doğru olur. \t|\n",
    "| or       \t |İki mantıksal ifadeden en az biri doğru ise sonuç doğru olur.   \t|\n",
    "| not      \t |Bir mantıksal ifadenin tersini alır.                            \t|"
   ]
  },
  {
   "attachments": {},
   "cell_type": "markdown",
   "metadata": {},
   "source": [
    "### <p name=\"atama-operatorleri\">Atama Operatörleri</p>\n",
    "\n",
    "Değerleri değişkenlere atamak veya değişkenlerin değerini güncellemek için kullanılan operatörlerdir. Bu operatörler, sağ taraftaki değeri sol taraftaki değişkene atar veya mevcut değeri ile birlikte belirli bir işlem yaparak günceller.\n",
    "\n",
    "| Operatör \t    | Açıklama                                                                                         \t                                    |\n",
    ":--------------:|---------------------------------------------------------------------------------------------------------------------------------------|\n",
    "| x = y    \t    | Değeri sağ taraftaki ifadeye atar.                                                               \t                                    |\n",
    "| x += y   \t    | Değişkenin mevcut değeri ile sağ taraftaki ifadeyi toplar ve sonucu değişkene atar.              \t                                    |\n",
    "| x -= y   \t    | Değişkenin mevcut değerinden sağ taraftaki ifadeyi çıkarır ve sonucu değişkene atar.             \t                                    |\n",
    "| x *= y   \t    | Değişkenin mevcut değeri ile sağ taraftaki ifadeyi çarpar ve sonucu değişkene atar.              \t                                    |\n",
    "| x /= y   \t    | Değişkenin mevcut değerini sağ taraftaki ifadeye böler ve sonucu değişkene atar.                 \t                                    |\n",
    "| x //= y  \t    | Değişkenin mevcut değerini sağ taraftaki ifadeye böler ve sonucu tam sayı olarak değişkene atar. \t                                    |\n",
    "| x %= y   \t    | Değişkenin mevcut değerini sağ taraftaki ifadeye böler ve kalanı değişkene atar.                 \t                                    |\n",
    "| x &= y        | Değişkenin mevcut değeri ile sağ taraftaki ifadenin bit düzeyindeki \"ve\" işlemini gerçekleştirir ve sonucu değişkene atar.           \t|\n",
    "| x &#124;= y   | Değişkenin mevcut değeri ile sağ taraftaki ifadenin bit düzeyindeki \"veya\" işlemini gerçekleştirir ve sonucu değişkene atar.         \t|\n",
    "| x ^= y        | Değişkenin mevcut değeri ile sağ taraftaki ifadenin bit düzeyindeki \"özel veya\" işlemini gerçekleştirir ve sonucu değişkene atar.    \t|\n",
    "| x >>= y       | Değişkenin mevcut değerini sağa doğru kaydırma işlemiyle sağ taraftaki ifadeyle belirtilen sayıda kaydırır ve sonucu değişkene atar. \t|\n",
    "| x <<= y       | Değişkenin mevcut değerini sola doğru kaydırma işlemiyle sağ taraftaki ifadeyle belirtilen sayıda kaydırır ve sonucu değişkene atar. \t|"
   ]
  },
  {
   "attachments": {},
   "cell_type": "markdown",
   "metadata": {},
   "source": [
    "## <p name=\"kaynakca\">Kaynakça</p>\n",
    "---\n",
    "\n",
    "- https://docs.python.org/tr/3/\n",
    "- https://cs50.harvard.edu/python/2022/"
   ]
  }
 ],
 "metadata": {
  "kernelspec": {
   "display_name": "base",
   "language": "python",
   "name": "python3"
  },
  "language_info": {
   "codemirror_mode": {
    "name": "ipython",
    "version": 3
   },
   "file_extension": ".py",
   "mimetype": "text/x-python",
   "name": "python",
   "nbconvert_exporter": "python",
   "pygments_lexer": "ipython3",
   "version": "3.9.13"
  },
  "orig_nbformat": 4
 },
 "nbformat": 4,
 "nbformat_minor": 2
}
